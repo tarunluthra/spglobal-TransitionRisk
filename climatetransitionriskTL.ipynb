{
 "cells": [
  {
   "cell_type": "code",
   "execution_count": null,
   "id": "a6644fb7",
   "metadata": {},
   "outputs": [],
   "source": []
  },
  {
   "cell_type": "markdown",
   "id": "f9f947f9",
   "metadata": {},
   "source": []
  },
  {
   "cell_type": "markdown",
   "id": "e8111719",
   "metadata": {},
   "source": [
    "# Transition Risk Analysis\n",
    "\n",
    "## Objective\n",
    "This script analyzes and projects Scope 1 and Scope 2 emissions for companies from 2025 to 2050, calculates carbon costs under different scenarios, evaluates abatement costs, and assesses tradeoffs between paying carbon prices and investing in abatement. The goal is to estimate future emissions paths and financial implications of carbon pricing for companies across various sectors and regions, using data from S&P Global.\n",
    "\n",
    "## Key Functionalities\n",
    "1. **Data Loading and Cleaning**:\n",
    "   - Loads data from an Excel file containing emissions, reduction targets, abatement costs, and carbon prices.\n",
    "   - Cleans data by standardizing column names, handling missing values, and correcting year formats.\n",
    "\n",
    "2. **Emissions Projection**:\n",
    "   - Projects Scope 1 and Scope 2 emissions to 2050 using absolute or intensity-based reduction targets.\n",
    "   - Supports constant production or user-defined growth rates for intensity-based projections.\n",
    "\n",
    "3. **Carbon Pricing Calculations**:\n",
    "   - Computes carbon costs by multiplying projected emissions by scenario-specific carbon prices.\n",
    "   - Includes a fallback to global carbon prices if region-specific prices are unavailable.\n",
    "   - Aggregates abatement costs per company and calculates net savings from abatement vs. paying carbon costs.\n",
    "\n",
    "4. **Visualization**:\n",
    "   - Generates plots, including:\n",
    "     - Stacked area chart of emissions by sector.\n",
    "     - Heatmap of average carbon costs by scenario and year.\n",
    "     - Waterfall chart comparing pay-only vs. abatement costs for a company.\n",
    "     - Box plot of carbon cost distribution by country.\n",
    "     - Scatter plot of abatement investment vs. net savings.\n",
    "     - Carbon price projection curves for a sector and region.\n",
    "\n",
    "## Data Requirements\n",
    "- **Input File**: `S&P Global S1 Transition Risk Data.xlsx` with:\n",
    "  - Table 1: Emissions data (uid, gics_sector, country, year, scope1_tonnes, scope2_tonnes, unit_production, production_volume).\n",
    "  - Table 2: Reduction targets (uid, type_of_target, reduction_target, baseline, endline, etc.).\n",
    "  - Table 3: Abatement costs (uid, abatement_cost_usd_year).\n",
    "  - Table 4: Carbon prices (sector, region, year, scenario, carbon_price_usd_tco2e).\n",
    "- **Dependencies**: `pandas`, `numpy`, `matplotlib`, `seaborn`, `openpyxl`.\n",
    "\n",
    "## Usage\n",
    "- Run the script directly (`transition_risk_analysis.py`) or in a Jupyter notebook.\n",
    "- Ensure the Excel file is in the project directory.\n",
    "- Install dependencies: `pip install pandas numpy matplotlib seaborn openpyxl`.\n",
    "\n",
    "## Notes\n",
    "- Missing values in emissions are imputed using median values by sector and size category.\n",
    "- Carbon prices use region-specific values with a fallback to global prices.\n",
    "- The script assumes a 0% production growth rate; adjust `production_growth_rate` in `project_emissions` if needed."
   ]
  },
  {
   "cell_type": "code",
   "execution_count": 278,
   "id": "8bfbcf14",
   "metadata": {},
   "outputs": [],
   "source": [
    "import pandas as pd\n",
    "import numpy as np\n",
    "import matplotlib.pyplot as plt\n",
    "import seaborn as sns\n",
    "import re\n",
    "from sklearn.linear_model import LinearRegression\n",
    "import numpy as np"
   ]
  },
  {
   "cell_type": "code",
   "execution_count": null,
   "id": "f74dc324",
   "metadata": {},
   "outputs": [],
   "source": []
  },
  {
   "cell_type": "code",
   "execution_count": null,
   "id": "210192f2",
   "metadata": {},
   "outputs": [
    {
     "name": "stderr",
     "output_type": "stream",
     "text": [
      "/var/folders/lf/9_7wh6ps1354b6glt9mst87m0000gn/T/ipykernel_96109/93697988.py:23: FutureWarning:\n",
      "\n",
      "Downcasting behavior in `replace` is deprecated and will be removed in a future version. To retain the old behavior, explicitly call `result.infer_objects(copy=False)`. To opt-in to the future behavior, set `pd.set_option('future.no_silent_downcasting', True)`\n",
      "\n"
     ]
    }
   ],
   "source": [
    "\n",
    "\n",
    "# # Set visualization style\n",
    "# sns.set(style=\"whitegrid\")\n",
    "\n",
    "# # --- Data Loading ---\n",
    "# file_path = \"S&P Global S1 Transition Risk Data.xlsx\"\n",
    "# df_emissions = pd.read_excel(file_path, sheet_name=\"Table 1\")\n",
    "# df_targets = pd.read_excel(file_path, sheet_name=\"Table 2\")\n",
    "# df_abatement = pd.read_excel(file_path, sheet_name=\"Table 3\")\n",
    "# df_carbon_prices = pd.read_excel(file_path, sheet_name=\"Table 4\")\n",
    "\n",
    "# # --- Data Cleaning ---\n",
    "# # Table 1: Emissions\n",
    "# df_emissions.columns = ['uid', 'gics_sector', 'country', 'year', 'scope1_tonnes',\n",
    "#                         'scope2_tonnes', 'unit_production', 'production_volume']\n",
    "# df_emissions = df_emissions.drop_duplicates(subset='uid', keep='first')\n",
    "# df_emissions['country'] = df_emissions['country'].fillna('Unknown').replace({'EUROPE': 'EU'})\n",
    "# df_emissions['year'] = df_emissions['year'].replace({'2,025': 2025, '202five': 2025}).astype(int)\n",
    "# # Step 1: Convert columns to numeric, coercing errors to NaN and clipping negative values\n",
    "# df_emissions['scope1_tonnes'] = pd.to_numeric(df_emissions['scope1_tonnes'], errors='coerce').clip(lower=0)\n",
    "# df_emissions['scope2_tonnes'] = pd.to_numeric(df_emissions['scope2_tonnes'], errors='coerce').clip(lower=0)\n",
    "\n",
    "# # Step 2: Calculate sector means, ignoring NaN values\n",
    "# # Step 1.5: Count missing values for scope1_tonnes and scope2_tonnes\n",
    "# missing_scope1 = df_emissions['scope1_tonnes'].isna().sum()\n",
    "# missing_scope2 = df_emissions['scope2_tonnes'].isna().sum()\n",
    "# print(f\"Missing values in scope1_tonnes: {missing_scope1}\")\n",
    "# print(f\"Missing values in scope2_tonnes: {missing_scope2}\")\n",
    "# missing_by_sector = df_emissions.groupby('gics_sector')[['scope1_tonnes', 'scope2_tonnes']].apply(lambda x: x.isna().sum())\n",
    "# print(\"Missing values by sector:\\n\", missing_by_sector)\n",
    "\n",
    "# total_rows = len(df_emissions)\n",
    "# print(f\"Percentage missing in scope1_tonnes: {(missing_scope1 / total_rows) * 100:.2f}%\")\n",
    "# print(f\"Percentage missing in scope2_tonnes: {(missing_scope2 / total_rows) * 100:.2f}%\")\n",
    "\n",
    "# # Step 1: Filter for \"Materials\" sector and define size categories\n",
    "# materials_df = df_emissions[df_emissions['gics_sector'] == 'Materials'].copy()\n",
    "# small_threshold = materials_df['production_volume'].quantile(0.33)\n",
    "# large_threshold = materials_df['production_volume'].quantile(0.66)\n",
    "\n",
    "# def categorize_size(volume):\n",
    "#     if volume <= small_threshold:\n",
    "#         return 'Small'\n",
    "#     elif volume <= large_threshold:\n",
    "#         return 'Medium'\n",
    "#     else:\n",
    "#         return 'Large'\n",
    "\n",
    "# materials_df['size_category'] = materials_df['production_volume'].apply(categorize_size)\n",
    "\n",
    "# # Step 2: Calculate median scope1_tonnes for each size category\n",
    "# size_medians = materials_df.groupby('size_category')['scope1_tonnes'].median()\n",
    "\n",
    "# # Step 3: Impute the missing value\n",
    "# missing_row = materials_df[materials_df['scope1_tonnes'].isna()]\n",
    "# missing_volume = missing_row['production_volume'].values[0]\n",
    "# missing_size_category = categorize_size(missing_volume)\n",
    "# imputed_value = size_medians[missing_size_category]\n",
    "# materials_df.loc[materials_df['scope1_tonnes'].isna(), 'scope1_tonnes'] = imputed_value\n",
    "\n",
    "# # Step 4: Update the original df_emissions with the imputed value\n",
    "# df_emissions.loc[materials_df.index, 'scope1_tonnes'] = materials_df['scope1_tonnes']\n",
    "\n",
    "# # Step 5: Validate\n",
    "# print(\"Imputed value:\", imputed_value)\n",
    "# print(\"Updated Materials sector data in df_emissions:\\n\", df_emissions[df_emissions['gics_sector'] == 'Materials'])\n",
    "# # Optional: Compare to similar companies\n",
    "# same_category = materials_df[materials_df['size_category'] == missing_size_category]\n",
    "# print(f\"scope1_tonnes stats for {missing_size_category} companies:\\n\", same_category['scope1_tonnes'].describe())\n",
    "\n"
   ]
  },
  {
   "cell_type": "code",
   "execution_count": 271,
   "id": "6b161482",
   "metadata": {},
   "outputs": [
    {
     "name": "stdout",
     "output_type": "stream",
     "text": [
      "Missing values in scope1_tonnes: 0 (0.00%)\n",
      "Missing values in scope2_tonnes: 0 (0.00%)\n",
      "Missing values by sector:\n",
      "                         scope1_tonnes  scope2_tonnes\n",
      "gics_sector                                         \n",
      "Consumer Discretionary              0              0\n",
      "Energy                              0              0\n",
      "Financials                          0              0\n",
      "Healthcare                          0              0\n",
      "IT                                  0              0\n",
      "Industrials                         0              0\n",
      "Materials                           0              0\n",
      "Real Estate                         0              0\n",
      "Utilities                           0              0\n",
      "Updated Materials sector data:\n",
      "      uid gics_sector    country  year  scope1_tonnes  scope2_tonnes  \\\n",
      "5   C006   Materials     Brazil  2025     24650000.0     13070000.0   \n",
      "10  C011   Materials    Unknown  2025     24650000.0     13750000.0   \n",
      "18  C019   Materials        USA  2025     15740000.0     10390000.0   \n",
      "32  C032   Materials     Global  2025      3740000.0      2080000.0   \n",
      "51  C050   Materials  Australia  2025     12730000.0     15760000.0   \n",
      "\n",
      "   unit_production  production_volume size_category  \n",
      "5       kg product         30700000.0         Small  \n",
      "10       ton steel         19000000.0         Small  \n",
      "18      kg product         54180000.0         Large  \n",
      "32       ton steel         92040000.0         Large  \n",
      "51       ton steel         36240000.0        Medium  \n",
      "scope1_tonnes stats for Small companies in Materials:\n",
      " count           2.0\n",
      "mean     24650000.0\n",
      "std             0.0\n",
      "min      24650000.0\n",
      "25%      24650000.0\n",
      "50%      24650000.0\n",
      "75%      24650000.0\n",
      "max      24650000.0\n",
      "Name: scope1_tonnes, dtype: float64\n",
      "scope1_tonnes stats for Large companies in Materials:\n",
      " count    2.000000e+00\n",
      "mean     9.740000e+06\n",
      "std      8.485281e+06\n",
      "min      3.740000e+06\n",
      "25%      6.740000e+06\n",
      "50%      9.740000e+06\n",
      "75%      1.274000e+07\n",
      "max      1.574000e+07\n",
      "Name: scope1_tonnes, dtype: float64\n",
      "scope1_tonnes stats for Medium companies in Materials:\n",
      " count           1.0\n",
      "mean     12730000.0\n",
      "std             NaN\n",
      "min      12730000.0\n",
      "25%      12730000.0\n",
      "50%      12730000.0\n",
      "75%      12730000.0\n",
      "max      12730000.0\n",
      "Name: scope1_tonnes, dtype: float64\n"
     ]
    }
   ],
   "source": [
    "\n",
    "\n",
    "# Set visualization style for consistent plotting\n",
    "sns.set(style=\"whitegrid\")\n",
    "\n",
    "# Constants\n",
    "FILE_PATH = \"S&P Global S1 Transition Risk Data.xlsx\"\n",
    "YEAR_REPLACEMENTS = {'2,025': 2025, '202five': 2025}\n",
    "\n",
    "#Objective: Load emissions data from an Excel file and clean it by standardizing column names,\n",
    "# removing duplicates, correcting country and year formats, and ensuring emissions are numeric and non-negative.\n",
    "# This prepares the data for imputation and downstream analysis.\n",
    "\n",
    "def load_and_clean_emissions(file_path):\n",
    "    \"\"\"\n",
    "    Load and clean emissions data from Excel.\n",
    "\n",
    "    Args:\n",
    "        file_path (str): Path to the Excel file.\n",
    "\n",
    "    Returns:\n",
    "        DataFrame: Cleaned emissions data.\n",
    "    \"\"\"\n",
    "    # Load emissions data\n",
    "    df_emissions = pd.read_excel(file_path, sheet_name=\"Table 1\")\n",
    "    \n",
    "    # Standardize column names\n",
    "    df_emissions.columns = ['uid', 'gics_sector', 'country', 'year', 'scope1_tonnes',\n",
    "                            'scope2_tonnes', 'unit_production', 'production_volume']\n",
    "    \n",
    "    # Remove duplicates, clean country and year columns\n",
    "    df_emissions = df_emissions.drop_duplicates(subset='uid', keep='first')\n",
    "    df_emissions['country'] = df_emissions['country'].fillna('Unknown').replace({'EUROPE': 'EU'})\n",
    "    df_emissions['year'] = df_emissions['year'].replace(YEAR_REPLACEMENTS).astype(int)\n",
    "    \n",
    "    # Convert emissions to numeric, handle invalid values, and ensure non-negative\n",
    "    df_emissions[['scope1_tonnes', 'scope2_tonnes']] = df_emissions[['scope1_tonnes', 'scope2_tonnes']].apply(\n",
    "        lambda x: pd.to_numeric(x, errors='coerce').clip(lower=0))\n",
    "    \n",
    "    return df_emissions\n",
    "\n",
    "# Objective: Impute missing Scope 1 and Scope 2 emissions values for a specified sector (default: Materials)\n",
    "# using median emissions from companies of similar size, based on production volume quantiles.\n",
    "# This ensures a complete dataset for accurate emissions projections.\n",
    "\n",
    "def impute_missing_emissions(df_emissions, sector='Materials'):\n",
    "    \"\"\"\n",
    "    Impute missing emissions values for a specified sector using size-based median.\n",
    "\n",
    "    Args:\n",
    "        df_emissions (DataFrame): Emissions data with potential missing values.\n",
    "        sector (str): Sector to impute (default: 'Materials').\n",
    "\n",
    "    Returns:\n",
    "        DataFrame: Emissions data with imputed values.\n",
    "    \"\"\"\n",
    "    df = df_emissions.copy()\n",
    "    sector_df = df[df['gics_sector'] == sector].copy()\n",
    "    \n",
    "    # Skip imputation if no missing values\n",
    "    if not sector_df['scope1_tonnes'].isna().any() and not sector_df['scope2_tonnes'].isna().any():\n",
    "        return df\n",
    "    \n",
    "    # Define size categories based on production volume\n",
    "    small_threshold = sector_df['production_volume'].quantile(0.33)\n",
    "    large_threshold = sector_df['production_volume'].quantile(0.66)\n",
    "    \n",
    "    def categorize_size(volume):\n",
    "        \"\"\"Categorize company size based on production volume.\"\"\"\n",
    "        if pd.isna(volume):\n",
    "            return 'Medium'\n",
    "        if volume <= small_threshold:\n",
    "            return 'Small'\n",
    "        elif volume <= large_threshold:\n",
    "            return 'Medium'\n",
    "        return 'Large'\n",
    "    \n",
    "    sector_df['size_category'] = sector_df['production_volume'].apply(categorize_size)\n",
    "    \n",
    "    # Calculate median emissions by size category\n",
    "    size_medians = sector_df.groupby('size_category')[['scope1_tonnes', 'scope2_tonnes']].median()\n",
    "    \n",
    "    # Impute missing values\n",
    "    for col in ['scope1_tonnes', 'scope2_tonnes']:\n",
    "        missing_indices = sector_df[sector_df[col].isna()].index\n",
    "        for idx in missing_indices:\n",
    "            size_cat = sector_df.loc[idx, 'size_category']\n",
    "            df.loc[idx, col] = size_medians.loc[size_cat, col]\n",
    "    \n",
    "    return df\n",
    "\n",
    "def validate_emissions(df_emissions, sector='Materials'):\n",
    "    \"\"\"\n",
    "    Validate emissions data by checking for missing values and summarizing results.\n",
    "\n",
    "    Args:\n",
    "        df_emissions (DataFrame): Emissions data to validate.\n",
    "        sector (str): Sector to focus validation on (default: 'Materials').\n",
    "\n",
    "    Returns:\n",
    "        None: Prints validation results.\n",
    "    \"\"\"\n",
    "    # Check missing values\n",
    "    missing_scope1 = df_emissions['scope1_tonnes'].isna().sum()\n",
    "    missing_scope2 = df_emissions['scope2_tonnes'].isna().sum()\n",
    "    total_rows = len(df_emissions)\n",
    "    print(f\"Missing values in scope1_tonnes: {missing_scope1} ({missing_scope1 / total_rows * 100:.2f}%)\")\n",
    "    print(f\"Missing values in scope2_tonnes: {missing_scope2} ({missing_scope2 / total_rows * 100:.2f}%)\")\n",
    "    \n",
    "    # Missing values by sector\n",
    "    missing_by_sector = df_emissions.groupby('gics_sector')[['scope1_tonnes', 'scope2_tonnes']].apply(\n",
    "        lambda x: x.isna().sum())\n",
    "    print(\"Missing values by sector:\\n\", missing_by_sector)\n",
    "    \n",
    "    # Validate imputed values for the specified sector\n",
    "    sector_df = df_emissions[df_emissions['gics_sector'] == sector].copy()\n",
    "    if not sector_df.empty:\n",
    "        small_threshold = sector_df['production_volume'].quantile(0.33)\n",
    "        large_threshold = sector_df['production_volume'].quantile(0.66)\n",
    "        sector_df['size_category'] = sector_df['production_volume'].apply(\n",
    "            lambda x: 'Small' if x <= small_threshold else 'Medium' if x <= large_threshold else 'Large')\n",
    "        \n",
    "        print(f\"Updated {sector} sector data:\\n\", sector_df)\n",
    "        for size_cat in sector_df['size_category'].unique():\n",
    "            print(f\"scope1_tonnes stats for {size_cat} companies in {sector}:\\n\",\n",
    "                  sector_df[sector_df['size_category'] == size_cat]['scope1_tonnes'].describe())\n",
    "\n",
    "# Objective: Orchestrate the loading, cleaning, imputation, and validation of emissions data.\n",
    "# This serves as the entry point for the script, ensuring all steps are executed in order.\n",
    "\n",
    "def main():\n",
    "    \"\"\"Main function to load, clean, impute, and validate emissions data.\"\"\"\n",
    "    # Suppress pandas FutureWarning for downcasting\n",
    "    pd.set_option('future.no_silent_downcasting', True)\n",
    "    \n",
    "    # Load and clean emissions data\n",
    "    df_emissions = load_and_clean_emissions(FILE_PATH)\n",
    "    \n",
    "    # Impute missing values for Materials sector\n",
    "    df_emissions = impute_missing_emissions(df_emissions, sector='Materials')\n",
    "    \n",
    "    # Validate and print results\n",
    "    validate_emissions(df_emissions, sector='Materials')\n",
    "\n",
    "if __name__ == \"__main__\":\n",
    "    main()"
   ]
  },
  {
   "cell_type": "code",
   "execution_count": 241,
   "id": "6ede0065",
   "metadata": {},
   "outputs": [],
   "source": [
    "# materials_df.head()"
   ]
  },
  {
   "cell_type": "code",
   "execution_count": null,
   "id": "a3c64ab0",
   "metadata": {},
   "outputs": [
    {
     "name": "stdout",
     "output_type": "stream",
     "text": [
      "Missing values in scope1_tonnes: 1\n",
      "Missing values in scope2_tonnes: 0\n",
      "Missing values by sector:\n",
      "                         scope1_tonnes  scope2_tonnes\n",
      "gics_sector                                         \n",
      "Consumer Discretionary              0              0\n",
      "Energy                              0              0\n",
      "Financials                          0              0\n",
      "Healthcare                          0              0\n",
      "IT                                  0              0\n",
      "Industrials                         0              0\n",
      "Materials                           1              0\n",
      "Real Estate                         0              0\n",
      "Utilities                           0              0\n",
      "Percentage missing in scope1_tonnes: 2.00%\n",
      "Percentage missing in scope2_tonnes: 0.00%\n"
     ]
    }
   ],
   "source": []
  },
  {
   "cell_type": "code",
   "execution_count": null,
   "id": "398a5275",
   "metadata": {},
   "outputs": [],
   "source": []
  },
  {
   "cell_type": "code",
   "execution_count": 272,
   "id": "fcc2b43c",
   "metadata": {},
   "outputs": [
    {
     "data": {
      "text/html": [
       "<div>\n",
       "<style scoped>\n",
       "    .dataframe tbody tr th:only-of-type {\n",
       "        vertical-align: middle;\n",
       "    }\n",
       "\n",
       "    .dataframe tbody tr th {\n",
       "        vertical-align: top;\n",
       "    }\n",
       "\n",
       "    .dataframe thead th {\n",
       "        text-align: right;\n",
       "    }\n",
       "</style>\n",
       "<table border=\"1\" class=\"dataframe\">\n",
       "  <thead>\n",
       "    <tr style=\"text-align: right;\">\n",
       "      <th></th>\n",
       "      <th>uid</th>\n",
       "      <th>gics_sector</th>\n",
       "      <th>country</th>\n",
       "      <th>year</th>\n",
       "      <th>scope1_tonnes</th>\n",
       "      <th>scope2_tonnes</th>\n",
       "      <th>unit_production</th>\n",
       "      <th>production_volume</th>\n",
       "    </tr>\n",
       "  </thead>\n",
       "  <tbody>\n",
       "    <tr>\n",
       "      <th>0</th>\n",
       "      <td>C001</td>\n",
       "      <td>Real Estate</td>\n",
       "      <td>Global</td>\n",
       "      <td>2025</td>\n",
       "      <td>21510000.0</td>\n",
       "      <td>1070000.0</td>\n",
       "      <td>m2 building</td>\n",
       "      <td>46280000.0</td>\n",
       "    </tr>\n",
       "    <tr>\n",
       "      <th>1</th>\n",
       "      <td>C002</td>\n",
       "      <td>Energy</td>\n",
       "      <td>Brazil</td>\n",
       "      <td>2025</td>\n",
       "      <td>6570000.0</td>\n",
       "      <td>17510000.0</td>\n",
       "      <td>MWh</td>\n",
       "      <td>40950000.0</td>\n",
       "    </tr>\n",
       "    <tr>\n",
       "      <th>2</th>\n",
       "      <td>C003</td>\n",
       "      <td>Energy</td>\n",
       "      <td>EU</td>\n",
       "      <td>2025</td>\n",
       "      <td>19940000.0</td>\n",
       "      <td>7720000.0</td>\n",
       "      <td>MWh</td>\n",
       "      <td>69790000.0</td>\n",
       "    </tr>\n",
       "    <tr>\n",
       "      <th>3</th>\n",
       "      <td>C004</td>\n",
       "      <td>Consumer Discretionary</td>\n",
       "      <td>Unknown</td>\n",
       "      <td>2025</td>\n",
       "      <td>13340000.0</td>\n",
       "      <td>17140000.0</td>\n",
       "      <td>unit</td>\n",
       "      <td>98870000.0</td>\n",
       "    </tr>\n",
       "    <tr>\n",
       "      <th>4</th>\n",
       "      <td>C005</td>\n",
       "      <td>Financials</td>\n",
       "      <td>EU</td>\n",
       "      <td>2025</td>\n",
       "      <td>7470000.0</td>\n",
       "      <td>10710000.0</td>\n",
       "      <td>unit</td>\n",
       "      <td>68920000.0</td>\n",
       "    </tr>\n",
       "  </tbody>\n",
       "</table>\n",
       "</div>"
      ],
      "text/plain": [
       "    uid             gics_sector  country  year  scope1_tonnes  scope2_tonnes  \\\n",
       "0  C001             Real Estate   Global  2025     21510000.0      1070000.0   \n",
       "1  C002                  Energy   Brazil  2025      6570000.0     17510000.0   \n",
       "2  C003                  Energy       EU  2025     19940000.0      7720000.0   \n",
       "3  C004  Consumer Discretionary  Unknown  2025     13340000.0     17140000.0   \n",
       "4  C005              Financials       EU  2025      7470000.0     10710000.0   \n",
       "\n",
       "  unit_production  production_volume  \n",
       "0     m2 building         46280000.0  \n",
       "1             MWh         40950000.0  \n",
       "2             MWh         69790000.0  \n",
       "3            unit         98870000.0  \n",
       "4            unit         68920000.0  "
      ]
     },
     "execution_count": 272,
     "metadata": {},
     "output_type": "execute_result"
    }
   ],
   "source": [
    "df_emissions.head()"
   ]
  },
  {
   "cell_type": "code",
   "execution_count": 273,
   "id": "dd19f2a7",
   "metadata": {},
   "outputs": [
    {
     "data": {
      "text/html": [
       "<div>\n",
       "<style scoped>\n",
       "    .dataframe tbody tr th:only-of-type {\n",
       "        vertical-align: middle;\n",
       "    }\n",
       "\n",
       "    .dataframe tbody tr th {\n",
       "        vertical-align: top;\n",
       "    }\n",
       "\n",
       "    .dataframe thead th {\n",
       "        text-align: right;\n",
       "    }\n",
       "</style>\n",
       "<table border=\"1\" class=\"dataframe\">\n",
       "  <thead>\n",
       "    <tr style=\"text-align: right;\">\n",
       "      <th></th>\n",
       "      <th>uid</th>\n",
       "      <th>type_of_target</th>\n",
       "      <th>reduction_target</th>\n",
       "      <th>comment</th>\n",
       "      <th>baseline_year</th>\n",
       "      <th>endline_year</th>\n",
       "      <th>reduction_value</th>\n",
       "      <th>reduction_type</th>\n",
       "      <th>reduction_unit</th>\n",
       "    </tr>\n",
       "  </thead>\n",
       "  <tbody>\n",
       "    <tr>\n",
       "      <th>0</th>\n",
       "      <td>C001</td>\n",
       "      <td>Scope 2</td>\n",
       "      <td>0.547</td>\n",
       "      <td>NaN</td>\n",
       "      <td>2019</td>\n",
       "      <td>2050</td>\n",
       "      <td>0.547</td>\n",
       "      <td>absolute</td>\n",
       "      <td>%</td>\n",
       "    </tr>\n",
       "    <tr>\n",
       "      <th>1</th>\n",
       "      <td>C002</td>\n",
       "      <td>Scope 1</td>\n",
       "      <td>0.35 tCO2e/MWh</td>\n",
       "      <td>NaN</td>\n",
       "      <td>2020</td>\n",
       "      <td>2050</td>\n",
       "      <td>0.350</td>\n",
       "      <td>intensity</td>\n",
       "      <td>tCO2e/mwh</td>\n",
       "    </tr>\n",
       "    <tr>\n",
       "      <th>2</th>\n",
       "      <td>C003</td>\n",
       "      <td>Scope 2</td>\n",
       "      <td>0.256</td>\n",
       "      <td>NaN</td>\n",
       "      <td>2019</td>\n",
       "      <td>2050</td>\n",
       "      <td>0.256</td>\n",
       "      <td>absolute</td>\n",
       "      <td>%</td>\n",
       "    </tr>\n",
       "    <tr>\n",
       "      <th>3</th>\n",
       "      <td>C003</td>\n",
       "      <td>Scope 1</td>\n",
       "      <td>0.348</td>\n",
       "      <td>NaN</td>\n",
       "      <td>2018</td>\n",
       "      <td>2050</td>\n",
       "      <td>0.348</td>\n",
       "      <td>absolute</td>\n",
       "      <td>%</td>\n",
       "    </tr>\n",
       "    <tr>\n",
       "      <th>4</th>\n",
       "      <td>C004</td>\n",
       "      <td>Scope 2</td>\n",
       "      <td>0.188</td>\n",
       "      <td>NaN</td>\n",
       "      <td>2024</td>\n",
       "      <td>2050</td>\n",
       "      <td>0.188</td>\n",
       "      <td>absolute</td>\n",
       "      <td>%</td>\n",
       "    </tr>\n",
       "  </tbody>\n",
       "</table>\n",
       "</div>"
      ],
      "text/plain": [
       "    uid type_of_target reduction_target comment  baseline_year  endline_year  \\\n",
       "0  C001        Scope 2            0.547     NaN           2019          2050   \n",
       "1  C002        Scope 1   0.35 tCO2e/MWh     NaN           2020          2050   \n",
       "2  C003        Scope 2            0.256     NaN           2019          2050   \n",
       "3  C003        Scope 1            0.348     NaN           2018          2050   \n",
       "4  C004        Scope 2            0.188     NaN           2024          2050   \n",
       "\n",
       "   reduction_value reduction_type reduction_unit  \n",
       "0            0.547       absolute              %  \n",
       "1            0.350      intensity      tCO2e/mwh  \n",
       "2            0.256       absolute              %  \n",
       "3            0.348       absolute              %  \n",
       "4            0.188       absolute              %  "
      ]
     },
     "execution_count": 273,
     "metadata": {},
     "output_type": "execute_result"
    }
   ],
   "source": [
    "df_targets.head()"
   ]
  },
  {
   "cell_type": "code",
   "execution_count": null,
   "id": "71e59330",
   "metadata": {},
   "outputs": [],
   "source": []
  },
  {
   "cell_type": "markdown",
   "id": "a8b36639",
   "metadata": {},
   "source": [
    "Merge Emissions and Targets dataframe and clean and standardize"
   ]
  },
  {
   "cell_type": "code",
   "execution_count": 247,
   "id": "3b5cc330",
   "metadata": {},
   "outputs": [
    {
     "name": "stderr",
     "output_type": "stream",
     "text": [
      "/var/folders/lf/9_7wh6ps1354b6glt9mst87m0000gn/T/ipykernel_96109/1506939902.py:26: FutureWarning:\n",
      "\n",
      "Downcasting object dtype arrays on .fillna, .ffill, .bfill is deprecated and will change in a future version. Call result.infer_objects(copy=False) instead. To opt-in to the future behavior, set `pd.set_option('future.no_silent_downcasting', True)`\n",
      "\n"
     ]
    }
   ],
   "source": [
    "\n",
    "# Table 2: Targets\n",
    "df_targets_raw = df_targets.copy()\n",
    "df_targets.columns = df_targets.columns.str.strip().str.lower().str.replace(\" \", \"_\")\n",
    "\n",
    "# Enhanced year cleaning function\n",
    "YEAR_WORDS = {\n",
    "    'twenty-twenty': 2020,\n",
    "    'twenty twenty': 2020,\n",
    "    '2,024': 2024,\n",
    "    '202four': 2024,\n",
    "    'forty': 40  # For percentage, handled separately in reduction parsing\n",
    "}\n",
    "\n",
    "def clean_year(val):\n",
    "    if pd.isna(val):\n",
    "        return pd.NA\n",
    "    s = str(val).strip().lower().replace(',', '')\n",
    "    if s in YEAR_WORDS:\n",
    "        return YEAR_WORDS[s]\n",
    "    try:\n",
    "        return int(s)\n",
    "    except ValueError:\n",
    "        return pd.NA\n",
    "\n",
    "df_targets['baseline_year'] = df_targets['baseline'].apply(clean_year).astype('Int64')\n",
    "df_targets['endline_year'] = df_targets['endline'].apply(clean_year).fillna(2050).astype('Int64')  # Assume 2050 if endline missing\n",
    "df_targets.drop(columns=['baseline', 'endline'], inplace=True)\n",
    "\n",
    "def split_reduction(val):\n",
    "    if pd.isna(val):\n",
    "        return pd.Series([np.nan, 'unknown', None])\n",
    "    s = str(val).strip().lower()\n",
    "    if s == 'forty%' or s == '40%':\n",
    "        return pd.Series([0.40, 'absolute', '%'])\n",
    "    m = re.match(r'([0-9]*\\.?[0-9]+)\\s*tco2e/?(.+)?', s)\n",
    "    if m:\n",
    "        num = float(m.group(1))\n",
    "        unit = f\"tCO2e/{m.group(2).strip()}\" if m.group(2) else 'tCO2e'\n",
    "        return pd.Series([num, 'intensity', unit])\n",
    "    if s.endswith('%'):\n",
    "        try:\n",
    "            num = float(s.replace('%', '')) / 100\n",
    "            return pd.Series([num, 'absolute', '%'])\n",
    "        except ValueError:\n",
    "            return pd.Series([np.nan, 'absolute', '%'])\n",
    "    try:\n",
    "        num = float(s)\n",
    "        if num > 1:\n",
    "            num = num / 100\n",
    "        return pd.Series([num, 'absolute', '%'])\n",
    "    except ValueError:\n",
    "        return pd.Series([np.nan, 'unknown', None])\n",
    "\n",
    "df_targets[['reduction_value', 'reduction_type', 'reduction_unit']] = df_targets['reduction_target'].apply(split_reduction)\n",
    "df_targets_clean = df_targets[\n",
    "    ['uid', 'type_of_target', 'reduction_target', 'reduction_value', 'reduction_type', 'reduction_unit', 'baseline_year', 'endline_year', 'comment']\n",
    "].sort_values(['uid', 'type_of_target']).reset_index(drop=True)\n",
    "df_targets_clean = df_targets_clean.dropna(subset=['baseline_year', 'reduction_value'])  # Drop if baseline or reduction missing\n",
    "\n",
    "# Merge with emissions data\n",
    "df_merged = df_targets_clean.merge(df_emissions, on=\"uid\", how=\"left\", indicator=True, suffixes=(\"\", \"_em\"))\n",
    "df_merged = df_merged.rename(columns={\"_merge\": \"merge_status\"})\n"
   ]
  },
  {
   "cell_type": "code",
   "execution_count": null,
   "id": "d2bff464",
   "metadata": {},
   "outputs": [],
   "source": [
    "# filter for uid equal C011 \n",
    "# df_filtered = df_merged[df_merged['uid'] == 'C011'].copy()"
   ]
  },
  {
   "cell_type": "code",
   "execution_count": null,
   "id": "9472b350",
   "metadata": {},
   "outputs": [
    {
     "data": {
      "text/html": [
       "<div>\n",
       "<style scoped>\n",
       "    .dataframe tbody tr th:only-of-type {\n",
       "        vertical-align: middle;\n",
       "    }\n",
       "\n",
       "    .dataframe tbody tr th {\n",
       "        vertical-align: top;\n",
       "    }\n",
       "\n",
       "    .dataframe thead th {\n",
       "        text-align: right;\n",
       "    }\n",
       "</style>\n",
       "<table border=\"1\" class=\"dataframe\">\n",
       "  <thead>\n",
       "    <tr style=\"text-align: right;\">\n",
       "      <th></th>\n",
       "      <th>uid</th>\n",
       "      <th>type_of_target</th>\n",
       "      <th>reduction_target</th>\n",
       "      <th>reduction_value</th>\n",
       "      <th>reduction_type</th>\n",
       "      <th>reduction_unit</th>\n",
       "      <th>baseline_year</th>\n",
       "      <th>endline_year</th>\n",
       "      <th>comment</th>\n",
       "      <th>gics_sector</th>\n",
       "      <th>country</th>\n",
       "      <th>year</th>\n",
       "      <th>scope1_tonnes</th>\n",
       "      <th>scope2_tonnes</th>\n",
       "      <th>unit_production</th>\n",
       "      <th>production_volume</th>\n",
       "      <th>merge_status</th>\n",
       "    </tr>\n",
       "  </thead>\n",
       "  <tbody>\n",
       "    <tr>\n",
       "      <th>10</th>\n",
       "      <td>C011</td>\n",
       "      <td>Scope 2</td>\n",
       "      <td>0.54</td>\n",
       "      <td>0.54</td>\n",
       "      <td>absolute</td>\n",
       "      <td>%</td>\n",
       "      <td>2019</td>\n",
       "      <td>2050</td>\n",
       "      <td>NaN</td>\n",
       "      <td>Materials</td>\n",
       "      <td>Unknown</td>\n",
       "      <td>2025.0</td>\n",
       "      <td>24650000.0</td>\n",
       "      <td>13750000.0</td>\n",
       "      <td>ton steel</td>\n",
       "      <td>19000000.0</td>\n",
       "      <td>both</td>\n",
       "    </tr>\n",
       "  </tbody>\n",
       "</table>\n",
       "</div>"
      ],
      "text/plain": [
       "     uid type_of_target reduction_target  reduction_value reduction_type  \\\n",
       "10  C011        Scope 2             0.54             0.54       absolute   \n",
       "\n",
       "   reduction_unit  baseline_year  endline_year comment gics_sector  country  \\\n",
       "10              %           2019          2050     NaN   Materials  Unknown   \n",
       "\n",
       "      year  scope1_tonnes  scope2_tonnes unit_production  production_volume  \\\n",
       "10  2025.0     24650000.0     13750000.0       ton steel         19000000.0   \n",
       "\n",
       "   merge_status  \n",
       "10         both  "
      ]
     },
     "execution_count": 249,
     "metadata": {},
     "output_type": "execute_result"
    }
   ],
   "source": [
    "# df_filtered.head()"
   ]
  },
  {
   "cell_type": "code",
   "execution_count": null,
   "id": "c3107472",
   "metadata": {},
   "outputs": [],
   "source": [
    "# # Table 3: Abatement\n",
    "# df_abatement.columns = ['sector', 'region', 'technology', 'initial_investment_usd_million',\n",
    "#                         'abatement_capacity_tco2e_year', 'abatement_cost_usd_tco2e_year']\n",
    "# df_abatement['region'] = df_abatement['region'].replace({'Europa': 'EU'})\n",
    "\n",
    "# # df_abatement['abatement_cost_usd_tco2e_year'] = pd.to_numeric(df_abatement['abatement_cost_usd_tco2e_year'], errors='coerce').fillna(df_abatement.groupby('sector')['abatement_cost_usd_tco2e_year'].transform('mean')).round(2)\n",
    "# # 1. Convert to numeric (coerce non-numeric → NaN)\n",
    "# df_abatement['abatement_cost_usd_tco2e_year'] = pd.to_numeric(\n",
    "#     df_abatement['abatement_cost_usd_tco2e_year'],\n",
    "#     errors='coerce'\n",
    "# )\n",
    "# # 2. Compute sector means on the numeric column\n",
    "# sector_cost_means = df_abatement.groupby('sector')['abatement_cost_usd_tco2e_year'] \\\n",
    "#                                  .transform('mean')\n",
    "# # 3. Fill NaNs with those means, then round\n",
    "# df_abatement['abatement_cost_usd_tco2e_year'] = (\n",
    "#     df_abatement['abatement_cost_usd_tco2e_year']\n",
    "#       .fillna(sector_cost_means)\n",
    "#       .round(2)\n",
    "# )\n",
    "\n",
    "# # Repeat for initial investment\n",
    "# df_abatement['initial_investment_usd_million'] = pd.to_numeric(\n",
    "#     df_abatement['initial_investment_usd_million'],\n",
    "#     errors='coerce'\n",
    "# )\n",
    "# sector_inv_means = df_abatement.groupby('sector')['initial_investment_usd_million'] \\\n",
    "#                                 .transform('mean')\n",
    "# df_abatement['initial_investment_usd_million'] = (\n",
    "#     df_abatement['initial_investment_usd_million']\n",
    "#       .fillna(sector_inv_means)\n",
    "#       .round(2)\n",
    "# )\n",
    "\n",
    "\n",
    "# df_abatement['initial_investment_usd_million'] = df_abatement['initial_investment_usd_million'].fillna(\n",
    "#     df_abatement.groupby('sector')['initial_investment_usd_million'].transform('mean')\n",
    "# ).round(2)\n",
    "\n",
    "\n",
    "# # Table 4: Carbon Prices\n",
    "# df_carbon_prices.columns = ['sector', 'region', 'year', 'scenario', 'carbon_price_usd_tco2e']\n",
    "# df_carbon_prices['region'] = df_carbon_prices['region'].replace({'Europa': 'EU'})\n",
    "# df_carbon_prices['carbon_price_usd_tco2e'] = pd.to_numeric(df_carbon_prices['carbon_price_usd_tco2e'], errors='coerce').fillna(df_carbon_prices.groupby(['scenario', 'sector'])['carbon_price_usd_tco2e'].transform('mean')).round(2)"
   ]
  },
  {
   "cell_type": "code",
   "execution_count": 274,
   "id": "a7814003",
   "metadata": {},
   "outputs": [],
   "source": [
    "# --- Clean and Prepare Abatement Table ---\n",
    "# Rename columns\n",
    "df_abatement.columns = [\n",
    "    'sector', 'region', 'technology',\n",
    "    'initial_investment_usd_million',\n",
    "    'abatement_capacity_tco2e_year',\n",
    "    'abatement_cost_usd_tco2e_year'\n",
    "]\n",
    "\n",
    "# Standardize region names\n",
    "df_abatement['region'] = df_abatement['region'].replace({'Europa': 'EU'})\n",
    "\n",
    "# Convert numeric fields and impute missing values with sector means\n",
    "for col in ['abatement_cost_usd_tco2e_year', 'initial_investment_usd_million']:\n",
    "    df_abatement[col] = pd.to_numeric(df_abatement[col], errors='coerce')\n",
    "    df_abatement[col] = df_abatement[col].fillna(\n",
    "        df_abatement.groupby('sector')[col].transform('mean')\n",
    "    ).round(2)\n",
    "\n",
    "# --- Clean and Prepare Carbon Prices Table ---\n",
    "# Rename columns\n",
    "df_carbon_prices.columns = ['sector', 'region', 'year', 'scenario', 'carbon_price_usd_tco2e']\n",
    "\n",
    "# Standardize region names\n",
    "df_carbon_prices['region'] = df_carbon_prices['region'].replace({'Europa': 'EU'})\n",
    "\n",
    "# Convert carbon prices and fill missing by scenario+sector group\n",
    "df_carbon_prices['carbon_price_usd_tco2e'] = pd.to_numeric(\n",
    "    df_carbon_prices['carbon_price_usd_tco2e'], errors='coerce'\n",
    ")\n",
    "df_carbon_prices['carbon_price_usd_tco2e'] = df_carbon_prices['carbon_price_usd_tco2e'].fillna(\n",
    "    df_carbon_prices.groupby(['scenario', 'sector'])['carbon_price_usd_tco2e'].transform('mean')\n",
    ").round(2)\n"
   ]
  },
  {
   "cell_type": "code",
   "execution_count": null,
   "id": "9d18ab60",
   "metadata": {},
   "outputs": [
    {
     "data": {
      "text/plain": [
       "array(['%', 'tCO2e/mwh', 'tCO2e/unit', 'tCO2e/m2 building'], dtype=object)"
      ]
     },
     "execution_count": 252,
     "metadata": {},
     "output_type": "execute_result"
    }
   ],
   "source": [
    "# df_merged.reduction_unit.unique()"
   ]
  },
  {
   "cell_type": "code",
   "execution_count": null,
   "id": "b0453552",
   "metadata": {},
   "outputs": [
    {
     "data": {
      "text/html": [
       "<div>\n",
       "<style scoped>\n",
       "    .dataframe tbody tr th:only-of-type {\n",
       "        vertical-align: middle;\n",
       "    }\n",
       "\n",
       "    .dataframe tbody tr th {\n",
       "        vertical-align: top;\n",
       "    }\n",
       "\n",
       "    .dataframe thead th {\n",
       "        text-align: right;\n",
       "    }\n",
       "</style>\n",
       "<table border=\"1\" class=\"dataframe\">\n",
       "  <thead>\n",
       "    <tr style=\"text-align: right;\">\n",
       "      <th></th>\n",
       "      <th>uid</th>\n",
       "      <th>type_of_target</th>\n",
       "      <th>reduction_target</th>\n",
       "      <th>reduction_value</th>\n",
       "      <th>reduction_type</th>\n",
       "      <th>reduction_unit</th>\n",
       "      <th>baseline_year</th>\n",
       "      <th>endline_year</th>\n",
       "      <th>comment</th>\n",
       "      <th>gics_sector</th>\n",
       "      <th>country</th>\n",
       "      <th>year</th>\n",
       "      <th>scope1_tonnes</th>\n",
       "      <th>scope2_tonnes</th>\n",
       "      <th>unit_production</th>\n",
       "      <th>production_volume</th>\n",
       "      <th>merge_status</th>\n",
       "    </tr>\n",
       "  </thead>\n",
       "  <tbody>\n",
       "    <tr>\n",
       "      <th>1</th>\n",
       "      <td>C002</td>\n",
       "      <td>Scope 1</td>\n",
       "      <td>0.35 tCO2e/MWh</td>\n",
       "      <td>0.35</td>\n",
       "      <td>intensity</td>\n",
       "      <td>tCO2e/mwh</td>\n",
       "      <td>2020</td>\n",
       "      <td>2050</td>\n",
       "      <td>NaN</td>\n",
       "      <td>Energy</td>\n",
       "      <td>Brazil</td>\n",
       "      <td>2025.0</td>\n",
       "      <td>6570000.0</td>\n",
       "      <td>17510000.0</td>\n",
       "      <td>MWh</td>\n",
       "      <td>40950000.0</td>\n",
       "      <td>both</td>\n",
       "    </tr>\n",
       "  </tbody>\n",
       "</table>\n",
       "</div>"
      ],
      "text/plain": [
       "    uid type_of_target reduction_target  reduction_value reduction_type  \\\n",
       "1  C002        Scope 1   0.35 tCO2e/MWh             0.35      intensity   \n",
       "\n",
       "  reduction_unit  baseline_year  endline_year comment gics_sector country  \\\n",
       "1      tCO2e/mwh           2020          2050     NaN      Energy  Brazil   \n",
       "\n",
       "     year  scope1_tonnes  scope2_tonnes unit_production  production_volume  \\\n",
       "1  2025.0      6570000.0     17510000.0             MWh         40950000.0   \n",
       "\n",
       "  merge_status  \n",
       "1         both  "
      ]
     },
     "execution_count": 253,
     "metadata": {},
     "output_type": "execute_result"
    }
   ],
   "source": [
    "# df_merged.head(2).tail(1)"
   ]
  },
  {
   "cell_type": "code",
   "execution_count": 13,
   "id": "079f629b",
   "metadata": {},
   "outputs": [
    {
     "data": {
      "text/plain": [
       "uid                                    C049\n",
       "type_of_target                      Scope 1\n",
       "reduction_target     0.42 tCO2e/m2 building\n",
       "reduction_value                        0.42\n",
       "reduction_type                    intensity\n",
       "reduction_unit            tCO2e/m2 building\n",
       "baseline_year                          2019\n",
       "endline_year                           2050\n",
       "comment                                 NaN\n",
       "gics_sector                     Real Estate\n",
       "country                              Global\n",
       "year                                 2025.0\n",
       "scope1_tonnes                    28100000.0\n",
       "scope2_tonnes                     8550000.0\n",
       "unit_production                 m2 building\n",
       "production_volume                47220000.0\n",
       "merge_status                           both\n",
       "Name: 47, dtype: object"
      ]
     },
     "execution_count": 13,
     "metadata": {},
     "output_type": "execute_result"
    }
   ],
   "source": [
    "df_merged[df_merged['reduction_unit'] == 'tCO2e/m2 building'].iloc[0]"
   ]
  },
  {
   "cell_type": "code",
   "execution_count": 14,
   "id": "57fd02f6",
   "metadata": {},
   "outputs": [
    {
     "data": {
      "text/plain": [
       "uid                        C011\n",
       "type_of_target          Scope 2\n",
       "reduction_target           0.54\n",
       "reduction_value            0.54\n",
       "reduction_type         absolute\n",
       "reduction_unit                %\n",
       "baseline_year              2019\n",
       "endline_year               2050\n",
       "comment                     NaN\n",
       "gics_sector           Materials\n",
       "country                 Unknown\n",
       "year                     2025.0\n",
       "scope1_tonnes        24650000.0\n",
       "scope2_tonnes        13750000.0\n",
       "unit_production       ton steel\n",
       "production_volume    19000000.0\n",
       "merge_status               both\n",
       "Name: 10, dtype: object"
      ]
     },
     "execution_count": 14,
     "metadata": {},
     "output_type": "execute_result"
    }
   ],
   "source": [
    "df_merged.iloc[10]"
   ]
  },
  {
   "cell_type": "code",
   "execution_count": null,
   "id": "0bee1955",
   "metadata": {},
   "outputs": [],
   "source": [
    "import pandas as pd\n",
    "import numpy as np\n",
    "\n",
    "def project_emissions(row, years=np.arange(2025, 2051), scenarios=None, interpolation_method='linear'):\n",
    "    \"\"\"\n",
    "    Projects Scope 1 and Scope 2 emissions from 2025 to 2050 based on company-specific baseline data.\n",
    "    Supports scenario-based production modeling and an S-curve scenario for emissions reduction.\n",
    "    \n",
    "    Parameters:\n",
    "    - row: pd.Series with 'uid', 'baseline_scope1_tonnes', 'baseline_scope2_tonnes', 'baseline_production_volume', \n",
    "           'baseline_year', optionally 'scope1_tonnes' (2025), 'scope2_tonnes' (2025), 'production_volume' (2025), \n",
    "           'production_growth_rate', 'gics_sector', 'country', 'type_of_target'\n",
    "    - years: np.ndarray, years to project (default: 2025-2050)\n",
    "    - scenarios: dict, e.g., {'low': {'growth_rate': 0.0}, 'med': {'growth_rate': 0.01}, 's_curve': {'growth_rate': 0.02, 'interpolation': 's_curve'}}\n",
    "                If None, uses row['production_growth_rate'] or 0.0 with default interpolation\n",
    "    - interpolation_method: str, 'linear' (default), 'exponential', or 's_curve' if not overridden by scenario\n",
    "    \n",
    "    Returns:\n",
    "    - pd.DataFrame with columns ['uid', 'gics_sector', 'country', 'type_of_target', 'year', 'scope1_tonnes', 'scope2_tonnes', 'scenario']\n",
    "      or empty pd.DataFrame if baseline emissions or production volume are missing\n",
    "    \"\"\"\n",
    "    # Extract basic information\n",
    "    uid = row['uid']\n",
    "    baseline_year = row['baseline_year']\n",
    "    baseline_scope1 = row.get('baseline_scope1_tonnes')\n",
    "    baseline_scope2 = row.get('baseline_scope2_tonnes')\n",
    "    baseline_production = row.get('baseline_production_volume', 0)\n",
    "    growth_rate_pre_2025 = row.get('production_growth_rate', 0.0)\n",
    "    \n",
    "    # Define targets (assumes global df_targets_clean exists)\n",
    "    targets = df_targets_clean[df_targets_clean['uid'] == uid]\n",
    "    \n",
    "    # Determine 2025 emissions: use provided values or estimate from baseline\n",
    "    if pd.notna(row.get('scope1_tonnes')) and pd.notna(row.get('scope2_tonnes')):\n",
    "        scope1_2025 = row['scope1_tonnes']\n",
    "        scope2_2025 = row['scope2_tonnes']\n",
    "        production_volume = row.get('production_volume', baseline_production * (1 + growth_rate_pre_2025)**(2025 - baseline_year))\n",
    "    else:\n",
    "        if pd.isna(baseline_scope1) or pd.isna(baseline_scope2):\n",
    "            print(f\"Info: Skipping company {uid} due to missing baseline Scope 1 or Scope 2 emissions.\")\n",
    "            return pd.DataFrame()\n",
    "        years_to_2025 = 2025 - baseline_year\n",
    "        production_volume = baseline_production * (1 + growth_rate_pre_2025)**years_to_2025 if baseline_production > 0 else 0\n",
    "        if any(targets['reduction_type'] == 'intensity'):\n",
    "            if baseline_production == 0:\n",
    "                print(f\"Info: Skipping company {uid} due to missing baseline production volume for intensity target.\")\n",
    "                return pd.DataFrame()\n",
    "            intensity_baseline = baseline_scope1 / baseline_production\n",
    "            scope1_2025 = intensity_baseline * production_volume\n",
    "            scope2_2025 = baseline_scope2\n",
    "        else:\n",
    "            scope1_2025 = baseline_scope1\n",
    "            scope2_2025 = baseline_scope2\n",
    "    \n",
    "    # Set default scenario if none provided\n",
    "    if scenarios is None:\n",
    "        scenarios = {'default': {'growth_rate': row.get('production_growth_rate', 0.0), 'interpolation': interpolation_method}}\n",
    "    \n",
    "    emissions_path = []\n",
    "    for scenario_name, scenario_params in scenarios.items():\n",
    "        growth_rate = scenario_params.get('growth_rate', 0.0)\n",
    "        scenario_interpolation = scenario_params.get('interpolation', interpolation_method)\n",
    "        \n",
    "        for year in years:\n",
    "            scope1, scope2 = scope1_2025, scope2_2025\n",
    "            production_volume_t = production_volume * (1 + growth_rate)**(year - 2025) if production_volume > 0 else 0\n",
    "            \n",
    "            # Apply emission reductions based on targets\n",
    "            for _, target in targets.iterrows():\n",
    "                endline_year = target['endline_year']\n",
    "                reduction = target['reduction_value']\n",
    "                target_type = target['type_of_target']\n",
    "                reduction_type = target['reduction_type']\n",
    "                n_years = endline_year - 2025\n",
    "                \n",
    "                if pd.isna(endline_year) or pd.isna(reduction) or endline_year <= 2025 or n_years <= 0:\n",
    "                    continue\n",
    "                \n",
    "                # Calculate S-curve parameters if using s_curve interpolation\n",
    "                if scenario_interpolation == 's_curve':\n",
    "                    t_0 = 2025 + n_years / 2\n",
    "                    k = 9.21 / n_years  # Ensures ~99% reduction by endline_year\n",
    "                \n",
    "                if target_type == 'Direct':\n",
    "                    total_2025 = scope1_2025 + scope2_2025\n",
    "                    if reduction_type == 'absolute':\n",
    "                        target_em = total_2025 * (1 - reduction)\n",
    "                        R = total_2025 - target_em\n",
    "                        if scenario_interpolation == 'linear':\n",
    "                            annual_red = R / n_years\n",
    "                            total_reduced = max(0, total_2025 - (year - 2025) * annual_red if year <= endline_year else target_em)\n",
    "                        elif scenario_interpolation == 'exponential':\n",
    "                            r = (1 - reduction) ** (1 / n_years)\n",
    "                            total_reduced = max(0, total_2025 * r ** (year - 2025) if year <= endline_year else target_em)\n",
    "                        elif scenario_interpolation == 's_curve':\n",
    "                            fraction = 1 / (1 + np.exp(-k * (year - t_0))) if year <= endline_year else 1\n",
    "                            total_reduced = max(0, total_2025 - R * fraction)\n",
    "                        scope1 = total_reduced * (scope1_2025 / total_2025) if total_2025 > 0 else scope1\n",
    "                        scope2 = total_reduced * (scope2_2025 / total_2025) if total_2025 > 0 else scope2\n",
    "                    else:  # intensity\n",
    "                        I_2025 = total_2025 / production_volume if production_volume > 0 else 0\n",
    "                        I_target = I_2025 * (1 - reduction)\n",
    "                        if scenario_interpolation == 'linear':\n",
    "                            fraction = min((year - 2025) / n_years, 1) if year <= endline_year else 1\n",
    "                            I_t = I_2025 - fraction * (I_2025 - I_target)\n",
    "                        elif scenario_interpolation == 'exponential':\n",
    "                            r = (1 - reduction) ** (1 / n_years)\n",
    "                            I_t = I_2025 * r ** (year - 2025) if year <= endline_year else I_target\n",
    "                        elif scenario_interpolation == 's_curve':\n",
    "                            fraction = 1 / (1 + np.exp(-k * (year - t_0))) if year <= endline_year else 1\n",
    "                            I_t = I_2025 - fraction * (I_2025 - I_target)\n",
    "                        total_reduced = I_t * production_volume_t\n",
    "                        scope1 = total_reduced * (scope1_2025 / total_2025) if total_2025 > 0 else scope1\n",
    "                        scope2 = total_reduced * (scope2_2025 / total_2025) if total_2025 > 0 else scope2\n",
    "                else:\n",
    "                    if 'Scope 1' in target_type:\n",
    "                        emissions_2025 = scope1_2025\n",
    "                    elif 'Scope 2' in target_type:\n",
    "                        emissions_2025 = scope2_2025\n",
    "                    else:\n",
    "                        continue\n",
    "                    if reduction_type == 'absolute':\n",
    "                        target_em = emissions_2025 * (1 - reduction)\n",
    "                        R = emissions_2025 - target_em\n",
    "                        if scenario_interpolation == 'linear':\n",
    "                            annual_red = R / n_years\n",
    "                            reduction_applied = (year - 2025) * annual_red if year <= endline_year else R\n",
    "                        elif scenario_interpolation == 'exponential':\n",
    "                            r = (1 - reduction) ** (1 / n_years)\n",
    "                            reduction_applied = emissions_2025 - (emissions_2025 * r ** (year - 2025)) if year <= endline_year else R\n",
    "                        elif scenario_interpolation == 's_curve':\n",
    "                            fraction = 1 / (1 + np.exp(-k * (year - t_0))) if year <= endline_year else 1\n",
    "                            reduction_applied = R * fraction\n",
    "                        if 'Scope 1' in target_type:\n",
    "                            scope1 = max(0, emissions_2025 - reduction_applied)\n",
    "                        if 'Scope 2' in target_type:\n",
    "                            scope2 = max(0, emissions_2025 - reduction_applied)\n",
    "                    else:  # intensity\n",
    "                        I_2025 = emissions_2025 / production_volume if production_volume > 0 else 0\n",
    "                        I_target = I_2025 * (1 - reduction)\n",
    "                        if scenario_interpolation == 'linear':\n",
    "                            fraction = min((year - 2025) / n_years, 1) if year <= endline_year else 1\n",
    "                            I_t = I_2025 - fraction * (I_2025 - I_target)\n",
    "                        elif scenario_interpolation == 'exponential':\n",
    "                            r = (1 - reduction) ** (1 / n_years)\n",
    "                            I_t = I_2025 * r ** (year - 2025) if year <= endline_year else I_target\n",
    "                        elif scenario_interpolation == 's_curve':\n",
    "                            fraction = 1 / (1 + np.exp(-k * (year - t_0))) if year <= endline_year else 1\n",
    "                            I_t = I_2025 - fraction * (I_2025 - I_target)\n",
    "                        emissions_t = I_t * production_volume_t\n",
    "                        if 'Scope 1' in target_type:\n",
    "                            scope1 = max(0, emissions_t)\n",
    "                        if 'Scope 2' in target_type:\n",
    "                            scope2 = max(0, emissions_t)\n",
    "            \n",
    "            emissions_path.append({\n",
    "                'uid': uid,\n",
    "                'gics_sector': row['gics_sector'],\n",
    "                'country': row['country'],\n",
    "                'type_of_target': row['type_of_target'],\n",
    "                'year': year,\n",
    "                'scope1_tonnes': round(scope1),\n",
    "                'scope2_tonnes': round(scope2),\n",
    "                'scenario': scenario_name\n",
    "            })\n",
    "    \n",
    "    return pd.DataFrame(emissions_path)\n",
    "\n"
   ]
  },
  {
   "cell_type": "code",
   "execution_count": null,
   "id": "ff04dd16",
   "metadata": {},
   "outputs": [],
   "source": []
  },
  {
   "cell_type": "code",
   "execution_count": 17,
   "id": "604bc00f",
   "metadata": {},
   "outputs": [
    {
     "data": {
      "text/html": [
       "<div>\n",
       "<style scoped>\n",
       "    .dataframe tbody tr th:only-of-type {\n",
       "        vertical-align: middle;\n",
       "    }\n",
       "\n",
       "    .dataframe tbody tr th {\n",
       "        vertical-align: top;\n",
       "    }\n",
       "\n",
       "    .dataframe thead th {\n",
       "        text-align: right;\n",
       "    }\n",
       "</style>\n",
       "<table border=\"1\" class=\"dataframe\">\n",
       "  <thead>\n",
       "    <tr style=\"text-align: right;\">\n",
       "      <th></th>\n",
       "      <th>uid</th>\n",
       "      <th>type_of_target</th>\n",
       "      <th>reduction_target</th>\n",
       "      <th>reduction_value</th>\n",
       "      <th>reduction_type</th>\n",
       "      <th>reduction_unit</th>\n",
       "      <th>baseline_year</th>\n",
       "      <th>endline_year</th>\n",
       "      <th>comment</th>\n",
       "      <th>gics_sector</th>\n",
       "      <th>country</th>\n",
       "      <th>year</th>\n",
       "      <th>scope1_tonnes</th>\n",
       "      <th>scope2_tonnes</th>\n",
       "      <th>unit_production</th>\n",
       "      <th>production_volume</th>\n",
       "      <th>merge_status</th>\n",
       "    </tr>\n",
       "  </thead>\n",
       "  <tbody>\n",
       "    <tr>\n",
       "      <th>0</th>\n",
       "      <td>C001</td>\n",
       "      <td>Scope 2</td>\n",
       "      <td>0.547</td>\n",
       "      <td>0.547</td>\n",
       "      <td>absolute</td>\n",
       "      <td>%</td>\n",
       "      <td>2019</td>\n",
       "      <td>2050</td>\n",
       "      <td>NaN</td>\n",
       "      <td>Real Estate</td>\n",
       "      <td>Global</td>\n",
       "      <td>2025.0</td>\n",
       "      <td>21510000.0</td>\n",
       "      <td>1070000.0</td>\n",
       "      <td>m2 building</td>\n",
       "      <td>46280000.0</td>\n",
       "      <td>both</td>\n",
       "    </tr>\n",
       "    <tr>\n",
       "      <th>1</th>\n",
       "      <td>C002</td>\n",
       "      <td>Scope 1</td>\n",
       "      <td>0.35 tCO2e/MWh</td>\n",
       "      <td>0.350</td>\n",
       "      <td>intensity</td>\n",
       "      <td>tCO2e/mwh</td>\n",
       "      <td>2020</td>\n",
       "      <td>2050</td>\n",
       "      <td>NaN</td>\n",
       "      <td>Energy</td>\n",
       "      <td>Brazil</td>\n",
       "      <td>2025.0</td>\n",
       "      <td>6570000.0</td>\n",
       "      <td>17510000.0</td>\n",
       "      <td>MWh</td>\n",
       "      <td>40950000.0</td>\n",
       "      <td>both</td>\n",
       "    </tr>\n",
       "    <tr>\n",
       "      <th>2</th>\n",
       "      <td>C003</td>\n",
       "      <td>Scope 1</td>\n",
       "      <td>0.348</td>\n",
       "      <td>0.348</td>\n",
       "      <td>absolute</td>\n",
       "      <td>%</td>\n",
       "      <td>2018</td>\n",
       "      <td>2050</td>\n",
       "      <td>NaN</td>\n",
       "      <td>Energy</td>\n",
       "      <td>EU</td>\n",
       "      <td>2025.0</td>\n",
       "      <td>19940000.0</td>\n",
       "      <td>7720000.0</td>\n",
       "      <td>MWh</td>\n",
       "      <td>69790000.0</td>\n",
       "      <td>both</td>\n",
       "    </tr>\n",
       "    <tr>\n",
       "      <th>3</th>\n",
       "      <td>C003</td>\n",
       "      <td>Scope 2</td>\n",
       "      <td>0.256</td>\n",
       "      <td>0.256</td>\n",
       "      <td>absolute</td>\n",
       "      <td>%</td>\n",
       "      <td>2019</td>\n",
       "      <td>2050</td>\n",
       "      <td>NaN</td>\n",
       "      <td>Energy</td>\n",
       "      <td>EU</td>\n",
       "      <td>2025.0</td>\n",
       "      <td>19940000.0</td>\n",
       "      <td>7720000.0</td>\n",
       "      <td>MWh</td>\n",
       "      <td>69790000.0</td>\n",
       "      <td>both</td>\n",
       "    </tr>\n",
       "    <tr>\n",
       "      <th>4</th>\n",
       "      <td>C004</td>\n",
       "      <td>Scope 2</td>\n",
       "      <td>0.188</td>\n",
       "      <td>0.188</td>\n",
       "      <td>absolute</td>\n",
       "      <td>%</td>\n",
       "      <td>2024</td>\n",
       "      <td>2050</td>\n",
       "      <td>NaN</td>\n",
       "      <td>Consumer Discretionary</td>\n",
       "      <td>Unknown</td>\n",
       "      <td>2025.0</td>\n",
       "      <td>13340000.0</td>\n",
       "      <td>17140000.0</td>\n",
       "      <td>unit</td>\n",
       "      <td>98870000.0</td>\n",
       "      <td>both</td>\n",
       "    </tr>\n",
       "  </tbody>\n",
       "</table>\n",
       "</div>"
      ],
      "text/plain": [
       "    uid type_of_target reduction_target  reduction_value reduction_type  \\\n",
       "0  C001        Scope 2            0.547            0.547       absolute   \n",
       "1  C002        Scope 1   0.35 tCO2e/MWh            0.350      intensity   \n",
       "2  C003        Scope 1            0.348            0.348       absolute   \n",
       "3  C003        Scope 2            0.256            0.256       absolute   \n",
       "4  C004        Scope 2            0.188            0.188       absolute   \n",
       "\n",
       "  reduction_unit  baseline_year  endline_year comment             gics_sector  \\\n",
       "0              %           2019          2050     NaN             Real Estate   \n",
       "1      tCO2e/mwh           2020          2050     NaN                  Energy   \n",
       "2              %           2018          2050     NaN                  Energy   \n",
       "3              %           2019          2050     NaN                  Energy   \n",
       "4              %           2024          2050     NaN  Consumer Discretionary   \n",
       "\n",
       "   country    year  scope1_tonnes  scope2_tonnes unit_production  \\\n",
       "0   Global  2025.0     21510000.0      1070000.0     m2 building   \n",
       "1   Brazil  2025.0      6570000.0     17510000.0             MWh   \n",
       "2       EU  2025.0     19940000.0      7720000.0             MWh   \n",
       "3       EU  2025.0     19940000.0      7720000.0             MWh   \n",
       "4  Unknown  2025.0     13340000.0     17140000.0            unit   \n",
       "\n",
       "   production_volume merge_status  \n",
       "0         46280000.0         both  \n",
       "1         40950000.0         both  \n",
       "2         69790000.0         both  \n",
       "3         69790000.0         both  \n",
       "4         98870000.0         both  "
      ]
     },
     "execution_count": 17,
     "metadata": {},
     "output_type": "execute_result"
    }
   ],
   "source": [
    "df_merged.head()"
   ]
  },
  {
   "cell_type": "code",
   "execution_count": 255,
   "id": "935e6311",
   "metadata": {},
   "outputs": [
    {
     "name": "stdout",
     "output_type": "stream",
     "text": [
      "Info: Skipping company C999 due to missing baseline Scope 1 or Scope 2 emissions.\n"
     ]
    }
   ],
   "source": [
    "# Corrected scenarios dictionary\n",
    "scenarios = {\n",
    "    'low': {'growth_rate': 0.0, 'interpolation': 'linear'},\n",
    "    'med': {'growth_rate': 0.01, 'interpolation': 'linear'},\n",
    "    'high': {'growth_rate': 0.02, 'interpolation': 'linear'},\n",
    "    's_curve_low': {'growth_rate': 0.0, 'interpolation': 's_curve'},\n",
    "    's_curve_med': {'growth_rate': 0.01, 'interpolation': 's_curve'},\n",
    "    's_curve_high': {'growth_rate': 0.02, 'interpolation': 's_curve'}\n",
    "}\n",
    "\n",
    "# Run the projection\n",
    "# emissions_paths = project_emissions(df_merged, scenarios=scenarios)\n",
    "# Apply the function and concatenate results\n",
    "emissions_paths_list = df_merged.apply(\n",
    "    lambda row: project_emissions(row, scenarios=scenarios), axis=1\n",
    ").tolist()\n",
    "emissions_paths = pd.concat(emissions_paths_list, ignore_index=True)\n",
    "\n",
    "# Define mappings\n",
    "growth_rate_mapping = {\n",
    "    'low': 0.0,\n",
    "    'med': 0.01,\n",
    "    'high': 0.02,\n",
    "    's_curve_low': 0.0,\n",
    "    's_curve_med': 0.01,\n",
    "    's_curve_high': 0.02\n",
    "}\n",
    "\n",
    "interpolation_mapping = {\n",
    "    'low': 'linear',\n",
    "    'med': 'linear',\n",
    "    'high': 'linear',\n",
    "    's_curve_low': 's_curve',\n",
    "    's_curve_med': 's_curve',\n",
    "    's_curve_high': 's_curve'\n",
    "}\n",
    "\n",
    "# Add columns\n",
    "emissions_paths['growth_rate'] = emissions_paths['scenario'].map(growth_rate_mapping)\n",
    "emissions_paths['interpolation_method'] = emissions_paths['scenario'].map(interpolation_mapping)\n",
    "\n"
   ]
  },
  {
   "cell_type": "code",
   "execution_count": 256,
   "id": "b98ce633",
   "metadata": {},
   "outputs": [],
   "source": [
    "#export the emissions_paths DataFrame to a CSV file\n",
    "emissions_paths.to_csv(\"emissions_paths.csv\", index=False)\n",
    "# export df_merged to a CSV file\n",
    "df_merged.to_csv(\"df_merged.csv\", index=False)\n",
    "# export df_emissions to a CSV file\n",
    "df_emissions.to_csv(\"df_emissions.csv\", index=False)\n",
    "# export df_targets_clean to a CSV file\n",
    "df_targets_clean.to_csv(\"df_targets_clean.csv\", index=False)\n",
    "# export df_abatement to a CSV file\n",
    "df_abatement.to_csv(\"df_abatement.csv\", index=False)\n",
    "# export df_carbon_prices to a CSV file\n",
    "df_carbon_prices.to_csv(\"df_carbon_prices.csv\", index=False)"
   ]
  },
  {
   "cell_type": "code",
   "execution_count": 65,
   "id": "7c82afbb",
   "metadata": {},
   "outputs": [
    {
     "data": {
      "text/html": [
       "<div>\n",
       "<style scoped>\n",
       "    .dataframe tbody tr th:only-of-type {\n",
       "        vertical-align: middle;\n",
       "    }\n",
       "\n",
       "    .dataframe tbody tr th {\n",
       "        vertical-align: top;\n",
       "    }\n",
       "\n",
       "    .dataframe thead th {\n",
       "        text-align: right;\n",
       "    }\n",
       "</style>\n",
       "<table border=\"1\" class=\"dataframe\">\n",
       "  <thead>\n",
       "    <tr style=\"text-align: right;\">\n",
       "      <th></th>\n",
       "      <th>uid</th>\n",
       "      <th>type_of_target</th>\n",
       "      <th>reduction_target</th>\n",
       "      <th>comment</th>\n",
       "      <th>baseline_year</th>\n",
       "      <th>endline_year</th>\n",
       "      <th>reduction_value</th>\n",
       "      <th>reduction_type</th>\n",
       "      <th>reduction_unit</th>\n",
       "    </tr>\n",
       "  </thead>\n",
       "  <tbody>\n",
       "    <tr>\n",
       "      <th>0</th>\n",
       "      <td>C001</td>\n",
       "      <td>Scope 2</td>\n",
       "      <td>0.547</td>\n",
       "      <td>NaN</td>\n",
       "      <td>2019</td>\n",
       "      <td>2050</td>\n",
       "      <td>0.547</td>\n",
       "      <td>absolute</td>\n",
       "      <td>%</td>\n",
       "    </tr>\n",
       "    <tr>\n",
       "      <th>1</th>\n",
       "      <td>C002</td>\n",
       "      <td>Scope 1</td>\n",
       "      <td>0.35 tCO2e/MWh</td>\n",
       "      <td>NaN</td>\n",
       "      <td>2020</td>\n",
       "      <td>2050</td>\n",
       "      <td>0.350</td>\n",
       "      <td>intensity</td>\n",
       "      <td>tCO2e/mwh</td>\n",
       "    </tr>\n",
       "    <tr>\n",
       "      <th>2</th>\n",
       "      <td>C003</td>\n",
       "      <td>Scope 2</td>\n",
       "      <td>0.256</td>\n",
       "      <td>NaN</td>\n",
       "      <td>2019</td>\n",
       "      <td>2050</td>\n",
       "      <td>0.256</td>\n",
       "      <td>absolute</td>\n",
       "      <td>%</td>\n",
       "    </tr>\n",
       "    <tr>\n",
       "      <th>3</th>\n",
       "      <td>C003</td>\n",
       "      <td>Scope 1</td>\n",
       "      <td>0.348</td>\n",
       "      <td>NaN</td>\n",
       "      <td>2018</td>\n",
       "      <td>2050</td>\n",
       "      <td>0.348</td>\n",
       "      <td>absolute</td>\n",
       "      <td>%</td>\n",
       "    </tr>\n",
       "    <tr>\n",
       "      <th>4</th>\n",
       "      <td>C004</td>\n",
       "      <td>Scope 2</td>\n",
       "      <td>0.188</td>\n",
       "      <td>NaN</td>\n",
       "      <td>2024</td>\n",
       "      <td>2050</td>\n",
       "      <td>0.188</td>\n",
       "      <td>absolute</td>\n",
       "      <td>%</td>\n",
       "    </tr>\n",
       "  </tbody>\n",
       "</table>\n",
       "</div>"
      ],
      "text/plain": [
       "    uid type_of_target reduction_target comment  baseline_year  endline_year  \\\n",
       "0  C001        Scope 2            0.547     NaN           2019          2050   \n",
       "1  C002        Scope 1   0.35 tCO2e/MWh     NaN           2020          2050   \n",
       "2  C003        Scope 2            0.256     NaN           2019          2050   \n",
       "3  C003        Scope 1            0.348     NaN           2018          2050   \n",
       "4  C004        Scope 2            0.188     NaN           2024          2050   \n",
       "\n",
       "   reduction_value reduction_type reduction_unit  \n",
       "0            0.547       absolute              %  \n",
       "1            0.350      intensity      tCO2e/mwh  \n",
       "2            0.256       absolute              %  \n",
       "3            0.348       absolute              %  \n",
       "4            0.188       absolute              %  "
      ]
     },
     "execution_count": 65,
     "metadata": {},
     "output_type": "execute_result"
    }
   ],
   "source": [
    "df_targets.head()"
   ]
  },
  {
   "cell_type": "code",
   "execution_count": 257,
   "id": "876777b9",
   "metadata": {},
   "outputs": [],
   "source": [
    "# Handle all relevant target types properly\n",
    "def get_targeted_emissions(row):\n",
    "    if row['type_of_target'] == 'Scope 1':\n",
    "        return row['scope1_tonnes']\n",
    "    elif row['type_of_target'] == 'Scope 2':\n",
    "        return row['scope2_tonnes']\n",
    "    elif row['type_of_target'] in ['Direct', 'Scope 2 and other']:\n",
    "        return row['scope1_tonnes'] + row['scope2_tonnes']\n",
    "    else:\n",
    "        return np.nan\n",
    "\n",
    "emissions_paths['targeted_emissions'] = emissions_paths.apply(get_targeted_emissions, axis=1)\n",
    "\n",
    "# Keep only valid rows\n",
    "df_filtered = emissions_paths[~emissions_paths['targeted_emissions'].isna()].copy()\n"
   ]
  },
  {
   "cell_type": "code",
   "execution_count": null,
   "id": "e887fb62",
   "metadata": {},
   "outputs": [],
   "source": []
  },
  {
   "cell_type": "code",
   "execution_count": 73,
   "id": "275b163f",
   "metadata": {},
   "outputs": [
    {
     "name": "stderr",
     "output_type": "stream",
     "text": [
      "/var/folders/lf/9_7wh6ps1354b6glt9mst87m0000gn/T/ipykernel_96109/2106248026.py:32: UserWarning:\n",
      "\n",
      "Glyph 8322 (\\N{SUBSCRIPT TWO}) missing from font(s) Arial.\n",
      "\n",
      "/opt/anaconda3/envs/sp_work/lib/python3.11/site-packages/IPython/core/pylabtools.py:170: UserWarning:\n",
      "\n",
      "Glyph 8322 (\\N{SUBSCRIPT TWO}) missing from font(s) Arial.\n",
      "\n"
     ]
    },
    {
     "data": {
      "image/png": "[encoded data removed]",
      "text/plain": [
       "<Figure size 1200x1400 with 3 Axes>"
      ]
     },
     "metadata": {},
     "output_type": "display_data"
    }
   ],
   "source": [
    "import matplotlib.pyplot as plt\n",
    "import seaborn as sns\n",
    "\n",
    "# 1. Prepare buckets\n",
    "sorted_uids = matrix['pct_reduction'].sort_values()\n",
    "buckets = {\n",
    "    'Top 5': sorted_uids.index[-5:],\n",
    "    'Mid 5': sorted_uids.index[25:30],\n",
    "    'Bottom 5': sorted_uids.index[:5],\n",
    "}\n",
    "\n",
    "# 2. Plot\n",
    "fig, axes = plt.subplots(3, 1, figsize=(12, 14), sharex=True, sharey=True)\n",
    "\n",
    "for ax, (label, uids) in zip(axes, buckets.items()):\n",
    "    subset = df_filtered[df_filtered['uid'].isin(uids)]\n",
    "    sns.lineplot(\n",
    "        data=subset,\n",
    "        x='year',\n",
    "        y='targeted_emissions',\n",
    "        hue='uid',\n",
    "        style='uid',\n",
    "        markers=True,\n",
    "        dashes=False,\n",
    "        ax=ax\n",
    "    )\n",
    "    ax.set_title(f'{label} Reducers')\n",
    "    ax.set_ylabel('Emissions (tCO₂e)')\n",
    "    ax.legend(title='Company', bbox_to_anchor=(1.02, 1), loc='upper left')\n",
    "\n",
    "axes[-1].set_xlabel('Year')\n",
    "plt.tight_layout()\n",
    "plt.show()\n"
   ]
  },
  {
   "cell_type": "code",
   "execution_count": 76,
   "id": "4330fb5d",
   "metadata": {},
   "outputs": [
    {
     "data": {
      "text/plain": [
       "array(['linear', 's_curve'], dtype=object)"
      ]
     },
     "execution_count": 76,
     "metadata": {},
     "output_type": "execute_result"
    }
   ],
   "source": [
    "emissions_paths.interpolation_method.unique()"
   ]
  },
  {
   "cell_type": "code",
   "execution_count": null,
   "id": "a3546055",
   "metadata": {},
   "outputs": [],
   "source": []
  },
  {
   "cell_type": "code",
   "execution_count": 259,
   "id": "d251833a",
   "metadata": {},
   "outputs": [],
   "source": [
    "import pandas as pd\n",
    "\n",
    "# Pivot out 2025 & 2050, compute percent reduction **per scope**\n",
    "df_pr = (\n",
    "    emissions_paths\n",
    "    .loc[emissions_paths['year'].isin([2025, 2050]), \n",
    "         ['uid','gics_sector','country','scope1_tonnes','scope2_tonnes','year']]\n",
    "    .pivot_table(\n",
    "        index=['uid','gics_sector','country'],\n",
    "        columns='year',\n",
    "        values=['scope1_tonnes','scope2_tonnes']\n",
    "    )\n",
    ")\n",
    "\n",
    "# Flatten MultiIndex columns\n",
    "df_pr.columns = [f\"{scope}_{yr}\" for scope, yr in df_pr.columns]\n",
    "df_pr = df_pr.dropna()\n",
    "\n",
    "# Compute reductions\n",
    "df_pr['pct_red_1'] = (df_pr['scope1_tonnes_2025'] - df_pr['scope1_tonnes_2050']) / df_pr['scope1_tonnes_2025'] * 100\n",
    "df_pr['pct_red_2'] = (df_pr['scope2_tonnes_2025'] - df_pr['scope2_tonnes_2050']) / df_pr['scope2_tonnes_2025'] * 100\n",
    "\n",
    "# Reset for plotting\n",
    "df_pr = df_pr.reset_index()\n"
   ]
  },
  {
   "cell_type": "code",
   "execution_count": 275,
   "id": "ad333350",
   "metadata": {},
   "outputs": [],
   "source": [
    "# import seaborn as sns\n",
    "# import matplotlib.pyplot as plt\n",
    "\n",
    "# # A1. Mean % Reduction by Country: Scope 1\n",
    "# plt.figure(figsize=(10,4))\n",
    "# sns.barplot(\n",
    "#     data=df_pr, x='country', y='pct_red_1',\n",
    "#     estimator='mean', ci=None, order=df_pr.groupby('country')['pct_red_1'].mean().sort_values().index\n",
    "# )\n",
    "# plt.xticks(rotation=45, ha='right')\n",
    "# plt.title('Mean Scope 1 % Reduction by Country (2025→2050)')\n",
    "# plt.ylabel('% Reduction')\n",
    "# plt.xlabel('')\n",
    "# plt.tight_layout()\n",
    "# plt.show()\n",
    "\n",
    "# # A2. Mean % Reduction by Country: Scope 2\n",
    "# plt.figure(figsize=(10,4))\n",
    "# sns.barplot(\n",
    "#     data=df_pr, x='country', y='pct_red_2',\n",
    "#     estimator='mean', ci=None, order=df_pr.groupby('country')['pct_red_2'].mean().sort_values().index\n",
    "# )\n",
    "# plt.xticks(rotation=45, ha='right')\n",
    "# plt.title('Mean Scope 2 % Reduction by Country (2025→2050)')\n",
    "# plt.ylabel('% Reduction')\n",
    "# plt.xlabel('')\n",
    "# plt.tight_layout()\n",
    "# plt.show()\n"
   ]
  },
  {
   "cell_type": "code",
   "execution_count": 261,
   "id": "7b113707",
   "metadata": {},
   "outputs": [
    {
     "name": "stderr",
     "output_type": "stream",
     "text": [
      "/var/folders/lf/9_7wh6ps1354b6glt9mst87m0000gn/T/ipykernel_96109/1954284895.py:17: UserWarning:\n",
      "\n",
      "Glyph 8322 (\\N{SUBSCRIPT TWO}) missing from font(s) Arial.\n",
      "\n",
      "/opt/anaconda3/envs/sp_work/lib/python3.11/site-packages/IPython/core/pylabtools.py:170: UserWarning:\n",
      "\n",
      "Glyph 8322 (\\N{SUBSCRIPT TWO}) missing from font(s) Arial.\n",
      "\n"
     ]
    },
    {
     "data": {
      "image/png": "[encoded data removed]",
      "text/plain": [
       "<Figure size 1000x400 with 1 Axes>"
      ]
     },
     "metadata": {},
     "output_type": "display_data"
    },
    {
     "name": "stderr",
     "output_type": "stream",
     "text": [
      "/var/folders/lf/9_7wh6ps1354b6glt9mst87m0000gn/T/ipykernel_96109/1954284895.py:29: UserWarning:\n",
      "\n",
      "Glyph 8322 (\\N{SUBSCRIPT TWO}) missing from font(s) Arial.\n",
      "\n",
      "/opt/anaconda3/envs/sp_work/lib/python3.11/site-packages/IPython/core/pylabtools.py:170: UserWarning:\n",
      "\n",
      "Glyph 8322 (\\N{SUBSCRIPT TWO}) missing from font(s) Arial.\n",
      "\n"
     ]
    },
    {
     "data": {
      "image/png": "[encoded data removed]",
      "text/plain": [
       "<Figure size 1000x400 with 1 Axes>"
      ]
     },
     "metadata": {},
     "output_type": "display_data"
    }
   ],
   "source": [
    "country_trends = (\n",
    "    emissions_paths\n",
    "    .groupby(['country','year'])[['scope1_tonnes','scope2_tonnes']]\n",
    "    .mean()\n",
    "    .reset_index()\n",
    ")\n",
    "\n",
    "# B1. Scope 1 Trajectories\n",
    "plt.figure(figsize=(10,4))\n",
    "sns.lineplot(\n",
    "    data=country_trends, x='year', y='scope1_tonnes',\n",
    "    hue='country', marker='o'\n",
    ")\n",
    "plt.title('Avg Scope 1 Emissions by Country (2025–2050)')\n",
    "plt.ylabel('Emissions (tCO₂e)')\n",
    "plt.legend(bbox_to_anchor=(1.02,1), loc='upper left')\n",
    "plt.tight_layout()\n",
    "plt.show()\n",
    "\n",
    "# B2. Scope 2 Trajectories\n",
    "plt.figure(figsize=(10,4))\n",
    "sns.lineplot(\n",
    "    data=country_trends, x='year', y='scope2_tonnes',\n",
    "    hue='country', marker='o'\n",
    ")\n",
    "plt.title('Avg Scope 2 Emissions by Country (2025–2050)')\n",
    "plt.ylabel('Emissions (tCO₂e)')\n",
    "plt.legend(bbox_to_anchor=(1.02,1), loc='upper left')\n",
    "plt.tight_layout()\n",
    "plt.show()\n",
    "\n"
   ]
  },
  {
   "cell_type": "code",
   "execution_count": 66,
   "id": "18c2a066",
   "metadata": {},
   "outputs": [
    {
     "data": {
      "text/plain": [
       "array(['Scope 2', 'Scope 1', 'Scope 3', 'Direct', 'Scope 2 and other'],\n",
       "      dtype=object)"
      ]
     },
     "execution_count": 66,
     "metadata": {},
     "output_type": "execute_result"
    }
   ],
   "source": [
    "emissions_paths.type_of_target.unique()"
   ]
  },
  {
   "cell_type": "code",
   "execution_count": null,
   "id": "0e7abfe6",
   "metadata": {},
   "outputs": [
    {
     "data": {
      "text/html": [
       "<div>\n",
       "<style scoped>\n",
       "    .dataframe tbody tr th:only-of-type {\n",
       "        vertical-align: middle;\n",
       "    }\n",
       "\n",
       "    .dataframe tbody tr th {\n",
       "        vertical-align: top;\n",
       "    }\n",
       "\n",
       "    .dataframe thead th {\n",
       "        text-align: right;\n",
       "    }\n",
       "</style>\n",
       "<table border=\"1\" class=\"dataframe\">\n",
       "  <thead>\n",
       "    <tr style=\"text-align: right;\">\n",
       "      <th></th>\n",
       "      <th>uid</th>\n",
       "      <th>gics_sector</th>\n",
       "      <th>country</th>\n",
       "      <th>type_of_target_x</th>\n",
       "      <th>year</th>\n",
       "      <th>scope1_tonnes</th>\n",
       "      <th>scope2_tonnes</th>\n",
       "      <th>scenario</th>\n",
       "      <th>growth_rate</th>\n",
       "      <th>interpolation_method</th>\n",
       "      <th>type_of_target_y</th>\n",
       "      <th>reduction_target</th>\n",
       "      <th>comment</th>\n",
       "      <th>baseline_year</th>\n",
       "      <th>endline_year</th>\n",
       "      <th>reduction_value</th>\n",
       "      <th>reduction_type</th>\n",
       "      <th>reduction_unit</th>\n",
       "      <th>total_emissions</th>\n",
       "    </tr>\n",
       "  </thead>\n",
       "  <tbody>\n",
       "    <tr>\n",
       "      <th>0</th>\n",
       "      <td>C001</td>\n",
       "      <td>Real Estate</td>\n",
       "      <td>Global</td>\n",
       "      <td>Scope 2</td>\n",
       "      <td>2025</td>\n",
       "      <td>21510000</td>\n",
       "      <td>1070000</td>\n",
       "      <td>low</td>\n",
       "      <td>0.0</td>\n",
       "      <td>linear</td>\n",
       "      <td>Scope 2</td>\n",
       "      <td>0.547</td>\n",
       "      <td>NaN</td>\n",
       "      <td>2019</td>\n",
       "      <td>2050</td>\n",
       "      <td>0.547</td>\n",
       "      <td>absolute</td>\n",
       "      <td>%</td>\n",
       "      <td>22580000</td>\n",
       "    </tr>\n",
       "    <tr>\n",
       "      <th>1</th>\n",
       "      <td>C001</td>\n",
       "      <td>Real Estate</td>\n",
       "      <td>Global</td>\n",
       "      <td>Scope 2</td>\n",
       "      <td>2026</td>\n",
       "      <td>21510000</td>\n",
       "      <td>1046588</td>\n",
       "      <td>low</td>\n",
       "      <td>0.0</td>\n",
       "      <td>linear</td>\n",
       "      <td>Scope 2</td>\n",
       "      <td>0.547</td>\n",
       "      <td>NaN</td>\n",
       "      <td>2019</td>\n",
       "      <td>2050</td>\n",
       "      <td>0.547</td>\n",
       "      <td>absolute</td>\n",
       "      <td>%</td>\n",
       "      <td>22556588</td>\n",
       "    </tr>\n",
       "    <tr>\n",
       "      <th>2</th>\n",
       "      <td>C001</td>\n",
       "      <td>Real Estate</td>\n",
       "      <td>Global</td>\n",
       "      <td>Scope 2</td>\n",
       "      <td>2027</td>\n",
       "      <td>21510000</td>\n",
       "      <td>1023177</td>\n",
       "      <td>low</td>\n",
       "      <td>0.0</td>\n",
       "      <td>linear</td>\n",
       "      <td>Scope 2</td>\n",
       "      <td>0.547</td>\n",
       "      <td>NaN</td>\n",
       "      <td>2019</td>\n",
       "      <td>2050</td>\n",
       "      <td>0.547</td>\n",
       "      <td>absolute</td>\n",
       "      <td>%</td>\n",
       "      <td>22533177</td>\n",
       "    </tr>\n",
       "    <tr>\n",
       "      <th>3</th>\n",
       "      <td>C001</td>\n",
       "      <td>Real Estate</td>\n",
       "      <td>Global</td>\n",
       "      <td>Scope 2</td>\n",
       "      <td>2028</td>\n",
       "      <td>21510000</td>\n",
       "      <td>999765</td>\n",
       "      <td>low</td>\n",
       "      <td>0.0</td>\n",
       "      <td>linear</td>\n",
       "      <td>Scope 2</td>\n",
       "      <td>0.547</td>\n",
       "      <td>NaN</td>\n",
       "      <td>2019</td>\n",
       "      <td>2050</td>\n",
       "      <td>0.547</td>\n",
       "      <td>absolute</td>\n",
       "      <td>%</td>\n",
       "      <td>22509765</td>\n",
       "    </tr>\n",
       "    <tr>\n",
       "      <th>4</th>\n",
       "      <td>C001</td>\n",
       "      <td>Real Estate</td>\n",
       "      <td>Global</td>\n",
       "      <td>Scope 2</td>\n",
       "      <td>2029</td>\n",
       "      <td>21510000</td>\n",
       "      <td>976354</td>\n",
       "      <td>low</td>\n",
       "      <td>0.0</td>\n",
       "      <td>linear</td>\n",
       "      <td>Scope 2</td>\n",
       "      <td>0.547</td>\n",
       "      <td>NaN</td>\n",
       "      <td>2019</td>\n",
       "      <td>2050</td>\n",
       "      <td>0.547</td>\n",
       "      <td>absolute</td>\n",
       "      <td>%</td>\n",
       "      <td>22486354</td>\n",
       "    </tr>\n",
       "  </tbody>\n",
       "</table>\n",
       "</div>"
      ],
      "text/plain": [
       "    uid  gics_sector country type_of_target_x  year  scope1_tonnes  \\\n",
       "0  C001  Real Estate  Global          Scope 2  2025       21510000   \n",
       "1  C001  Real Estate  Global          Scope 2  2026       21510000   \n",
       "2  C001  Real Estate  Global          Scope 2  2027       21510000   \n",
       "3  C001  Real Estate  Global          Scope 2  2028       21510000   \n",
       "4  C001  Real Estate  Global          Scope 2  2029       21510000   \n",
       "\n",
       "   scope2_tonnes scenario  growth_rate interpolation_method type_of_target_y  \\\n",
       "0        1070000      low          0.0               linear          Scope 2   \n",
       "1        1046588      low          0.0               linear          Scope 2   \n",
       "2        1023177      low          0.0               linear          Scope 2   \n",
       "3         999765      low          0.0               linear          Scope 2   \n",
       "4         976354      low          0.0               linear          Scope 2   \n",
       "\n",
       "  reduction_target comment  baseline_year  endline_year  reduction_value  \\\n",
       "0            0.547     NaN           2019          2050            0.547   \n",
       "1            0.547     NaN           2019          2050            0.547   \n",
       "2            0.547     NaN           2019          2050            0.547   \n",
       "3            0.547     NaN           2019          2050            0.547   \n",
       "4            0.547     NaN           2019          2050            0.547   \n",
       "\n",
       "  reduction_type reduction_unit  total_emissions  \n",
       "0       absolute              %         22580000  \n",
       "1       absolute              %         22556588  \n",
       "2       absolute              %         22533177  \n",
       "3       absolute              %         22509765  \n",
       "4       absolute              %         22486354  "
      ]
     },
     "execution_count": 63,
     "metadata": {},
     "output_type": "execute_result"
    }
   ],
   "source": [
    "# data.head()"
   ]
  },
  {
   "cell_type": "code",
   "execution_count": null,
   "id": "6306a40e",
   "metadata": {},
   "outputs": [],
   "source": []
  },
  {
   "cell_type": "code",
   "execution_count": 59,
   "id": "bdee47db",
   "metadata": {},
   "outputs": [
    {
     "data": {
      "text/html": [
       "<div>\n",
       "<style scoped>\n",
       "    .dataframe tbody tr th:only-of-type {\n",
       "        vertical-align: middle;\n",
       "    }\n",
       "\n",
       "    .dataframe tbody tr th {\n",
       "        vertical-align: top;\n",
       "    }\n",
       "\n",
       "    .dataframe thead th {\n",
       "        text-align: right;\n",
       "    }\n",
       "</style>\n",
       "<table border=\"1\" class=\"dataframe\">\n",
       "  <thead>\n",
       "    <tr style=\"text-align: right;\">\n",
       "      <th></th>\n",
       "      <th>uid</th>\n",
       "      <th>gics_sector</th>\n",
       "      <th>country</th>\n",
       "      <th>type_of_target</th>\n",
       "      <th>year</th>\n",
       "      <th>scope1_tonnes</th>\n",
       "      <th>scope2_tonnes</th>\n",
       "      <th>scenario</th>\n",
       "      <th>growth_rate</th>\n",
       "      <th>interpolation_method</th>\n",
       "    </tr>\n",
       "  </thead>\n",
       "  <tbody>\n",
       "    <tr>\n",
       "      <th>0</th>\n",
       "      <td>C001</td>\n",
       "      <td>Real Estate</td>\n",
       "      <td>Global</td>\n",
       "      <td>Scope 2</td>\n",
       "      <td>2025</td>\n",
       "      <td>21510000</td>\n",
       "      <td>1070000</td>\n",
       "      <td>low</td>\n",
       "      <td>0.0</td>\n",
       "      <td>linear</td>\n",
       "    </tr>\n",
       "    <tr>\n",
       "      <th>1</th>\n",
       "      <td>C001</td>\n",
       "      <td>Real Estate</td>\n",
       "      <td>Global</td>\n",
       "      <td>Scope 2</td>\n",
       "      <td>2026</td>\n",
       "      <td>21510000</td>\n",
       "      <td>1046588</td>\n",
       "      <td>low</td>\n",
       "      <td>0.0</td>\n",
       "      <td>linear</td>\n",
       "    </tr>\n",
       "    <tr>\n",
       "      <th>2</th>\n",
       "      <td>C001</td>\n",
       "      <td>Real Estate</td>\n",
       "      <td>Global</td>\n",
       "      <td>Scope 2</td>\n",
       "      <td>2027</td>\n",
       "      <td>21510000</td>\n",
       "      <td>1023177</td>\n",
       "      <td>low</td>\n",
       "      <td>0.0</td>\n",
       "      <td>linear</td>\n",
       "    </tr>\n",
       "    <tr>\n",
       "      <th>3</th>\n",
       "      <td>C001</td>\n",
       "      <td>Real Estate</td>\n",
       "      <td>Global</td>\n",
       "      <td>Scope 2</td>\n",
       "      <td>2028</td>\n",
       "      <td>21510000</td>\n",
       "      <td>999765</td>\n",
       "      <td>low</td>\n",
       "      <td>0.0</td>\n",
       "      <td>linear</td>\n",
       "    </tr>\n",
       "    <tr>\n",
       "      <th>4</th>\n",
       "      <td>C001</td>\n",
       "      <td>Real Estate</td>\n",
       "      <td>Global</td>\n",
       "      <td>Scope 2</td>\n",
       "      <td>2029</td>\n",
       "      <td>21510000</td>\n",
       "      <td>976354</td>\n",
       "      <td>low</td>\n",
       "      <td>0.0</td>\n",
       "      <td>linear</td>\n",
       "    </tr>\n",
       "  </tbody>\n",
       "</table>\n",
       "</div>"
      ],
      "text/plain": [
       "    uid  gics_sector country type_of_target  year  scope1_tonnes  \\\n",
       "0  C001  Real Estate  Global        Scope 2  2025       21510000   \n",
       "1  C001  Real Estate  Global        Scope 2  2026       21510000   \n",
       "2  C001  Real Estate  Global        Scope 2  2027       21510000   \n",
       "3  C001  Real Estate  Global        Scope 2  2028       21510000   \n",
       "4  C001  Real Estate  Global        Scope 2  2029       21510000   \n",
       "\n",
       "   scope2_tonnes scenario  growth_rate interpolation_method  \n",
       "0        1070000      low          0.0               linear  \n",
       "1        1046588      low          0.0               linear  \n",
       "2        1023177      low          0.0               linear  \n",
       "3         999765      low          0.0               linear  \n",
       "4         976354      low          0.0               linear  "
      ]
     },
     "execution_count": 59,
     "metadata": {},
     "output_type": "execute_result"
    }
   ],
   "source": [
    "emissions_paths.head()"
   ]
  },
  {
   "cell_type": "code",
   "execution_count": 61,
   "id": "502d4cd0",
   "metadata": {},
   "outputs": [
    {
     "data": {
      "text/plain": [
       "array(['C001', 'C002', 'C003', 'C004', 'C005', 'C006', 'C008', 'C009',\n",
       "       'C010', 'C011', 'C012', 'C013', 'C014', 'C015', 'C016', 'C017',\n",
       "       'C018', 'C019', 'C020', 'C021', 'C022', 'C023', 'C024', 'C025',\n",
       "       'C027', 'C028', 'C029', 'C030', 'C031', 'C032', 'C033', 'C034',\n",
       "       'C035', 'C036', 'C037', 'C038', 'C039', 'C040', 'C041', 'C042',\n",
       "       'C043', 'C044', 'C045', 'C046', 'C047', 'C048', 'C049', 'C050'],\n",
       "      dtype=object)"
      ]
     },
     "execution_count": 61,
     "metadata": {},
     "output_type": "execute_result"
    }
   ],
   "source": [
    "emissions_paths.uid.unique()"
   ]
  },
  {
   "cell_type": "code",
   "execution_count": 28,
   "id": "64eb7a3e",
   "metadata": {},
   "outputs": [],
   "source": [
    "df_merged.to_csv(\"emissions_targets.csv\", index=False)"
   ]
  },
  {
   "cell_type": "code",
   "execution_count": null,
   "id": "53e5fa1d",
   "metadata": {},
   "outputs": [],
   "source": []
  },
  {
   "cell_type": "markdown",
   "id": "0634b7c4",
   "metadata": {},
   "source": [
    "Estimate Carbon pricing"
   ]
  },
  {
   "cell_type": "code",
   "execution_count": null,
   "id": "9d55d4de",
   "metadata": {},
   "outputs": [],
   "source": [
    "# Check for negative or zero values in the 'carbon_price_usd_tco2e' column\n",
    "negative_prices = df_carbon_prices['carbon_price_usd_tco2e'] <= 0\n",
    "print(negative_prices)  # Returns a boolean Series\n",
    "print(negative_prices.any())  # Returns True if any value is <= 0\n",
    "print(df_carbon_prices[negative_prices])"
   ]
  },
  {
   "cell_type": "code",
   "execution_count": 279,
   "id": "d428272d",
   "metadata": {},
   "outputs": [
    {
     "data": {
      "text/html": [
       "<div>\n",
       "<style scoped>\n",
       "    .dataframe tbody tr th:only-of-type {\n",
       "        vertical-align: middle;\n",
       "    }\n",
       "\n",
       "    .dataframe tbody tr th {\n",
       "        vertical-align: top;\n",
       "    }\n",
       "\n",
       "    .dataframe thead th {\n",
       "        text-align: right;\n",
       "    }\n",
       "</style>\n",
       "<table border=\"1\" class=\"dataframe\">\n",
       "  <thead>\n",
       "    <tr style=\"text-align: right;\">\n",
       "      <th></th>\n",
       "      <th>sector</th>\n",
       "      <th>region</th>\n",
       "      <th>year</th>\n",
       "      <th>scenario</th>\n",
       "      <th>carbon_price_usd_tco2e</th>\n",
       "    </tr>\n",
       "  </thead>\n",
       "  <tbody>\n",
       "    <tr>\n",
       "      <th>0</th>\n",
       "      <td>Energy</td>\n",
       "      <td>USA</td>\n",
       "      <td>2025</td>\n",
       "      <td>Low Risk</td>\n",
       "      <td>58.07</td>\n",
       "    </tr>\n",
       "    <tr>\n",
       "      <th>1</th>\n",
       "      <td>Energy</td>\n",
       "      <td>USA</td>\n",
       "      <td>2027</td>\n",
       "      <td>Low Risk</td>\n",
       "      <td>57.92</td>\n",
       "    </tr>\n",
       "    <tr>\n",
       "      <th>2</th>\n",
       "      <td>Energy</td>\n",
       "      <td>USA</td>\n",
       "      <td>2030</td>\n",
       "      <td>Low Risk</td>\n",
       "      <td>59.77</td>\n",
       "    </tr>\n",
       "    <tr>\n",
       "      <th>3</th>\n",
       "      <td>Energy</td>\n",
       "      <td>USA</td>\n",
       "      <td>2025</td>\n",
       "      <td>Medium Risk</td>\n",
       "      <td>55.26</td>\n",
       "    </tr>\n",
       "    <tr>\n",
       "      <th>4</th>\n",
       "      <td>Energy</td>\n",
       "      <td>USA</td>\n",
       "      <td>2027</td>\n",
       "      <td>Medium Risk</td>\n",
       "      <td>65.63</td>\n",
       "    </tr>\n",
       "  </tbody>\n",
       "</table>\n",
       "</div>"
      ],
      "text/plain": [
       "   sector region  year     scenario  carbon_price_usd_tco2e\n",
       "0  Energy    USA  2025     Low Risk                   58.07\n",
       "1  Energy    USA  2027     Low Risk                   57.92\n",
       "2  Energy    USA  2030     Low Risk                   59.77\n",
       "3  Energy    USA  2025  Medium Risk                   55.26\n",
       "4  Energy    USA  2027  Medium Risk                   65.63"
      ]
     },
     "execution_count": 279,
     "metadata": {},
     "output_type": "execute_result"
    }
   ],
   "source": [
    "df_carbon_prices.head(5)"
   ]
  },
  {
   "cell_type": "code",
   "execution_count": 280,
   "id": "4547c8fb",
   "metadata": {},
   "outputs": [
    {
     "data": {
      "text/html": [
       "<div>\n",
       "<style scoped>\n",
       "    .dataframe tbody tr th:only-of-type {\n",
       "        vertical-align: middle;\n",
       "    }\n",
       "\n",
       "    .dataframe tbody tr th {\n",
       "        vertical-align: top;\n",
       "    }\n",
       "\n",
       "    .dataframe thead th {\n",
       "        text-align: right;\n",
       "    }\n",
       "</style>\n",
       "<table border=\"1\" class=\"dataframe\">\n",
       "  <thead>\n",
       "    <tr style=\"text-align: right;\">\n",
       "      <th></th>\n",
       "      <th>sector</th>\n",
       "      <th>region</th>\n",
       "      <th>year</th>\n",
       "      <th>scenario</th>\n",
       "      <th>carbon_price_usd_tco2e</th>\n",
       "    </tr>\n",
       "  </thead>\n",
       "  <tbody>\n",
       "    <tr>\n",
       "      <th>220</th>\n",
       "      <td>Consumer Discretionary</td>\n",
       "      <td>Global</td>\n",
       "      <td>2027</td>\n",
       "      <td>Medium Risk</td>\n",
       "      <td>30.95</td>\n",
       "    </tr>\n",
       "    <tr>\n",
       "      <th>221</th>\n",
       "      <td>Consumer Discretionary</td>\n",
       "      <td>Global</td>\n",
       "      <td>2030</td>\n",
       "      <td>Medium Risk</td>\n",
       "      <td>37.49</td>\n",
       "    </tr>\n",
       "    <tr>\n",
       "      <th>222</th>\n",
       "      <td>Consumer Discretionary</td>\n",
       "      <td>Global</td>\n",
       "      <td>2025</td>\n",
       "      <td>High Risk</td>\n",
       "      <td>26.28</td>\n",
       "    </tr>\n",
       "    <tr>\n",
       "      <th>223</th>\n",
       "      <td>Consumer Discretionary</td>\n",
       "      <td>Global</td>\n",
       "      <td>2027</td>\n",
       "      <td>High Risk</td>\n",
       "      <td>39.87</td>\n",
       "    </tr>\n",
       "    <tr>\n",
       "      <th>224</th>\n",
       "      <td>Consumer Discretionary</td>\n",
       "      <td>Global</td>\n",
       "      <td>2030</td>\n",
       "      <td>High Risk</td>\n",
       "      <td>49.70</td>\n",
       "    </tr>\n",
       "  </tbody>\n",
       "</table>\n",
       "</div>"
      ],
      "text/plain": [
       "                     sector  region  year     scenario  carbon_price_usd_tco2e\n",
       "220  Consumer Discretionary  Global  2027  Medium Risk                   30.95\n",
       "221  Consumer Discretionary  Global  2030  Medium Risk                   37.49\n",
       "222  Consumer Discretionary  Global  2025    High Risk                   26.28\n",
       "223  Consumer Discretionary  Global  2027    High Risk                   39.87\n",
       "224  Consumer Discretionary  Global  2030    High Risk                   49.70"
      ]
     },
     "execution_count": 280,
     "metadata": {},
     "output_type": "execute_result"
    }
   ],
   "source": [
    "df_carbon_prices.tail()"
   ]
  },
  {
   "cell_type": "code",
   "execution_count": 277,
   "id": "84ebdcb3",
   "metadata": {},
   "outputs": [],
   "source": [
    "# ngf5_eu_carbon_prices"
   ]
  },
  {
   "cell_type": "code",
   "execution_count": 140,
   "id": "4c6d58aa",
   "metadata": {},
   "outputs": [],
   "source": [
    "ngf5_global_carbon_prices = pd.read_csv(\"/Users/tarunluthra/Documents/SPglobal/ngfs_global_snapshot_1750868451.csv\")"
   ]
  },
  {
   "cell_type": "code",
   "execution_count": 141,
   "id": "bdf71b15",
   "metadata": {},
   "outputs": [
    {
     "data": {
      "text/html": [
       "<div>\n",
       "<style scoped>\n",
       "    .dataframe tbody tr th:only-of-type {\n",
       "        vertical-align: middle;\n",
       "    }\n",
       "\n",
       "    .dataframe tbody tr th {\n",
       "        vertical-align: top;\n",
       "    }\n",
       "\n",
       "    .dataframe thead th {\n",
       "        text-align: right;\n",
       "    }\n",
       "</style>\n",
       "<table border=\"1\" class=\"dataframe\">\n",
       "  <thead>\n",
       "    <tr style=\"text-align: right;\">\n",
       "      <th></th>\n",
       "      <th>Model</th>\n",
       "      <th>Scenario</th>\n",
       "      <th>Region</th>\n",
       "      <th>Variable</th>\n",
       "      <th>Unit</th>\n",
       "      <th>2020</th>\n",
       "      <th>2025</th>\n",
       "      <th>2030</th>\n",
       "      <th>2035</th>\n",
       "      <th>2040</th>\n",
       "      <th>2045</th>\n",
       "      <th>2050</th>\n",
       "      <th>2055</th>\n",
       "      <th>2060</th>\n",
       "      <th>2070</th>\n",
       "      <th>2080</th>\n",
       "      <th>2090</th>\n",
       "      <th>2100</th>\n",
       "    </tr>\n",
       "  </thead>\n",
       "  <tbody>\n",
       "    <tr>\n",
       "      <th>0</th>\n",
       "      <td>MESSAGEix-GLOBIOM 2.0-M-R12-NGFS</td>\n",
       "      <td>Below 2?C</td>\n",
       "      <td>World</td>\n",
       "      <td>Price|Carbon</td>\n",
       "      <td>US$2010/t CO2</td>\n",
       "      <td>0.0</td>\n",
       "      <td>0.0</td>\n",
       "      <td>49.932541</td>\n",
       "      <td>54.812040</td>\n",
       "      <td>66.416543</td>\n",
       "      <td>88.090790</td>\n",
       "      <td>111.985720</td>\n",
       "      <td>128.574041</td>\n",
       "      <td>155.968481</td>\n",
       "      <td>251.739652</td>\n",
       "      <td>387.443060</td>\n",
       "      <td>279.666512</td>\n",
       "      <td>260.054474</td>\n",
       "    </tr>\n",
       "    <tr>\n",
       "      <th>1</th>\n",
       "      <td>MESSAGEix-GLOBIOM 2.0-M-R12-NGFS</td>\n",
       "      <td>Current Policies</td>\n",
       "      <td>World</td>\n",
       "      <td>Price|Carbon</td>\n",
       "      <td>US$2010/t CO2</td>\n",
       "      <td>0.0</td>\n",
       "      <td>0.0</td>\n",
       "      <td>2.375986</td>\n",
       "      <td>2.736761</td>\n",
       "      <td>3.114615</td>\n",
       "      <td>3.518626</td>\n",
       "      <td>3.929533</td>\n",
       "      <td>4.335628</td>\n",
       "      <td>4.731550</td>\n",
       "      <td>5.521350</td>\n",
       "      <td>6.235536</td>\n",
       "      <td>6.898318</td>\n",
       "      <td>7.552773</td>\n",
       "    </tr>\n",
       "    <tr>\n",
       "      <th>2</th>\n",
       "      <td>MESSAGEix-GLOBIOM 2.0-M-R12-NGFS</td>\n",
       "      <td>Delayed transition</td>\n",
       "      <td>World</td>\n",
       "      <td>Price|Carbon</td>\n",
       "      <td>US$2010/t CO2</td>\n",
       "      <td>0.0</td>\n",
       "      <td>0.0</td>\n",
       "      <td>2.375986</td>\n",
       "      <td>50.876467</td>\n",
       "      <td>75.862313</td>\n",
       "      <td>85.518030</td>\n",
       "      <td>110.633704</td>\n",
       "      <td>137.419815</td>\n",
       "      <td>164.296311</td>\n",
       "      <td>248.082436</td>\n",
       "      <td>387.531726</td>\n",
       "      <td>296.537709</td>\n",
       "      <td>252.706153</td>\n",
       "    </tr>\n",
       "    <tr>\n",
       "      <th>3</th>\n",
       "      <td>MESSAGEix-GLOBIOM 2.0-M-R12-NGFS</td>\n",
       "      <td>Fragmented World</td>\n",
       "      <td>World</td>\n",
       "      <td>Price|Carbon</td>\n",
       "      <td>US$2010/t CO2</td>\n",
       "      <td>0.0</td>\n",
       "      <td>0.0</td>\n",
       "      <td>2.375986</td>\n",
       "      <td>13.829744</td>\n",
       "      <td>14.472360</td>\n",
       "      <td>19.222453</td>\n",
       "      <td>63.986743</td>\n",
       "      <td>41.070881</td>\n",
       "      <td>138.360254</td>\n",
       "      <td>81.700710</td>\n",
       "      <td>166.250012</td>\n",
       "      <td>74.643204</td>\n",
       "      <td>84.064246</td>\n",
       "    </tr>\n",
       "    <tr>\n",
       "      <th>4</th>\n",
       "      <td>MESSAGEix-GLOBIOM 2.0-M-R12-NGFS</td>\n",
       "      <td>Low demand</td>\n",
       "      <td>World</td>\n",
       "      <td>Price|Carbon</td>\n",
       "      <td>US$2010/t CO2</td>\n",
       "      <td>0.0</td>\n",
       "      <td>0.0</td>\n",
       "      <td>98.249605</td>\n",
       "      <td>127.377459</td>\n",
       "      <td>170.076352</td>\n",
       "      <td>198.587790</td>\n",
       "      <td>243.030407</td>\n",
       "      <td>287.877443</td>\n",
       "      <td>371.403401</td>\n",
       "      <td>386.485124</td>\n",
       "      <td>423.070052</td>\n",
       "      <td>129.495958</td>\n",
       "      <td>140.417237</td>\n",
       "    </tr>\n",
       "  </tbody>\n",
       "</table>\n",
       "</div>"
      ],
      "text/plain": [
       "                              Model            Scenario Region      Variable  \\\n",
       "0  MESSAGEix-GLOBIOM 2.0-M-R12-NGFS           Below 2?C  World  Price|Carbon   \n",
       "1  MESSAGEix-GLOBIOM 2.0-M-R12-NGFS    Current Policies  World  Price|Carbon   \n",
       "2  MESSAGEix-GLOBIOM 2.0-M-R12-NGFS  Delayed transition  World  Price|Carbon   \n",
       "3  MESSAGEix-GLOBIOM 2.0-M-R12-NGFS    Fragmented World  World  Price|Carbon   \n",
       "4  MESSAGEix-GLOBIOM 2.0-M-R12-NGFS          Low demand  World  Price|Carbon   \n",
       "\n",
       "            Unit  2020  2025       2030        2035        2040        2045  \\\n",
       "0  US$2010/t CO2   0.0   0.0  49.932541   54.812040   66.416543   88.090790   \n",
       "1  US$2010/t CO2   0.0   0.0   2.375986    2.736761    3.114615    3.518626   \n",
       "2  US$2010/t CO2   0.0   0.0   2.375986   50.876467   75.862313   85.518030   \n",
       "3  US$2010/t CO2   0.0   0.0   2.375986   13.829744   14.472360   19.222453   \n",
       "4  US$2010/t CO2   0.0   0.0  98.249605  127.377459  170.076352  198.587790   \n",
       "\n",
       "         2050        2055        2060        2070        2080        2090  \\\n",
       "0  111.985720  128.574041  155.968481  251.739652  387.443060  279.666512   \n",
       "1    3.929533    4.335628    4.731550    5.521350    6.235536    6.898318   \n",
       "2  110.633704  137.419815  164.296311  248.082436  387.531726  296.537709   \n",
       "3   63.986743   41.070881  138.360254   81.700710  166.250012   74.643204   \n",
       "4  243.030407  287.877443  371.403401  386.485124  423.070052  129.495958   \n",
       "\n",
       "         2100  \n",
       "0  260.054474  \n",
       "1    7.552773  \n",
       "2  252.706153  \n",
       "3   84.064246  \n",
       "4  140.417237  "
      ]
     },
     "execution_count": 141,
     "metadata": {},
     "output_type": "execute_result"
    }
   ],
   "source": [
    "ngf5_global_carbon_prices.head()"
   ]
  },
  {
   "cell_type": "code",
   "execution_count": null,
   "id": "d2093b12",
   "metadata": {},
   "outputs": [],
   "source": [
    "ngf5_eu_carbon_prices = pd.read_csv(\"/Users/tarunluthra/Documents/SPglobal/ngfs_snapshot_1750868525.csv\")"
   ]
  },
  {
   "cell_type": "code",
   "execution_count": null,
   "id": "d7d43e99",
   "metadata": {},
   "outputs": [
    {
     "data": {
      "text/plain": [
       "array(['Below 2?C', 'Current Policies', 'Delayed transition',\n",
       "       'Fragmented World', 'Low demand',\n",
       "       'Nationally Determined Contributions (NDCs)', 'Net Zero 2050', nan],\n",
       "      dtype=object)"
      ]
     },
     "execution_count": 146,
     "metadata": {},
     "output_type": "execute_result"
    }
   ],
   "source": [
    "# ngf5_eu_carbon_prices.Scenario.unique()"
   ]
  },
  {
   "cell_type": "markdown",
   "id": "23dbc6ef",
   "metadata": {},
   "source": [
    "NGF5 and CAGR model for carbon pricing for different scenarios"
   ]
  },
  {
   "cell_type": "code",
   "execution_count": null,
   "id": "c73eb900",
   "metadata": {},
   "outputs": [],
   "source": []
  },
  {
   "cell_type": "code",
   "execution_count": 285,
   "id": "a840f49d",
   "metadata": {},
   "outputs": [
    {
     "name": "stderr",
     "output_type": "stream",
     "text": [
      "/var/folders/lf/9_7wh6ps1354b6glt9mst87m0000gn/T/ipykernel_96109/1836977606.py:19: FutureWarning:\n",
      "\n",
      "DataFrameGroupBy.apply operated on the grouping columns. This behavior is deprecated, and in a future version of pandas the grouping columns will be excluded from the operation. Either pass `include_groups=False` to exclude the groupings or explicitly select the grouping columns after groupby to silence this warning.\n",
      "\n"
     ]
    }
   ],
   "source": [
    "\n",
    "\n",
    "def project_carbon_price(group):\n",
    "    # Fill missing values within the group\n",
    "    group['carbon_price_usd_tco2e_filled'] = group['carbon_price_usd_tco2e'].fillna(group['carbon_price_usd_tco2e'].median())\n",
    "    # Drop any remaining NaNs (though unlikely after filling unless all values were NaN)\n",
    "    group_filled = group.dropna(subset=['carbon_price_usd_tco2e_filled'])\n",
    "    if len(group_filled) >= 2:  # Need at least 2 points for regression\n",
    "        X = group_filled['year'].values.reshape(-1, 1)\n",
    "        y = group_filled['carbon_price_usd_tco2e_filled'].values\n",
    "        model = LinearRegression()\n",
    "        model.fit(X, y)\n",
    "        years = np.arange(2025, 2051)\n",
    "        predictions = model.predict(years.reshape(-1, 1))\n",
    "        return pd.DataFrame({'year': years, 'carbon_price_usd_tco2e': predictions})\n",
    "    else:\n",
    "        years = np.arange(2025, 2051)\n",
    "        return pd.DataFrame({'year': years, 'carbon_price_usd_tco2e': [np.nan] * len(years)})\n",
    "\n",
    "# Apply the projection\n",
    "carbon_prices_full = df_carbon_prices.groupby(['sector', 'region', 'scenario']).apply(project_carbon_price).reset_index()\n",
    "carbon_prices_full = carbon_prices_full.sort_values(by=['sector', 'region', 'scenario', 'year'])\n",
    "# print(carbon_prices_full.head())\n",
    "\n",
    "# export the projected carbon prices to a CSV file\n",
    "carbon_prices_full.to_csv(\"projected_carbon_prices.csv\", index=False)\n",
    "\n",
    "\n",
    "\n",
    "\n",
    "\n",
    "def calculate_carbon_costs(emissions_paths, carbon_prices_full):\n",
    "    carbon_costs = []\n",
    "    for uid in emissions_paths['uid'].unique():\n",
    "        company = df_emissions[df_emissions['uid'] == uid]\n",
    "        if company.empty:\n",
    "            continue\n",
    "        sector, region = company['gics_sector'].iloc[0], company['country'].iloc[0]\n",
    "        prices = carbon_prices_full[\n",
    "            (carbon_prices_full['sector'] == sector) &\n",
    "            (carbon_prices_full['region'] == region)\n",
    "        ]\n",
    "        if prices.empty:\n",
    "            prices = carbon_prices_full[\n",
    "                (carbon_prices_full['sector'] == sector) &\n",
    "                (carbon_prices_full['region'] == 'Global')\n",
    "            ]\n",
    "        for year in range(2025, 2051):\n",
    "            em = emissions_paths[\n",
    "                (emissions_paths['uid'] == uid) &\n",
    "                (emissions_paths['year'] == year)\n",
    "            ]\n",
    "            if em.empty:\n",
    "                continue\n",
    "            total_em = em['scope1_tonnes'].iloc[0] + em['scope2_tonnes'].iloc[0]\n",
    "            for scenario in ['Low Risk', 'Medium Risk', 'High Risk']:\n",
    "                price_row = prices[\n",
    "                    (prices['year'] == year) &\n",
    "                    (prices['scenario'] == scenario)\n",
    "                ]\n",
    "                if price_row.empty:\n",
    "                    continue\n",
    "                price = price_row['carbon_price_usd_tco2e'].iloc[0]\n",
    "                carbon_costs.append({\n",
    "                    'uid': uid,\n",
    "                    'year': year,\n",
    "                    'scenario': scenario,\n",
    "                    # preserve two decimal places\n",
    "                    'carbon_cost_usd': round(total_em * price, 2)\n",
    "                })\n",
    "    return pd.DataFrame(carbon_costs)\n",
    "\n",
    "carbon_costs = calculate_carbon_costs(emissions_paths, carbon_prices_full)\n"
   ]
  },
  {
   "cell_type": "code",
   "execution_count": null,
   "id": "d8241f79",
   "metadata": {},
   "outputs": [],
   "source": [
    "#export the carbon costs to a CSV file\n",
    "carbon_costs.to_csv(\"carbon_costs.csv\", index=False)"
   ]
  },
  {
   "cell_type": "code",
   "execution_count": null,
   "id": "0ca6c321",
   "metadata": {},
   "outputs": [],
   "source": []
  },
  {
   "cell_type": "code",
   "execution_count": 107,
   "id": "345c0584",
   "metadata": {},
   "outputs": [
    {
     "data": {
      "text/plain": [
       "array(['High Risk', 'Low Risk', 'Medium Risk'], dtype=object)"
      ]
     },
     "execution_count": 107,
     "metadata": {},
     "output_type": "execute_result"
    }
   ],
   "source": [
    "carbon_prices_energy_global.scenario.unique()"
   ]
  },
  {
   "cell_type": "code",
   "execution_count": null,
   "id": "5ff9e300",
   "metadata": {},
   "outputs": [],
   "source": []
  },
  {
   "cell_type": "markdown",
   "id": "3dfd85ad",
   "metadata": {},
   "source": [
    "Plotting Carbon pricing trend"
   ]
  },
  {
   "cell_type": "code",
   "execution_count": null,
   "id": "541132f3",
   "metadata": {},
   "outputs": [
    {
     "data": {
      "application/vnd.plotly.v1+json": {
       "config": {
        "plotlyServerURL": "https://plot.ly"
       },
       "data": [
        {
         "customdata": [
          [
           "Consumer Discretionary",
           "High Risk"
          ],
          [
           "Consumer Discretionary",
           "High Risk"
          ],
          [
           "Consumer Discretionary",
           "High Risk"
          ],
          [
           "Consumer Discretionary",
           "High Risk"
          ],
          [
           "Consumer Discretionary",
           "High Risk"
          ],
          [
           "Consumer Discretionary",
           "High Risk"
          ],
          [
           "Consumer Discretionary",
           "High Risk"
          ],
          [
           "Consumer Discretionary",
           "High Risk"
          ],
          [
           "Consumer Discretionary",
           "High Risk"
          ],
          [
           "Consumer Discretionary",
           "High Risk"
          ],
          [
           "Consumer Discretionary",
           "High Risk"
          ],
          [
           "Consumer Discretionary",
           "High Risk"
          ],
          [
           "Consumer Discretionary",
           "High Risk"
          ],
          [
           "Consumer Discretionary",
           "High Risk"
          ],
          [
           "Consumer Discretionary",
           "High Risk"
          ],
          [
           "Consumer Discretionary",
           "High Risk"
          ],
          [
           "Consumer Discretionary",
           "High Risk"
          ],
          [
           "Consumer Discretionary",
           "High Risk"
          ],
          [
           "Consumer Discretionary",
           "High Risk"
          ],
          [
           "Consumer Discretionary",
           "High Risk"
          ],
          [
           "Consumer Discretionary",
           "High Risk"
          ],
          [
           "Consumer Discretionary",
           "High Risk"
          ],
          [
           "Consumer Discretionary",
           "High Risk"
          ],
          [
           "Consumer Discretionary",
           "High Risk"
          ],
          [
           "Consumer Discretionary",
           "High Risk"
          ],
          [
           "Consumer Discretionary",
           "High Risk"
          ]
         ],
         "hovertemplate": "scenario=%{customdata[1]}<br>sector=%{customdata[0]}<br>year=%{x}<br>carbon_price_usd_tco2e=%{y}<extra></extra>",
         "legendgroup": "High Risk, Consumer Discretionary",
         "line": {
          "color": "#636efa",
          "dash": "solid",
          "width": 1
         },
         "marker": {
          "size": 6,
          "symbol": "circle"
         },
         "mode": "lines+markers",
         "name": "High Risk, Consumer Discretionary",
         "orientation": "v",
         "showlegend": true,
         "type": "scatter",
         "x": {
          "bdata": "6QfqB+sH7AftB+4H7wfwB/EH8gfzB/QH9Qf2B/cH+Af5B/oH+wf8B/0H/gf/BwAIAQgCCA==",
          "dtype": "i2"
         },
         "xaxis": "x",
         "y": {
          "bdata": "AL46qTKOX0AAMtlXJ3ViQAAFFVs1I2VAANdQXkPRZ0AAqoxhUX9qQAB9yGRfLW1AAFAEaG3bb0AAEaC1vURxQID6PbfEm3JAAOTbuMvyc0CAzXm60kl1QIC2F7zZoHZAAKC1veD3d0CAiVO/5055QIBy8cDupXpAAFyPwvX8e0CARS3E/FN9QAAvy8UDq35AAIy0YwUBgEDAgIPkiKyAQIB1UmUMWIFAQGoh5o8DgkDAXvBmE6+CQIBTv+eWWoNAQEiOaBoGhEDAPF3pnbGEQA==",
          "dtype": "f8"
         },
         "yaxis": "y"
        },
        {
         "customdata": [
          [
           "Energy",
           "High Risk"
          ],
          [
           "Energy",
           "High Risk"
          ],
          [
           "Energy",
           "High Risk"
          ],
          [
           "Energy",
           "High Risk"
          ],
          [
           "Energy",
           "High Risk"
          ],
          [
           "Energy",
           "High Risk"
          ],
          [
           "Energy",
           "High Risk"
          ],
          [
           "Energy",
           "High Risk"
          ],
          [
           "Energy",
           "High Risk"
          ],
          [
           "Energy",
           "High Risk"
          ],
          [
           "Energy",
           "High Risk"
          ],
          [
           "Energy",
           "High Risk"
          ],
          [
           "Energy",
           "High Risk"
          ],
          [
           "Energy",
           "High Risk"
          ],
          [
           "Energy",
           "High Risk"
          ],
          [
           "Energy",
           "High Risk"
          ],
          [
           "Energy",
           "High Risk"
          ],
          [
           "Energy",
           "High Risk"
          ],
          [
           "Energy",
           "High Risk"
          ],
          [
           "Energy",
           "High Risk"
          ],
          [
           "Energy",
           "High Risk"
          ],
          [
           "Energy",
           "High Risk"
          ],
          [
           "Energy",
           "High Risk"
          ],
          [
           "Energy",
           "High Risk"
          ],
          [
           "Energy",
           "High Risk"
          ],
          [
           "Energy",
           "High Risk"
          ]
         ],
         "hovertemplate": "scenario=%{customdata[1]}<br>sector=%{customdata[0]}<br>year=%{x}<br>carbon_price_usd_tco2e=%{y}<extra></extra>",
         "legendgroup": "High Risk, Energy",
         "line": {
          "color": "#636efa",
          "dash": "dot",
          "width": 1
         },
         "marker": {
          "size": 6,
          "symbol": "circle"
         },
         "mode": "lines+markers",
         "name": "High Risk, Energy",
         "orientation": "v",
         "showlegend": true,
         "type": "scatter",
         "x": {
          "bdata": "6QfqB+sH7AftB+4H7wfwB/EH8gfzB/QH9Qf2B/cH+Af5B/oH+wf8B/0H/gf/BwAIAQgCCA==",
          "dtype": "i2"
         },
         "xaxis": "x",
         "y": {
          "bdata": "APz5+fmZRUAANJoAZ21SQABqNwTRDVpAAFHqgx3XYEAA7LiFUqdkQACIh4eHd2hAACNWibxHbEAAX5LF+AtwQACteUYT9HFAgPpgxy3cc0CASEhISMR1QACWL8lirHdAAOQWSn2UeUCAMf7Kl3x7QAB/5UuyZH1AAM3MzMxMf0BADdqmc5qAQEC0TeeAjoFAAFvBJ46CgkDAATVom3aDQMCoqKioaoRAgE8c6bVehUCA9o8pw1KGQECdA2rQRodAAER3qt06iEAA6+rq6i6JQA==",
          "dtype": "f8"
         },
         "yaxis": "y"
        },
        {
         "customdata": [
          [
           "Industrials",
           "High Risk"
          ],
          [
           "Industrials",
           "High Risk"
          ],
          [
           "Industrials",
           "High Risk"
          ],
          [
           "Industrials",
           "High Risk"
          ],
          [
           "Industrials",
           "High Risk"
          ],
          [
           "Industrials",
           "High Risk"
          ],
          [
           "Industrials",
           "High Risk"
          ],
          [
           "Industrials",
           "High Risk"
          ],
          [
           "Industrials",
           "High Risk"
          ],
          [
           "Industrials",
           "High Risk"
          ],
          [
           "Industrials",
           "High Risk"
          ],
          [
           "Industrials",
           "High Risk"
          ],
          [
           "Industrials",
           "High Risk"
          ],
          [
           "Industrials",
           "High Risk"
          ],
          [
           "Industrials",
           "High Risk"
          ],
          [
           "Industrials",
           "High Risk"
          ],
          [
           "Industrials",
           "High Risk"
          ],
          [
           "Industrials",
           "High Risk"
          ],
          [
           "Industrials",
           "High Risk"
          ],
          [
           "Industrials",
           "High Risk"
          ],
          [
           "Industrials",
           "High Risk"
          ],
          [
           "Industrials",
           "High Risk"
          ],
          [
           "Industrials",
           "High Risk"
          ],
          [
           "Industrials",
           "High Risk"
          ],
          [
           "Industrials",
           "High Risk"
          ],
          [
           "Industrials",
           "High Risk"
          ]
         ],
         "hovertemplate": "scenario=%{customdata[1]}<br>sector=%{customdata[0]}<br>year=%{x}<br>carbon_price_usd_tco2e=%{y}<extra></extra>",
         "legendgroup": "High Risk, Industrials",
         "line": {
          "color": "#636efa",
          "dash": "dash",
          "width": 1
         },
         "marker": {
          "size": 6,
          "symbol": "circle"
         },
         "mode": "lines+markers",
         "name": "High Risk, Industrials",
         "orientation": "v",
         "showlegend": true,
         "type": "scatter",
         "x": {
          "bdata": "6QfqB+sH7AftB+4H7wfwB/EH8gfzB/QH9Qf2B/cH+Af5B/oH+wf8B/0H/gf/BwAIAQgCCA==",
          "dtype": "i2"
         },
         "xaxis": "x",
         "y": {
          "bdata": "AKRwPQpLYUAAH4XrUXhkQACamZmZpWdAABSuR+HSakAAj8L1KABuQACF61G4lnBAgML1KFwtckAAAAAAAMRzQIA9CtejWnVAAHsUrkfxdkCAuB6F64d4QID1KFyPHnpAADMzMzO1e0CAcD0K10t9QACuR+F64n5AwPUoXI88gECAFK5H4QeBQEAzMzMz04FAAFK4HoWegkCAcD0K12mDQECPwvUoNYRAAK5H4XoAhUDAzMzMzMuFQIDrUbgel4ZAQArXo3Bih0AAKVyPwi2IQA==",
          "dtype": "f8"
         },
         "yaxis": "y"
        },
        {
         "customdata": [
          [
           "Materials",
           "High Risk"
          ],
          [
           "Materials",
           "High Risk"
          ],
          [
           "Materials",
           "High Risk"
          ],
          [
           "Materials",
           "High Risk"
          ],
          [
           "Materials",
           "High Risk"
          ],
          [
           "Materials",
           "High Risk"
          ],
          [
           "Materials",
           "High Risk"
          ],
          [
           "Materials",
           "High Risk"
          ],
          [
           "Materials",
           "High Risk"
          ],
          [
           "Materials",
           "High Risk"
          ],
          [
           "Materials",
           "High Risk"
          ],
          [
           "Materials",
           "High Risk"
          ],
          [
           "Materials",
           "High Risk"
          ],
          [
           "Materials",
           "High Risk"
          ],
          [
           "Materials",
           "High Risk"
          ],
          [
           "Materials",
           "High Risk"
          ],
          [
           "Materials",
           "High Risk"
          ],
          [
           "Materials",
           "High Risk"
          ],
          [
           "Materials",
           "High Risk"
          ],
          [
           "Materials",
           "High Risk"
          ],
          [
           "Materials",
           "High Risk"
          ],
          [
           "Materials",
           "High Risk"
          ],
          [
           "Materials",
           "High Risk"
          ],
          [
           "Materials",
           "High Risk"
          ],
          [
           "Materials",
           "High Risk"
          ],
          [
           "Materials",
           "High Risk"
          ]
         ],
         "hovertemplate": "scenario=%{customdata[1]}<br>sector=%{customdata[0]}<br>year=%{x}<br>carbon_price_usd_tco2e=%{y}<extra></extra>",
         "legendgroup": "High Risk, Materials",
         "line": {
          "color": "#636efa",
          "dash": "longdash",
          "width": 1
         },
         "marker": {
          "size": 6,
          "symbol": "circle"
         },
         "mode": "lines+markers",
         "name": "High Risk, Materials",
         "orientation": "v",
         "showlegend": true,
         "type": "scatter",
         "x": {
          "bdata": "6QfqB+sH7AftB+4H7wfwB/EH8gfzB/QH9Qf2B/cH+Af5B/oH+wf8B/0H/gf/BwAIAQgCCA==",
          "dtype": "i2"
         },
         "xaxis": "x",
         "y": {
          "bdata": "AMgKhJFKYUAArUAYaT9kQACSdqxANGdAAHesQBgpakAAXOLU7x1tQIAgjLRjCXBAABOnfs+DcUCABcJIO/5yQAD43BKneHRAgOr33BLzdUAA3RKnfm13QIDPLXHq53hAAMJIO1ZiekCAtGMFwtx7QICnfs8tV31AAJqZmZnRfkBARtqxAiaAQIC/55Y444BAwDj1e26ggUAAsgJhpF2CQEArEEbaGoNAgKQdKxDYg0DAHSsQRpWEQACXOPV7UoVAQBBG2rEPhkCAiVO/58yGQA==",
          "dtype": "f8"
         },
         "yaxis": "y"
        },
        {
         "customdata": [
          [
           "Utilities",
           "High Risk"
          ],
          [
           "Utilities",
           "High Risk"
          ],
          [
           "Utilities",
           "High Risk"
          ],
          [
           "Utilities",
           "High Risk"
          ],
          [
           "Utilities",
           "High Risk"
          ],
          [
           "Utilities",
           "High Risk"
          ],
          [
           "Utilities",
           "High Risk"
          ],
          [
           "Utilities",
           "High Risk"
          ],
          [
           "Utilities",
           "High Risk"
          ],
          [
           "Utilities",
           "High Risk"
          ],
          [
           "Utilities",
           "High Risk"
          ],
          [
           "Utilities",
           "High Risk"
          ],
          [
           "Utilities",
           "High Risk"
          ],
          [
           "Utilities",
           "High Risk"
          ],
          [
           "Utilities",
           "High Risk"
          ],
          [
           "Utilities",
           "High Risk"
          ],
          [
           "Utilities",
           "High Risk"
          ],
          [
           "Utilities",
           "High Risk"
          ],
          [
           "Utilities",
           "High Risk"
          ],
          [
           "Utilities",
           "High Risk"
          ],
          [
           "Utilities",
           "High Risk"
          ],
          [
           "Utilities",
           "High Risk"
          ],
          [
           "Utilities",
           "High Risk"
          ],
          [
           "Utilities",
           "High Risk"
          ],
          [
           "Utilities",
           "High Risk"
          ],
          [
           "Utilities",
           "High Risk"
          ]
         ],
         "hovertemplate": "scenario=%{customdata[1]}<br>sector=%{customdata[0]}<br>year=%{x}<br>carbon_price_usd_tco2e=%{y}<extra></extra>",
         "legendgroup": "High Risk, Utilities",
         "line": {
          "color": "#636efa",
          "dash": "dashdot",
          "width": 1
         },
         "marker": {
          "size": 6,
          "symbol": "circle"
         },
         "mode": "lines+markers",
         "name": "High Risk, Utilities",
         "orientation": "v",
         "showlegend": true,
         "type": "scatter",
         "x": {
          "bdata": "6QfqB+sH7AftB+4H7wfwB/EH8gfzB/QH9Qf2B/cH+Af5B/oH+wf8B/0H/gf/BwAIAQgCCA==",
          "dtype": "i2"
         },
         "xaxis": "x",
         "y": {
          "bdata": "AH8iQGtTYkAAhZF2rIBlQACLAK3trWhAAJBv4y7ba0AAlt4ZcAhvQADOJqjYGnFAAFFeQ3mxckAA1JXeGUh0QABXzXm63nVAANoEFVt1d0AAXTyw+wt5QADgc0uconpAAGOr5jw5fEAA5uKB3c99QABpGh1+Zn9AAPYoXI9+gECAt8Sp30mBQMB4YPcvFYJAQDr8RIDggkDA+5eS0KuDQEC9M+Agd4RAwH7PLXFChUBAQGt7wQ2GQMABB8kR2YZAQMOiFmKkh0DAhD5ksm+IQA==",
          "dtype": "f8"
         },
         "yaxis": "y"
        },
        {
         "customdata": [
          [
           "Consumer Discretionary",
           "Low Risk"
          ],
          [
           "Consumer Discretionary",
           "Low Risk"
          ],
          [
           "Consumer Discretionary",
           "Low Risk"
          ],
          [
           "Consumer Discretionary",
           "Low Risk"
          ],
          [
           "Consumer Discretionary",
           "Low Risk"
          ],
          [
           "Consumer Discretionary",
           "Low Risk"
          ],
          [
           "Consumer Discretionary",
           "Low Risk"
          ],
          [
           "Consumer Discretionary",
           "Low Risk"
          ],
          [
           "Consumer Discretionary",
           "Low Risk"
          ],
          [
           "Consumer Discretionary",
           "Low Risk"
          ],
          [
           "Consumer Discretionary",
           "Low Risk"
          ],
          [
           "Consumer Discretionary",
           "Low Risk"
          ],
          [
           "Consumer Discretionary",
           "Low Risk"
          ],
          [
           "Consumer Discretionary",
           "Low Risk"
          ],
          [
           "Consumer Discretionary",
           "Low Risk"
          ],
          [
           "Consumer Discretionary",
           "Low Risk"
          ],
          [
           "Consumer Discretionary",
           "Low Risk"
          ],
          [
           "Consumer Discretionary",
           "Low Risk"
          ],
          [
           "Consumer Discretionary",
           "Low Risk"
          ],
          [
           "Consumer Discretionary",
           "Low Risk"
          ],
          [
           "Consumer Discretionary",
           "Low Risk"
          ],
          [
           "Consumer Discretionary",
           "Low Risk"
          ],
          [
           "Consumer Discretionary",
           "Low Risk"
          ],
          [
           "Consumer Discretionary",
           "Low Risk"
          ],
          [
           "Consumer Discretionary",
           "Low Risk"
          ],
          [
           "Consumer Discretionary",
           "Low Risk"
          ]
         ],
         "hovertemplate": "scenario=%{customdata[1]}<br>sector=%{customdata[0]}<br>year=%{x}<br>carbon_price_usd_tco2e=%{y}<extra></extra>",
         "legendgroup": "Low Risk, Consumer Discretionary",
         "line": {
          "color": "#EF553B",
          "dash": "solid",
          "width": 1
         },
         "marker": {
          "size": 6,
          "symbol": "circle"
         },
         "mode": "lines+markers",
         "name": "Low Risk, Consumer Discretionary",
         "orientation": "v",
         "showlegend": true,
         "type": "scatter",
         "x": {
          "bdata": "6QfqB+sH7AftB+4H7wfwB/EH8gfzB/QH9Qf2B/cH+Af5B/oH+wf8B/0H/gf/BwAIAQgCCA==",
          "dtype": "i2"
         },
         "xaxis": "x",
         "y": {
          "bdata": "IOukyhgOXkBAtRDzx1deQEB/fBt3oV5AYEnoQybrXkCAE1Rs1TRfQKDdv5SEfl9AwKcrvTPIX0DwuMty8QhgQPCdAQfJLWBAAIM3m6BSYEAQaG0veHdgQCBNo8NPnGBAMDLZVyfBYEBAFw/s/uVgQED8RIDWCmFAUOF6FK4vYUBgxrCohVRhQHCr5jxdeWFAgJAc0TSeYUCQdVJlDMNhQJBaiPnj52FAoD++jbsMYkCwJPQhkzFiQMAJKrZqVmJA0O5fSkJ7YkDg05XeGaBiQA==",
          "dtype": "f8"
         },
         "yaxis": "y"
        },
        {
         "customdata": [
          [
           "Energy",
           "Low Risk"
          ],
          [
           "Energy",
           "Low Risk"
          ],
          [
           "Energy",
           "Low Risk"
          ],
          [
           "Energy",
           "Low Risk"
          ],
          [
           "Energy",
           "Low Risk"
          ],
          [
           "Energy",
           "Low Risk"
          ],
          [
           "Energy",
           "Low Risk"
          ],
          [
           "Energy",
           "Low Risk"
          ],
          [
           "Energy",
           "Low Risk"
          ],
          [
           "Energy",
           "Low Risk"
          ],
          [
           "Energy",
           "Low Risk"
          ],
          [
           "Energy",
           "Low Risk"
          ],
          [
           "Energy",
           "Low Risk"
          ],
          [
           "Energy",
           "Low Risk"
          ],
          [
           "Energy",
           "Low Risk"
          ],
          [
           "Energy",
           "Low Risk"
          ],
          [
           "Energy",
           "Low Risk"
          ],
          [
           "Energy",
           "Low Risk"
          ],
          [
           "Energy",
           "Low Risk"
          ],
          [
           "Energy",
           "Low Risk"
          ],
          [
           "Energy",
           "Low Risk"
          ],
          [
           "Energy",
           "Low Risk"
          ],
          [
           "Energy",
           "Low Risk"
          ],
          [
           "Energy",
           "Low Risk"
          ],
          [
           "Energy",
           "Low Risk"
          ],
          [
           "Energy",
           "Low Risk"
          ]
         ],
         "hovertemplate": "scenario=%{customdata[1]}<br>sector=%{customdata[0]}<br>year=%{x}<br>carbon_price_usd_tco2e=%{y}<extra></extra>",
         "legendgroup": "Low Risk, Energy",
         "line": {
          "color": "#EF553B",
          "dash": "dot",
          "width": 1
         },
         "marker": {
          "size": 6,
          "symbol": "circle"
         },
         "mode": "lines+markers",
         "name": "Low Risk, Energy",
         "orientation": "v",
         "showlegend": true,
         "type": "scatter",
         "x": {
          "bdata": "6QfqB+sH7AftB+4H7wfwB/EH8gfzB/QH9Qf2B/cH+Af5B/oH+wf8B/0H/gf/BwAIAQgCCA==",
          "dtype": "i2"
         },
         "xaxis": "x",
         "y": {
          "bdata": "gBnDohbSWUCArEAYaXdaQMA/vo27HFtAwNI7Aw7CW0AAZrl4YGdcQAD5Nu6yDF1AQIy0YwWyXUCAHzLZV1deQICyr06q/F5AwEUtxPyhX0BgbNWcpyNgQAA2lNdQdmBAgP9SEvrIYEAgyRFNoxthQKCS0IdMbmFAQFyPwvXAYUDAJU79nhNiQGDvDDhIZmJA4LjLcvG4YkCAgoqtmgtjQABMSehDXmNAoBUII+2wY0Ag38ZdlgNkQMCohZg/VmRAYHJE0+ioZEDgOwMOkvtkQA==",
          "dtype": "f8"
         },
         "yaxis": "y"
        },
        {
         "customdata": [
          [
           "Industrials",
           "Low Risk"
          ],
          [
           "Industrials",
           "Low Risk"
          ],
          [
           "Industrials",
           "Low Risk"
          ],
          [
           "Industrials",
           "Low Risk"
          ],
          [
           "Industrials",
           "Low Risk"
          ],
          [
           "Industrials",
           "Low Risk"
          ],
          [
           "Industrials",
           "Low Risk"
          ],
          [
           "Industrials",
           "Low Risk"
          ],
          [
           "Industrials",
           "Low Risk"
          ],
          [
           "Industrials",
           "Low Risk"
          ],
          [
           "Industrials",
           "Low Risk"
          ],
          [
           "Industrials",
           "Low Risk"
          ],
          [
           "Industrials",
           "Low Risk"
          ],
          [
           "Industrials",
           "Low Risk"
          ],
          [
           "Industrials",
           "Low Risk"
          ],
          [
           "Industrials",
           "Low Risk"
          ],
          [
           "Industrials",
           "Low Risk"
          ],
          [
           "Industrials",
           "Low Risk"
          ],
          [
           "Industrials",
           "Low Risk"
          ],
          [
           "Industrials",
           "Low Risk"
          ],
          [
           "Industrials",
           "Low Risk"
          ],
          [
           "Industrials",
           "Low Risk"
          ],
          [
           "Industrials",
           "Low Risk"
          ],
          [
           "Industrials",
           "Low Risk"
          ],
          [
           "Industrials",
           "Low Risk"
          ],
          [
           "Industrials",
           "Low Risk"
          ]
         ],
         "hovertemplate": "scenario=%{customdata[1]}<br>sector=%{customdata[0]}<br>year=%{x}<br>carbon_price_usd_tco2e=%{y}<extra></extra>",
         "legendgroup": "Low Risk, Industrials",
         "line": {
          "color": "#EF553B",
          "dash": "dash",
          "width": 1
         },
         "marker": {
          "size": 6,
          "symbol": "circle"
         },
         "mode": "lines+markers",
         "name": "Low Risk, Industrials",
         "orientation": "v",
         "showlegend": true,
         "type": "scatter",
         "x": {
          "bdata": "6QfqB+sH7AftB+4H7wfwB/EH8gfzB/QH9Qf2B/cH+Af5B/oH+wf8B/0H/gf/BwAIAQgCCA==",
          "dtype": "i2"
         },
         "xaxis": "x",
         "y": {
          "bdata": "BFrbC97AYUC8YwXCSNNhQGxtL3iz5WFAJHdZLh74YUDUgIPkiApiQISKrZrzHGJAPJTXUF4vYkDsnQEHyUFiQKSnK70zVGJAVLFVc55mYkAMu38pCXliQLzEqd9zi2JAbM7Tld6dYkAk2P1LSbBiQNThJwK0wmJAjOtRuB7VYkA89XtuiediQOz+pST0+WJApAjQ2l4MY0BUEvqQyR5jQAwcJEc0MWNAvCVO/Z5DY0B0L3izCVZjQCQ5oml0aGNA1ELMH996Y0CMTPbVSY1jQA==",
          "dtype": "f8"
         },
         "yaxis": "y"
        },
        {
         "customdata": [
          [
           "Materials",
           "Low Risk"
          ],
          [
           "Materials",
           "Low Risk"
          ],
          [
           "Materials",
           "Low Risk"
          ],
          [
           "Materials",
           "Low Risk"
          ],
          [
           "Materials",
           "Low Risk"
          ],
          [
           "Materials",
           "Low Risk"
          ],
          [
           "Materials",
           "Low Risk"
          ],
          [
           "Materials",
           "Low Risk"
          ],
          [
           "Materials",
           "Low Risk"
          ],
          [
           "Materials",
           "Low Risk"
          ],
          [
           "Materials",
           "Low Risk"
          ],
          [
           "Materials",
           "Low Risk"
          ],
          [
           "Materials",
           "Low Risk"
          ],
          [
           "Materials",
           "Low Risk"
          ],
          [
           "Materials",
           "Low Risk"
          ],
          [
           "Materials",
           "Low Risk"
          ],
          [
           "Materials",
           "Low Risk"
          ],
          [
           "Materials",
           "Low Risk"
          ],
          [
           "Materials",
           "Low Risk"
          ],
          [
           "Materials",
           "Low Risk"
          ],
          [
           "Materials",
           "Low Risk"
          ],
          [
           "Materials",
           "Low Risk"
          ],
          [
           "Materials",
           "Low Risk"
          ],
          [
           "Materials",
           "Low Risk"
          ],
          [
           "Materials",
           "Low Risk"
          ],
          [
           "Materials",
           "Low Risk"
          ]
         ],
         "hovertemplate": "scenario=%{customdata[1]}<br>sector=%{customdata[0]}<br>year=%{x}<br>carbon_price_usd_tco2e=%{y}<extra></extra>",
         "legendgroup": "Low Risk, Materials",
         "line": {
          "color": "#EF553B",
          "dash": "longdash",
          "width": 1
         },
         "marker": {
          "size": 6,
          "symbol": "circle"
         },
         "mode": "lines+markers",
         "name": "Low Risk, Materials",
         "orientation": "v",
         "showlegend": true,
         "type": "scatter",
         "x": {
          "bdata": "6QfqB+sH7AftB+4H7wfwB/EH8gfzB/QH9Qf2B/cH+Af5B/oH+wf8B/0H/gf/BwAIAQgCCA==",
          "dtype": "i2"
         },
         "xaxis": "x",
         "y": {
          "bdata": "wFVznq70X0AAUxL6kHlgQED76qTK+GBAYKPDTwR4YUCAS5z6PfdhQKDzdKV3dmJAwJtNULH1YkAARCb76nRjQCDs/qUk9GNAQJTXUF5zZEBgPLD7l/JkQIDkiKbRcWVAwIxhUQvxZUDgNDr8RHBmQADdEqd+72ZAIIXrUbhuZ0BgLcT88e1nQIDVnKcrbWhAoH11UmXsaEDAJU79nmtpQODNJqjY6mlAIHb/UhJqakBAHtj9S+lqQGDGsKiFaGtAgG6JU7/na0CgFmL++GZsQA==",
          "dtype": "f8"
         },
         "yaxis": "y"
        },
        {
         "customdata": [
          [
           "Utilities",
           "Low Risk"
          ],
          [
           "Utilities",
           "Low Risk"
          ],
          [
           "Utilities",
           "Low Risk"
          ],
          [
           "Utilities",
           "Low Risk"
          ],
          [
           "Utilities",
           "Low Risk"
          ],
          [
           "Utilities",
           "Low Risk"
          ],
          [
           "Utilities",
           "Low Risk"
          ],
          [
           "Utilities",
           "Low Risk"
          ],
          [
           "Utilities",
           "Low Risk"
          ],
          [
           "Utilities",
           "Low Risk"
          ],
          [
           "Utilities",
           "Low Risk"
          ],
          [
           "Utilities",
           "Low Risk"
          ],
          [
           "Utilities",
           "Low Risk"
          ],
          [
           "Utilities",
           "Low Risk"
          ],
          [
           "Utilities",
           "Low Risk"
          ],
          [
           "Utilities",
           "Low Risk"
          ],
          [
           "Utilities",
           "Low Risk"
          ],
          [
           "Utilities",
           "Low Risk"
          ],
          [
           "Utilities",
           "Low Risk"
          ],
          [
           "Utilities",
           "Low Risk"
          ],
          [
           "Utilities",
           "Low Risk"
          ],
          [
           "Utilities",
           "Low Risk"
          ],
          [
           "Utilities",
           "Low Risk"
          ],
          [
           "Utilities",
           "Low Risk"
          ],
          [
           "Utilities",
           "Low Risk"
          ],
          [
           "Utilities",
           "Low Risk"
          ]
         ],
         "hovertemplate": "scenario=%{customdata[1]}<br>sector=%{customdata[0]}<br>year=%{x}<br>carbon_price_usd_tco2e=%{y}<extra></extra>",
         "legendgroup": "Low Risk, Utilities",
         "line": {
          "color": "#EF553B",
          "dash": "dashdot",
          "width": 1
         },
         "marker": {
          "size": 6,
          "symbol": "circle"
         },
         "mode": "lines+markers",
         "name": "Low Risk, Utilities",
         "orientation": "v",
         "showlegend": true,
         "type": "scatter",
         "x": {
          "bdata": "6QfqB+sH7AftB+4H7wfwB/EH8gfzB/QH9Qf2B/cH+Af5B/oH+wf8B/0H/gf/BwAIAQgCCA==",
          "dtype": "i2"
         },
         "xaxis": "x",
         "y": {
          "bdata": "wHLxwO7vYEDgh0z21UFhQOCcpyu9k2FA4LECYaTlYUDgxl2WizdiQODbuMtyiWJA4PATAVrbYkAABm82QS1jQAAbymsof2NAADAloQ/RY0AARYDW9iJkQABa2wvedGRAAG82QcXGZEAAhJF2rBhlQCCZ7KuTamVAIK5H4Xq8ZUAgw6IWYg5mQCDY/UtJYGZAIO1YgTCyZkAgArS2FwRnQEAXD+z+VWdAQCxqIeanZ0BAQcVWzflnQEBWIIy0S2hAQGt7wZudaEBAgNb2gu9oQA==",
          "dtype": "f8"
         },
         "yaxis": "y"
        },
        {
         "customdata": [
          [
           "Consumer Discretionary",
           "Medium Risk"
          ],
          [
           "Consumer Discretionary",
           "Medium Risk"
          ],
          [
           "Consumer Discretionary",
           "Medium Risk"
          ],
          [
           "Consumer Discretionary",
           "Medium Risk"
          ],
          [
           "Consumer Discretionary",
           "Medium Risk"
          ],
          [
           "Consumer Discretionary",
           "Medium Risk"
          ],
          [
           "Consumer Discretionary",
           "Medium Risk"
          ],
          [
           "Consumer Discretionary",
           "Medium Risk"
          ],
          [
           "Consumer Discretionary",
           "Medium Risk"
          ],
          [
           "Consumer Discretionary",
           "Medium Risk"
          ],
          [
           "Consumer Discretionary",
           "Medium Risk"
          ],
          [
           "Consumer Discretionary",
           "Medium Risk"
          ],
          [
           "Consumer Discretionary",
           "Medium Risk"
          ],
          [
           "Consumer Discretionary",
           "Medium Risk"
          ],
          [
           "Consumer Discretionary",
           "Medium Risk"
          ],
          [
           "Consumer Discretionary",
           "Medium Risk"
          ],
          [
           "Consumer Discretionary",
           "Medium Risk"
          ],
          [
           "Consumer Discretionary",
           "Medium Risk"
          ],
          [
           "Consumer Discretionary",
           "Medium Risk"
          ],
          [
           "Consumer Discretionary",
           "Medium Risk"
          ],
          [
           "Consumer Discretionary",
           "Medium Risk"
          ],
          [
           "Consumer Discretionary",
           "Medium Risk"
          ],
          [
           "Consumer Discretionary",
           "Medium Risk"
          ],
          [
           "Consumer Discretionary",
           "Medium Risk"
          ],
          [
           "Consumer Discretionary",
           "Medium Risk"
          ],
          [
           "Consumer Discretionary",
           "Medium Risk"
          ]
         ],
         "hovertemplate": "scenario=%{customdata[1]}<br>sector=%{customdata[0]}<br>year=%{x}<br>carbon_price_usd_tco2e=%{y}<extra></extra>",
         "legendgroup": "Medium Risk, Consumer Discretionary",
         "line": {
          "color": "#00cc96",
          "dash": "solid",
          "width": 1
         },
         "marker": {
          "size": 6,
          "symbol": "circle"
         },
         "mode": "lines+markers",
         "name": "Medium Risk, Consumer Discretionary",
         "orientation": "v",
         "showlegend": true,
         "type": "scatter",
         "x": {
          "bdata": "6QfqB+sH7AftB+4H7wfwB/EH8gfzB/QH9Qf2B/cH+Af5B/oH+wf8B/0H/gf/BwAIAQgCCA==",
          "dtype": "i2"
         },
         "xaxis": "x",
         "y": {
          "bdata": "ABJNo8P/XUAAArS2FzRgQIB7wZtNaGFAgPTOgIOcYkAAbtxludBjQIDn6UrvBGVAgGD3LyU5ZkAA2gQVW21nQABTEvqQoWhAgMwf38bVaUCARS3E/AlrQAC/OqkyPmxAADhIjmhybUCAsVVznqZuQIAqY1jU2m9AAFK4HoWHcECADj8RoCFxQEDLxQO7u3FAwIdM9tVVckCARNPo8O9yQAABWtsLinNAwL3gzSYkdEBAemfAQb50QAA37rJcWHVAwPN0pXfydUBAsPuXkox2QA==",
          "dtype": "f8"
         },
         "yaxis": "y"
        },
        {
         "customdata": [
          [
           "Energy",
           "Medium Risk"
          ],
          [
           "Energy",
           "Medium Risk"
          ],
          [
           "Energy",
           "Medium Risk"
          ],
          [
           "Energy",
           "Medium Risk"
          ],
          [
           "Energy",
           "Medium Risk"
          ],
          [
           "Energy",
           "Medium Risk"
          ],
          [
           "Energy",
           "Medium Risk"
          ],
          [
           "Energy",
           "Medium Risk"
          ],
          [
           "Energy",
           "Medium Risk"
          ],
          [
           "Energy",
           "Medium Risk"
          ],
          [
           "Energy",
           "Medium Risk"
          ],
          [
           "Energy",
           "Medium Risk"
          ],
          [
           "Energy",
           "Medium Risk"
          ],
          [
           "Energy",
           "Medium Risk"
          ],
          [
           "Energy",
           "Medium Risk"
          ],
          [
           "Energy",
           "Medium Risk"
          ],
          [
           "Energy",
           "Medium Risk"
          ],
          [
           "Energy",
           "Medium Risk"
          ],
          [
           "Energy",
           "Medium Risk"
          ],
          [
           "Energy",
           "Medium Risk"
          ],
          [
           "Energy",
           "Medium Risk"
          ],
          [
           "Energy",
           "Medium Risk"
          ],
          [
           "Energy",
           "Medium Risk"
          ],
          [
           "Energy",
           "Medium Risk"
          ],
          [
           "Energy",
           "Medium Risk"
          ],
          [
           "Energy",
           "Medium Risk"
          ]
         ],
         "hovertemplate": "scenario=%{customdata[1]}<br>sector=%{customdata[0]}<br>year=%{x}<br>carbon_price_usd_tco2e=%{y}<extra></extra>",
         "legendgroup": "Medium Risk, Energy",
         "line": {
          "color": "#00cc96",
          "dash": "dot",
          "width": 1
         },
         "marker": {
          "size": 6,
          "symbol": "circle"
         },
         "mode": "lines+markers",
         "name": "Medium Risk, Energy",
         "orientation": "v",
         "showlegend": true,
         "type": "scatter",
         "x": {
          "bdata": "6QfqB+sH7AftB+4H7wfwB/EH8gfzB/QH9Qf2B/cH+Af5B/oH+wf8B/0H/gf/BwAIAQgCCA==",
          "dtype": "i2"
         },
         "xaxis": "x",
         "y": {
          "bdata": "AIfyGsozWkCAMoZFLRRcQIDeGXCQ9F1AgIqtmvPUX0BAm6Biq9pgQEBx6vfcymFAQEc0jQ67YkAAHX4iQKtjQADzx7dxm2RAAMkRTaOLZUAAn1vi1HtmQAB1pXcGbGdAAEvvDDhcaEAAITmiaUxpQMD2gjebPGpAwMzMzMwsa0DAohZi/hxsQMB4YPcvDW1AwE6qjGH9bUDAJPQhk+1uQID6PbfE3W9AQOhDJvtmcEBA0+jwE99wQEC+jbssV3FAQKkyhkXPcUBAlNdQXkdyQA==",
          "dtype": "f8"
         },
         "yaxis": "y"
        },
        {
         "customdata": [
          [
           "Industrials",
           "Medium Risk"
          ],
          [
           "Industrials",
           "Medium Risk"
          ],
          [
           "Industrials",
           "Medium Risk"
          ],
          [
           "Industrials",
           "Medium Risk"
          ],
          [
           "Industrials",
           "Medium Risk"
          ],
          [
           "Industrials",
           "Medium Risk"
          ],
          [
           "Industrials",
           "Medium Risk"
          ],
          [
           "Industrials",
           "Medium Risk"
          ],
          [
           "Industrials",
           "Medium Risk"
          ],
          [
           "Industrials",
           "Medium Risk"
          ],
          [
           "Industrials",
           "Medium Risk"
          ],
          [
           "Industrials",
           "Medium Risk"
          ],
          [
           "Industrials",
           "Medium Risk"
          ],
          [
           "Industrials",
           "Medium Risk"
          ],
          [
           "Industrials",
           "Medium Risk"
          ],
          [
           "Industrials",
           "Medium Risk"
          ],
          [
           "Industrials",
           "Medium Risk"
          ],
          [
           "Industrials",
           "Medium Risk"
          ],
          [
           "Industrials",
           "Medium Risk"
          ],
          [
           "Industrials",
           "Medium Risk"
          ],
          [
           "Industrials",
           "Medium Risk"
          ],
          [
           "Industrials",
           "Medium Risk"
          ],
          [
           "Industrials",
           "Medium Risk"
          ],
          [
           "Industrials",
           "Medium Risk"
          ],
          [
           "Industrials",
           "Medium Risk"
          ],
          [
           "Industrials",
           "Medium Risk"
          ]
         ],
         "hovertemplate": "scenario=%{customdata[1]}<br>sector=%{customdata[0]}<br>year=%{x}<br>carbon_price_usd_tco2e=%{y}<extra></extra>",
         "legendgroup": "Medium Risk, Industrials",
         "line": {
          "color": "#00cc96",
          "dash": "dash",
          "width": 1
         },
         "marker": {
          "size": 6,
          "symbol": "circle"
         },
         "mode": "lines+markers",
         "name": "Medium Risk, Industrials",
         "orientation": "v",
         "showlegend": true,
         "type": "scatter",
         "x": {
          "bdata": "6QfqB+sH7AftB+4H7wfwB/EH8gfzB/QH9Qf2B/cH+Af5B/oH+wf8B/0H/gf/BwAIAQgCCA==",
          "dtype": "i2"
         },
         "xaxis": "x",
         "y": {
          "bdata": "gFvi1O8JYkCA6EMm+yJjQAB1pXcGPGRAgAEHyRFVZUCAjmgaHW5mQAAbymsoh2dAgKcrvTOgaECANI0OP7lpQADB7l9K0mpAgE1QsVXra0CA2rECYQRtQABnE1RsHW5AgPN0pXc2b0BAQGt7wSdwQIAGHCRHtHBAwMzMzMxAcUBAk311Us1xQIBZLh7YWXJAwB/fxl3mckBA5o9v43JzQICsQBhp/3NAwHLxwO6LdEBAOaJpdBh1QID/UhL6pHVAwMUDu38xdkBAjLRjBb52QA==",
          "dtype": "f8"
         },
         "yaxis": "y"
        },
        {
         "customdata": [
          [
           "Materials",
           "Medium Risk"
          ],
          [
           "Materials",
           "Medium Risk"
          ],
          [
           "Materials",
           "Medium Risk"
          ],
          [
           "Materials",
           "Medium Risk"
          ],
          [
           "Materials",
           "Medium Risk"
          ],
          [
           "Materials",
           "Medium Risk"
          ],
          [
           "Materials",
           "Medium Risk"
          ],
          [
           "Materials",
           "Medium Risk"
          ],
          [
           "Materials",
           "Medium Risk"
          ],
          [
           "Materials",
           "Medium Risk"
          ],
          [
           "Materials",
           "Medium Risk"
          ],
          [
           "Materials",
           "Medium Risk"
          ],
          [
           "Materials",
           "Medium Risk"
          ],
          [
           "Materials",
           "Medium Risk"
          ],
          [
           "Materials",
           "Medium Risk"
          ],
          [
           "Materials",
           "Medium Risk"
          ],
          [
           "Materials",
           "Medium Risk"
          ],
          [
           "Materials",
           "Medium Risk"
          ],
          [
           "Materials",
           "Medium Risk"
          ],
          [
           "Materials",
           "Medium Risk"
          ],
          [
           "Materials",
           "Medium Risk"
          ],
          [
           "Materials",
           "Medium Risk"
          ],
          [
           "Materials",
           "Medium Risk"
          ],
          [
           "Materials",
           "Medium Risk"
          ],
          [
           "Materials",
           "Medium Risk"
          ],
          [
           "Materials",
           "Medium Risk"
          ]
         ],
         "hovertemplate": "scenario=%{customdata[1]}<br>sector=%{customdata[0]}<br>year=%{x}<br>carbon_price_usd_tco2e=%{y}<extra></extra>",
         "legendgroup": "Medium Risk, Materials",
         "line": {
          "color": "#00cc96",
          "dash": "longdash",
          "width": 1
         },
         "marker": {
          "size": 6,
          "symbol": "circle"
         },
         "mode": "lines+markers",
         "name": "Medium Risk, Materials",
         "orientation": "v",
         "showlegend": true,
         "type": "scatter",
         "x": {
          "bdata": "6QfqB+sH7AftB+4H7wfwB/EH8gfzB/QH9Qf2B/cH+Af5B/oH+wf8B/0H/gf/BwAIAQgCCA==",
          "dtype": "i2"
         },
         "xaxis": "x",
         "y": {
          "bdata": "APeCN5sgYEAA6JY49WNhQADZqjlPp2JAAMq+OqnqY0CAutI7Ay5lQICr5jxdcWZAgJz6Pbe0Z0CAjQ4/EfhoQIB+IkBrO2pAgG82QcV+a0AAYEpCH8JsQABRXkN5BW5AAEJyRNNIb0CAGcOiFkZwQAASTaPD53BAQArXo3CJcUDAAmGkHStyQED76qTKzHJAwPN0pXduc0BA7P6lJBB0QMDkiKbRsXRAAN0Sp35TdUCA1ZynK/V1QADOJqjYlnZAgMawqIU4d0AAvzqpMtp3QA==",
          "dtype": "f8"
         },
         "yaxis": "y"
        },
        {
         "customdata": [
          [
           "Utilities",
           "Medium Risk"
          ],
          [
           "Utilities",
           "Medium Risk"
          ],
          [
           "Utilities",
           "Medium Risk"
          ],
          [
           "Utilities",
           "Medium Risk"
          ],
          [
           "Utilities",
           "Medium Risk"
          ],
          [
           "Utilities",
           "Medium Risk"
          ],
          [
           "Utilities",
           "Medium Risk"
          ],
          [
           "Utilities",
           "Medium Risk"
          ],
          [
           "Utilities",
           "Medium Risk"
          ],
          [
           "Utilities",
           "Medium Risk"
          ],
          [
           "Utilities",
           "Medium Risk"
          ],
          [
           "Utilities",
           "Medium Risk"
          ],
          [
           "Utilities",
           "Medium Risk"
          ],
          [
           "Utilities",
           "Medium Risk"
          ],
          [
           "Utilities",
           "Medium Risk"
          ],
          [
           "Utilities",
           "Medium Risk"
          ],
          [
           "Utilities",
           "Medium Risk"
          ],
          [
           "Utilities",
           "Medium Risk"
          ],
          [
           "Utilities",
           "Medium Risk"
          ],
          [
           "Utilities",
           "Medium Risk"
          ],
          [
           "Utilities",
           "Medium Risk"
          ],
          [
           "Utilities",
           "Medium Risk"
          ],
          [
           "Utilities",
           "Medium Risk"
          ],
          [
           "Utilities",
           "Medium Risk"
          ],
          [
           "Utilities",
           "Medium Risk"
          ],
          [
           "Utilities",
           "Medium Risk"
          ]
         ],
         "hovertemplate": "scenario=%{customdata[1]}<br>sector=%{customdata[0]}<br>year=%{x}<br>carbon_price_usd_tco2e=%{y}<extra></extra>",
         "legendgroup": "Medium Risk, Utilities",
         "line": {
          "color": "#00cc96",
          "dash": "dashdot",
          "width": 1
         },
         "marker": {
          "size": 6,
          "symbol": "circle"
         },
         "mode": "lines+markers",
         "name": "Medium Risk, Utilities",
         "orientation": "v",
         "showlegend": true,
         "type": "scatter",
         "x": {
          "bdata": "6QfqB+sH7AftB+4H7wfwB/EH8gfzB/QH9Qf2B/cH+Af5B/oH+wf8B/0H/gf/BwAIAQgCCA==",
          "dtype": "i2"
         },
         "xaxis": "x",
         "y": {
          "bdata": "AJN9dVKFYUAAfchkX9ViQABnE1RsJWRAAFFeQ3l1ZUAAO6kyhsVmQIAk9CGTFWhAgA4/EaBlaUCA+IkArbVqQIDi1O+5BWxAgMwf38ZVbUCAtmrO06VuQACgtb3g9W9AAEWA1vaicEAAuiVO/UpxQAAvy8UD83FAAKRwPQqbckDAGBa1EENzQMCNuywX63NAwAJhpB2TdEDAdwYcJDt1QMDsq5Mq43VAgGFRCzGLdkCA1vaCNzN3QIBLnPo923dAgMBBckSDeECANefpSit5QA==",
          "dtype": "f8"
         },
         "yaxis": "y"
        }
       ],
       "layout": {
        "height": 600,
        "legend": {
         "title": {
          "text": "scenario, sector"
         },
         "tracegroupgap": 0
        },
        "template": {
         "data": {
          "bar": [
           {
            "error_x": {
             "color": "#2a3f5f"
            },
            "error_y": {
             "color": "#2a3f5f"
            },
            "marker": {
             "line": {
              "color": "#E5ECF6",
              "width": 0.5
             },
             "pattern": {
              "fillmode": "overlay",
              "size": 10,
              "solidity": 0.2
             }
            },
            "type": "bar"
           }
          ],
          "barpolar": [
           {
            "marker": {
             "line": {
              "color": "#E5ECF6",
              "width": 0.5
             },
             "pattern": {
              "fillmode": "overlay",
              "size": 10,
              "solidity": 0.2
             }
            },
            "type": "barpolar"
           }
          ],
          "carpet": [
           {
            "aaxis": {
             "endlinecolor": "#2a3f5f",
             "gridcolor": "white",
             "linecolor": "white",
             "minorgridcolor": "white",
             "startlinecolor": "#2a3f5f"
            },
            "baxis": {
             "endlinecolor": "#2a3f5f",
             "gridcolor": "white",
             "linecolor": "white",
             "minorgridcolor": "white",
             "startlinecolor": "#2a3f5f"
            },
            "type": "carpet"
           }
          ],
          "choropleth": [
           {
            "colorbar": {
             "outlinewidth": 0,
             "ticks": ""
            },
            "type": "choropleth"
           }
          ],
          "contour": [
           {
            "colorbar": {
             "outlinewidth": 0,
             "ticks": ""
            },
            "colorscale": [
             [
              0,
              "#0d0887"
             ],
             [
              0.1111111111111111,
              "#46039f"
             ],
             [
              0.2222222222222222,
              "#7201a8"
             ],
             [
              0.3333333333333333,
              "#9c179e"
             ],
             [
              0.4444444444444444,
              "#bd3786"
             ],
             [
              0.5555555555555556,
              "#d8576b"
             ],
             [
              0.6666666666666666,
              "#ed7953"
             ],
             [
              0.7777777777777778,
              "#fb9f3a"
             ],
             [
              0.8888888888888888,
              "#fdca26"
             ],
             [
              1,
              "#f0f921"
             ]
            ],
            "type": "contour"
           }
          ],
          "contourcarpet": [
           {
            "colorbar": {
             "outlinewidth": 0,
             "ticks": ""
            },
            "type": "contourcarpet"
           }
          ],
          "heatmap": [
           {
            "colorbar": {
             "outlinewidth": 0,
             "ticks": ""
            },
            "colorscale": [
             [
              0,
              "#0d0887"
             ],
             [
              0.1111111111111111,
              "#46039f"
             ],
             [
              0.2222222222222222,
              "#7201a8"
             ],
             [
              0.3333333333333333,
              "#9c179e"
             ],
             [
              0.4444444444444444,
              "#bd3786"
             ],
             [
              0.5555555555555556,
              "#d8576b"
             ],
             [
              0.6666666666666666,
              "#ed7953"
             ],
             [
              0.7777777777777778,
              "#fb9f3a"
             ],
             [
              0.8888888888888888,
              "#fdca26"
             ],
             [
              1,
              "#f0f921"
             ]
            ],
            "type": "heatmap"
           }
          ],
          "histogram": [
           {
            "marker": {
             "pattern": {
              "fillmode": "overlay",
              "size": 10,
              "solidity": 0.2
             }
            },
            "type": "histogram"
           }
          ],
          "histogram2d": [
           {
            "colorbar": {
             "outlinewidth": 0,
             "ticks": ""
            },
            "colorscale": [
             [
              0,
              "#0d0887"
             ],
             [
              0.1111111111111111,
              "#46039f"
             ],
             [
              0.2222222222222222,
              "#7201a8"
             ],
             [
              0.3333333333333333,
              "#9c179e"
             ],
             [
              0.4444444444444444,
              "#bd3786"
             ],
             [
              0.5555555555555556,
              "#d8576b"
             ],
             [
              0.6666666666666666,
              "#ed7953"
             ],
             [
              0.7777777777777778,
              "#fb9f3a"
             ],
             [
              0.8888888888888888,
              "#fdca26"
             ],
             [
              1,
              "#f0f921"
             ]
            ],
            "type": "histogram2d"
           }
          ],
          "histogram2dcontour": [
           {
            "colorbar": {
             "outlinewidth": 0,
             "ticks": ""
            },
            "colorscale": [
             [
              0,
              "#0d0887"
             ],
             [
              0.1111111111111111,
              "#46039f"
             ],
             [
              0.2222222222222222,
              "#7201a8"
             ],
             [
              0.3333333333333333,
              "#9c179e"
             ],
             [
              0.4444444444444444,
              "#bd3786"
             ],
             [
              0.5555555555555556,
              "#d8576b"
             ],
             [
              0.6666666666666666,
              "#ed7953"
             ],
             [
              0.7777777777777778,
              "#fb9f3a"
             ],
             [
              0.8888888888888888,
              "#fdca26"
             ],
             [
              1,
              "#f0f921"
             ]
            ],
            "type": "histogram2dcontour"
           }
          ],
          "mesh3d": [
           {
            "colorbar": {
             "outlinewidth": 0,
             "ticks": ""
            },
            "type": "mesh3d"
           }
          ],
          "parcoords": [
           {
            "line": {
             "colorbar": {
              "outlinewidth": 0,
              "ticks": ""
             }
            },
            "type": "parcoords"
           }
          ],
          "pie": [
           {
            "automargin": true,
            "type": "pie"
           }
          ],
          "scatter": [
           {
            "fillpattern": {
             "fillmode": "overlay",
             "size": 10,
             "solidity": 0.2
            },
            "type": "scatter"
           }
          ],
          "scatter3d": [
           {
            "line": {
             "colorbar": {
              "outlinewidth": 0,
              "ticks": ""
             }
            },
            "marker": {
             "colorbar": {
              "outlinewidth": 0,
              "ticks": ""
             }
            },
            "type": "scatter3d"
           }
          ],
          "scattercarpet": [
           {
            "marker": {
             "colorbar": {
              "outlinewidth": 0,
              "ticks": ""
             }
            },
            "type": "scattercarpet"
           }
          ],
          "scattergeo": [
           {
            "marker": {
             "colorbar": {
              "outlinewidth": 0,
              "ticks": ""
             }
            },
            "type": "scattergeo"
           }
          ],
          "scattergl": [
           {
            "marker": {
             "colorbar": {
              "outlinewidth": 0,
              "ticks": ""
             }
            },
            "type": "scattergl"
           }
          ],
          "scattermap": [
           {
            "marker": {
             "colorbar": {
              "outlinewidth": 0,
              "ticks": ""
             }
            },
            "type": "scattermap"
           }
          ],
          "scattermapbox": [
           {
            "marker": {
             "colorbar": {
              "outlinewidth": 0,
              "ticks": ""
             }
            },
            "type": "scattermapbox"
           }
          ],
          "scatterpolar": [
           {
            "marker": {
             "colorbar": {
              "outlinewidth": 0,
              "ticks": ""
             }
            },
            "type": "scatterpolar"
           }
          ],
          "scatterpolargl": [
           {
            "marker": {
             "colorbar": {
              "outlinewidth": 0,
              "ticks": ""
             }
            },
            "type": "scatterpolargl"
           }
          ],
          "scatterternary": [
           {
            "marker": {
             "colorbar": {
              "outlinewidth": 0,
              "ticks": ""
             }
            },
            "type": "scatterternary"
           }
          ],
          "surface": [
           {
            "colorbar": {
             "outlinewidth": 0,
             "ticks": ""
            },
            "colorscale": [
             [
              0,
              "#0d0887"
             ],
             [
              0.1111111111111111,
              "#46039f"
             ],
             [
              0.2222222222222222,
              "#7201a8"
             ],
             [
              0.3333333333333333,
              "#9c179e"
             ],
             [
              0.4444444444444444,
              "#bd3786"
             ],
             [
              0.5555555555555556,
              "#d8576b"
             ],
             [
              0.6666666666666666,
              "#ed7953"
             ],
             [
              0.7777777777777778,
              "#fb9f3a"
             ],
             [
              0.8888888888888888,
              "#fdca26"
             ],
             [
              1,
              "#f0f921"
             ]
            ],
            "type": "surface"
           }
          ],
          "table": [
           {
            "cells": {
             "fill": {
              "color": "#EBF0F8"
             },
             "line": {
              "color": "white"
             }
            },
            "header": {
             "fill": {
              "color": "#C8D4E3"
             },
             "line": {
              "color": "white"
             }
            },
            "type": "table"
           }
          ]
         },
         "layout": {
          "annotationdefaults": {
           "arrowcolor": "#2a3f5f",
           "arrowhead": 0,
           "arrowwidth": 1
          },
          "autotypenumbers": "strict",
          "coloraxis": {
           "colorbar": {
            "outlinewidth": 0,
            "ticks": ""
           }
          },
          "colorscale": {
           "diverging": [
            [
             0,
             "#8e0152"
            ],
            [
             0.1,
             "#c51b7d"
            ],
            [
             0.2,
             "#de77ae"
            ],
            [
             0.3,
             "#f1b6da"
            ],
            [
             0.4,
             "#fde0ef"
            ],
            [
             0.5,
             "#f7f7f7"
            ],
            [
             0.6,
             "#e6f5d0"
            ],
            [
             0.7,
             "#b8e186"
            ],
            [
             0.8,
             "#7fbc41"
            ],
            [
             0.9,
             "#4d9221"
            ],
            [
             1,
             "#276419"
            ]
           ],
           "sequential": [
            [
             0,
             "#0d0887"
            ],
            [
             0.1111111111111111,
             "#46039f"
            ],
            [
             0.2222222222222222,
             "#7201a8"
            ],
            [
             0.3333333333333333,
             "#9c179e"
            ],
            [
             0.4444444444444444,
             "#bd3786"
            ],
            [
             0.5555555555555556,
             "#d8576b"
            ],
            [
             0.6666666666666666,
             "#ed7953"
            ],
            [
             0.7777777777777778,
             "#fb9f3a"
            ],
            [
             0.8888888888888888,
             "#fdca26"
            ],
            [
             1,
             "#f0f921"
            ]
           ],
           "sequentialminus": [
            [
             0,
             "#0d0887"
            ],
            [
             0.1111111111111111,
             "#46039f"
            ],
            [
             0.2222222222222222,
             "#7201a8"
            ],
            [
             0.3333333333333333,
             "#9c179e"
            ],
            [
             0.4444444444444444,
             "#bd3786"
            ],
            [
             0.5555555555555556,
             "#d8576b"
            ],
            [
             0.6666666666666666,
             "#ed7953"
            ],
            [
             0.7777777777777778,
             "#fb9f3a"
            ],
            [
             0.8888888888888888,
             "#fdca26"
            ],
            [
             1,
             "#f0f921"
            ]
           ]
          },
          "colorway": [
           "#636efa",
           "#EF553B",
           "#00cc96",
           "#ab63fa",
           "#FFA15A",
           "#19d3f3",
           "#FF6692",
           "#B6E880",
           "#FF97FF",
           "#FECB52"
          ],
          "font": {
           "color": "#2a3f5f"
          },
          "geo": {
           "bgcolor": "white",
           "lakecolor": "white",
           "landcolor": "#E5ECF6",
           "showlakes": true,
           "showland": true,
           "subunitcolor": "white"
          },
          "hoverlabel": {
           "align": "left"
          },
          "hovermode": "closest",
          "mapbox": {
           "style": "light"
          },
          "paper_bgcolor": "white",
          "plot_bgcolor": "#E5ECF6",
          "polar": {
           "angularaxis": {
            "gridcolor": "white",
            "linecolor": "white",
            "ticks": ""
           },
           "bgcolor": "#E5ECF6",
           "radialaxis": {
            "gridcolor": "white",
            "linecolor": "white",
            "ticks": ""
           }
          },
          "scene": {
           "xaxis": {
            "backgroundcolor": "#E5ECF6",
            "gridcolor": "white",
            "gridwidth": 2,
            "linecolor": "white",
            "showbackground": true,
            "ticks": "",
            "zerolinecolor": "white"
           },
           "yaxis": {
            "backgroundcolor": "#E5ECF6",
            "gridcolor": "white",
            "gridwidth": 2,
            "linecolor": "white",
            "showbackground": true,
            "ticks": "",
            "zerolinecolor": "white"
           },
           "zaxis": {
            "backgroundcolor": "#E5ECF6",
            "gridcolor": "white",
            "gridwidth": 2,
            "linecolor": "white",
            "showbackground": true,
            "ticks": "",
            "zerolinecolor": "white"
           }
          },
          "shapedefaults": {
           "line": {
            "color": "#2a3f5f"
           }
          },
          "ternary": {
           "aaxis": {
            "gridcolor": "white",
            "linecolor": "white",
            "ticks": ""
           },
           "baxis": {
            "gridcolor": "white",
            "linecolor": "white",
            "ticks": ""
           },
           "bgcolor": "#E5ECF6",
           "caxis": {
            "gridcolor": "white",
            "linecolor": "white",
            "ticks": ""
           }
          },
          "title": {
           "x": 0.05
          },
          "xaxis": {
           "automargin": true,
           "gridcolor": "white",
           "linecolor": "white",
           "ticks": "",
           "title": {
            "standoff": 15
           },
           "zerolinecolor": "white",
           "zerolinewidth": 2
          },
          "yaxis": {
           "automargin": true,
           "gridcolor": "white",
           "linecolor": "white",
           "ticks": "",
           "title": {
            "standoff": 15
           },
           "zerolinecolor": "white",
           "zerolinewidth": 2
          }
         }
        },
        "title": {
         "text": "EU – Carbon-price paths (all sectors)"
        },
        "xaxis": {
         "anchor": "y",
         "domain": [
          0,
          1
         ],
         "title": {
          "text": "Year"
         }
        },
        "yaxis": {
         "anchor": "x",
         "domain": [
          0,
          1
         ],
         "title": {
          "text": "USD / tCO₂e"
         },
         "type": "log"
        }
       }
      }
     },
     "metadata": {},
     "output_type": "display_data"
    }
   ],
   "source": [
    "import seaborn as sns\n",
    "import matplotlib.pyplot as plt\n",
    "import plotly.express as px\n",
    "import numpy as np\n",
    "\n",
    "# make sure DF has required columns\n",
    "required = {\"year\",\"region\",\"sector\",\"scenario\",\"carbon_price_usd_tco2e\"}\n",
    "assert required.issubset(carbon_prices_full.columns), \"missing columns\"\n",
    "\n",
    "# -----------------------------------------------------------------------\n",
    "# MAIN GENERIC FUNCTION\n",
    "# -----------------------------------------------------------------------\n",
    "def plot_region_prices(df, region,\n",
    "                       tool      = \"seaborn\",   # \"seaborn\" or \"plotly\"\n",
    "                       facet     = True,        # only for seaborn: facet per sector?\n",
    "                       log_y     = False,\n",
    "                       ylim      = None):\n",
    "    \"\"\"\n",
    "    df      : master DataFrame\n",
    "    region  : e.g. \"USA\", \"EU\", \"Global\"\n",
    "    tool    : 'seaborn' (static)  or  'plotly' (interactive)\n",
    "    facet   : if seaborn & True  → facet per sector\n",
    "              if False           → one panel, colour = scenario\n",
    "    log_y   : set y-axis to log scale\n",
    "    ylim    : tuple (ymin,ymax) optional manual limits\n",
    "    \"\"\"\n",
    "    sub = df.query(\"region == @region\").copy()\n",
    "    if sub.empty:\n",
    "        raise ValueError(f\"No rows for region={region}\")\n",
    "\n",
    "    # optional: mask non-positive values if using log\n",
    "    if log_y:\n",
    "        sub.loc[sub['carbon_price_usd_tco2e'] <= 0, 'carbon_price_usd_tco2e'] = np.nan\n",
    "\n",
    "    # --------------- SEABORN version -----------------------------------\n",
    "    if tool.lower() == \"seaborn\":\n",
    "        sns.set_theme(style=\"whitegrid\")\n",
    "        if facet:\n",
    "            g = sns.relplot(\n",
    "                data=sub, x=\"year\", y=\"carbon_price_usd_tco2e\",\n",
    "                hue=\"scenario\", style=\"scenario\", markers=True,\n",
    "                col=\"sector\", col_wrap=3, linewidth=1, height=3.2\n",
    "            )\n",
    "            g.set_titles(\"{col_name}\")\n",
    "            ax_list = g.axes.flatten()\n",
    "        else:\n",
    "            plt.figure(figsize=(7,4))\n",
    "            ax = sns.lineplot(\n",
    "                data=sub, x=\"year\", y=\"carbon_price_usd_tco2e\",\n",
    "                hue=\"scenario\", style=\"sector\", markers=True, linewidth=1\n",
    "            )\n",
    "            ax_list = [ax]\n",
    "\n",
    "        # log-scale & y-limits\n",
    "        for ax in ax_list:\n",
    "            if log_y: ax.set_yscale('log')\n",
    "            if ylim:  ax.set_ylim(*ylim)\n",
    "\n",
    "        title = (f\"{region} – Carbon-price trajectory \"\n",
    "                 f\"({'facet by sector' if facet else 'all sectors'})\")\n",
    "        if facet:\n",
    "            g.fig.suptitle(title, y=1.03, fontsize=14)\n",
    "            g.set_axis_labels(\"Year\", \"USD / tCO₂e (log)\" if log_y else \"USD / tCO₂e\")\n",
    "        else:\n",
    "            plt.title(title, fontsize=14)\n",
    "            plt.xlabel(\"Year\"); plt.ylabel(\"USD / tCO₂e (log)\" if log_y else \"USD / tCO₂e\")\n",
    "        plt.tight_layout()\n",
    "        plt.show()\n",
    "        return\n",
    "\n",
    "    # --------------- PLOTLY version ------------------------------------\n",
    "    if tool.lower() == \"plotly\":\n",
    "        fig = px.line(\n",
    "            sub, x=\"year\", y=\"carbon_price_usd_tco2e\",\n",
    "            color=\"scenario\", line_dash=\"sector\", markers=True,\n",
    "            hover_data=[\"sector\",\"scenario\",\"carbon_price_usd_tco2e\"],\n",
    "            title=f\"{region} – Carbon-price paths (all sectors)\"\n",
    "        )\n",
    "        fig.update_traces(line_width=1, marker_size=6)\n",
    "        fig.update_layout(\n",
    "            xaxis_title=\"Year\",\n",
    "            yaxis_title=\"USD / tCO₂e\",\n",
    "            yaxis_type=\"log\" if log_y else \"linear\",\n",
    "            height=600\n",
    "        )\n",
    "        if ylim:\n",
    "            fig.update_yaxes(range=np.log10(ylim).tolist() if log_y else ylim)\n",
    "        fig.show()\n",
    "        return\n",
    "\n",
    "    raise ValueError(\"tool must be 'seaborn' or 'plotly'\")\n",
    "\n",
    "\n",
    "\n",
    "# interactive – Global, single panel, LOG-y\n",
    "plot_region_prices(carbon_prices_full, region=\"EU\", tool=\"plotly\",\n",
    "                   facet=False, log_y=True)\n",
    "\n"
   ]
  },
  {
   "cell_type": "code",
   "execution_count": 172,
   "id": "4675ea75",
   "metadata": {},
   "outputs": [
    {
     "name": "stderr",
     "output_type": "stream",
     "text": [
      "/var/folders/lf/9_7wh6ps1354b6glt9mst87m0000gn/T/ipykernel_96109/1233414220.py:27: UserWarning:\n",
      "\n",
      "Glyph 8322 (\\N{SUBSCRIPT TWO}) missing from font(s) Arial.\n",
      "\n",
      "/opt/anaconda3/envs/sp_work/lib/python3.11/site-packages/IPython/core/pylabtools.py:170: UserWarning:\n",
      "\n",
      "Glyph 8322 (\\N{SUBSCRIPT TWO}) missing from font(s) Arial.\n",
      "\n"
     ]
    },
    {
     "data": {
      "image/png": "[encoded data removed]",
      "text/plain": [
       "<Figure size 1043.5x600 with 5 Axes>"
      ]
     },
     "metadata": {},
     "output_type": "display_data"
    }
   ],
   "source": [
    "plot_df = carbon_prices_full.copy()\n",
    "plot_df.loc[plot_df['carbon_price_usd_tco2e'] <= 0, 'carbon_price_usd_tco2e'] = np.nan\n",
    "\n",
    "g = sns.relplot(\n",
    "        data      = plot_df,\n",
    "        x         = \"year\",\n",
    "        y         = \"carbon_price_usd_tco2e\",\n",
    "        hue       = \"scenario\",\n",
    "        kind      = \"line\",\n",
    "        marker    = \"o\",\n",
    "        col       = \"region\",\n",
    "        col_wrap  = 3,\n",
    "        height    = 3,\n",
    "        facet_kws = dict(sharey=False)\n",
    ")\n",
    "\n",
    "# put every facet on log-scale\n",
    "for ax in g.axes.flatten():\n",
    "    ax.set_yscale('log')\n",
    "    ax.yaxis.set_major_formatter(\n",
    "        plt.FuncFormatter(lambda v, p: f\"{v:g}\")\n",
    "    )\n",
    "\n",
    "g.set_titles(\"{col_name}\")\n",
    "g.fig.suptitle(\"Trajectory per Sector – coloured by region (log-scaled Y)\", y=1.03)\n",
    "g.set_axis_labels(\"Year\", \"USD / tCO₂e  (log scale)\")\n",
    "plt.tight_layout()\n",
    "plt.show()"
   ]
  },
  {
   "cell_type": "code",
   "execution_count": 286,
   "id": "3ee4ba83",
   "metadata": {},
   "outputs": [],
   "source": [
    "# ngf5_global_carbon_prices"
   ]
  },
  {
   "cell_type": "code",
   "execution_count": 173,
   "id": "8d3dc604",
   "metadata": {},
   "outputs": [
    {
     "name": "stderr",
     "output_type": "stream",
     "text": [
      "/opt/anaconda3/envs/sp_work/lib/python3.11/site-packages/IPython/core/pylabtools.py:170: UserWarning:\n",
      "\n",
      "Glyph 8322 (\\N{SUBSCRIPT TWO}) missing from font(s) Arial.\n",
      "\n"
     ]
    },
    {
     "data": {
      "image/png": "[encoded data removed]",
      "text/plain": [
       "<Figure size 1043.5x600 with 5 Axes>"
      ]
     },
     "metadata": {},
     "output_type": "display_data"
    }
   ],
   "source": [
    "g = sns.relplot(\n",
    "    data = carbon_prices_full,\n",
    "    x=\"year\", y=\"carbon_price_usd_tco2e\",\n",
    "    hue=\"scenario\", kind=\"line\", marker=\"o\",\n",
    "    col=\"sector\", col_wrap=3, height=3, facet_kws={'sharey':False}\n",
    ")\n",
    "g.set_titles(\"{col_name}\")\n",
    "g.fig.suptitle(\"Trajectory per Sector – coloured by Scenario\", y=1.02)\n",
    "g.set_axis_labels(\"Year\", \"USD / tCO₂e\")\n",
    "plt.show()\n"
   ]
  },
  {
   "cell_type": "markdown",
   "id": "de770d78",
   "metadata": {},
   "source": [
    "Estimate Abatement"
   ]
  },
  {
   "cell_type": "code",
   "execution_count": null,
   "id": "9aa5c3d4",
   "metadata": {},
   "outputs": [
    {
     "name": "stdout",
     "output_type": "stream",
     "text": [
      "Filtered to 1,274 rows  (uids=48)\n",
      "\n",
      "=== Company-level totals ===\n",
      "    uid  total_capex_usd  total_opex_usd  total_abated_tonnes\n",
      "0  C001     4.418190e+09    1.964819e+07             585290.0\n",
      "1  C002     8.205210e+09    3.670457e+07            1093374.0\n",
      "2  C003     2.249050e+10    1.920049e+08            6939120.0\n",
      "3  C004     4.827500e+09    4.218650e+07            3222320.0\n",
      "4  C005     5.975138e+10    1.110492e+09                  0.0\n",
      "\n",
      "=== First few tech-level rows ===\n",
      "    uid  year  technology  new_build   tonnes    capex_usd  opex_usd_year  \\\n",
      "0  C001  2026  Wind Power       True  23412.0  631170000.0      785940.84   \n",
      "1  C001  2027  Wind Power      False  23411.0          0.0      785907.27   \n",
      "2  C001  2028  Wind Power      False  23412.0          0.0      785940.84   \n",
      "3  C001  2029  Wind Power      False  19952.0          0.0      669788.64   \n",
      "4  C001  2029  Wind Power       True   3459.0  631170000.0      116118.63   \n",
      "\n",
      "   spare_after_yr  \n",
      "0         66775.0  \n",
      "1         43364.0  \n",
      "2         19952.0  \n",
      "3         86728.0  \n",
      "4         86728.0  \n"
     ]
    }
   ],
   "source": [
    "# ================================================================\n",
    "# Abatement-Cost Engine  –  v2 (front-loads CapEx, tracks spare)\n",
    "# ================================================================\n",
    "\n",
    "\n",
    "# ------------------------------------------------------------\n",
    "# 0.  Helper to pick your emissions pathway\n",
    "# ------------------------------------------------------------\n",
    "def filter_paths(df, scenario='medium', interp='linear', verbose=True):\n",
    "    \"\"\"\n",
    "    Return only the rows matching the chosen scenario & interpolation method.\n",
    "    \"\"\"\n",
    "    out = df.query(\"scenario == @scenario and interpolation_method == @interp\").copy()\n",
    "    if out.empty:\n",
    "        raise ValueError(\n",
    "            f\"No rows match scenario='{scenario}' & interpolation='{interp}'. \"\n",
    "            \"Inspect available options:\\n\"\n",
    "            \"  df['scenario'].unique()\\n  df['interpolation_method'].unique()\"\n",
    "        )\n",
    "    if verbose:\n",
    "        print(f\"Filtered to {len(out):,} rows  (uids={out['uid'].nunique()})\")\n",
    "    return out\n",
    "\n",
    "\n",
    "# ------------------------------------------------------------\n",
    "# 1.  State-aware dispatcher\n",
    "# ------------------------------------------------------------\n",
    "def dispatch_with_capacity(tech_df, tonnes_needed, capacity_bank):\n",
    "    \"\"\"\n",
    "    tech_df        : cost table for *one* (sector, region)\n",
    "    tonnes_needed  : incremental abatement (tCO2e) required for this year\n",
    "    capacity_bank  : dict {tech_name: spare_tonnes} carried year-to-year\n",
    "\n",
    "    Returns\n",
    "    -------\n",
    "    packages      : list of dicts describing tonnes allocated + costs\n",
    "    capacity_bank : updated spare-capacity ledger\n",
    "    \"\"\"\n",
    "    packages = []\n",
    "\n",
    "    # ---------- 1 ▸ use spare capacity first (OpEx only) ----------\n",
    "    for tech, spare in list(capacity_bank.items()):\n",
    "        if tonnes_needed <= 0:\n",
    "            break\n",
    "        take = min(spare, tonnes_needed)\n",
    "        if take > 0:\n",
    "            tech_row = tech_df.loc[tech_df['technology'] == tech].iloc[0]\n",
    "            opex = tech_row['abatement_cost_usd_tco2e_year'] * take\n",
    "            packages.append(dict(\n",
    "                technology     = tech,\n",
    "                new_build      = False,\n",
    "                tonnes         = take,\n",
    "                capex_usd      = 0.0,\n",
    "                opex_usd_year  = opex,\n",
    "            ))\n",
    "            capacity_bank[tech] -= take\n",
    "            tonnes_needed       -= take\n",
    "\n",
    "    # ---------- 2 ▸ build new full-size packages as needed ----------\n",
    "    tech_df = tech_df.sort_values('abatement_cost_usd_tco2e_year')   # cheapest first\n",
    "    for _, t in tech_df.iterrows():\n",
    "        if tonnes_needed <= 0:\n",
    "            break\n",
    "\n",
    "        tech_name   = t['technology']\n",
    "        capacity    = t['abatement_capacity_tco2e_year']\n",
    "        build_cost  = t['initial_investment_usd_million'] * 1e6      # M$ → $\n",
    "        opex_rate   = t['abatement_cost_usd_tco2e_year']\n",
    "\n",
    "        # build *one* unit\n",
    "        take = min(capacity, tonnes_needed)\n",
    "\n",
    "        packages.append(dict(\n",
    "            technology     = tech_name,\n",
    "            new_build      = True,\n",
    "            tonnes         = take,\n",
    "            capex_usd      = build_cost,                 # full CapEx up-front\n",
    "            opex_usd_year  = opex_rate * take,\n",
    "        ))\n",
    "\n",
    "        # record spare capacity for future years\n",
    "        leftover = capacity - take\n",
    "        if leftover > 0:\n",
    "            capacity_bank[tech_name] = capacity_bank.get(tech_name, 0) + leftover\n",
    "\n",
    "        tonnes_needed -= take\n",
    "\n",
    "    return packages, capacity_bank\n",
    "\n",
    "\n",
    "# ------------------------------------------------------------\n",
    "# 2.  Per-company engine\n",
    "# ------------------------------------------------------------\n",
    "def compute_company_abatement_costs(uid, df_paths, df_abatement, scope_map=None):\n",
    "    \"\"\"\n",
    "    Return two dataframes:\n",
    "        1) annual_df  – year-level CapEx, OpEx, cumulative values\n",
    "        2) detail_df  – tech-level breakdown (what was built / used)\n",
    "    \"\"\"\n",
    "    comp = df_paths[df_paths['uid'] == uid].copy()\n",
    "    if comp.empty:\n",
    "        raise ValueError(f'UID {uid} not found in emissions_paths.')\n",
    "\n",
    "    # -------- meta data / tech catalogue (with fallbacks) --------\n",
    "    sector = comp['gics_sector'].iat[0]\n",
    "    region = comp['country'].iat[0]\n",
    "\n",
    "    tech = df_abatement[(df_abatement['sector'] == sector) &\n",
    "                        (df_abatement['region'] == region)]\n",
    "    if tech.empty:\n",
    "        tech = df_abatement[(df_abatement['sector'] == sector) &\n",
    "                            (df_abatement['region'] == 'Global')]\n",
    "    if tech.empty:\n",
    "        tech = df_abatement[df_abatement['region'] == 'Global']\n",
    "    if tech.empty:\n",
    "        raise ValueError(f'No abatement technologies found for {sector}/{region}.')\n",
    "\n",
    "    # -------- which scope counts toward the target? -------------\n",
    "    if scope_map is None:\n",
    "        scope_map = {\n",
    "            'Scope 1': ['scope1_tonnes'],\n",
    "            'Scope 2': ['scope2_tonnes'],\n",
    "            'Scope 2 and other': ['scope1_tonnes', 'scope2_tonnes'],\n",
    "            'Direct': ['scope1_tonnes', 'scope2_tonnes'],\n",
    "        }\n",
    "    tgt_type = comp['type_of_target'].iat[0]\n",
    "    cols     = scope_map.get(tgt_type, ['scope1_tonnes', 'scope2_tonnes'])\n",
    "\n",
    "    base_2025    = comp.loc[comp['year'] == 2025, cols].sum(axis=1).iat[0]\n",
    "    prev_allowed = base_2025\n",
    "\n",
    "    capacity_bank = {}        # spare capacity ledger\n",
    "    records, detail_rows = [], []\n",
    "    cum_capex = cum_opex = 0.0\n",
    "\n",
    "    for yr in sorted(comp['year'].unique()):\n",
    "        allowed = comp.loc[comp['year'] == yr, 'targeted_emissions'].iat[0]\n",
    "        needed  = max(prev_allowed - allowed, 0)          # incremental tonnes\n",
    "\n",
    "        pkgs, capacity_bank = dispatch_with_capacity(tech, needed, capacity_bank)\n",
    "        capex = sum(p['capex_usd']      for p in pkgs)\n",
    "        opex  = sum(p['opex_usd_year']  for p in pkgs)\n",
    "\n",
    "        cum_capex += capex\n",
    "        cum_opex  += opex\n",
    "\n",
    "        records.append(dict(\n",
    "            uid              = uid,\n",
    "            year             = yr,\n",
    "            abatement_tonnes = needed,\n",
    "            capex_usd        = capex,\n",
    "            opex_usd_year    = opex,\n",
    "            cum_capex_usd    = cum_capex,\n",
    "            cum_opex_usd     = cum_opex,\n",
    "        ))\n",
    "\n",
    "        for p in pkgs:\n",
    "            detail_rows.append(dict(\n",
    "                uid             = uid,\n",
    "                year            = yr,\n",
    "                technology      = p['technology'],\n",
    "                new_build       = p['new_build'],\n",
    "                tonnes          = p['tonnes'],\n",
    "                capex_usd       = p['capex_usd'],\n",
    "                opex_usd_year   = p['opex_usd_year'],\n",
    "                spare_after_yr  = capacity_bank.get(p['technology'], 0),\n",
    "            ))\n",
    "\n",
    "        prev_allowed = allowed\n",
    "\n",
    "    return pd.DataFrame(records), pd.DataFrame(detail_rows)\n",
    "\n",
    "\n",
    "# ------------------------------------------------------------\n",
    "# 3.  Portfolio runner\n",
    "# ------------------------------------------------------------\n",
    "def run_all_companies(df_paths, df_abatement):\n",
    "    \"\"\"\n",
    "    Returns\n",
    "    -------\n",
    "    annual_full : yr-level costs for every company\n",
    "    summary     : total CapEx / OpEx 2025-50 per company\n",
    "    detail_full : tech-level rows (build / use each year)\n",
    "    \"\"\"\n",
    "    annual_frames, detail_frames = [], []\n",
    "    for uid in df_paths['uid'].unique():\n",
    "        annual, detail = compute_company_abatement_costs(uid, df_paths, df_abatement)\n",
    "        annual_frames.append(annual)\n",
    "        detail_frames.append(detail)\n",
    "\n",
    "    annual_full = pd.concat(annual_frames, ignore_index=True)\n",
    "    detail_full = pd.concat(detail_frames, ignore_index=True)\n",
    "\n",
    "    summary = (annual_full.groupby('uid')\n",
    "                          .agg(total_capex_usd=('capex_usd', 'sum'),\n",
    "                               total_opex_usd=('opex_usd_year', 'sum'),\n",
    "                               total_abated_tonnes=('abatement_tonnes', 'sum'))\n",
    "                          .reset_index())\n",
    "\n",
    "    return annual_full, summary, detail_full\n",
    "\n",
    "\n",
    "\n",
    "\n",
    "# keep only medium / linear pathway\n",
    "paths_mid = filter_paths(emissions_paths, scenario='med', interp='linear')\n",
    "\n",
    "# run the model\n",
    "annual_df, summary_df, detail_df = run_all_companies(paths_mid, df_abatement)\n",
    "\n",
    "print(\"\\n=== Company-level totals ===\")\n",
    "print(summary_df.head())\n",
    "\n",
    "print(\"\\n=== First few tech-level rows ===\")\n",
    "print(detail_df.head())\n",
    "\n",
    "#export csv\n",
    "annual_df.to_csv(\"annual_abatement_costs.csv\", index=False)\n",
    "\n",
    "#export csv\n",
    "summary_df.to_csv(\"abatement_summary.csv\", index=False)\n",
    "#export csv\n",
    "detail_df.to_csv(\"abatement_detail.csv\", index=False)"
   ]
  },
  {
   "cell_type": "code",
   "execution_count": 299,
   "id": "8cd09227",
   "metadata": {},
   "outputs": [],
   "source": [
    "# emissions_paths.head()"
   ]
  },
  {
   "cell_type": "code",
   "execution_count": 211,
   "id": "6b03ddbe",
   "metadata": {},
   "outputs": [],
   "source": [
    "def filter_paths(df, scenario='med', interp='linear'):\n",
    "    return df.query(\"scenario == @scenario and interpolation_method == @interp\").copy()\n",
    "\n",
    "all_yearly, company_totals = run_all_companies(\n",
    "    filter_paths(emissions_paths, 'med', 'linear'),\n",
    "    df_abatement\n",
    ")\n"
   ]
  },
  {
   "cell_type": "code",
   "execution_count": 292,
   "id": "1b7161bc",
   "metadata": {},
   "outputs": [
    {
     "data": {
      "text/html": [
       "<div>\n",
       "<style scoped>\n",
       "    .dataframe tbody tr th:only-of-type {\n",
       "        vertical-align: middle;\n",
       "    }\n",
       "\n",
       "    .dataframe tbody tr th {\n",
       "        vertical-align: top;\n",
       "    }\n",
       "\n",
       "    .dataframe thead th {\n",
       "        text-align: right;\n",
       "    }\n",
       "</style>\n",
       "<table border=\"1\" class=\"dataframe\">\n",
       "  <thead>\n",
       "    <tr style=\"text-align: right;\">\n",
       "      <th></th>\n",
       "      <th>uid</th>\n",
       "      <th>year</th>\n",
       "      <th>abatement_tonnes</th>\n",
       "      <th>capex_usd</th>\n",
       "      <th>opex_usd_year</th>\n",
       "      <th>cum_capex_usd</th>\n",
       "      <th>cum_opex_usd</th>\n",
       "    </tr>\n",
       "  </thead>\n",
       "  <tbody>\n",
       "    <tr>\n",
       "      <th>0</th>\n",
       "      <td>C001</td>\n",
       "      <td>2025</td>\n",
       "      <td>0.0</td>\n",
       "      <td>0.000000e+00</td>\n",
       "      <td>0.00</td>\n",
       "      <td>0.000000e+00</td>\n",
       "      <td>0.00</td>\n",
       "    </tr>\n",
       "    <tr>\n",
       "      <th>1</th>\n",
       "      <td>C001</td>\n",
       "      <td>2026</td>\n",
       "      <td>23412.0</td>\n",
       "      <td>1.638479e+08</td>\n",
       "      <td>785940.84</td>\n",
       "      <td>1.638479e+08</td>\n",
       "      <td>785940.84</td>\n",
       "    </tr>\n",
       "    <tr>\n",
       "      <th>2</th>\n",
       "      <td>C001</td>\n",
       "      <td>2027</td>\n",
       "      <td>23411.0</td>\n",
       "      <td>1.638409e+08</td>\n",
       "      <td>785907.27</td>\n",
       "      <td>3.276888e+08</td>\n",
       "      <td>1571848.11</td>\n",
       "    </tr>\n",
       "    <tr>\n",
       "      <th>3</th>\n",
       "      <td>C001</td>\n",
       "      <td>2028</td>\n",
       "      <td>23412.0</td>\n",
       "      <td>1.638479e+08</td>\n",
       "      <td>785940.84</td>\n",
       "      <td>4.915368e+08</td>\n",
       "      <td>2357788.95</td>\n",
       "    </tr>\n",
       "    <tr>\n",
       "      <th>4</th>\n",
       "      <td>C001</td>\n",
       "      <td>2029</td>\n",
       "      <td>23411.0</td>\n",
       "      <td>1.638409e+08</td>\n",
       "      <td>785907.27</td>\n",
       "      <td>6.553777e+08</td>\n",
       "      <td>3143696.22</td>\n",
       "    </tr>\n",
       "  </tbody>\n",
       "</table>\n",
       "</div>"
      ],
      "text/plain": [
       "    uid  year  abatement_tonnes     capex_usd  opex_usd_year  cum_capex_usd  \\\n",
       "0  C001  2025               0.0  0.000000e+00           0.00   0.000000e+00   \n",
       "1  C001  2026           23412.0  1.638479e+08      785940.84   1.638479e+08   \n",
       "2  C001  2027           23411.0  1.638409e+08      785907.27   3.276888e+08   \n",
       "3  C001  2028           23412.0  1.638479e+08      785940.84   4.915368e+08   \n",
       "4  C001  2029           23411.0  1.638409e+08      785907.27   6.553777e+08   \n",
       "\n",
       "   cum_opex_usd  \n",
       "0          0.00  \n",
       "1     785940.84  \n",
       "2    1571848.11  \n",
       "3    2357788.95  \n",
       "4    3143696.22  "
      ]
     },
     "execution_count": 292,
     "metadata": {},
     "output_type": "execute_result"
    }
   ],
   "source": [
    "all_yearly.head()"
   ]
  },
  {
   "cell_type": "code",
   "execution_count": 293,
   "id": "5d751ccb",
   "metadata": {},
   "outputs": [
    {
     "data": {
      "text/html": [
       "<div>\n",
       "<style scoped>\n",
       "    .dataframe tbody tr th:only-of-type {\n",
       "        vertical-align: middle;\n",
       "    }\n",
       "\n",
       "    .dataframe tbody tr th {\n",
       "        vertical-align: top;\n",
       "    }\n",
       "\n",
       "    .dataframe thead th {\n",
       "        text-align: right;\n",
       "    }\n",
       "</style>\n",
       "<table border=\"1\" class=\"dataframe\">\n",
       "  <thead>\n",
       "    <tr style=\"text-align: right;\">\n",
       "      <th></th>\n",
       "      <th>uid</th>\n",
       "      <th>total_capex_usd</th>\n",
       "      <th>total_opex_usd</th>\n",
       "      <th>total_abated_tonnes</th>\n",
       "    </tr>\n",
       "  </thead>\n",
       "  <tbody>\n",
       "    <tr>\n",
       "      <th>0</th>\n",
       "      <td>C001</td>\n",
       "      <td>4.096128e+09</td>\n",
       "      <td>1.964819e+07</td>\n",
       "      <td>585290.0</td>\n",
       "    </tr>\n",
       "    <tr>\n",
       "      <th>1</th>\n",
       "      <td>C002</td>\n",
       "      <td>7.651933e+09</td>\n",
       "      <td>3.670457e+07</td>\n",
       "      <td>1093374.0</td>\n",
       "    </tr>\n",
       "    <tr>\n",
       "      <th>2</th>\n",
       "      <td>C003</td>\n",
       "      <td>2.249050e+10</td>\n",
       "      <td>1.920049e+08</td>\n",
       "      <td>6939120.0</td>\n",
       "    </tr>\n",
       "    <tr>\n",
       "      <th>3</th>\n",
       "      <td>C004</td>\n",
       "      <td>4.827500e+09</td>\n",
       "      <td>4.218650e+07</td>\n",
       "      <td>3222320.0</td>\n",
       "    </tr>\n",
       "    <tr>\n",
       "      <th>4</th>\n",
       "      <td>C005</td>\n",
       "      <td>5.975138e+10</td>\n",
       "      <td>1.110492e+09</td>\n",
       "      <td>0.0</td>\n",
       "    </tr>\n",
       "  </tbody>\n",
       "</table>\n",
       "</div>"
      ],
      "text/plain": [
       "    uid  total_capex_usd  total_opex_usd  total_abated_tonnes\n",
       "0  C001     4.096128e+09    1.964819e+07             585290.0\n",
       "1  C002     7.651933e+09    3.670457e+07            1093374.0\n",
       "2  C003     2.249050e+10    1.920049e+08            6939120.0\n",
       "3  C004     4.827500e+09    4.218650e+07            3222320.0\n",
       "4  C005     5.975138e+10    1.110492e+09                  0.0"
      ]
     },
     "execution_count": 293,
     "metadata": {},
     "output_type": "execute_result"
    }
   ],
   "source": [
    "company_totals.head()"
   ]
  },
  {
   "cell_type": "code",
   "execution_count": null,
   "id": "0b11f01d",
   "metadata": {},
   "outputs": [],
   "source": [
    "\n",
    "\n",
    "def build_tradeoff_table(annual_df, emissions_paths, carbon_prices_full):\n",
    "    # ── 1. Merge emissions + abatement ────────────────────────────────\n",
    "    emis = (emissions_paths\n",
    "            .assign(e_total=lambda d: d['scope1_tonnes'] + d['scope2_tonnes'])\n",
    "            .loc[:, ['uid', 'year', 'gics_sector', 'country', 'e_total']])\n",
    "\n",
    "    abat = (annual_df\n",
    "            .loc[:, ['uid', 'year',\n",
    "                     'abatement_tonnes', 'capex_usd', 'opex_usd_year']]\n",
    "            .sort_values(['uid', 'year'])\n",
    "            .assign(capex_cum=lambda d: d.groupby('uid')['capex_usd'].cumsum(),\n",
    "                    opex_cum =lambda d: d.groupby('uid')['opex_usd_year'].cumsum()))\n",
    "\n",
    "    base = emis.merge(abat, on=['uid', 'year'], how='left').fillna(0)\n",
    "\n",
    "    # ── 2. Cross-join every scenario (Low / Medium / High) ────────────\n",
    "    scenarios = carbon_prices_full['scenario'].unique()\n",
    "    base = (base.assign(key=1)\n",
    "                 .merge(pd.DataFrame({'scenario': scenarios, 'key': 1}),\n",
    "                        on='key').drop('key', axis=1))\n",
    "\n",
    "    # ── 3. Attach carbon prices with Global fallback ──────────────────\n",
    "    price_cols = ['sector', 'region', 'scenario',\n",
    "                  'year', 'carbon_price_usd_tco2e']\n",
    "    prices = carbon_prices_full[price_cols]\n",
    "\n",
    "    df = base.merge(\n",
    "        prices,\n",
    "        left_on =['gics_sector','country','scenario','year'],\n",
    "        right_on=['sector'     ,'region' ,'scenario','year'],\n",
    "        how='left')\n",
    "\n",
    "    miss = df['carbon_price_usd_tco2e'].isna()\n",
    "    if miss.any():\n",
    "        global_prices = prices[prices['region'] == 'Global']\n",
    "        df.loc[miss, 'carbon_price_usd_tco2e'] = (\n",
    "            df[miss]\n",
    "            .merge(global_prices,\n",
    "                   on=['sector','scenario','year'],\n",
    "                   how='left')['carbon_price_usd_tco2e_y']\n",
    "        )\n",
    "\n",
    "    # ── 4. Compute cost metrics ───────────────────────────────────────\n",
    "    df['carbon_cost_without_usd'] = df['e_total'] * df['carbon_price_usd_tco2e']\n",
    "    df['carbon_cost_with_usd']    = (\n",
    "        (df['e_total'] - df['abatement_tonnes']) *\n",
    "        df['carbon_price_usd_tco2e']\n",
    "    )\n",
    "    df['total_cost_with_abatement_usd'] = (\n",
    "        df['capex_cum'] + df['opex_cum'] + df['carbon_cost_with_usd']\n",
    "    )\n",
    "    df['net_savings_usd'] = (\n",
    "        df['carbon_cost_without_usd'] - df['total_cost_with_abatement_usd']\n",
    "    )\n",
    "\n",
    "    return df[['uid','scenario','year',\n",
    "               'carbon_cost_without_usd',\n",
    "               'total_cost_with_abatement_usd',\n",
    "               'net_savings_usd']]\n",
    "\n",
    "tradeoffs = build_tradeoff_table(annual_df, emissions_paths, carbon_prices_full)\n",
    "\n",
    "# ── Export the tradeoff table ───────────────────────────────────────\n",
    "tradeoffs.to_csv(\"tradeoff_table.csv\", index=False)\n"
   ]
  },
  {
   "cell_type": "code",
   "execution_count": null,
   "id": "17dfe66e",
   "metadata": {},
   "outputs": [],
   "source": []
  },
  {
   "cell_type": "code",
   "execution_count": 298,
   "id": "0b10203a",
   "metadata": {},
   "outputs": [],
   "source": [
    "# tradeoffs.head()"
   ]
  },
  {
   "cell_type": "code",
   "execution_count": null,
   "id": "814a7167",
   "metadata": {},
   "outputs": [],
   "source": []
  },
  {
   "cell_type": "code",
   "execution_count": null,
   "id": "1ffdd348",
   "metadata": {},
   "outputs": [],
   "source": []
  }
 ],
 "metadata": {
  "kernelspec": {
   "display_name": "sp_work",
   "language": "python",
   "name": "python3"
  },
  "language_info": {
   "codemirror_mode": {
    "name": "ipython",
    "version": 3
   },
   "file_extension": ".py",
   "mimetype": "text/x-python",
   "name": "python",
   "nbconvert_exporter": "python",
   "pygments_lexer": "ipython3",
   "version": "3.11.13"
  }
 },
 "nbformat": 4,
 "nbformat_minor": 5
}
