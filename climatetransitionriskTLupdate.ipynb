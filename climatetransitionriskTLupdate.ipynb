{
 "cells": [
  {
   "cell_type": "code",
   "execution_count": null,
   "id": "a6644fb7",
   "metadata": {},
   "outputs": [],
   "source": []
  },
  {
   "cell_type": "markdown",
   "id": "f9f947f9",
   "metadata": {},
   "source": []
  },
  {
   "cell_type": "markdown",
   "id": "e8111719",
   "metadata": {},
   "source": [
    "# Transition Risk Analysis\n",
    "\n",
    "## Objective\n",
    "This script analyzes and projects Scope 1 and Scope 2 emissions for companies from 2025 to 2050, calculates carbon costs under different scenarios, evaluates abatement costs, and assesses tradeoffs between paying carbon prices and investing in abatement. The goal is to estimate future emissions paths and financial implications of carbon pricing for companies across various sectors and regions, using data from S&P Global.\n",
    "\n",
    "## Key Functionalities\n",
    "1. **Data Loading and Cleaning**:\n",
    "   - Loads data from an Excel file containing emissions, reduction targets, abatement costs, and carbon prices.\n",
    "   - Cleans data by standardizing column names, handling missing values, and correcting year formats.\n",
    "\n",
    "2. **Emissions Projection**:\n",
    "   - Projects Scope 1 and Scope 2 emissions to 2050 using absolute or intensity-based reduction targets.\n",
    "   - Supports constant production or user-defined growth rates for intensity-based projections.\n",
    "\n",
    "3. **Carbon Pricing Calculations**:\n",
    "   - Computes carbon costs by multiplying projected emissions by scenario-specific carbon prices.\n",
    "   - Includes a fallback to global carbon prices if region-specific prices are unavailable.\n",
    "   - Aggregates abatement costs per company and calculates net savings from abatement vs. paying carbon costs.\n",
    "\n",
    "4. **Visualization**:\n",
    "   - Generates plots, including:\n",
    "     - Stacked area chart of emissions by sector.\n",
    "     - Heatmap of average carbon costs by scenario and year.\n",
    "     - Waterfall chart comparing pay-only vs. abatement costs for a company.\n",
    "     - Box plot of carbon cost distribution by country.\n",
    "     - Scatter plot of abatement investment vs. net savings.\n",
    "     - Carbon price projection curves for a sector and region.\n",
    "\n",
    "## Data Requirements\n",
    "- **Input File**: `S&P Global S1 Transition Risk Data.xlsx` with:\n",
    "  - Table 1: Emissions data (uid, gics_sector, country, year, scope1_tonnes, scope2_tonnes, unit_production, production_volume).\n",
    "  - Table 2: Reduction targets (uid, type_of_target, reduction_target, baseline, endline, etc.).\n",
    "  - Table 3: Abatement costs (uid, abatement_cost_usd_year).\n",
    "  - Table 4: Carbon prices (sector, region, year, scenario, carbon_price_usd_tco2e).\n",
    "- **Dependencies**: `pandas`, `numpy`, `matplotlib`, `seaborn`, `openpyxl`.\n",
    "\n",
    "## Usage\n",
    "- Run the script directly (`transition_risk_analysis.py`) or in a Jupyter notebook.\n",
    "- Ensure the Excel file is in the project directory.\n",
    "- Install dependencies: `pip install pandas numpy matplotlib seaborn openpyxl`.\n",
    "\n",
    "## Notes\n",
    "- Missing values in emissions are imputed using median values by sector and size category.\n",
    "- Carbon prices use region-specific values with a fallback to global prices.\n",
    "- The script assumes a 0% production growth rate; adjust `production_growth_rate` in `project_emissions` if needed."
   ]
  },
  {
   "cell_type": "code",
   "execution_count": 1,
   "id": "8bfbcf14",
   "metadata": {},
   "outputs": [],
   "source": [
    "import pandas as pd\n",
    "import numpy as np\n",
    "import matplotlib.pyplot as plt\n",
    "import seaborn as sns\n",
    "import re\n",
    "from sklearn.linear_model import LinearRegression\n",
    "import numpy as np\n",
    "\n",
    "import pandas as pd\n",
    "import numpy as np\n",
    "import matplotlib.pyplot as plt\n",
    "import seaborn as sns"
   ]
  },
  {
   "cell_type": "code",
   "execution_count": null,
   "id": "d607741f",
   "metadata": {},
   "outputs": [],
   "source": []
  },
  {
   "cell_type": "code",
   "execution_count": 2,
   "id": "671822bb",
   "metadata": {},
   "outputs": [
    {
     "name": "stdout",
     "output_type": "stream",
     "text": [
      "Emissions rows : 50\n",
      "Targets rows   : 50\n",
      "Abatement rows : 60\n",
      "Carbon price rows: 225\n",
      "Merged rows    : 50\n"
     ]
    }
   ],
   "source": [
    "\"\"\"\n",
    "streamlined_transition_risk_etl.py\n",
    "----------------------------------\n",
    "End-to-end ETL for the S&P Global S1 Transition-Risk workbook.\n",
    "\n",
    "Outputs:\n",
    "    df_emissions      – cleaned + imputed emissions (Table 1)\n",
    "    df_targets_clean  – cleaned company targets (Table 2)\n",
    "    df_abatement      – cleaned abatement catalogue (Table 3)\n",
    "    df_carbon_prices  – cleaned carbon-price assumptions (Table 4)\n",
    "    df_merged         – targets ⟷ emissions join, for modelling\n",
    "\"\"\"\n",
    "\n",
    "# ── Imports ─────────────────────────────────────────────────────────────────────\n",
    "import re\n",
    "import numpy as np\n",
    "import pandas as pd\n",
    "import seaborn as sns\n",
    "\n",
    "# ── Global config ──────────────────────────────────────────────────────────────\n",
    "sns.set(style=\"whitegrid\")\n",
    "\n",
    "FILE_PATH = \"S&P Global S1 Transition Risk Data.xlsx\"\n",
    "\n",
    "YEAR_REPLACEMENTS = {\"2,025\": 2025, \"202five\": 2025}\n",
    "COUNTRY_REPLACEMENTS = {\"EUROPE\": \"EU\", \"Europa\": \"EU\"}\n",
    "\n",
    "# ── Helper functions ───────────────────────────────────────────────────────────\n",
    "def clean_country_series(s: pd.Series) -> pd.Series:\n",
    "    \"\"\"Fill missing and harmonise EU shorthand.\"\"\"\n",
    "    return s.fillna(\"Unknown\").replace(COUNTRY_REPLACEMENTS)\n",
    "\n",
    "\n",
    "def clean_year_series(s: pd.Series) -> pd.Series:\n",
    "    \"\"\"Standardise year strings → integers.\"\"\"\n",
    "    s = s.replace(YEAR_REPLACEMENTS).astype(str).str.replace(\",\", \"\").str.strip()\n",
    "    return pd.to_numeric(s, errors=\"coerce\").astype(\"Int64\")\n",
    "\n",
    "\n",
    "def to_numeric_series(s: pd.Series, *, non_neg: bool = True) -> pd.Series:\n",
    "    \"\"\"Coerce to numeric, optionally clipping negatives.\"\"\"\n",
    "    s = pd.to_numeric(s, errors=\"coerce\")\n",
    "    return s.clip(lower=0) if non_neg else s\n",
    "\n",
    "\n",
    "def impute_missing_emissions(df: pd.DataFrame, *, sector: str = \"Materials\") -> pd.DataFrame:\n",
    "    \"\"\"\n",
    "    Fill NA scope-1 / scope-2 values for `sector` with size-bucket medians\n",
    "    (buckets based on production-volume terciles).\n",
    "    \"\"\"\n",
    "    full = df.copy()\n",
    "    sect = full[full[\"gics_sector\"] == sector]\n",
    "\n",
    "    if sect[[\"scope1_tonnes\", \"scope2_tonnes\"]].notna().all(axis=None):\n",
    "        return full  # nothing to do\n",
    "\n",
    "    lo, hi = sect[\"production_volume\"].quantile([0.33, 0.66])\n",
    "\n",
    "    def bucket(v):\n",
    "        if pd.isna(v):\n",
    "            return \"Medium\"\n",
    "        if v <= lo:\n",
    "            return \"Small\"\n",
    "        if v <= hi:\n",
    "            return \"Medium\"\n",
    "        return \"Large\"\n",
    "\n",
    "    sect = sect.assign(size_category=sect[\"production_volume\"].apply(bucket))\n",
    "    med = sect.groupby(\"size_category\")[[\"scope1_tonnes\", \"scope2_tonnes\"]].median()\n",
    "\n",
    "    for col in (\"scope1_tonnes\", \"scope2_tonnes\"):\n",
    "        na_idx = sect[sect[col].isna()].index\n",
    "        for i in na_idx:\n",
    "            full.loc[i, col] = med.loc[sect.at[i, \"size_category\"], col]\n",
    "\n",
    "    return full\n",
    "\n",
    "# ── Helper updates ─────────────────────────────────────────────────────────────\n",
    "YEAR_WORDS = {\n",
    "    \"twenty-twenty\": 2020,\n",
    "    \"twenty twenty\": 2020,\n",
    "    \"2,024\": 2024,\n",
    "    \"202four\": 2024,\n",
    "    \"forty\": 40,           # used in reduction parsing\n",
    "}\n",
    "\n",
    "def clean_year_word(val):\n",
    "    \"\"\"Handle words / commas → nullable int.\"\"\"\n",
    "    if pd.isna(val):\n",
    "        return pd.NA\n",
    "    txt = str(val).strip().lower().replace(\",\", \"\")\n",
    "    if txt in YEAR_WORDS:\n",
    "        return YEAR_WORDS[txt]\n",
    "    return pd.to_numeric(txt, errors=\"coerce\")\n",
    "\n",
    "\n",
    "\n",
    "def split_reduction(val):\n",
    "    \"\"\"\n",
    "    Parse `reduction_target` Free-text → (value, type, unit)\n",
    "       • 40 %  → 0.40, 'absolute', '%'\n",
    "       • 1.2 tCO2e/t           → intensity\n",
    "       • unknown / non-parse   → NaNs\n",
    "    \"\"\"\n",
    "    if pd.isna(val):\n",
    "        return pd.Series([np.nan, \"unknown\", None])\n",
    "    t = str(val).strip().lower()\n",
    "\n",
    "    # exact patterns (e.g. \"40%\" or \"forty%\")\n",
    "    if t in {\"40%\", \"forty%\"}:\n",
    "        return pd.Series([0.40, \"absolute\", \"%\"])\n",
    "\n",
    "    # explicit intensity strings\n",
    "    m = re.match(r\"([0-9]*\\.?[0-9]+)\\s*tco2e/?(.+)?\", t)\n",
    "    if m:\n",
    "        num = float(m.group(1))\n",
    "        unit = f\"tCO2e/{m.group(2).strip()}\" if m.group(2) else \"tCO2e\"\n",
    "        return pd.Series([num, \"intensity\", unit])\n",
    "\n",
    "    # other % entries\n",
    "    if t.endswith(\"%\"):\n",
    "        try:\n",
    "            num = float(t.replace(\"%\", \"\")) / 100\n",
    "            return pd.Series([num, \"absolute\", \"%\"])\n",
    "        except ValueError:\n",
    "            return pd.Series([np.nan, \"absolute\", \"%\"])\n",
    "\n",
    "    # bare number\n",
    "    try:\n",
    "        num = float(t)\n",
    "        num = num / 100 if num > 1 else num\n",
    "        return pd.Series([num, \"absolute\", \"%\"])\n",
    "    except ValueError:\n",
    "        return pd.Series([np.nan, \"unknown\", None])\n",
    "\n",
    "\n",
    "# ── ETL ────────────────────────────────────────────────────────────────────────\n",
    "def run_etl(path: str = FILE_PATH):\n",
    "    # ---- Load all sheets in one go ----\n",
    "    sheets = pd.read_excel(path, sheet_name=None)\n",
    "    raw_emissions = sheets[\"Table 1\"]\n",
    "    raw_targets   = sheets[\"Table 2\"]\n",
    "    raw_abatement = sheets[\"Table 3\"]\n",
    "    raw_prices    = sheets[\"Table 4\"]\n",
    "\n",
    "    # ---- Table 1 – Emissions ----\n",
    "    df_em = raw_emissions.copy()\n",
    "    df_em.columns = [\n",
    "        \"uid\", \"gics_sector\", \"country\", \"year\",\n",
    "        \"scope1_tonnes\", \"scope2_tonnes\",\n",
    "        \"unit_production\", \"production_volume\",\n",
    "    ]\n",
    "    df_em = (\n",
    "        df_em.drop_duplicates(\"uid\")\n",
    "             .assign(\n",
    "                 country = clean_country_series(df_em[\"country\"]),\n",
    "                 year    = clean_year_series(df_em[\"year\"]),\n",
    "                 scope1_tonnes = to_numeric_series(df_em[\"scope1_tonnes\"]),\n",
    "                 scope2_tonnes = to_numeric_series(df_em[\"scope2_tonnes\"]),\n",
    "                 production_volume = pd.to_numeric(\n",
    "                     df_em[\"production_volume\"], errors=\"coerce\"\n",
    "                 ).fillna(0),\n",
    "             )\n",
    "    )\n",
    "    df_em = impute_missing_emissions(df_em, sector=\"Materials\")\n",
    "\n",
    "        # ---- Table 2 – Targets --------------------------------------------------------\n",
    "    df_t = raw_targets.copy()\n",
    "    df_t.columns = [\n",
    "        \"uid\", \"type_of_target\", \"reduction_target\",\n",
    "        \"baseline\", \"endline\", \"comment\",\n",
    "    ]\n",
    "\n",
    "    # 1. clean years\n",
    "    df_t[\"baseline_year\"] = df_t[\"baseline\"].apply(clean_year_word).astype(\"Int64\")\n",
    "    df_t[\"endline_year\"]  = df_t[\"endline\"].apply(clean_year_word).astype(\"Int64\")\n",
    "    df_t = df_t.drop(columns=[\"baseline\", \"endline\"])\n",
    "\n",
    "    # 2. parse reduction_target → value / type / unit\n",
    "    df_t[[\"reduction_value\", \"reduction_type\", \"reduction_unit\"]] = (\n",
    "        df_t[\"reduction_target\"].apply(split_reduction)\n",
    "    )\n",
    "\n",
    "    # 3. **NEW** hard filter: keep only rows that *have* a numeric value\n",
    "    df_t = df_t.dropna(subset=[\"reduction_value\"])\n",
    "\n",
    "    # 4. cast to float once (pd.NA → np.nan is now impossible, but keeps dtype uniform)\n",
    "    df_t[\"reduction_value\"] = df_t[\"reduction_value\"].astype(float)\n",
    "\n",
    "    # 5. tidy + order\n",
    "    df_targets_clean = (\n",
    "        df_t[\n",
    "            [\n",
    "                \"uid\", \"type_of_target\", \"reduction_target\",\n",
    "                \"reduction_value\", \"reduction_type\", \"reduction_unit\",\n",
    "                \"baseline_year\", \"endline_year\", \"comment\",\n",
    "            ]\n",
    "        ]\n",
    "        .sort_values([\"uid\", \"type_of_target\"])\n",
    "        .reset_index(drop=True)\n",
    "    )\n",
    "\n",
    "\n",
    "    # ---- Table 3 – Abatement catalogue ----\n",
    "    df_ab = raw_abatement.copy()\n",
    "    df_ab.columns = [\n",
    "        \"sector\", \"region\", \"technology\",\n",
    "        \"initial_investment_usd_million\",\n",
    "        \"abatement_capacity_tco2e_year\",\n",
    "        \"abatement_cost_usd_tco2e_year\",\n",
    "    ]\n",
    "    df_ab[\"region\"] = df_ab[\"region\"].replace(COUNTRY_REPLACEMENTS)\n",
    "    df_ab[\"abatement_cost_usd_tco2e_year\"] = (\n",
    "        df_ab[\"abatement_cost_usd_tco2e_year\"]\n",
    "              .replace({\"eighty\": 80})\n",
    "              .astype(float)\n",
    "    )\n",
    "    df_ab[\"initial_investment_usd_million\"] = (\n",
    "        df_ab[\"initial_investment_usd_million\"]\n",
    "              .fillna(df_ab.groupby(\"sector\")[\"initial_investment_usd_million\"].transform(\"mean\"))\n",
    "    )\n",
    "\n",
    "    # ---- Table 4 – Carbon prices ----\n",
    "    df_cp = raw_prices.copy()\n",
    "    df_cp.columns = [\"sector\", \"region\", \"year\", \"scenario\", \"carbon_price_usd_tco2e\"]\n",
    "    df_cp[\"region\"] = df_cp[\"region\"].replace(COUNTRY_REPLACEMENTS)\n",
    "    df_cp[\"carbon_price_usd_tco2e\"] = (\n",
    "        pd.to_numeric(df_cp[\"carbon_price_usd_tco2e\"], errors=\"coerce\")\n",
    "          .fillna(df_cp.groupby(\"scenario\")[\"carbon_price_usd_tco2e\"].transform(\"median\"))\n",
    "    )\n",
    "\n",
    "    # ---- Join targets ↔ emissions ----\n",
    "    df_merged = (\n",
    "        df_targets_clean\n",
    "            .merge(df_em, on=\"uid\", how=\"left\", indicator=True)\n",
    "            .rename(columns={\"_merge\": \"merge_status\"})\n",
    "    )\n",
    "\n",
    "    return df_em, df_targets_clean, df_ab, df_cp, df_merged\n",
    "\n",
    "\n",
    "# ── Script entry-point ─────────────────────────────────────────────────────────\n",
    "if __name__ == \"__main__\":\n",
    "    # Enable pandas future warnings once for reproducibility\n",
    "    pd.set_option(\"future.no_silent_downcasting\", True)\n",
    "\n",
    "    (\n",
    "        df_emissions,\n",
    "        df_targets_clean,\n",
    "        df_abatement,\n",
    "        df_carbon_prices,\n",
    "        df_merged,\n",
    "    ) = run_etl()\n",
    "\n",
    "    # Quick sanity printout\n",
    "    print(f\"Emissions rows : {len(df_emissions):,}\")\n",
    "    print(f\"Targets rows   : {len(df_targets_clean):,}\")\n",
    "    print(f\"Abatement rows : {len(df_abatement):,}\")\n",
    "    print(f\"Carbon price rows: {len(df_carbon_prices):,}\")\n",
    "    print(f\"Merged rows    : {len(df_merged):,}\")\n"
   ]
  },
  {
   "cell_type": "code",
   "execution_count": 3,
   "id": "1e78f202",
   "metadata": {},
   "outputs": [
    {
     "data": {
      "text/html": [
       "<div>\n",
       "<style scoped>\n",
       "    .dataframe tbody tr th:only-of-type {\n",
       "        vertical-align: middle;\n",
       "    }\n",
       "\n",
       "    .dataframe tbody tr th {\n",
       "        vertical-align: top;\n",
       "    }\n",
       "\n",
       "    .dataframe thead th {\n",
       "        text-align: right;\n",
       "    }\n",
       "</style>\n",
       "<table border=\"1\" class=\"dataframe\">\n",
       "  <thead>\n",
       "    <tr style=\"text-align: right;\">\n",
       "      <th></th>\n",
       "      <th>uid</th>\n",
       "      <th>type_of_target</th>\n",
       "      <th>reduction_target</th>\n",
       "      <th>reduction_value</th>\n",
       "      <th>reduction_type</th>\n",
       "      <th>reduction_unit</th>\n",
       "      <th>baseline_year</th>\n",
       "      <th>endline_year</th>\n",
       "      <th>comment</th>\n",
       "    </tr>\n",
       "  </thead>\n",
       "  <tbody>\n",
       "    <tr>\n",
       "      <th>0</th>\n",
       "      <td>C001</td>\n",
       "      <td>Scope 2</td>\n",
       "      <td>0.547</td>\n",
       "      <td>0.547</td>\n",
       "      <td>absolute</td>\n",
       "      <td>%</td>\n",
       "      <td>2019</td>\n",
       "      <td>2050</td>\n",
       "      <td>NaN</td>\n",
       "    </tr>\n",
       "    <tr>\n",
       "      <th>1</th>\n",
       "      <td>C002</td>\n",
       "      <td>Scope 1</td>\n",
       "      <td>0.35 tCO2e/MWh</td>\n",
       "      <td>0.350</td>\n",
       "      <td>intensity</td>\n",
       "      <td>tCO2e/mwh</td>\n",
       "      <td>2020</td>\n",
       "      <td>2050</td>\n",
       "      <td>NaN</td>\n",
       "    </tr>\n",
       "    <tr>\n",
       "      <th>2</th>\n",
       "      <td>C003</td>\n",
       "      <td>Scope 1</td>\n",
       "      <td>0.348</td>\n",
       "      <td>0.348</td>\n",
       "      <td>absolute</td>\n",
       "      <td>%</td>\n",
       "      <td>2018</td>\n",
       "      <td>2050</td>\n",
       "      <td>NaN</td>\n",
       "    </tr>\n",
       "    <tr>\n",
       "      <th>3</th>\n",
       "      <td>C003</td>\n",
       "      <td>Scope 2</td>\n",
       "      <td>0.256</td>\n",
       "      <td>0.256</td>\n",
       "      <td>absolute</td>\n",
       "      <td>%</td>\n",
       "      <td>2019</td>\n",
       "      <td>2030</td>\n",
       "      <td>NaN</td>\n",
       "    </tr>\n",
       "    <tr>\n",
       "      <th>4</th>\n",
       "      <td>C004</td>\n",
       "      <td>Scope 2</td>\n",
       "      <td>0.188</td>\n",
       "      <td>0.188</td>\n",
       "      <td>absolute</td>\n",
       "      <td>%</td>\n",
       "      <td>2024</td>\n",
       "      <td>2050</td>\n",
       "      <td>NaN</td>\n",
       "    </tr>\n",
       "  </tbody>\n",
       "</table>\n",
       "</div>"
      ],
      "text/plain": [
       "    uid type_of_target reduction_target  reduction_value reduction_type  \\\n",
       "0  C001        Scope 2            0.547            0.547       absolute   \n",
       "1  C002        Scope 1   0.35 tCO2e/MWh            0.350      intensity   \n",
       "2  C003        Scope 1            0.348            0.348       absolute   \n",
       "3  C003        Scope 2            0.256            0.256       absolute   \n",
       "4  C004        Scope 2            0.188            0.188       absolute   \n",
       "\n",
       "  reduction_unit  baseline_year  endline_year comment  \n",
       "0              %           2019          2050     NaN  \n",
       "1      tCO2e/mwh           2020          2050     NaN  \n",
       "2              %           2018          2050     NaN  \n",
       "3              %           2019          2030     NaN  \n",
       "4              %           2024          2050     NaN  "
      ]
     },
     "execution_count": 3,
     "metadata": {},
     "output_type": "execute_result"
    }
   ],
   "source": [
    "df_targets_clean.head()"
   ]
  },
  {
   "cell_type": "code",
   "execution_count": 4,
   "id": "4e83a751",
   "metadata": {},
   "outputs": [
    {
     "data": {
      "text/html": [
       "<div>\n",
       "<style scoped>\n",
       "    .dataframe tbody tr th:only-of-type {\n",
       "        vertical-align: middle;\n",
       "    }\n",
       "\n",
       "    .dataframe tbody tr th {\n",
       "        vertical-align: top;\n",
       "    }\n",
       "\n",
       "    .dataframe thead th {\n",
       "        text-align: right;\n",
       "    }\n",
       "</style>\n",
       "<table border=\"1\" class=\"dataframe\">\n",
       "  <thead>\n",
       "    <tr style=\"text-align: right;\">\n",
       "      <th></th>\n",
       "      <th>uid</th>\n",
       "      <th>type_of_target</th>\n",
       "      <th>reduction_target</th>\n",
       "      <th>reduction_value</th>\n",
       "      <th>reduction_type</th>\n",
       "      <th>reduction_unit</th>\n",
       "      <th>baseline_year</th>\n",
       "      <th>endline_year</th>\n",
       "      <th>comment</th>\n",
       "      <th>gics_sector</th>\n",
       "      <th>country</th>\n",
       "      <th>year</th>\n",
       "      <th>scope1_tonnes</th>\n",
       "      <th>scope2_tonnes</th>\n",
       "      <th>unit_production</th>\n",
       "      <th>production_volume</th>\n",
       "      <th>merge_status</th>\n",
       "    </tr>\n",
       "  </thead>\n",
       "  <tbody>\n",
       "    <tr>\n",
       "      <th>0</th>\n",
       "      <td>C001</td>\n",
       "      <td>Scope 2</td>\n",
       "      <td>0.547</td>\n",
       "      <td>0.547</td>\n",
       "      <td>absolute</td>\n",
       "      <td>%</td>\n",
       "      <td>2019</td>\n",
       "      <td>2050</td>\n",
       "      <td>NaN</td>\n",
       "      <td>Real Estate</td>\n",
       "      <td>Global</td>\n",
       "      <td>2025</td>\n",
       "      <td>21510000.0</td>\n",
       "      <td>1070000.0</td>\n",
       "      <td>m2 building</td>\n",
       "      <td>46280000.0</td>\n",
       "      <td>both</td>\n",
       "    </tr>\n",
       "    <tr>\n",
       "      <th>1</th>\n",
       "      <td>C002</td>\n",
       "      <td>Scope 1</td>\n",
       "      <td>0.35 tCO2e/MWh</td>\n",
       "      <td>0.350</td>\n",
       "      <td>intensity</td>\n",
       "      <td>tCO2e/mwh</td>\n",
       "      <td>2020</td>\n",
       "      <td>2050</td>\n",
       "      <td>NaN</td>\n",
       "      <td>Energy</td>\n",
       "      <td>Brazil</td>\n",
       "      <td>2025</td>\n",
       "      <td>6570000.0</td>\n",
       "      <td>17510000.0</td>\n",
       "      <td>MWh</td>\n",
       "      <td>40950000.0</td>\n",
       "      <td>both</td>\n",
       "    </tr>\n",
       "    <tr>\n",
       "      <th>2</th>\n",
       "      <td>C003</td>\n",
       "      <td>Scope 1</td>\n",
       "      <td>0.348</td>\n",
       "      <td>0.348</td>\n",
       "      <td>absolute</td>\n",
       "      <td>%</td>\n",
       "      <td>2018</td>\n",
       "      <td>2050</td>\n",
       "      <td>NaN</td>\n",
       "      <td>Energy</td>\n",
       "      <td>EU</td>\n",
       "      <td>2025</td>\n",
       "      <td>19940000.0</td>\n",
       "      <td>7720000.0</td>\n",
       "      <td>MWh</td>\n",
       "      <td>69790000.0</td>\n",
       "      <td>both</td>\n",
       "    </tr>\n",
       "    <tr>\n",
       "      <th>3</th>\n",
       "      <td>C003</td>\n",
       "      <td>Scope 2</td>\n",
       "      <td>0.256</td>\n",
       "      <td>0.256</td>\n",
       "      <td>absolute</td>\n",
       "      <td>%</td>\n",
       "      <td>2019</td>\n",
       "      <td>2030</td>\n",
       "      <td>NaN</td>\n",
       "      <td>Energy</td>\n",
       "      <td>EU</td>\n",
       "      <td>2025</td>\n",
       "      <td>19940000.0</td>\n",
       "      <td>7720000.0</td>\n",
       "      <td>MWh</td>\n",
       "      <td>69790000.0</td>\n",
       "      <td>both</td>\n",
       "    </tr>\n",
       "    <tr>\n",
       "      <th>4</th>\n",
       "      <td>C004</td>\n",
       "      <td>Scope 2</td>\n",
       "      <td>0.188</td>\n",
       "      <td>0.188</td>\n",
       "      <td>absolute</td>\n",
       "      <td>%</td>\n",
       "      <td>2024</td>\n",
       "      <td>2050</td>\n",
       "      <td>NaN</td>\n",
       "      <td>Consumer Discretionary</td>\n",
       "      <td>Unknown</td>\n",
       "      <td>2025</td>\n",
       "      <td>13340000.0</td>\n",
       "      <td>17140000.0</td>\n",
       "      <td>unit</td>\n",
       "      <td>98870000.0</td>\n",
       "      <td>both</td>\n",
       "    </tr>\n",
       "  </tbody>\n",
       "</table>\n",
       "</div>"
      ],
      "text/plain": [
       "    uid type_of_target reduction_target  reduction_value reduction_type  \\\n",
       "0  C001        Scope 2            0.547            0.547       absolute   \n",
       "1  C002        Scope 1   0.35 tCO2e/MWh            0.350      intensity   \n",
       "2  C003        Scope 1            0.348            0.348       absolute   \n",
       "3  C003        Scope 2            0.256            0.256       absolute   \n",
       "4  C004        Scope 2            0.188            0.188       absolute   \n",
       "\n",
       "  reduction_unit  baseline_year  endline_year comment             gics_sector  \\\n",
       "0              %           2019          2050     NaN             Real Estate   \n",
       "1      tCO2e/mwh           2020          2050     NaN                  Energy   \n",
       "2              %           2018          2050     NaN                  Energy   \n",
       "3              %           2019          2030     NaN                  Energy   \n",
       "4              %           2024          2050     NaN  Consumer Discretionary   \n",
       "\n",
       "   country  year  scope1_tonnes  scope2_tonnes unit_production  \\\n",
       "0   Global  2025     21510000.0      1070000.0     m2 building   \n",
       "1   Brazil  2025      6570000.0     17510000.0             MWh   \n",
       "2       EU  2025     19940000.0      7720000.0             MWh   \n",
       "3       EU  2025     19940000.0      7720000.0             MWh   \n",
       "4  Unknown  2025     13340000.0     17140000.0            unit   \n",
       "\n",
       "   production_volume merge_status  \n",
       "0         46280000.0         both  \n",
       "1         40950000.0         both  \n",
       "2         69790000.0         both  \n",
       "3         69790000.0         both  \n",
       "4         98870000.0         both  "
      ]
     },
     "execution_count": 4,
     "metadata": {},
     "output_type": "execute_result"
    }
   ],
   "source": [
    "df_merged.head()"
   ]
  },
  {
   "cell_type": "code",
   "execution_count": 5,
   "id": "b899d17e",
   "metadata": {},
   "outputs": [
    {
     "data": {
      "text/html": [
       "<div>\n",
       "<style scoped>\n",
       "    .dataframe tbody tr th:only-of-type {\n",
       "        vertical-align: middle;\n",
       "    }\n",
       "\n",
       "    .dataframe tbody tr th {\n",
       "        vertical-align: top;\n",
       "    }\n",
       "\n",
       "    .dataframe thead th {\n",
       "        text-align: right;\n",
       "    }\n",
       "</style>\n",
       "<table border=\"1\" class=\"dataframe\">\n",
       "  <thead>\n",
       "    <tr style=\"text-align: right;\">\n",
       "      <th></th>\n",
       "      <th>uid</th>\n",
       "      <th>type_of_target</th>\n",
       "      <th>reduction_target</th>\n",
       "      <th>reduction_value</th>\n",
       "      <th>reduction_type</th>\n",
       "      <th>reduction_unit</th>\n",
       "      <th>baseline_year</th>\n",
       "      <th>endline_year</th>\n",
       "      <th>comment</th>\n",
       "      <th>gics_sector</th>\n",
       "      <th>country</th>\n",
       "      <th>year</th>\n",
       "      <th>scope1_tonnes</th>\n",
       "      <th>scope2_tonnes</th>\n",
       "      <th>unit_production</th>\n",
       "      <th>production_volume</th>\n",
       "      <th>merge_status</th>\n",
       "    </tr>\n",
       "  </thead>\n",
       "  <tbody>\n",
       "  </tbody>\n",
       "</table>\n",
       "</div>"
      ],
      "text/plain": [
       "Empty DataFrame\n",
       "Columns: [uid, type_of_target, reduction_target, reduction_value, reduction_type, reduction_unit, baseline_year, endline_year, comment, gics_sector, country, year, scope1_tonnes, scope2_tonnes, unit_production, production_volume, merge_status]\n",
       "Index: []"
      ]
     },
     "execution_count": 5,
     "metadata": {},
     "output_type": "execute_result"
    }
   ],
   "source": [
    "df_merged.query(\"uid == 'C026'\").head()"
   ]
  },
  {
   "cell_type": "code",
   "execution_count": 6,
   "id": "b3e9b1c8",
   "metadata": {},
   "outputs": [
    {
     "data": {
      "text/html": [
       "<div>\n",
       "<style scoped>\n",
       "    .dataframe tbody tr th:only-of-type {\n",
       "        vertical-align: middle;\n",
       "    }\n",
       "\n",
       "    .dataframe tbody tr th {\n",
       "        vertical-align: top;\n",
       "    }\n",
       "\n",
       "    .dataframe thead th {\n",
       "        text-align: right;\n",
       "    }\n",
       "</style>\n",
       "<table border=\"1\" class=\"dataframe\">\n",
       "  <thead>\n",
       "    <tr style=\"text-align: right;\">\n",
       "      <th></th>\n",
       "      <th>uid</th>\n",
       "      <th>type_of_target</th>\n",
       "      <th>reduction_target</th>\n",
       "      <th>reduction_value</th>\n",
       "      <th>reduction_type</th>\n",
       "      <th>reduction_unit</th>\n",
       "      <th>baseline_year</th>\n",
       "      <th>endline_year</th>\n",
       "      <th>comment</th>\n",
       "    </tr>\n",
       "  </thead>\n",
       "  <tbody>\n",
       "  </tbody>\n",
       "</table>\n",
       "</div>"
      ],
      "text/plain": [
       "Empty DataFrame\n",
       "Columns: [uid, type_of_target, reduction_target, reduction_value, reduction_type, reduction_unit, baseline_year, endline_year, comment]\n",
       "Index: []"
      ]
     },
     "execution_count": 6,
     "metadata": {},
     "output_type": "execute_result"
    }
   ],
   "source": [
    "df_targets_clean.query(\"uid == 'C026'\").head()"
   ]
  },
  {
   "cell_type": "code",
   "execution_count": 7,
   "id": "70185001",
   "metadata": {},
   "outputs": [
    {
     "data": {
      "text/html": [
       "<div>\n",
       "<style scoped>\n",
       "    .dataframe tbody tr th:only-of-type {\n",
       "        vertical-align: middle;\n",
       "    }\n",
       "\n",
       "    .dataframe tbody tr th {\n",
       "        vertical-align: top;\n",
       "    }\n",
       "\n",
       "    .dataframe thead th {\n",
       "        text-align: right;\n",
       "    }\n",
       "</style>\n",
       "<table border=\"1\" class=\"dataframe\">\n",
       "  <thead>\n",
       "    <tr style=\"text-align: right;\">\n",
       "      <th></th>\n",
       "      <th>uid</th>\n",
       "      <th>gics_sector</th>\n",
       "      <th>country</th>\n",
       "      <th>year</th>\n",
       "      <th>scope1_tonnes</th>\n",
       "      <th>scope2_tonnes</th>\n",
       "      <th>unit_production</th>\n",
       "      <th>production_volume</th>\n",
       "    </tr>\n",
       "  </thead>\n",
       "  <tbody>\n",
       "    <tr>\n",
       "      <th>25</th>\n",
       "      <td>C026</td>\n",
       "      <td>Consumer Discretionary</td>\n",
       "      <td>USA</td>\n",
       "      <td>2025</td>\n",
       "      <td>25900000.0</td>\n",
       "      <td>1060000.0</td>\n",
       "      <td>unit</td>\n",
       "      <td>78590000.0</td>\n",
       "    </tr>\n",
       "  </tbody>\n",
       "</table>\n",
       "</div>"
      ],
      "text/plain": [
       "     uid             gics_sector country  year  scope1_tonnes  scope2_tonnes  \\\n",
       "25  C026  Consumer Discretionary     USA  2025     25900000.0      1060000.0   \n",
       "\n",
       "   unit_production  production_volume  \n",
       "25            unit         78590000.0  "
      ]
     },
     "execution_count": 7,
     "metadata": {},
     "output_type": "execute_result"
    }
   ],
   "source": [
    "df_emissions.query(\"uid == 'C026'\").head()"
   ]
  },
  {
   "cell_type": "markdown",
   "id": "a8b36639",
   "metadata": {},
   "source": [
    "Merge Emissions and Targets dataframe and clean and standardize"
   ]
  },
  {
   "cell_type": "code",
   "execution_count": null,
   "id": "3b5cc330",
   "metadata": {},
   "outputs": [],
   "source": []
  },
  {
   "cell_type": "code",
   "execution_count": null,
   "id": "b6d84ddb",
   "metadata": {},
   "outputs": [],
   "source": [
    "df_targets.head()"
   ]
  },
  {
   "cell_type": "code",
   "execution_count": null,
   "id": "abfc30f4",
   "metadata": {},
   "outputs": [],
   "source": [
    "df_targets_clean.head()"
   ]
  },
  {
   "cell_type": "code",
   "execution_count": null,
   "id": "28fec8fa",
   "metadata": {},
   "outputs": [],
   "source": [
    "df_merged.head()"
   ]
  },
  {
   "cell_type": "code",
   "execution_count": null,
   "id": "d2bff464",
   "metadata": {},
   "outputs": [],
   "source": [
    "# filter for uid equal C011 \n",
    "# df_filtered = df_merged[df_merged['uid'] == 'C011'].copy()"
   ]
  },
  {
   "cell_type": "code",
   "execution_count": 8,
   "id": "1c58d45a",
   "metadata": {},
   "outputs": [],
   "source": [
    "\n",
    "\n",
    "def project_emissions(\n",
    "    row: pd.Series,\n",
    "    years: np.ndarray = np.arange(2025, 2051),\n",
    "    scenarios: dict | None = None,\n",
    "    interpolation_method: str = \"linear\",\n",
    "    *,\n",
    "    targets_df: pd.DataFrame = df_targets_clean,   # injected once, stays global\n",
    ") -> pd.DataFrame:\n",
    "    \"\"\"\n",
    "    Project Scope-1 & Scope-2 emissions for ONE company, 2025-2050.\n",
    "\n",
    "    Assumptions revised:\n",
    "    • `scope1_tonnes`, `scope2_tonnes`, `baseline_production_volume`\n",
    "      already represent the company’s *actual 2025* values.\n",
    "    • No growth is applied to bring earlier-baseline figures up to 2025.\n",
    "    • Reductions (absolute or intensity) start in 2026 or later.\n",
    "    \"\"\"\n",
    "    # ───────────────────────────────────────────────────────────────\n",
    "    # A.  Filter out Scope-3-only rows\n",
    "    # ───────────────────────────────────────────────────────────────\n",
    "    if \"scope 3\" in str(row.get(\"type_of_target\", \"\")).lower():\n",
    "        return pd.DataFrame()\n",
    "\n",
    "    uid          = row[\"uid\"]\n",
    "    tgt_scope    = row[\"type_of_target\"]            # \"Scope 1\" / \"Scope 2\" / \"Direct\"\n",
    "    base_prod    = row.get(\"baseline_production_volume\", 0)\n",
    "    g_rate       = row.get(\"production_growth_rate\", 0.0)\n",
    "\n",
    "    # 2025 anchor tonnages (already correct and *static*)\n",
    "    s1_2025 = row.get(\"scope1_tonnes\")\n",
    "    s2_2025 = row.get(\"scope2_tonnes\")\n",
    "\n",
    "    # ───────────────────────────────────────────────────────────────\n",
    "    # B.  Fallbacks if 2025 tonnages are missing\n",
    "    #     (copy baseline value *as-is* – NO growth)\n",
    "    # ───────────────────────────────────────────────────────────────\n",
    "    need_s1 = not tgt_scope.lower().startswith(\"scope 2\")\n",
    "    need_s2 = not tgt_scope.lower().startswith(\"scope 1\")\n",
    "\n",
    "    if pd.isna(s1_2025) and need_s1:\n",
    "        s1_2025 = row.get(\"baseline_scope1_tonnes\")\n",
    "        if pd.isna(s1_2025) and base_prod > 0:\n",
    "            s1_2025 = row.get(\"baseline_scope1_intensity\") * base_prod\n",
    "\n",
    "    if pd.isna(s2_2025) and need_s2:\n",
    "        s2_2025 = row.get(\"baseline_scope2_tonnes\")\n",
    "        if pd.isna(s2_2025) and base_prod > 0:\n",
    "            s2_2025 = row.get(\"baseline_scope2_intensity\") * base_prod\n",
    "\n",
    "    # must now have every required 2025 anchor\n",
    "    if (need_s1 and pd.isna(s1_2025)) or (need_s2 and pd.isna(s2_2025)):\n",
    "        raise ValueError(f\"{uid}: missing 2025 Scope-1/2 values required for projection.\")\n",
    "\n",
    "    # replace unused scopes with zero\n",
    "    s1_2025 = 0 if pd.isna(s1_2025) else float(s1_2025)\n",
    "    s2_2025 = 0 if pd.isna(s2_2025) else float(s2_2025)\n",
    "\n",
    "    # keep a true 2025 production anchor\n",
    "    prod_2025 = float(base_prod)\n",
    "\n",
    "    # ───────────────────────────────────────────────────────────────\n",
    "    # C.  Pick this company’s targets (same uid + scope)\n",
    "    # ───────────────────────────────────────────────────────────────\n",
    "    tgt_mask = targets_df[\"uid\"].eq(uid)\n",
    "    if tgt_scope.lower().startswith(\"scope 1\"):\n",
    "        tgt_mask &= targets_df[\"type_of_target\"].str.startswith(\"Scope 1\")\n",
    "    elif tgt_scope.lower().startswith(\"scope 2\"):\n",
    "        tgt_mask &= targets_df[\"type_of_target\"].str.startswith(\"Scope 2\")\n",
    "\n",
    "    targets = (\n",
    "        targets_df.loc[tgt_mask]\n",
    "                  .dropna(subset=[\"reduction_value\", \"endline_year\"])\n",
    "                  .assign(endline_year=lambda d: d[\"endline_year\"].astype(int))\n",
    "                  .query(\"endline_year > 2025\")\n",
    "                  .copy()\n",
    "    )\n",
    "\n",
    "    # ───────────────────────────────────────────────────────────────\n",
    "    # D.  Default scenario if none given\n",
    "    # ───────────────────────────────────────────────────────────────\n",
    "    if scenarios is None:\n",
    "        scenarios = {\"default\": {\"growth_rate\": g_rate,\n",
    "                                 \"interpolation\": interpolation_method}}\n",
    "\n",
    "    # helper for absolute-reduction curves\n",
    "    def _apply_absolute(base_val, reduction, n_years, yr, interp):\n",
    "        tgt_val = base_val * (1 - reduction)\n",
    "        drop    = base_val - tgt_val\n",
    "        if interp == \"linear\":\n",
    "            frac = min((yr - 2025) / n_years, 1)\n",
    "            return base_val - drop * frac\n",
    "        elif interp == \"exponential\":\n",
    "            r = (1 - reduction) ** (1 / n_years)\n",
    "            return base_val * r ** (yr - 2025) if yr <= 2025 + n_years else tgt_val\n",
    "        elif interp == \"s_curve\":\n",
    "            k  = 9.21 / n_years\n",
    "            t0 = 2025 + n_years / 2\n",
    "            frac = 1 / (1 + np.exp(-k * (yr - t0))) if yr <= 2025 + n_years else 1\n",
    "            return base_val - drop * frac\n",
    "        else:\n",
    "            raise ValueError(f\"Unknown interpolation '{interp}'\")\n",
    "\n",
    "    # ───────────────────────────────────────────────────────────────\n",
    "    # E.  Build pathway rows\n",
    "    # ───────────────────────────────────────────────────────────────\n",
    "    rows = []\n",
    "\n",
    "    for scen, cfg in scenarios.items():\n",
    "        g_r   = cfg.get(\"growth_rate\", g_rate)\n",
    "        interp= cfg.get(\"interpolation\", interpolation_method)\n",
    "\n",
    "        for yr in years:\n",
    "            s1, s2 = s1_2025, s2_2025     # reset every year\n",
    "\n",
    "            # apply all targets that matter\n",
    "            for _, tgt in targets.iterrows():\n",
    "                nY = tgt[\"endline_year\"] - 2025\n",
    "                if nY <= 0:\n",
    "                    continue\n",
    "\n",
    "                red_val = tgt[\"reduction_value\"]\n",
    "                red_typ = tgt[\"reduction_type\"]\n",
    "                t_scope = tgt[\"type_of_target\"]\n",
    "\n",
    "                # ----- absolute reduction ----------------------------------\n",
    "                if red_typ == \"absolute\":\n",
    "                    if t_scope.startswith(\"Scope 1\"):\n",
    "                        s1 = _apply_absolute(s1_2025, red_val, nY, yr, interp)\n",
    "                    elif t_scope.startswith(\"Scope 2\"):\n",
    "                        s2 = _apply_absolute(s2_2025, red_val, nY, yr, interp)\n",
    "                    else:  # \"Direct\"\n",
    "                        T0 = s1_2025 + s2_2025\n",
    "                        Tt = _apply_absolute(T0, red_val, nY, yr, interp)\n",
    "                        if T0:\n",
    "                            s1 = Tt * s1_2025 / T0\n",
    "                            s2 = Tt * s2_2025 / T0\n",
    "\n",
    "                # ----- intensity reduction --------------------------------\n",
    "                else:\n",
    "                    if prod_2025 == 0:      # nothing to scale\n",
    "                        continue\n",
    "                    prod_yr = (\n",
    "                        prod_2025 if yr == 2025\n",
    "                        else prod_2025 * (1 + g_r) ** (yr - 2025)\n",
    "                    )\n",
    "\n",
    "                    def _apply_intensity(base_I):\n",
    "                        return _apply_absolute(base_I, red_val, nY, yr, interp)\n",
    "\n",
    "                    if t_scope.startswith(\"Scope 1\"):\n",
    "                        I0 = s1_2025 / prod_2025\n",
    "                        s1 = _apply_intensity(I0) * prod_yr\n",
    "                    elif t_scope.startswith(\"Scope 2\"):\n",
    "                        I0 = s2_2025 / prod_2025\n",
    "                        s2 = _apply_intensity(I0) * prod_yr\n",
    "                    else:\n",
    "                        I0 = (s1_2025 + s2_2025) / prod_2025\n",
    "                        It = _apply_intensity(I0) * prod_yr\n",
    "                        frac = s1_2025 / (s1_2025 + s2_2025) if s1_2025 + s2_2025 else 0\n",
    "                        s1, s2 = It * frac, It * (1 - frac)\n",
    "\n",
    "            # what counts toward the company’s own KPI?\n",
    "            if tgt_scope.lower().startswith(\"scope 1\"):\n",
    "                tgt_em = round(s1)\n",
    "            elif tgt_scope.lower().startswith(\"scope 2\"):\n",
    "                tgt_em = round(s2)\n",
    "            else:  # \"Direct\"\n",
    "                tgt_em = round(s1 + s2)\n",
    "\n",
    "            rows.append({\n",
    "                \"uid\": uid,\n",
    "                \"gics_sector\": row[\"gics_sector\"],\n",
    "                \"country\": row[\"country\"],\n",
    "                \"type_of_target\": tgt_scope,\n",
    "                \"year\": yr,\n",
    "                \"scope1_tonnes\": round(s1),\n",
    "                \"scope2_tonnes\": round(s2),\n",
    "                \"targeted_emissions\": tgt_em,\n",
    "                \"scenario\": scen,\n",
    "            })\n",
    "\n",
    "    return pd.DataFrame(rows)\n"
   ]
  },
  {
   "cell_type": "code",
   "execution_count": null,
   "id": "7c850cce",
   "metadata": {},
   "outputs": [],
   "source": [
    "df_merged.reduction_value.unique()"
   ]
  },
  {
   "cell_type": "code",
   "execution_count": 9,
   "id": "0bee1955",
   "metadata": {},
   "outputs": [],
   "source": [
    "# Corrected scenarios dictionary\n",
    "scenarios = {\n",
    "    'low': {'growth_rate': 0.0, 'interpolation': 'linear'},\n",
    "    'med': {'growth_rate': 0.01, 'interpolation': 'linear'},\n",
    "    'high': {'growth_rate': 0.02, 'interpolation': 'linear'},\n",
    "    # 's_curve_low': {'growth_rate': 0.0, 'interpolation': 's_curve'},\n",
    "    # 's_curve_med': {'growth_rate': 0.01, 'interpolation': 's_curve'},\n",
    "    # 's_curve_high': {'growth_rate': 0.02, 'interpolation': 's_curve'}\n",
    "}\n",
    "\n",
    "# Run the projection\n",
    "# emissions_paths = project_emissions(df_merged, scenarios=scenarios)\n",
    "# Apply the function and concatenate results\n",
    "emissions_paths_list = df_merged.apply(\n",
    "    lambda row: project_emissions(row, scenarios=scenarios), axis=1\n",
    ").tolist()\n",
    "emissions_paths = pd.concat(emissions_paths_list, ignore_index=True)\n",
    "\n",
    "# Define mappings\n",
    "growth_rate_mapping = {\n",
    "    'low': 0.0,\n",
    "    'med': 0.01,\n",
    "    'high': 0.02,\n",
    "    # 's_curve_low': 0.0,\n",
    "    # 's_curve_med': 0.01,\n",
    "    # 's_curve_high': 0.02\n",
    "}\n",
    "\n",
    "interpolation_mapping = {\n",
    "    'low': 'linear',\n",
    "    'med': 'linear',\n",
    "    'high': 'linear',\n",
    "    # 's_curve_low': 's_curve',\n",
    "    # 's_curve_med': 's_curve',\n",
    "    # 's_curve_high': 's_curve'\n",
    "}\n",
    "\n",
    "# Add columns\n",
    "emissions_paths['growth_rate'] = emissions_paths['scenario'].map(growth_rate_mapping)\n",
    "emissions_paths['interpolation_method'] = emissions_paths['scenario'].map(interpolation_mapping)\n",
    "\n"
   ]
  },
  {
   "cell_type": "code",
   "execution_count": 10,
   "id": "b8c7a669",
   "metadata": {},
   "outputs": [
    {
     "data": {
      "text/html": [
       "<div>\n",
       "<style scoped>\n",
       "    .dataframe tbody tr th:only-of-type {\n",
       "        vertical-align: middle;\n",
       "    }\n",
       "\n",
       "    .dataframe tbody tr th {\n",
       "        vertical-align: top;\n",
       "    }\n",
       "\n",
       "    .dataframe thead th {\n",
       "        text-align: right;\n",
       "    }\n",
       "</style>\n",
       "<table border=\"1\" class=\"dataframe\">\n",
       "  <thead>\n",
       "    <tr style=\"text-align: right;\">\n",
       "      <th></th>\n",
       "      <th>uid</th>\n",
       "      <th>gics_sector</th>\n",
       "      <th>country</th>\n",
       "      <th>type_of_target</th>\n",
       "      <th>year</th>\n",
       "      <th>scope1_tonnes</th>\n",
       "      <th>scope2_tonnes</th>\n",
       "      <th>targeted_emissions</th>\n",
       "      <th>scenario</th>\n",
       "      <th>growth_rate</th>\n",
       "      <th>interpolation_method</th>\n",
       "    </tr>\n",
       "  </thead>\n",
       "  <tbody>\n",
       "    <tr>\n",
       "      <th>0</th>\n",
       "      <td>C001</td>\n",
       "      <td>Real Estate</td>\n",
       "      <td>Global</td>\n",
       "      <td>Scope 2</td>\n",
       "      <td>2025</td>\n",
       "      <td>21510000</td>\n",
       "      <td>1070000</td>\n",
       "      <td>1070000</td>\n",
       "      <td>low</td>\n",
       "      <td>0.0</td>\n",
       "      <td>linear</td>\n",
       "    </tr>\n",
       "    <tr>\n",
       "      <th>1</th>\n",
       "      <td>C001</td>\n",
       "      <td>Real Estate</td>\n",
       "      <td>Global</td>\n",
       "      <td>Scope 2</td>\n",
       "      <td>2026</td>\n",
       "      <td>21510000</td>\n",
       "      <td>1046588</td>\n",
       "      <td>1046588</td>\n",
       "      <td>low</td>\n",
       "      <td>0.0</td>\n",
       "      <td>linear</td>\n",
       "    </tr>\n",
       "    <tr>\n",
       "      <th>2</th>\n",
       "      <td>C001</td>\n",
       "      <td>Real Estate</td>\n",
       "      <td>Global</td>\n",
       "      <td>Scope 2</td>\n",
       "      <td>2027</td>\n",
       "      <td>21510000</td>\n",
       "      <td>1023177</td>\n",
       "      <td>1023177</td>\n",
       "      <td>low</td>\n",
       "      <td>0.0</td>\n",
       "      <td>linear</td>\n",
       "    </tr>\n",
       "    <tr>\n",
       "      <th>3</th>\n",
       "      <td>C001</td>\n",
       "      <td>Real Estate</td>\n",
       "      <td>Global</td>\n",
       "      <td>Scope 2</td>\n",
       "      <td>2028</td>\n",
       "      <td>21510000</td>\n",
       "      <td>999765</td>\n",
       "      <td>999765</td>\n",
       "      <td>low</td>\n",
       "      <td>0.0</td>\n",
       "      <td>linear</td>\n",
       "    </tr>\n",
       "    <tr>\n",
       "      <th>4</th>\n",
       "      <td>C001</td>\n",
       "      <td>Real Estate</td>\n",
       "      <td>Global</td>\n",
       "      <td>Scope 2</td>\n",
       "      <td>2029</td>\n",
       "      <td>21510000</td>\n",
       "      <td>976354</td>\n",
       "      <td>976354</td>\n",
       "      <td>low</td>\n",
       "      <td>0.0</td>\n",
       "      <td>linear</td>\n",
       "    </tr>\n",
       "  </tbody>\n",
       "</table>\n",
       "</div>"
      ],
      "text/plain": [
       "    uid  gics_sector country type_of_target  year  scope1_tonnes  \\\n",
       "0  C001  Real Estate  Global        Scope 2  2025       21510000   \n",
       "1  C001  Real Estate  Global        Scope 2  2026       21510000   \n",
       "2  C001  Real Estate  Global        Scope 2  2027       21510000   \n",
       "3  C001  Real Estate  Global        Scope 2  2028       21510000   \n",
       "4  C001  Real Estate  Global        Scope 2  2029       21510000   \n",
       "\n",
       "   scope2_tonnes  targeted_emissions scenario  growth_rate  \\\n",
       "0        1070000             1070000      low          0.0   \n",
       "1        1046588             1046588      low          0.0   \n",
       "2        1023177             1023177      low          0.0   \n",
       "3         999765              999765      low          0.0   \n",
       "4         976354              976354      low          0.0   \n",
       "\n",
       "  interpolation_method  \n",
       "0               linear  \n",
       "1               linear  \n",
       "2               linear  \n",
       "3               linear  \n",
       "4               linear  "
      ]
     },
     "execution_count": 10,
     "metadata": {},
     "output_type": "execute_result"
    }
   ],
   "source": [
    "emissions_paths.head()"
   ]
  },
  {
   "cell_type": "code",
   "execution_count": 11,
   "id": "b98ce633",
   "metadata": {},
   "outputs": [],
   "source": [
    "#export the emissions_paths DataFrame to a CSV file\n",
    "emissions_paths.to_csv(\"emissions_paths.csv\", index=False)\n",
    "# export df_merged to a CSV file\n",
    "df_merged.to_csv(\"df_merged.csv\", index=False)\n",
    "# export df_emissions to a CSV file\n",
    "df_emissions.to_csv(\"df_emissions.csv\", index=False)\n",
    "# export df_targets_clean to a CSV file\n",
    "df_targets_clean.to_csv(\"df_targets_clean.csv\", index=False)\n",
    "# export df_abatement to a CSV file\n",
    "df_abatement.to_csv(\"df_abatement.csv\", index=False)\n",
    "# export df_carbon_prices to a CSV file\n",
    "df_carbon_prices.to_csv(\"df_carbon_prices.csv\", index=False)"
   ]
  },
  {
   "cell_type": "code",
   "execution_count": null,
   "id": "887177d2",
   "metadata": {},
   "outputs": [],
   "source": [
    "emissions_paths.head()"
   ]
  },
  {
   "cell_type": "code",
   "execution_count": null,
   "id": "7c82afbb",
   "metadata": {},
   "outputs": [],
   "source": [
    "df_targets.head()"
   ]
  },
  {
   "cell_type": "markdown",
   "id": "0634b7c4",
   "metadata": {},
   "source": [
    "Estimate Carbon pricing"
   ]
  },
  {
   "cell_type": "code",
   "execution_count": 12,
   "id": "d428272d",
   "metadata": {},
   "outputs": [
    {
     "data": {
      "text/html": [
       "<div>\n",
       "<style scoped>\n",
       "    .dataframe tbody tr th:only-of-type {\n",
       "        vertical-align: middle;\n",
       "    }\n",
       "\n",
       "    .dataframe tbody tr th {\n",
       "        vertical-align: top;\n",
       "    }\n",
       "\n",
       "    .dataframe thead th {\n",
       "        text-align: right;\n",
       "    }\n",
       "</style>\n",
       "<table border=\"1\" class=\"dataframe\">\n",
       "  <thead>\n",
       "    <tr style=\"text-align: right;\">\n",
       "      <th></th>\n",
       "      <th>sector</th>\n",
       "      <th>region</th>\n",
       "      <th>year</th>\n",
       "      <th>scenario</th>\n",
       "      <th>carbon_price_usd_tco2e</th>\n",
       "    </tr>\n",
       "  </thead>\n",
       "  <tbody>\n",
       "    <tr>\n",
       "      <th>0</th>\n",
       "      <td>Energy</td>\n",
       "      <td>USA</td>\n",
       "      <td>2025</td>\n",
       "      <td>Low Risk</td>\n",
       "      <td>58.07</td>\n",
       "    </tr>\n",
       "    <tr>\n",
       "      <th>1</th>\n",
       "      <td>Energy</td>\n",
       "      <td>USA</td>\n",
       "      <td>2027</td>\n",
       "      <td>Low Risk</td>\n",
       "      <td>57.92</td>\n",
       "    </tr>\n",
       "    <tr>\n",
       "      <th>2</th>\n",
       "      <td>Energy</td>\n",
       "      <td>USA</td>\n",
       "      <td>2030</td>\n",
       "      <td>Low Risk</td>\n",
       "      <td>59.77</td>\n",
       "    </tr>\n",
       "    <tr>\n",
       "      <th>3</th>\n",
       "      <td>Energy</td>\n",
       "      <td>USA</td>\n",
       "      <td>2025</td>\n",
       "      <td>Medium Risk</td>\n",
       "      <td>55.26</td>\n",
       "    </tr>\n",
       "    <tr>\n",
       "      <th>4</th>\n",
       "      <td>Energy</td>\n",
       "      <td>USA</td>\n",
       "      <td>2027</td>\n",
       "      <td>Medium Risk</td>\n",
       "      <td>65.63</td>\n",
       "    </tr>\n",
       "  </tbody>\n",
       "</table>\n",
       "</div>"
      ],
      "text/plain": [
       "   sector region  year     scenario  carbon_price_usd_tco2e\n",
       "0  Energy    USA  2025     Low Risk                   58.07\n",
       "1  Energy    USA  2027     Low Risk                   57.92\n",
       "2  Energy    USA  2030     Low Risk                   59.77\n",
       "3  Energy    USA  2025  Medium Risk                   55.26\n",
       "4  Energy    USA  2027  Medium Risk                   65.63"
      ]
     },
     "execution_count": 12,
     "metadata": {},
     "output_type": "execute_result"
    }
   ],
   "source": [
    "df_carbon_prices.head(5)"
   ]
  },
  {
   "cell_type": "code",
   "execution_count": null,
   "id": "4547c8fb",
   "metadata": {},
   "outputs": [],
   "source": [
    "df_carbon_prices.tail()"
   ]
  },
  {
   "cell_type": "code",
   "execution_count": null,
   "id": "4c6d58aa",
   "metadata": {},
   "outputs": [],
   "source": [
    "ngf5_global_carbon_prices = pd.read_csv(\"/Users/tarunluthra/Documents/SPglobal/ngfs_global_snapshot_1750868451.csv\")\n",
    "ngf5_eu_carbon_prices = pd.read_csv(\"/Users/tarunluthra/Documents/SPglobal/ngfs_snapshot_1750868525.csv\")"
   ]
  },
  {
   "cell_type": "code",
   "execution_count": null,
   "id": "bdf71b15",
   "metadata": {},
   "outputs": [],
   "source": [
    "ngf5_global_carbon_prices.head()"
   ]
  },
  {
   "cell_type": "markdown",
   "id": "23dbc6ef",
   "metadata": {},
   "source": [
    "NGF5 and CAGR model for carbon pricing for different scenarios"
   ]
  },
  {
   "cell_type": "code",
   "execution_count": 16,
   "id": "9b0bb38a",
   "metadata": {},
   "outputs": [
    {
     "name": "stderr",
     "output_type": "stream",
     "text": [
      "/var/folders/lf/9_7wh6ps1354b6glt9mst87m0000gn/T/ipykernel_49547/46652308.py:27: FutureWarning: DataFrameGroupBy.apply operated on the grouping columns. This behavior is deprecated, and in a future version of pandas the grouping columns will be excluded from the operation. Either pass `include_groups=False` to exclude the groupings or explicitly select the grouping columns after groupby to silence this warning.\n",
      "  carbon_prices_full = df_carbon_prices.groupby(['sector', 'region', 'scenario']).apply(project_carbon_price).reset_index()\n"
     ]
    }
   ],
   "source": [
    "import pandas as pd\n",
    "import numpy as np\n",
    "from sklearn.linear_model import LinearRegression\n",
    "\n",
    "# Define the function to project carbon prices using linear regression\n",
    "def project_carbon_price(group):\n",
    "    # Fill missing carbon prices with the median of the group\n",
    "    group['carbon_price_usd_tco2e_filled'] = group['carbon_price_usd_tco2e'].fillna(group['carbon_price_usd_tco2e'].median())\n",
    "    group_filled = group.dropna(subset=['carbon_price_usd_tco2e_filled'])\n",
    "    if len(group_filled) >= 2:\n",
    "        # Prepare data for linear regression\n",
    "        X = group_filled['year'].values.reshape(-1, 1)\n",
    "        y = group_filled['carbon_price_usd_tco2e_filled'].values\n",
    "        model = LinearRegression()\n",
    "        model.fit(X, y)\n",
    "        # Predict prices from 2025 to 2050\n",
    "        years = np.arange(2025, 2051)\n",
    "        predictions = model.predict(years.reshape(-1, 1))\n",
    "        return pd.DataFrame({'year': years, 'carbon_price_usd_tco2e': predictions})\n",
    "    else:\n",
    "        # Return NaN predictions if insufficient data\n",
    "        years = np.arange(2025, 2051)\n",
    "        return pd.DataFrame({'year': years, 'carbon_price_usd_tco2e': [np.nan] * len(years)})\n",
    "\n",
    "# Assuming df_carbon_prices is a DataFrame with columns: sector, region, scenario, year, carbon_price_usd_tco2e\n",
    "# Apply the projection to get carbon_prices_full\n",
    "carbon_prices_full = df_carbon_prices.groupby(['sector', 'region', 'scenario']).apply(project_carbon_price).reset_index()\n",
    "carbon_prices_full = carbon_prices_full.sort_values(by=['sector', 'region', 'scenario', 'year'])\n",
    "# Export the projected carbon prices to a CSV file\n",
    "carbon_prices_full.to_csv(\"projected_carbon_prices_full.csv\", index=False)"
   ]
  },
  {
   "cell_type": "code",
   "execution_count": 17,
   "id": "ef7a5001",
   "metadata": {},
   "outputs": [
    {
     "data": {
      "text/html": [
       "<div>\n",
       "<style scoped>\n",
       "    .dataframe tbody tr th:only-of-type {\n",
       "        vertical-align: middle;\n",
       "    }\n",
       "\n",
       "    .dataframe tbody tr th {\n",
       "        vertical-align: top;\n",
       "    }\n",
       "\n",
       "    .dataframe thead th {\n",
       "        text-align: right;\n",
       "    }\n",
       "</style>\n",
       "<table border=\"1\" class=\"dataframe\">\n",
       "  <thead>\n",
       "    <tr style=\"text-align: right;\">\n",
       "      <th></th>\n",
       "      <th>sector</th>\n",
       "      <th>region</th>\n",
       "      <th>scenario</th>\n",
       "      <th>level_3</th>\n",
       "      <th>year</th>\n",
       "      <th>carbon_price_usd_tco2e</th>\n",
       "    </tr>\n",
       "  </thead>\n",
       "  <tbody>\n",
       "    <tr>\n",
       "      <th>0</th>\n",
       "      <td>Consumer Discretionary</td>\n",
       "      <td>China</td>\n",
       "      <td>High Risk</td>\n",
       "      <td>0</td>\n",
       "      <td>2025</td>\n",
       "      <td>9.527632</td>\n",
       "    </tr>\n",
       "    <tr>\n",
       "      <th>1</th>\n",
       "      <td>Consumer Discretionary</td>\n",
       "      <td>China</td>\n",
       "      <td>High Risk</td>\n",
       "      <td>1</td>\n",
       "      <td>2026</td>\n",
       "      <td>11.365789</td>\n",
       "    </tr>\n",
       "    <tr>\n",
       "      <th>2</th>\n",
       "      <td>Consumer Discretionary</td>\n",
       "      <td>China</td>\n",
       "      <td>High Risk</td>\n",
       "      <td>2</td>\n",
       "      <td>2027</td>\n",
       "      <td>13.203947</td>\n",
       "    </tr>\n",
       "    <tr>\n",
       "      <th>3</th>\n",
       "      <td>Consumer Discretionary</td>\n",
       "      <td>China</td>\n",
       "      <td>High Risk</td>\n",
       "      <td>3</td>\n",
       "      <td>2028</td>\n",
       "      <td>15.042105</td>\n",
       "    </tr>\n",
       "    <tr>\n",
       "      <th>4</th>\n",
       "      <td>Consumer Discretionary</td>\n",
       "      <td>China</td>\n",
       "      <td>High Risk</td>\n",
       "      <td>4</td>\n",
       "      <td>2029</td>\n",
       "      <td>16.880263</td>\n",
       "    </tr>\n",
       "  </tbody>\n",
       "</table>\n",
       "</div>"
      ],
      "text/plain": [
       "                   sector region   scenario  level_3  year  \\\n",
       "0  Consumer Discretionary  China  High Risk        0  2025   \n",
       "1  Consumer Discretionary  China  High Risk        1  2026   \n",
       "2  Consumer Discretionary  China  High Risk        2  2027   \n",
       "3  Consumer Discretionary  China  High Risk        3  2028   \n",
       "4  Consumer Discretionary  China  High Risk        4  2029   \n",
       "\n",
       "   carbon_price_usd_tco2e  \n",
       "0                9.527632  \n",
       "1               11.365789  \n",
       "2               13.203947  \n",
       "3               15.042105  \n",
       "4               16.880263  "
      ]
     },
     "execution_count": 17,
     "metadata": {},
     "output_type": "execute_result"
    }
   ],
   "source": [
    "carbon_prices_full.head()"
   ]
  },
  {
   "cell_type": "code",
   "execution_count": 18,
   "id": "17042d29",
   "metadata": {},
   "outputs": [],
   "source": [
    "import pandas as pd\n",
    "import numpy as np\n",
    "from sklearn.linear_model import LinearRegression\n",
    "\n",
    "\n",
    "\n",
    "\n",
    "\n",
    "# Define the function to calculate carbon costs\n",
    "def calculate_carbon_costs(emissions_paths, carbon_prices_full, df_emissions, start_year=2025, end_year=2050, scenarios=['Low Risk', 'Medium Risk', 'High Risk']):\n",
    "    # Define required columns\n",
    "    required_cols_emissions = ['uid', 'gics_sector', 'country']\n",
    "    required_cols_paths = ['uid', 'year', 'scope1_tonnes', 'scope2_tonnes', 'scenario', 'targeted_emissions']\n",
    "    \n",
    "    # Validate required columns\n",
    "    if not all(col in df_emissions.columns for col in required_cols_emissions):\n",
    "        raise ValueError(\"Missing required columns in df_emissions\")\n",
    "    if not all(col in emissions_paths.columns for col in required_cols_paths):\n",
    "        raise ValueError(\"Missing required columns in emissions_paths\")\n",
    "    \n",
    "    # Scale targeted_emissions to correct for potential thousands-of-tonnes input\n",
    "    emissions_paths['targeted_emissions'] = emissions_paths['targeted_emissions']  # Adjust scaling factor if needed\n",
    "    \n",
    "    # Sector mapping dictionary\n",
    "    sector_mapping = {\n",
    "        'Real Estate': 'Utilities',\n",
    "        'Financials': 'Consumer Discretionary',\n",
    "        'Healthcare': 'Utilities',\n",
    "        'IT': 'Utilities'\n",
    "    }\n",
    "    \n",
    "    # Filter emissions_paths for the 'low' scenario\n",
    "    emissions_paths_low = emissions_paths[emissions_paths['scenario'] == 'low']\n",
    "    \n",
    "    carbon_costs = []\n",
    "    for uid in emissions_paths_low['uid'].unique():\n",
    "        # Get company metadata from df_emissions\n",
    "        company = df_emissions[df_emissions['uid'] == uid]\n",
    "        if company.empty:\n",
    "            continue\n",
    "        sector = company['gics_sector'].iloc[0]\n",
    "        country = company['country'].iloc[0]\n",
    "        \n",
    "        # Map sector if not in carbon_prices_full\n",
    "        mapped_sector = sector_mapping.get(sector, sector) if sector not in carbon_prices_full['sector'].unique() else sector\n",
    "        \n",
    "        # Get carbon prices for the mapped sector and region\n",
    "        prices = carbon_prices_full[\n",
    "            (carbon_prices_full['sector'] == mapped_sector) &\n",
    "            (carbon_prices_full['region'] == country)\n",
    "        ]\n",
    "        if prices.empty:\n",
    "            # Fallback to global prices if region-specific prices are unavailable\n",
    "            prices = carbon_prices_full[\n",
    "                (carbon_prices_full['sector'] == mapped_sector) &\n",
    "                (carbon_prices_full['region'] == 'Global')\n",
    "            ]\n",
    "        \n",
    "        # Sort emissions data by year for this uid\n",
    "        uid_emissions = emissions_paths_low[emissions_paths_low['uid'] == uid].sort_values('year')\n",
    "        prev_targeted_emissions = None\n",
    "        \n",
    "        for year in range(start_year, end_year + 1):\n",
    "            em = uid_emissions[uid_emissions['year'] == year]\n",
    "            if em.empty:\n",
    "                continue\n",
    "            # Calculate total emissions\n",
    "            total_em = em['scope1_tonnes'].iloc[0] + em['scope2_tonnes'].iloc[0]\n",
    "            current_targeted_emissions = em['targeted_emissions'].iloc[0]\n",
    "            \n",
    "            # Calculate abated tonnes as the year-over-year reduction\n",
    "            abated_tonnes = 0\n",
    "            if prev_targeted_emissions is not None:\n",
    "                abated_tonnes = max(0, prev_targeted_emissions - current_targeted_emissions)\n",
    "            prev_targeted_emissions = current_targeted_emissions\n",
    "            \n",
    "            # Iterate over risk scenarios\n",
    "            for risk_scenario in scenarios:\n",
    "                price_row = prices[\n",
    "                    (prices['year'] == year) &\n",
    "                    (prices['scenario'] == risk_scenario)\n",
    "                ]\n",
    "                if price_row.empty:\n",
    "                    continue\n",
    "                price = price_row['carbon_price_usd_tco2e'].iloc[0]\n",
    "                \n",
    "                # Calculate costs\n",
    "                carbon_cost_total_usd = round(total_em * price, 2)\n",
    "                carbon_cost_avoided_usd = round(abated_tonnes * price, 2)\n",
    "                abated_tonnes_cost = round(abated_tonnes * price, 2)  # New column for cost of abated tonnes\n",
    "                \n",
    "                # Append data to the list\n",
    "                carbon_costs.append({\n",
    "                    'uid': uid,\n",
    "                    'sector': mapped_sector,\n",
    "                    'country': country,\n",
    "                    'year': year,\n",
    "                    'risk_scenario': risk_scenario,\n",
    "                    'total_emissions_tonnes': total_em,\n",
    "                    'emissions_abated': abated_tonnes,\n",
    "                    'price_of_carbon': price,\n",
    "                    'carbon_cost_total_usd': carbon_cost_total_usd,\n",
    "                    'carbon_cost_avoided_usd': carbon_cost_avoided_usd,\n",
    "                    'abated_tonnes_cost': abated_tonnes_cost  # Added column\n",
    "                })\n",
    "    \n",
    "    # Convert the list to a DataFrame\n",
    "    return pd.DataFrame(carbon_costs)\n",
    "\n",
    "\n",
    "\n",
    "# Generate projected prices\n",
    "\n",
    "\n",
    "# Calculate carbon costs\n",
    "carbon_costs = calculate_carbon_costs(emissions_paths, carbon_prices_full, df_emissions)\n",
    "# print(carbon_costs.head())\n",
    "# Export the carbon costs DataFrame to a CSV file\n",
    "carbon_costs.to_csv(\"carbon_costs.csv\", index=False)"
   ]
  },
  {
   "cell_type": "code",
   "execution_count": 12,
   "id": "cd28c43b",
   "metadata": {},
   "outputs": [
    {
     "data": {
      "text/html": [
       "<div>\n",
       "<style scoped>\n",
       "    .dataframe tbody tr th:only-of-type {\n",
       "        vertical-align: middle;\n",
       "    }\n",
       "\n",
       "    .dataframe tbody tr th {\n",
       "        vertical-align: top;\n",
       "    }\n",
       "\n",
       "    .dataframe thead th {\n",
       "        text-align: right;\n",
       "    }\n",
       "</style>\n",
       "<table border=\"1\" class=\"dataframe\">\n",
       "  <thead>\n",
       "    <tr style=\"text-align: right;\">\n",
       "      <th></th>\n",
       "      <th>uid</th>\n",
       "      <th>gics_sector</th>\n",
       "      <th>country</th>\n",
       "      <th>type_of_target</th>\n",
       "      <th>year</th>\n",
       "      <th>scope1_tonnes</th>\n",
       "      <th>scope2_tonnes</th>\n",
       "      <th>targeted_emissions</th>\n",
       "      <th>scenario</th>\n",
       "      <th>growth_rate</th>\n",
       "      <th>interpolation_method</th>\n",
       "    </tr>\n",
       "  </thead>\n",
       "  <tbody>\n",
       "    <tr>\n",
       "      <th>0</th>\n",
       "      <td>C001</td>\n",
       "      <td>Real Estate</td>\n",
       "      <td>Global</td>\n",
       "      <td>Scope 2</td>\n",
       "      <td>2025</td>\n",
       "      <td>21510000</td>\n",
       "      <td>1070000</td>\n",
       "      <td>10700000</td>\n",
       "      <td>low</td>\n",
       "      <td>0.0</td>\n",
       "      <td>linear</td>\n",
       "    </tr>\n",
       "    <tr>\n",
       "      <th>1</th>\n",
       "      <td>C001</td>\n",
       "      <td>Real Estate</td>\n",
       "      <td>Global</td>\n",
       "      <td>Scope 2</td>\n",
       "      <td>2026</td>\n",
       "      <td>21510000</td>\n",
       "      <td>1046588</td>\n",
       "      <td>10465880</td>\n",
       "      <td>low</td>\n",
       "      <td>0.0</td>\n",
       "      <td>linear</td>\n",
       "    </tr>\n",
       "    <tr>\n",
       "      <th>2</th>\n",
       "      <td>C001</td>\n",
       "      <td>Real Estate</td>\n",
       "      <td>Global</td>\n",
       "      <td>Scope 2</td>\n",
       "      <td>2027</td>\n",
       "      <td>21510000</td>\n",
       "      <td>1023177</td>\n",
       "      <td>10231770</td>\n",
       "      <td>low</td>\n",
       "      <td>0.0</td>\n",
       "      <td>linear</td>\n",
       "    </tr>\n",
       "    <tr>\n",
       "      <th>3</th>\n",
       "      <td>C001</td>\n",
       "      <td>Real Estate</td>\n",
       "      <td>Global</td>\n",
       "      <td>Scope 2</td>\n",
       "      <td>2028</td>\n",
       "      <td>21510000</td>\n",
       "      <td>999765</td>\n",
       "      <td>9997650</td>\n",
       "      <td>low</td>\n",
       "      <td>0.0</td>\n",
       "      <td>linear</td>\n",
       "    </tr>\n",
       "    <tr>\n",
       "      <th>4</th>\n",
       "      <td>C001</td>\n",
       "      <td>Real Estate</td>\n",
       "      <td>Global</td>\n",
       "      <td>Scope 2</td>\n",
       "      <td>2029</td>\n",
       "      <td>21510000</td>\n",
       "      <td>976354</td>\n",
       "      <td>9763540</td>\n",
       "      <td>low</td>\n",
       "      <td>0.0</td>\n",
       "      <td>linear</td>\n",
       "    </tr>\n",
       "  </tbody>\n",
       "</table>\n",
       "</div>"
      ],
      "text/plain": [
       "    uid  gics_sector country type_of_target  year  scope1_tonnes  \\\n",
       "0  C001  Real Estate  Global        Scope 2  2025       21510000   \n",
       "1  C001  Real Estate  Global        Scope 2  2026       21510000   \n",
       "2  C001  Real Estate  Global        Scope 2  2027       21510000   \n",
       "3  C001  Real Estate  Global        Scope 2  2028       21510000   \n",
       "4  C001  Real Estate  Global        Scope 2  2029       21510000   \n",
       "\n",
       "   scope2_tonnes  targeted_emissions scenario  growth_rate  \\\n",
       "0        1070000            10700000      low          0.0   \n",
       "1        1046588            10465880      low          0.0   \n",
       "2        1023177            10231770      low          0.0   \n",
       "3         999765             9997650      low          0.0   \n",
       "4         976354             9763540      low          0.0   \n",
       "\n",
       "  interpolation_method  \n",
       "0               linear  \n",
       "1               linear  \n",
       "2               linear  \n",
       "3               linear  \n",
       "4               linear  "
      ]
     },
     "execution_count": 12,
     "metadata": {},
     "output_type": "execute_result"
    }
   ],
   "source": [
    "emissions_paths.head()"
   ]
  },
  {
   "cell_type": "code",
   "execution_count": null,
   "id": "78e79fa9",
   "metadata": {},
   "outputs": [],
   "source": [
    "# carbon_prices_full.to_csv(\"carbon_prices_full_projected.csv\", index=False)"
   ]
  },
  {
   "cell_type": "code",
   "execution_count": 19,
   "id": "65f658f5",
   "metadata": {},
   "outputs": [
    {
     "data": {
      "text/html": [
       "<div>\n",
       "<style scoped>\n",
       "    .dataframe tbody tr th:only-of-type {\n",
       "        vertical-align: middle;\n",
       "    }\n",
       "\n",
       "    .dataframe tbody tr th {\n",
       "        vertical-align: top;\n",
       "    }\n",
       "\n",
       "    .dataframe thead th {\n",
       "        text-align: right;\n",
       "    }\n",
       "</style>\n",
       "<table border=\"1\" class=\"dataframe\">\n",
       "  <thead>\n",
       "    <tr style=\"text-align: right;\">\n",
       "      <th></th>\n",
       "      <th>uid</th>\n",
       "      <th>sector</th>\n",
       "      <th>country</th>\n",
       "      <th>year</th>\n",
       "      <th>risk_scenario</th>\n",
       "      <th>total_emissions_tonnes</th>\n",
       "      <th>emissions_abated</th>\n",
       "      <th>price_of_carbon</th>\n",
       "      <th>carbon_cost_total_usd</th>\n",
       "      <th>carbon_cost_avoided_usd</th>\n",
       "      <th>abated_tonnes_cost</th>\n",
       "    </tr>\n",
       "  </thead>\n",
       "  <tbody>\n",
       "    <tr>\n",
       "      <th>0</th>\n",
       "      <td>C001</td>\n",
       "      <td>Utilities</td>\n",
       "      <td>Global</td>\n",
       "      <td>2025</td>\n",
       "      <td>Low Risk</td>\n",
       "      <td>22580000</td>\n",
       "      <td>0</td>\n",
       "      <td>31.659737</td>\n",
       "      <td>7.148769e+08</td>\n",
       "      <td>0.00</td>\n",
       "      <td>0.00</td>\n",
       "    </tr>\n",
       "    <tr>\n",
       "      <th>1</th>\n",
       "      <td>C001</td>\n",
       "      <td>Utilities</td>\n",
       "      <td>Global</td>\n",
       "      <td>2025</td>\n",
       "      <td>Medium Risk</td>\n",
       "      <td>22580000</td>\n",
       "      <td>0</td>\n",
       "      <td>33.328158</td>\n",
       "      <td>7.525498e+08</td>\n",
       "      <td>0.00</td>\n",
       "      <td>0.00</td>\n",
       "    </tr>\n",
       "    <tr>\n",
       "      <th>2</th>\n",
       "      <td>C001</td>\n",
       "      <td>Utilities</td>\n",
       "      <td>Global</td>\n",
       "      <td>2025</td>\n",
       "      <td>High Risk</td>\n",
       "      <td>22580000</td>\n",
       "      <td>0</td>\n",
       "      <td>31.187632</td>\n",
       "      <td>7.042167e+08</td>\n",
       "      <td>0.00</td>\n",
       "      <td>0.00</td>\n",
       "    </tr>\n",
       "    <tr>\n",
       "      <th>3</th>\n",
       "      <td>C001</td>\n",
       "      <td>Utilities</td>\n",
       "      <td>Global</td>\n",
       "      <td>2026</td>\n",
       "      <td>Low Risk</td>\n",
       "      <td>22556588</td>\n",
       "      <td>23412</td>\n",
       "      <td>32.238421</td>\n",
       "      <td>7.271888e+08</td>\n",
       "      <td>754765.91</td>\n",
       "      <td>754765.91</td>\n",
       "    </tr>\n",
       "    <tr>\n",
       "      <th>4</th>\n",
       "      <td>C001</td>\n",
       "      <td>Utilities</td>\n",
       "      <td>Global</td>\n",
       "      <td>2026</td>\n",
       "      <td>Medium Risk</td>\n",
       "      <td>22556588</td>\n",
       "      <td>23412</td>\n",
       "      <td>35.398947</td>\n",
       "      <td>7.984795e+08</td>\n",
       "      <td>828760.16</td>\n",
       "      <td>828760.16</td>\n",
       "    </tr>\n",
       "  </tbody>\n",
       "</table>\n",
       "</div>"
      ],
      "text/plain": [
       "    uid     sector country  year risk_scenario  total_emissions_tonnes  \\\n",
       "0  C001  Utilities  Global  2025      Low Risk                22580000   \n",
       "1  C001  Utilities  Global  2025   Medium Risk                22580000   \n",
       "2  C001  Utilities  Global  2025     High Risk                22580000   \n",
       "3  C001  Utilities  Global  2026      Low Risk                22556588   \n",
       "4  C001  Utilities  Global  2026   Medium Risk                22556588   \n",
       "\n",
       "   emissions_abated  price_of_carbon  carbon_cost_total_usd  \\\n",
       "0                 0        31.659737           7.148769e+08   \n",
       "1                 0        33.328158           7.525498e+08   \n",
       "2                 0        31.187632           7.042167e+08   \n",
       "3             23412        32.238421           7.271888e+08   \n",
       "4             23412        35.398947           7.984795e+08   \n",
       "\n",
       "   carbon_cost_avoided_usd  abated_tonnes_cost  \n",
       "0                     0.00                0.00  \n",
       "1                     0.00                0.00  \n",
       "2                     0.00                0.00  \n",
       "3                754765.91           754765.91  \n",
       "4                828760.16           828760.16  "
      ]
     },
     "execution_count": 19,
     "metadata": {},
     "output_type": "execute_result"
    }
   ],
   "source": [
    "carbon_costs.head()"
   ]
  },
  {
   "cell_type": "code",
   "execution_count": null,
   "id": "d8241f79",
   "metadata": {},
   "outputs": [],
   "source": [
    "#export the carbon costs to a CSV file\n",
    "carbon_costs.to_csv(\"carbon_costs_all.csv\", index=False)"
   ]
  },
  {
   "cell_type": "code",
   "execution_count": null,
   "id": "0ca6c321",
   "metadata": {},
   "outputs": [],
   "source": [
    "carbon_costs.uid.unique()"
   ]
  },
  {
   "cell_type": "code",
   "execution_count": null,
   "id": "345c0584",
   "metadata": {},
   "outputs": [],
   "source": [
    "# carbon_prices_energy_global.scenario.unique()"
   ]
  },
  {
   "cell_type": "code",
   "execution_count": null,
   "id": "5ff9e300",
   "metadata": {},
   "outputs": [],
   "source": []
  },
  {
   "cell_type": "markdown",
   "id": "3dfd85ad",
   "metadata": {},
   "source": [
    "Plotting Carbon pricing trend"
   ]
  },
  {
   "cell_type": "code",
   "execution_count": 20,
   "id": "541132f3",
   "metadata": {},
   "outputs": [
    {
     "data": {
      "application/vnd.plotly.v1+json": {
       "config": {
        "plotlyServerURL": "https://plot.ly"
       },
       "data": [
        {
         "customdata": [
          [
           "Consumer Discretionary",
           "High Risk"
          ],
          [
           "Consumer Discretionary",
           "High Risk"
          ],
          [
           "Consumer Discretionary",
           "High Risk"
          ],
          [
           "Consumer Discretionary",
           "High Risk"
          ],
          [
           "Consumer Discretionary",
           "High Risk"
          ],
          [
           "Consumer Discretionary",
           "High Risk"
          ],
          [
           "Consumer Discretionary",
           "High Risk"
          ],
          [
           "Consumer Discretionary",
           "High Risk"
          ],
          [
           "Consumer Discretionary",
           "High Risk"
          ],
          [
           "Consumer Discretionary",
           "High Risk"
          ],
          [
           "Consumer Discretionary",
           "High Risk"
          ],
          [
           "Consumer Discretionary",
           "High Risk"
          ],
          [
           "Consumer Discretionary",
           "High Risk"
          ],
          [
           "Consumer Discretionary",
           "High Risk"
          ],
          [
           "Consumer Discretionary",
           "High Risk"
          ],
          [
           "Consumer Discretionary",
           "High Risk"
          ],
          [
           "Consumer Discretionary",
           "High Risk"
          ],
          [
           "Consumer Discretionary",
           "High Risk"
          ],
          [
           "Consumer Discretionary",
           "High Risk"
          ],
          [
           "Consumer Discretionary",
           "High Risk"
          ],
          [
           "Consumer Discretionary",
           "High Risk"
          ],
          [
           "Consumer Discretionary",
           "High Risk"
          ],
          [
           "Consumer Discretionary",
           "High Risk"
          ],
          [
           "Consumer Discretionary",
           "High Risk"
          ],
          [
           "Consumer Discretionary",
           "High Risk"
          ],
          [
           "Consumer Discretionary",
           "High Risk"
          ]
         ],
         "hovertemplate": "scenario=%{customdata[1]}<br>sector=%{customdata[0]}<br>year=%{x}<br>carbon_price_usd_tco2e=%{y}<extra></extra>",
         "legendgroup": "High Risk, Consumer Discretionary",
         "line": {
          "color": "#636efa",
          "dash": "solid",
          "width": 1
         },
         "marker": {
          "size": 6,
          "symbol": "circle"
         },
         "mode": "lines+markers",
         "name": "High Risk, Consumer Discretionary",
         "orientation": "v",
         "showlegend": true,
         "type": "scatter",
         "x": {
          "bdata": "6QfqB+sH7AftB+4H7wfwB/EH8gfzB/QH9Qf2B/cH+Af5B/oH+wf8B/0H/gf/BwAIAQgCCA==",
          "dtype": "i2"
         },
         "xaxis": "x",
         "y": {
          "bdata": "AL46qTKOX0AAMtlXJ3ViQAAFFVs1I2VAANdQXkPRZ0AAqoxhUX9qQAB9yGRfLW1AAFAEaG3bb0AAEaC1vURxQID6PbfEm3JAAOTbuMvyc0CAzXm60kl1QIC2F7zZoHZAAKC1veD3d0CAiVO/5055QIBy8cDupXpAAFyPwvX8e0CARS3E/FN9QAAvy8UDq35AAIy0YwUBgEDAgIPkiKyAQIB1UmUMWIFAQGoh5o8DgkDAXvBmE6+CQIBTv+eWWoNAQEiOaBoGhEDAPF3pnbGEQA==",
          "dtype": "f8"
         },
         "yaxis": "y"
        },
        {
         "customdata": [
          [
           "Energy",
           "High Risk"
          ],
          [
           "Energy",
           "High Risk"
          ],
          [
           "Energy",
           "High Risk"
          ],
          [
           "Energy",
           "High Risk"
          ],
          [
           "Energy",
           "High Risk"
          ],
          [
           "Energy",
           "High Risk"
          ],
          [
           "Energy",
           "High Risk"
          ],
          [
           "Energy",
           "High Risk"
          ],
          [
           "Energy",
           "High Risk"
          ],
          [
           "Energy",
           "High Risk"
          ],
          [
           "Energy",
           "High Risk"
          ],
          [
           "Energy",
           "High Risk"
          ],
          [
           "Energy",
           "High Risk"
          ],
          [
           "Energy",
           "High Risk"
          ],
          [
           "Energy",
           "High Risk"
          ],
          [
           "Energy",
           "High Risk"
          ],
          [
           "Energy",
           "High Risk"
          ],
          [
           "Energy",
           "High Risk"
          ],
          [
           "Energy",
           "High Risk"
          ],
          [
           "Energy",
           "High Risk"
          ],
          [
           "Energy",
           "High Risk"
          ],
          [
           "Energy",
           "High Risk"
          ],
          [
           "Energy",
           "High Risk"
          ],
          [
           "Energy",
           "High Risk"
          ],
          [
           "Energy",
           "High Risk"
          ],
          [
           "Energy",
           "High Risk"
          ]
         ],
         "hovertemplate": "scenario=%{customdata[1]}<br>sector=%{customdata[0]}<br>year=%{x}<br>carbon_price_usd_tco2e=%{y}<extra></extra>",
         "legendgroup": "High Risk, Energy",
         "line": {
          "color": "#636efa",
          "dash": "dot",
          "width": 1
         },
         "marker": {
          "size": 6,
          "symbol": "circle"
         },
         "mode": "lines+markers",
         "name": "High Risk, Energy",
         "orientation": "v",
         "showlegend": true,
         "type": "scatter",
         "x": {
          "bdata": "6QfqB+sH7AftB+4H7wfwB/EH8gfzB/QH9Qf2B/cH+Af5B/oH+wf8B/0H/gf/BwAIAQgCCA==",
          "dtype": "i2"
         },
         "xaxis": "x",
         "y": {
          "bdata": "AMCRXis4P0AAoJ+fnz9QQADMmmc0sVhAAP7Kl2SRYEAAlsj7LspkQAAsxl/5AmlAAMTDw8M7bUAAreATR7pwQAB530Ws1nJAAEXedxHzdEAAEN2pdg93QADc29vbK3lAAKfaDUFIe0AAc9k/pmR9QAA/2HELgX9AAIXrUbjOgEAA6+rq6tyBQIBQ6oMd64JAgLbpHFD5g0CAHOm1ggeFQACC6E61FYZAAOjn5+cjh0CATeeAGjKIQICz5hlNQIlAgBnmsn9OikAAf+VLslyLQA==",
          "dtype": "f8"
         },
         "yaxis": "y"
        },
        {
         "customdata": [
          [
           "Industrials",
           "High Risk"
          ],
          [
           "Industrials",
           "High Risk"
          ],
          [
           "Industrials",
           "High Risk"
          ],
          [
           "Industrials",
           "High Risk"
          ],
          [
           "Industrials",
           "High Risk"
          ],
          [
           "Industrials",
           "High Risk"
          ],
          [
           "Industrials",
           "High Risk"
          ],
          [
           "Industrials",
           "High Risk"
          ],
          [
           "Industrials",
           "High Risk"
          ],
          [
           "Industrials",
           "High Risk"
          ],
          [
           "Industrials",
           "High Risk"
          ],
          [
           "Industrials",
           "High Risk"
          ],
          [
           "Industrials",
           "High Risk"
          ],
          [
           "Industrials",
           "High Risk"
          ],
          [
           "Industrials",
           "High Risk"
          ],
          [
           "Industrials",
           "High Risk"
          ],
          [
           "Industrials",
           "High Risk"
          ],
          [
           "Industrials",
           "High Risk"
          ],
          [
           "Industrials",
           "High Risk"
          ],
          [
           "Industrials",
           "High Risk"
          ],
          [
           "Industrials",
           "High Risk"
          ],
          [
           "Industrials",
           "High Risk"
          ],
          [
           "Industrials",
           "High Risk"
          ],
          [
           "Industrials",
           "High Risk"
          ],
          [
           "Industrials",
           "High Risk"
          ],
          [
           "Industrials",
           "High Risk"
          ]
         ],
         "hovertemplate": "scenario=%{customdata[1]}<br>sector=%{customdata[0]}<br>year=%{x}<br>carbon_price_usd_tco2e=%{y}<extra></extra>",
         "legendgroup": "High Risk, Industrials",
         "line": {
          "color": "#636efa",
          "dash": "dash",
          "width": 1
         },
         "marker": {
          "size": 6,
          "symbol": "circle"
         },
         "mode": "lines+markers",
         "name": "High Risk, Industrials",
         "orientation": "v",
         "showlegend": true,
         "type": "scatter",
         "x": {
          "bdata": "6QfqB+sH7AftB+4H7wfwB/EH8gfzB/QH9Qf2B/cH+Af5B/oH+wf8B/0H/gf/BwAIAQgCCA==",
          "dtype": "i2"
         },
         "xaxis": "x",
         "y": {
          "bdata": "AKRwPQpLYUAAH4XrUXhkQACamZmZpWdAABSuR+HSakAAj8L1KABuQACF61G4lnBAgML1KFwtckAAAAAAAMRzQIA9CtejWnVAAHsUrkfxdkCAuB6F64d4QID1KFyPHnpAADMzMzO1e0CAcD0K10t9QACuR+F64n5AwPUoXI88gECAFK5H4QeBQEAzMzMz04FAAFK4HoWegkCAcD0K12mDQECPwvUoNYRAAK5H4XoAhUDAzMzMzMuFQIDrUbgel4ZAQArXo3Bih0AAKVyPwi2IQA==",
          "dtype": "f8"
         },
         "yaxis": "y"
        },
        {
         "customdata": [
          [
           "Materials",
           "High Risk"
          ],
          [
           "Materials",
           "High Risk"
          ],
          [
           "Materials",
           "High Risk"
          ],
          [
           "Materials",
           "High Risk"
          ],
          [
           "Materials",
           "High Risk"
          ],
          [
           "Materials",
           "High Risk"
          ],
          [
           "Materials",
           "High Risk"
          ],
          [
           "Materials",
           "High Risk"
          ],
          [
           "Materials",
           "High Risk"
          ],
          [
           "Materials",
           "High Risk"
          ],
          [
           "Materials",
           "High Risk"
          ],
          [
           "Materials",
           "High Risk"
          ],
          [
           "Materials",
           "High Risk"
          ],
          [
           "Materials",
           "High Risk"
          ],
          [
           "Materials",
           "High Risk"
          ],
          [
           "Materials",
           "High Risk"
          ],
          [
           "Materials",
           "High Risk"
          ],
          [
           "Materials",
           "High Risk"
          ],
          [
           "Materials",
           "High Risk"
          ],
          [
           "Materials",
           "High Risk"
          ],
          [
           "Materials",
           "High Risk"
          ],
          [
           "Materials",
           "High Risk"
          ],
          [
           "Materials",
           "High Risk"
          ],
          [
           "Materials",
           "High Risk"
          ],
          [
           "Materials",
           "High Risk"
          ],
          [
           "Materials",
           "High Risk"
          ]
         ],
         "hovertemplate": "scenario=%{customdata[1]}<br>sector=%{customdata[0]}<br>year=%{x}<br>carbon_price_usd_tco2e=%{y}<extra></extra>",
         "legendgroup": "High Risk, Materials",
         "line": {
          "color": "#636efa",
          "dash": "longdash",
          "width": 1
         },
         "marker": {
          "size": 6,
          "symbol": "circle"
         },
         "mode": "lines+markers",
         "name": "High Risk, Materials",
         "orientation": "v",
         "showlegend": true,
         "type": "scatter",
         "x": {
          "bdata": "6QfqB+sH7AftB+4H7wfwB/EH8gfzB/QH9Qf2B/cH+Af5B/oH+wf8B/0H/gf/BwAIAQgCCA==",
          "dtype": "i2"
         },
         "xaxis": "x",
         "y": {
          "bdata": "AMgKhJFKYUAArUAYaT9kQACSdqxANGdAAHesQBgpakAAXOLU7x1tQIAgjLRjCXBAABOnfs+DcUCABcJIO/5yQAD43BKneHRAgOr33BLzdUAA3RKnfm13QIDPLXHq53hAAMJIO1ZiekCAtGMFwtx7QICnfs8tV31AAJqZmZnRfkBARtqxAiaAQIC/55Y444BAwDj1e26ggUAAsgJhpF2CQEArEEbaGoNAgKQdKxDYg0DAHSsQRpWEQACXOPV7UoVAQBBG2rEPhkCAiVO/58yGQA==",
          "dtype": "f8"
         },
         "yaxis": "y"
        },
        {
         "customdata": [
          [
           "Utilities",
           "High Risk"
          ],
          [
           "Utilities",
           "High Risk"
          ],
          [
           "Utilities",
           "High Risk"
          ],
          [
           "Utilities",
           "High Risk"
          ],
          [
           "Utilities",
           "High Risk"
          ],
          [
           "Utilities",
           "High Risk"
          ],
          [
           "Utilities",
           "High Risk"
          ],
          [
           "Utilities",
           "High Risk"
          ],
          [
           "Utilities",
           "High Risk"
          ],
          [
           "Utilities",
           "High Risk"
          ],
          [
           "Utilities",
           "High Risk"
          ],
          [
           "Utilities",
           "High Risk"
          ],
          [
           "Utilities",
           "High Risk"
          ],
          [
           "Utilities",
           "High Risk"
          ],
          [
           "Utilities",
           "High Risk"
          ],
          [
           "Utilities",
           "High Risk"
          ],
          [
           "Utilities",
           "High Risk"
          ],
          [
           "Utilities",
           "High Risk"
          ],
          [
           "Utilities",
           "High Risk"
          ],
          [
           "Utilities",
           "High Risk"
          ],
          [
           "Utilities",
           "High Risk"
          ],
          [
           "Utilities",
           "High Risk"
          ],
          [
           "Utilities",
           "High Risk"
          ],
          [
           "Utilities",
           "High Risk"
          ],
          [
           "Utilities",
           "High Risk"
          ],
          [
           "Utilities",
           "High Risk"
          ]
         ],
         "hovertemplate": "scenario=%{customdata[1]}<br>sector=%{customdata[0]}<br>year=%{x}<br>carbon_price_usd_tco2e=%{y}<extra></extra>",
         "legendgroup": "High Risk, Utilities",
         "line": {
          "color": "#636efa",
          "dash": "dashdot",
          "width": 1
         },
         "marker": {
          "size": 6,
          "symbol": "circle"
         },
         "mode": "lines+markers",
         "name": "High Risk, Utilities",
         "orientation": "v",
         "showlegend": true,
         "type": "scatter",
         "x": {
          "bdata": "6QfqB+sH7AftB+4H7wfwB/EH8gfzB/QH9Qf2B/cH+Af5B/oH+wf8B/0H/gf/BwAIAQgCCA==",
          "dtype": "i2"
         },
         "xaxis": "x",
         "y": {
          "bdata": "AH8iQGtTYkAAhZF2rIBlQACLAK3trWhAAJBv4y7ba0AAlt4ZcAhvQADOJqjYGnFAAFFeQ3mxckAA1JXeGUh0QABXzXm63nVAANoEFVt1d0AAXTyw+wt5QADgc0uconpAAGOr5jw5fEAA5uKB3c99QABpGh1+Zn9AAPYoXI9+gECAt8Sp30mBQMB4YPcvFYJAQDr8RIDggkDA+5eS0KuDQEC9M+Agd4RAwH7PLXFChUBAQGt7wQ2GQMABB8kR2YZAQMOiFmKkh0DAhD5ksm+IQA==",
          "dtype": "f8"
         },
         "yaxis": "y"
        },
        {
         "customdata": [
          [
           "Consumer Discretionary",
           "Low Risk"
          ],
          [
           "Consumer Discretionary",
           "Low Risk"
          ],
          [
           "Consumer Discretionary",
           "Low Risk"
          ],
          [
           "Consumer Discretionary",
           "Low Risk"
          ],
          [
           "Consumer Discretionary",
           "Low Risk"
          ],
          [
           "Consumer Discretionary",
           "Low Risk"
          ],
          [
           "Consumer Discretionary",
           "Low Risk"
          ],
          [
           "Consumer Discretionary",
           "Low Risk"
          ],
          [
           "Consumer Discretionary",
           "Low Risk"
          ],
          [
           "Consumer Discretionary",
           "Low Risk"
          ],
          [
           "Consumer Discretionary",
           "Low Risk"
          ],
          [
           "Consumer Discretionary",
           "Low Risk"
          ],
          [
           "Consumer Discretionary",
           "Low Risk"
          ],
          [
           "Consumer Discretionary",
           "Low Risk"
          ],
          [
           "Consumer Discretionary",
           "Low Risk"
          ],
          [
           "Consumer Discretionary",
           "Low Risk"
          ],
          [
           "Consumer Discretionary",
           "Low Risk"
          ],
          [
           "Consumer Discretionary",
           "Low Risk"
          ],
          [
           "Consumer Discretionary",
           "Low Risk"
          ],
          [
           "Consumer Discretionary",
           "Low Risk"
          ],
          [
           "Consumer Discretionary",
           "Low Risk"
          ],
          [
           "Consumer Discretionary",
           "Low Risk"
          ],
          [
           "Consumer Discretionary",
           "Low Risk"
          ],
          [
           "Consumer Discretionary",
           "Low Risk"
          ],
          [
           "Consumer Discretionary",
           "Low Risk"
          ],
          [
           "Consumer Discretionary",
           "Low Risk"
          ]
         ],
         "hovertemplate": "scenario=%{customdata[1]}<br>sector=%{customdata[0]}<br>year=%{x}<br>carbon_price_usd_tco2e=%{y}<extra></extra>",
         "legendgroup": "Low Risk, Consumer Discretionary",
         "line": {
          "color": "#EF553B",
          "dash": "solid",
          "width": 1
         },
         "marker": {
          "size": 6,
          "symbol": "circle"
         },
         "mode": "lines+markers",
         "name": "Low Risk, Consumer Discretionary",
         "orientation": "v",
         "showlegend": true,
         "type": "scatter",
         "x": {
          "bdata": "6QfqB+sH7AftB+4H7wfwB/EH8gfzB/QH9Qf2B/cH+Af5B/oH+wf8B/0H/gf/BwAIAQgCCA==",
          "dtype": "i2"
         },
         "xaxis": "x",
         "y": {
          "bdata": "IOukyhgOXkBAtRDzx1deQEB/fBt3oV5AYEnoQybrXkCAE1Rs1TRfQKDdv5SEfl9AwKcrvTPIX0DwuMty8QhgQPCdAQfJLWBAAIM3m6BSYEAQaG0veHdgQCBNo8NPnGBAMDLZVyfBYEBAFw/s/uVgQED8RIDWCmFAUOF6FK4vYUBgxrCohVRhQHCr5jxdeWFAgJAc0TSeYUCQdVJlDMNhQJBaiPnj52FAoD++jbsMYkCwJPQhkzFiQMAJKrZqVmJA0O5fSkJ7YkDg05XeGaBiQA==",
          "dtype": "f8"
         },
         "yaxis": "y"
        },
        {
         "customdata": [
          [
           "Energy",
           "Low Risk"
          ],
          [
           "Energy",
           "Low Risk"
          ],
          [
           "Energy",
           "Low Risk"
          ],
          [
           "Energy",
           "Low Risk"
          ],
          [
           "Energy",
           "Low Risk"
          ],
          [
           "Energy",
           "Low Risk"
          ],
          [
           "Energy",
           "Low Risk"
          ],
          [
           "Energy",
           "Low Risk"
          ],
          [
           "Energy",
           "Low Risk"
          ],
          [
           "Energy",
           "Low Risk"
          ],
          [
           "Energy",
           "Low Risk"
          ],
          [
           "Energy",
           "Low Risk"
          ],
          [
           "Energy",
           "Low Risk"
          ],
          [
           "Energy",
           "Low Risk"
          ],
          [
           "Energy",
           "Low Risk"
          ],
          [
           "Energy",
           "Low Risk"
          ],
          [
           "Energy",
           "Low Risk"
          ],
          [
           "Energy",
           "Low Risk"
          ],
          [
           "Energy",
           "Low Risk"
          ],
          [
           "Energy",
           "Low Risk"
          ],
          [
           "Energy",
           "Low Risk"
          ],
          [
           "Energy",
           "Low Risk"
          ],
          [
           "Energy",
           "Low Risk"
          ],
          [
           "Energy",
           "Low Risk"
          ],
          [
           "Energy",
           "Low Risk"
          ],
          [
           "Energy",
           "Low Risk"
          ]
         ],
         "hovertemplate": "scenario=%{customdata[1]}<br>sector=%{customdata[0]}<br>year=%{x}<br>carbon_price_usd_tco2e=%{y}<extra></extra>",
         "legendgroup": "Low Risk, Energy",
         "line": {
          "color": "#EF553B",
          "dash": "dot",
          "width": 1
         },
         "marker": {
          "size": 6,
          "symbol": "circle"
         },
         "mode": "lines+markers",
         "name": "Low Risk, Energy",
         "orientation": "v",
         "showlegend": true,
         "type": "scatter",
         "x": {
          "bdata": "6QfqB+sH7AftB+4H7wfwB/EH8gfzB/QH9Qf2B/cH+Af5B/oH+wf8B/0H/gf/BwAIAQgCCA==",
          "dtype": "i2"
         },
         "xaxis": "x",
         "y": {
          "bdata": "gBnDohbSWUCArEAYaXdaQMA/vo27HFtAwNI7Aw7CW0AAZrl4YGdcQAD5Nu6yDF1AQIy0YwWyXUCAHzLZV1deQICyr06q/F5AwEUtxPyhX0BgbNWcpyNgQAA2lNdQdmBAgP9SEvrIYEAgyRFNoxthQKCS0IdMbmFAQFyPwvXAYUDAJU79nhNiQGDvDDhIZmJA4LjLcvG4YkCAgoqtmgtjQABMSehDXmNAoBUII+2wY0Ag38ZdlgNkQMCohZg/VmRAYHJE0+ioZEDgOwMOkvtkQA==",
          "dtype": "f8"
         },
         "yaxis": "y"
        },
        {
         "customdata": [
          [
           "Industrials",
           "Low Risk"
          ],
          [
           "Industrials",
           "Low Risk"
          ],
          [
           "Industrials",
           "Low Risk"
          ],
          [
           "Industrials",
           "Low Risk"
          ],
          [
           "Industrials",
           "Low Risk"
          ],
          [
           "Industrials",
           "Low Risk"
          ],
          [
           "Industrials",
           "Low Risk"
          ],
          [
           "Industrials",
           "Low Risk"
          ],
          [
           "Industrials",
           "Low Risk"
          ],
          [
           "Industrials",
           "Low Risk"
          ],
          [
           "Industrials",
           "Low Risk"
          ],
          [
           "Industrials",
           "Low Risk"
          ],
          [
           "Industrials",
           "Low Risk"
          ],
          [
           "Industrials",
           "Low Risk"
          ],
          [
           "Industrials",
           "Low Risk"
          ],
          [
           "Industrials",
           "Low Risk"
          ],
          [
           "Industrials",
           "Low Risk"
          ],
          [
           "Industrials",
           "Low Risk"
          ],
          [
           "Industrials",
           "Low Risk"
          ],
          [
           "Industrials",
           "Low Risk"
          ],
          [
           "Industrials",
           "Low Risk"
          ],
          [
           "Industrials",
           "Low Risk"
          ],
          [
           "Industrials",
           "Low Risk"
          ],
          [
           "Industrials",
           "Low Risk"
          ],
          [
           "Industrials",
           "Low Risk"
          ],
          [
           "Industrials",
           "Low Risk"
          ]
         ],
         "hovertemplate": "scenario=%{customdata[1]}<br>sector=%{customdata[0]}<br>year=%{x}<br>carbon_price_usd_tco2e=%{y}<extra></extra>",
         "legendgroup": "Low Risk, Industrials",
         "line": {
          "color": "#EF553B",
          "dash": "dash",
          "width": 1
         },
         "marker": {
          "size": 6,
          "symbol": "circle"
         },
         "mode": "lines+markers",
         "name": "Low Risk, Industrials",
         "orientation": "v",
         "showlegend": true,
         "type": "scatter",
         "x": {
          "bdata": "6QfqB+sH7AftB+4H7wfwB/EH8gfzB/QH9Qf2B/cH+Af5B/oH+wf8B/0H/gf/BwAIAQgCCA==",
          "dtype": "i2"
         },
         "xaxis": "x",
         "y": {
          "bdata": "BFrbC97AYUC8YwXCSNNhQGxtL3iz5WFAJHdZLh74YUDUgIPkiApiQISKrZrzHGJAPJTXUF4vYkDsnQEHyUFiQKSnK70zVGJAVLFVc55mYkAMu38pCXliQLzEqd9zi2JAbM7Tld6dYkAk2P1LSbBiQNThJwK0wmJAjOtRuB7VYkA89XtuiediQOz+pST0+WJApAjQ2l4MY0BUEvqQyR5jQAwcJEc0MWNAvCVO/Z5DY0B0L3izCVZjQCQ5oml0aGNA1ELMH996Y0CMTPbVSY1jQA==",
          "dtype": "f8"
         },
         "yaxis": "y"
        },
        {
         "customdata": [
          [
           "Materials",
           "Low Risk"
          ],
          [
           "Materials",
           "Low Risk"
          ],
          [
           "Materials",
           "Low Risk"
          ],
          [
           "Materials",
           "Low Risk"
          ],
          [
           "Materials",
           "Low Risk"
          ],
          [
           "Materials",
           "Low Risk"
          ],
          [
           "Materials",
           "Low Risk"
          ],
          [
           "Materials",
           "Low Risk"
          ],
          [
           "Materials",
           "Low Risk"
          ],
          [
           "Materials",
           "Low Risk"
          ],
          [
           "Materials",
           "Low Risk"
          ],
          [
           "Materials",
           "Low Risk"
          ],
          [
           "Materials",
           "Low Risk"
          ],
          [
           "Materials",
           "Low Risk"
          ],
          [
           "Materials",
           "Low Risk"
          ],
          [
           "Materials",
           "Low Risk"
          ],
          [
           "Materials",
           "Low Risk"
          ],
          [
           "Materials",
           "Low Risk"
          ],
          [
           "Materials",
           "Low Risk"
          ],
          [
           "Materials",
           "Low Risk"
          ],
          [
           "Materials",
           "Low Risk"
          ],
          [
           "Materials",
           "Low Risk"
          ],
          [
           "Materials",
           "Low Risk"
          ],
          [
           "Materials",
           "Low Risk"
          ],
          [
           "Materials",
           "Low Risk"
          ],
          [
           "Materials",
           "Low Risk"
          ]
         ],
         "hovertemplate": "scenario=%{customdata[1]}<br>sector=%{customdata[0]}<br>year=%{x}<br>carbon_price_usd_tco2e=%{y}<extra></extra>",
         "legendgroup": "Low Risk, Materials",
         "line": {
          "color": "#EF553B",
          "dash": "longdash",
          "width": 1
         },
         "marker": {
          "size": 6,
          "symbol": "circle"
         },
         "mode": "lines+markers",
         "name": "Low Risk, Materials",
         "orientation": "v",
         "showlegend": true,
         "type": "scatter",
         "x": {
          "bdata": "6QfqB+sH7AftB+4H7wfwB/EH8gfzB/QH9Qf2B/cH+Af5B/oH+wf8B/0H/gf/BwAIAQgCCA==",
          "dtype": "i2"
         },
         "xaxis": "x",
         "y": {
          "bdata": "wFVznq70X0AAUxL6kHlgQED76qTK+GBAYKPDTwR4YUCAS5z6PfdhQKDzdKV3dmJAwJtNULH1YkAARCb76nRjQCDs/qUk9GNAQJTXUF5zZEBgPLD7l/JkQIDkiKbRcWVAwIxhUQvxZUDgNDr8RHBmQADdEqd+72ZAIIXrUbhuZ0BgLcT88e1nQIDVnKcrbWhAoH11UmXsaEDAJU79nmtpQODNJqjY6mlAIHb/UhJqakBAHtj9S+lqQGDGsKiFaGtAgG6JU7/na0CgFmL++GZsQA==",
          "dtype": "f8"
         },
         "yaxis": "y"
        },
        {
         "customdata": [
          [
           "Utilities",
           "Low Risk"
          ],
          [
           "Utilities",
           "Low Risk"
          ],
          [
           "Utilities",
           "Low Risk"
          ],
          [
           "Utilities",
           "Low Risk"
          ],
          [
           "Utilities",
           "Low Risk"
          ],
          [
           "Utilities",
           "Low Risk"
          ],
          [
           "Utilities",
           "Low Risk"
          ],
          [
           "Utilities",
           "Low Risk"
          ],
          [
           "Utilities",
           "Low Risk"
          ],
          [
           "Utilities",
           "Low Risk"
          ],
          [
           "Utilities",
           "Low Risk"
          ],
          [
           "Utilities",
           "Low Risk"
          ],
          [
           "Utilities",
           "Low Risk"
          ],
          [
           "Utilities",
           "Low Risk"
          ],
          [
           "Utilities",
           "Low Risk"
          ],
          [
           "Utilities",
           "Low Risk"
          ],
          [
           "Utilities",
           "Low Risk"
          ],
          [
           "Utilities",
           "Low Risk"
          ],
          [
           "Utilities",
           "Low Risk"
          ],
          [
           "Utilities",
           "Low Risk"
          ],
          [
           "Utilities",
           "Low Risk"
          ],
          [
           "Utilities",
           "Low Risk"
          ],
          [
           "Utilities",
           "Low Risk"
          ],
          [
           "Utilities",
           "Low Risk"
          ],
          [
           "Utilities",
           "Low Risk"
          ],
          [
           "Utilities",
           "Low Risk"
          ]
         ],
         "hovertemplate": "scenario=%{customdata[1]}<br>sector=%{customdata[0]}<br>year=%{x}<br>carbon_price_usd_tco2e=%{y}<extra></extra>",
         "legendgroup": "Low Risk, Utilities",
         "line": {
          "color": "#EF553B",
          "dash": "dashdot",
          "width": 1
         },
         "marker": {
          "size": 6,
          "symbol": "circle"
         },
         "mode": "lines+markers",
         "name": "Low Risk, Utilities",
         "orientation": "v",
         "showlegend": true,
         "type": "scatter",
         "x": {
          "bdata": "6QfqB+sH7AftB+4H7wfwB/EH8gfzB/QH9Qf2B/cH+Af5B/oH+wf8B/0H/gf/BwAIAQgCCA==",
          "dtype": "i2"
         },
         "xaxis": "x",
         "y": {
          "bdata": "wHLxwO7vYEDgh0z21UFhQOCcpyu9k2FA4LECYaTlYUDgxl2WizdiQODbuMtyiWJA4PATAVrbYkAABm82QS1jQAAbymsof2NAADAloQ/RY0AARYDW9iJkQABa2wvedGRAAG82QcXGZEAAhJF2rBhlQCCZ7KuTamVAIK5H4Xq8ZUAgw6IWYg5mQCDY/UtJYGZAIO1YgTCyZkAgArS2FwRnQEAXD+z+VWdAQCxqIeanZ0BAQcVWzflnQEBWIIy0S2hAQGt7wZudaEBAgNb2gu9oQA==",
          "dtype": "f8"
         },
         "yaxis": "y"
        },
        {
         "customdata": [
          [
           "Consumer Discretionary",
           "Medium Risk"
          ],
          [
           "Consumer Discretionary",
           "Medium Risk"
          ],
          [
           "Consumer Discretionary",
           "Medium Risk"
          ],
          [
           "Consumer Discretionary",
           "Medium Risk"
          ],
          [
           "Consumer Discretionary",
           "Medium Risk"
          ],
          [
           "Consumer Discretionary",
           "Medium Risk"
          ],
          [
           "Consumer Discretionary",
           "Medium Risk"
          ],
          [
           "Consumer Discretionary",
           "Medium Risk"
          ],
          [
           "Consumer Discretionary",
           "Medium Risk"
          ],
          [
           "Consumer Discretionary",
           "Medium Risk"
          ],
          [
           "Consumer Discretionary",
           "Medium Risk"
          ],
          [
           "Consumer Discretionary",
           "Medium Risk"
          ],
          [
           "Consumer Discretionary",
           "Medium Risk"
          ],
          [
           "Consumer Discretionary",
           "Medium Risk"
          ],
          [
           "Consumer Discretionary",
           "Medium Risk"
          ],
          [
           "Consumer Discretionary",
           "Medium Risk"
          ],
          [
           "Consumer Discretionary",
           "Medium Risk"
          ],
          [
           "Consumer Discretionary",
           "Medium Risk"
          ],
          [
           "Consumer Discretionary",
           "Medium Risk"
          ],
          [
           "Consumer Discretionary",
           "Medium Risk"
          ],
          [
           "Consumer Discretionary",
           "Medium Risk"
          ],
          [
           "Consumer Discretionary",
           "Medium Risk"
          ],
          [
           "Consumer Discretionary",
           "Medium Risk"
          ],
          [
           "Consumer Discretionary",
           "Medium Risk"
          ],
          [
           "Consumer Discretionary",
           "Medium Risk"
          ],
          [
           "Consumer Discretionary",
           "Medium Risk"
          ]
         ],
         "hovertemplate": "scenario=%{customdata[1]}<br>sector=%{customdata[0]}<br>year=%{x}<br>carbon_price_usd_tco2e=%{y}<extra></extra>",
         "legendgroup": "Medium Risk, Consumer Discretionary",
         "line": {
          "color": "#00cc96",
          "dash": "solid",
          "width": 1
         },
         "marker": {
          "size": 6,
          "symbol": "circle"
         },
         "mode": "lines+markers",
         "name": "Medium Risk, Consumer Discretionary",
         "orientation": "v",
         "showlegend": true,
         "type": "scatter",
         "x": {
          "bdata": "6QfqB+sH7AftB+4H7wfwB/EH8gfzB/QH9Qf2B/cH+Af5B/oH+wf8B/0H/gf/BwAIAQgCCA==",
          "dtype": "i2"
         },
         "xaxis": "x",
         "y": {
          "bdata": "ABJNo8P/XUAAArS2FzRgQIB7wZtNaGFAgPTOgIOcYkAAbtxludBjQIDn6UrvBGVAgGD3LyU5ZkAA2gQVW21nQABTEvqQoWhAgMwf38bVaUCARS3E/AlrQAC/OqkyPmxAADhIjmhybUCAsVVznqZuQIAqY1jU2m9AAFK4HoWHcECADj8RoCFxQEDLxQO7u3FAwIdM9tVVckCARNPo8O9yQAABWtsLinNAwL3gzSYkdEBAemfAQb50QAA37rJcWHVAwPN0pXfydUBAsPuXkox2QA==",
          "dtype": "f8"
         },
         "yaxis": "y"
        },
        {
         "customdata": [
          [
           "Energy",
           "Medium Risk"
          ],
          [
           "Energy",
           "Medium Risk"
          ],
          [
           "Energy",
           "Medium Risk"
          ],
          [
           "Energy",
           "Medium Risk"
          ],
          [
           "Energy",
           "Medium Risk"
          ],
          [
           "Energy",
           "Medium Risk"
          ],
          [
           "Energy",
           "Medium Risk"
          ],
          [
           "Energy",
           "Medium Risk"
          ],
          [
           "Energy",
           "Medium Risk"
          ],
          [
           "Energy",
           "Medium Risk"
          ],
          [
           "Energy",
           "Medium Risk"
          ],
          [
           "Energy",
           "Medium Risk"
          ],
          [
           "Energy",
           "Medium Risk"
          ],
          [
           "Energy",
           "Medium Risk"
          ],
          [
           "Energy",
           "Medium Risk"
          ],
          [
           "Energy",
           "Medium Risk"
          ],
          [
           "Energy",
           "Medium Risk"
          ],
          [
           "Energy",
           "Medium Risk"
          ],
          [
           "Energy",
           "Medium Risk"
          ],
          [
           "Energy",
           "Medium Risk"
          ],
          [
           "Energy",
           "Medium Risk"
          ],
          [
           "Energy",
           "Medium Risk"
          ],
          [
           "Energy",
           "Medium Risk"
          ],
          [
           "Energy",
           "Medium Risk"
          ],
          [
           "Energy",
           "Medium Risk"
          ],
          [
           "Energy",
           "Medium Risk"
          ]
         ],
         "hovertemplate": "scenario=%{customdata[1]}<br>sector=%{customdata[0]}<br>year=%{x}<br>carbon_price_usd_tco2e=%{y}<extra></extra>",
         "legendgroup": "Medium Risk, Energy",
         "line": {
          "color": "#00cc96",
          "dash": "dot",
          "width": 1
         },
         "marker": {
          "size": 6,
          "symbol": "circle"
         },
         "mode": "lines+markers",
         "name": "Medium Risk, Energy",
         "orientation": "v",
         "showlegend": true,
         "type": "scatter",
         "x": {
          "bdata": "6QfqB+sH7AftB+4H7wfwB/EH8gfzB/QH9Qf2B/cH+Af5B/oH+wf8B/0H/gf/BwAIAQgCCA==",
          "dtype": "i2"
         },
         "xaxis": "x",
         "y": {
          "bdata": "AIfyGsozWkCAMoZFLRRcQIDeGXCQ9F1AgIqtmvPUX0BAm6Biq9pgQEBx6vfcymFAQEc0jQ67YkAAHX4iQKtjQADzx7dxm2RAAMkRTaOLZUAAn1vi1HtmQAB1pXcGbGdAAEvvDDhcaEAAITmiaUxpQMD2gjebPGpAwMzMzMwsa0DAohZi/hxsQMB4YPcvDW1AwE6qjGH9bUDAJPQhk+1uQID6PbfE3W9AQOhDJvtmcEBA0+jwE99wQEC+jbssV3FAQKkyhkXPcUBAlNdQXkdyQA==",
          "dtype": "f8"
         },
         "yaxis": "y"
        },
        {
         "customdata": [
          [
           "Industrials",
           "Medium Risk"
          ],
          [
           "Industrials",
           "Medium Risk"
          ],
          [
           "Industrials",
           "Medium Risk"
          ],
          [
           "Industrials",
           "Medium Risk"
          ],
          [
           "Industrials",
           "Medium Risk"
          ],
          [
           "Industrials",
           "Medium Risk"
          ],
          [
           "Industrials",
           "Medium Risk"
          ],
          [
           "Industrials",
           "Medium Risk"
          ],
          [
           "Industrials",
           "Medium Risk"
          ],
          [
           "Industrials",
           "Medium Risk"
          ],
          [
           "Industrials",
           "Medium Risk"
          ],
          [
           "Industrials",
           "Medium Risk"
          ],
          [
           "Industrials",
           "Medium Risk"
          ],
          [
           "Industrials",
           "Medium Risk"
          ],
          [
           "Industrials",
           "Medium Risk"
          ],
          [
           "Industrials",
           "Medium Risk"
          ],
          [
           "Industrials",
           "Medium Risk"
          ],
          [
           "Industrials",
           "Medium Risk"
          ],
          [
           "Industrials",
           "Medium Risk"
          ],
          [
           "Industrials",
           "Medium Risk"
          ],
          [
           "Industrials",
           "Medium Risk"
          ],
          [
           "Industrials",
           "Medium Risk"
          ],
          [
           "Industrials",
           "Medium Risk"
          ],
          [
           "Industrials",
           "Medium Risk"
          ],
          [
           "Industrials",
           "Medium Risk"
          ],
          [
           "Industrials",
           "Medium Risk"
          ]
         ],
         "hovertemplate": "scenario=%{customdata[1]}<br>sector=%{customdata[0]}<br>year=%{x}<br>carbon_price_usd_tco2e=%{y}<extra></extra>",
         "legendgroup": "Medium Risk, Industrials",
         "line": {
          "color": "#00cc96",
          "dash": "dash",
          "width": 1
         },
         "marker": {
          "size": 6,
          "symbol": "circle"
         },
         "mode": "lines+markers",
         "name": "Medium Risk, Industrials",
         "orientation": "v",
         "showlegend": true,
         "type": "scatter",
         "x": {
          "bdata": "6QfqB+sH7AftB+4H7wfwB/EH8gfzB/QH9Qf2B/cH+Af5B/oH+wf8B/0H/gf/BwAIAQgCCA==",
          "dtype": "i2"
         },
         "xaxis": "x",
         "y": {
          "bdata": "gFvi1O8JYkCA6EMm+yJjQAB1pXcGPGRAgAEHyRFVZUCAjmgaHW5mQAAbymsoh2dAgKcrvTOgaECANI0OP7lpQADB7l9K0mpAgE1QsVXra0CA2rECYQRtQABnE1RsHW5AgPN0pXc2b0BAQGt7wSdwQIAGHCRHtHBAwMzMzMxAcUBAk311Us1xQIBZLh7YWXJAwB/fxl3mckBA5o9v43JzQICsQBhp/3NAwHLxwO6LdEBAOaJpdBh1QID/UhL6pHVAwMUDu38xdkBAjLRjBb52QA==",
          "dtype": "f8"
         },
         "yaxis": "y"
        },
        {
         "customdata": [
          [
           "Materials",
           "Medium Risk"
          ],
          [
           "Materials",
           "Medium Risk"
          ],
          [
           "Materials",
           "Medium Risk"
          ],
          [
           "Materials",
           "Medium Risk"
          ],
          [
           "Materials",
           "Medium Risk"
          ],
          [
           "Materials",
           "Medium Risk"
          ],
          [
           "Materials",
           "Medium Risk"
          ],
          [
           "Materials",
           "Medium Risk"
          ],
          [
           "Materials",
           "Medium Risk"
          ],
          [
           "Materials",
           "Medium Risk"
          ],
          [
           "Materials",
           "Medium Risk"
          ],
          [
           "Materials",
           "Medium Risk"
          ],
          [
           "Materials",
           "Medium Risk"
          ],
          [
           "Materials",
           "Medium Risk"
          ],
          [
           "Materials",
           "Medium Risk"
          ],
          [
           "Materials",
           "Medium Risk"
          ],
          [
           "Materials",
           "Medium Risk"
          ],
          [
           "Materials",
           "Medium Risk"
          ],
          [
           "Materials",
           "Medium Risk"
          ],
          [
           "Materials",
           "Medium Risk"
          ],
          [
           "Materials",
           "Medium Risk"
          ],
          [
           "Materials",
           "Medium Risk"
          ],
          [
           "Materials",
           "Medium Risk"
          ],
          [
           "Materials",
           "Medium Risk"
          ],
          [
           "Materials",
           "Medium Risk"
          ],
          [
           "Materials",
           "Medium Risk"
          ]
         ],
         "hovertemplate": "scenario=%{customdata[1]}<br>sector=%{customdata[0]}<br>year=%{x}<br>carbon_price_usd_tco2e=%{y}<extra></extra>",
         "legendgroup": "Medium Risk, Materials",
         "line": {
          "color": "#00cc96",
          "dash": "longdash",
          "width": 1
         },
         "marker": {
          "size": 6,
          "symbol": "circle"
         },
         "mode": "lines+markers",
         "name": "Medium Risk, Materials",
         "orientation": "v",
         "showlegend": true,
         "type": "scatter",
         "x": {
          "bdata": "6QfqB+sH7AftB+4H7wfwB/EH8gfzB/QH9Qf2B/cH+Af5B/oH+wf8B/0H/gf/BwAIAQgCCA==",
          "dtype": "i2"
         },
         "xaxis": "x",
         "y": {
          "bdata": "APeCN5sgYEAA6JY49WNhQADZqjlPp2JAAMq+OqnqY0CAutI7Ay5lQICr5jxdcWZAgJz6Pbe0Z0CAjQ4/EfhoQIB+IkBrO2pAgG82QcV+a0AAYEpCH8JsQABRXkN5BW5AAEJyRNNIb0CAGcOiFkZwQAASTaPD53BAQArXo3CJcUDAAmGkHStyQED76qTKzHJAwPN0pXduc0BA7P6lJBB0QMDkiKbRsXRAAN0Sp35TdUCA1ZynK/V1QADOJqjYlnZAgMawqIU4d0AAvzqpMtp3QA==",
          "dtype": "f8"
         },
         "yaxis": "y"
        },
        {
         "customdata": [
          [
           "Utilities",
           "Medium Risk"
          ],
          [
           "Utilities",
           "Medium Risk"
          ],
          [
           "Utilities",
           "Medium Risk"
          ],
          [
           "Utilities",
           "Medium Risk"
          ],
          [
           "Utilities",
           "Medium Risk"
          ],
          [
           "Utilities",
           "Medium Risk"
          ],
          [
           "Utilities",
           "Medium Risk"
          ],
          [
           "Utilities",
           "Medium Risk"
          ],
          [
           "Utilities",
           "Medium Risk"
          ],
          [
           "Utilities",
           "Medium Risk"
          ],
          [
           "Utilities",
           "Medium Risk"
          ],
          [
           "Utilities",
           "Medium Risk"
          ],
          [
           "Utilities",
           "Medium Risk"
          ],
          [
           "Utilities",
           "Medium Risk"
          ],
          [
           "Utilities",
           "Medium Risk"
          ],
          [
           "Utilities",
           "Medium Risk"
          ],
          [
           "Utilities",
           "Medium Risk"
          ],
          [
           "Utilities",
           "Medium Risk"
          ],
          [
           "Utilities",
           "Medium Risk"
          ],
          [
           "Utilities",
           "Medium Risk"
          ],
          [
           "Utilities",
           "Medium Risk"
          ],
          [
           "Utilities",
           "Medium Risk"
          ],
          [
           "Utilities",
           "Medium Risk"
          ],
          [
           "Utilities",
           "Medium Risk"
          ],
          [
           "Utilities",
           "Medium Risk"
          ],
          [
           "Utilities",
           "Medium Risk"
          ]
         ],
         "hovertemplate": "scenario=%{customdata[1]}<br>sector=%{customdata[0]}<br>year=%{x}<br>carbon_price_usd_tco2e=%{y}<extra></extra>",
         "legendgroup": "Medium Risk, Utilities",
         "line": {
          "color": "#00cc96",
          "dash": "dashdot",
          "width": 1
         },
         "marker": {
          "size": 6,
          "symbol": "circle"
         },
         "mode": "lines+markers",
         "name": "Medium Risk, Utilities",
         "orientation": "v",
         "showlegend": true,
         "type": "scatter",
         "x": {
          "bdata": "6QfqB+sH7AftB+4H7wfwB/EH8gfzB/QH9Qf2B/cH+Af5B/oH+wf8B/0H/gf/BwAIAQgCCA==",
          "dtype": "i2"
         },
         "xaxis": "x",
         "y": {
          "bdata": "AJN9dVKFYUAAfchkX9ViQABnE1RsJWRAAFFeQ3l1ZUAAO6kyhsVmQIAk9CGTFWhAgA4/EaBlaUCA+IkArbVqQIDi1O+5BWxAgMwf38ZVbUCAtmrO06VuQACgtb3g9W9AAEWA1vaicEAAuiVO/UpxQAAvy8UD83FAAKRwPQqbckDAGBa1EENzQMCNuywX63NAwAJhpB2TdEDAdwYcJDt1QMDsq5Mq43VAgGFRCzGLdkCA1vaCNzN3QIBLnPo923dAgMBBckSDeECANefpSit5QA==",
          "dtype": "f8"
         },
         "yaxis": "y"
        }
       ],
       "layout": {
        "height": 600,
        "legend": {
         "title": {
          "text": "scenario, sector"
         },
         "tracegroupgap": 0
        },
        "template": {
         "data": {
          "bar": [
           {
            "error_x": {
             "color": "#2a3f5f"
            },
            "error_y": {
             "color": "#2a3f5f"
            },
            "marker": {
             "line": {
              "color": "#E5ECF6",
              "width": 0.5
             },
             "pattern": {
              "fillmode": "overlay",
              "size": 10,
              "solidity": 0.2
             }
            },
            "type": "bar"
           }
          ],
          "barpolar": [
           {
            "marker": {
             "line": {
              "color": "#E5ECF6",
              "width": 0.5
             },
             "pattern": {
              "fillmode": "overlay",
              "size": 10,
              "solidity": 0.2
             }
            },
            "type": "barpolar"
           }
          ],
          "carpet": [
           {
            "aaxis": {
             "endlinecolor": "#2a3f5f",
             "gridcolor": "white",
             "linecolor": "white",
             "minorgridcolor": "white",
             "startlinecolor": "#2a3f5f"
            },
            "baxis": {
             "endlinecolor": "#2a3f5f",
             "gridcolor": "white",
             "linecolor": "white",
             "minorgridcolor": "white",
             "startlinecolor": "#2a3f5f"
            },
            "type": "carpet"
           }
          ],
          "choropleth": [
           {
            "colorbar": {
             "outlinewidth": 0,
             "ticks": ""
            },
            "type": "choropleth"
           }
          ],
          "contour": [
           {
            "colorbar": {
             "outlinewidth": 0,
             "ticks": ""
            },
            "colorscale": [
             [
              0,
              "#0d0887"
             ],
             [
              0.1111111111111111,
              "#46039f"
             ],
             [
              0.2222222222222222,
              "#7201a8"
             ],
             [
              0.3333333333333333,
              "#9c179e"
             ],
             [
              0.4444444444444444,
              "#bd3786"
             ],
             [
              0.5555555555555556,
              "#d8576b"
             ],
             [
              0.6666666666666666,
              "#ed7953"
             ],
             [
              0.7777777777777778,
              "#fb9f3a"
             ],
             [
              0.8888888888888888,
              "#fdca26"
             ],
             [
              1,
              "#f0f921"
             ]
            ],
            "type": "contour"
           }
          ],
          "contourcarpet": [
           {
            "colorbar": {
             "outlinewidth": 0,
             "ticks": ""
            },
            "type": "contourcarpet"
           }
          ],
          "heatmap": [
           {
            "colorbar": {
             "outlinewidth": 0,
             "ticks": ""
            },
            "colorscale": [
             [
              0,
              "#0d0887"
             ],
             [
              0.1111111111111111,
              "#46039f"
             ],
             [
              0.2222222222222222,
              "#7201a8"
             ],
             [
              0.3333333333333333,
              "#9c179e"
             ],
             [
              0.4444444444444444,
              "#bd3786"
             ],
             [
              0.5555555555555556,
              "#d8576b"
             ],
             [
              0.6666666666666666,
              "#ed7953"
             ],
             [
              0.7777777777777778,
              "#fb9f3a"
             ],
             [
              0.8888888888888888,
              "#fdca26"
             ],
             [
              1,
              "#f0f921"
             ]
            ],
            "type": "heatmap"
           }
          ],
          "histogram": [
           {
            "marker": {
             "pattern": {
              "fillmode": "overlay",
              "size": 10,
              "solidity": 0.2
             }
            },
            "type": "histogram"
           }
          ],
          "histogram2d": [
           {
            "colorbar": {
             "outlinewidth": 0,
             "ticks": ""
            },
            "colorscale": [
             [
              0,
              "#0d0887"
             ],
             [
              0.1111111111111111,
              "#46039f"
             ],
             [
              0.2222222222222222,
              "#7201a8"
             ],
             [
              0.3333333333333333,
              "#9c179e"
             ],
             [
              0.4444444444444444,
              "#bd3786"
             ],
             [
              0.5555555555555556,
              "#d8576b"
             ],
             [
              0.6666666666666666,
              "#ed7953"
             ],
             [
              0.7777777777777778,
              "#fb9f3a"
             ],
             [
              0.8888888888888888,
              "#fdca26"
             ],
             [
              1,
              "#f0f921"
             ]
            ],
            "type": "histogram2d"
           }
          ],
          "histogram2dcontour": [
           {
            "colorbar": {
             "outlinewidth": 0,
             "ticks": ""
            },
            "colorscale": [
             [
              0,
              "#0d0887"
             ],
             [
              0.1111111111111111,
              "#46039f"
             ],
             [
              0.2222222222222222,
              "#7201a8"
             ],
             [
              0.3333333333333333,
              "#9c179e"
             ],
             [
              0.4444444444444444,
              "#bd3786"
             ],
             [
              0.5555555555555556,
              "#d8576b"
             ],
             [
              0.6666666666666666,
              "#ed7953"
             ],
             [
              0.7777777777777778,
              "#fb9f3a"
             ],
             [
              0.8888888888888888,
              "#fdca26"
             ],
             [
              1,
              "#f0f921"
             ]
            ],
            "type": "histogram2dcontour"
           }
          ],
          "mesh3d": [
           {
            "colorbar": {
             "outlinewidth": 0,
             "ticks": ""
            },
            "type": "mesh3d"
           }
          ],
          "parcoords": [
           {
            "line": {
             "colorbar": {
              "outlinewidth": 0,
              "ticks": ""
             }
            },
            "type": "parcoords"
           }
          ],
          "pie": [
           {
            "automargin": true,
            "type": "pie"
           }
          ],
          "scatter": [
           {
            "fillpattern": {
             "fillmode": "overlay",
             "size": 10,
             "solidity": 0.2
            },
            "type": "scatter"
           }
          ],
          "scatter3d": [
           {
            "line": {
             "colorbar": {
              "outlinewidth": 0,
              "ticks": ""
             }
            },
            "marker": {
             "colorbar": {
              "outlinewidth": 0,
              "ticks": ""
             }
            },
            "type": "scatter3d"
           }
          ],
          "scattercarpet": [
           {
            "marker": {
             "colorbar": {
              "outlinewidth": 0,
              "ticks": ""
             }
            },
            "type": "scattercarpet"
           }
          ],
          "scattergeo": [
           {
            "marker": {
             "colorbar": {
              "outlinewidth": 0,
              "ticks": ""
             }
            },
            "type": "scattergeo"
           }
          ],
          "scattergl": [
           {
            "marker": {
             "colorbar": {
              "outlinewidth": 0,
              "ticks": ""
             }
            },
            "type": "scattergl"
           }
          ],
          "scattermap": [
           {
            "marker": {
             "colorbar": {
              "outlinewidth": 0,
              "ticks": ""
             }
            },
            "type": "scattermap"
           }
          ],
          "scattermapbox": [
           {
            "marker": {
             "colorbar": {
              "outlinewidth": 0,
              "ticks": ""
             }
            },
            "type": "scattermapbox"
           }
          ],
          "scatterpolar": [
           {
            "marker": {
             "colorbar": {
              "outlinewidth": 0,
              "ticks": ""
             }
            },
            "type": "scatterpolar"
           }
          ],
          "scatterpolargl": [
           {
            "marker": {
             "colorbar": {
              "outlinewidth": 0,
              "ticks": ""
             }
            },
            "type": "scatterpolargl"
           }
          ],
          "scatterternary": [
           {
            "marker": {
             "colorbar": {
              "outlinewidth": 0,
              "ticks": ""
             }
            },
            "type": "scatterternary"
           }
          ],
          "surface": [
           {
            "colorbar": {
             "outlinewidth": 0,
             "ticks": ""
            },
            "colorscale": [
             [
              0,
              "#0d0887"
             ],
             [
              0.1111111111111111,
              "#46039f"
             ],
             [
              0.2222222222222222,
              "#7201a8"
             ],
             [
              0.3333333333333333,
              "#9c179e"
             ],
             [
              0.4444444444444444,
              "#bd3786"
             ],
             [
              0.5555555555555556,
              "#d8576b"
             ],
             [
              0.6666666666666666,
              "#ed7953"
             ],
             [
              0.7777777777777778,
              "#fb9f3a"
             ],
             [
              0.8888888888888888,
              "#fdca26"
             ],
             [
              1,
              "#f0f921"
             ]
            ],
            "type": "surface"
           }
          ],
          "table": [
           {
            "cells": {
             "fill": {
              "color": "#EBF0F8"
             },
             "line": {
              "color": "white"
             }
            },
            "header": {
             "fill": {
              "color": "#C8D4E3"
             },
             "line": {
              "color": "white"
             }
            },
            "type": "table"
           }
          ]
         },
         "layout": {
          "annotationdefaults": {
           "arrowcolor": "#2a3f5f",
           "arrowhead": 0,
           "arrowwidth": 1
          },
          "autotypenumbers": "strict",
          "coloraxis": {
           "colorbar": {
            "outlinewidth": 0,
            "ticks": ""
           }
          },
          "colorscale": {
           "diverging": [
            [
             0,
             "#8e0152"
            ],
            [
             0.1,
             "#c51b7d"
            ],
            [
             0.2,
             "#de77ae"
            ],
            [
             0.3,
             "#f1b6da"
            ],
            [
             0.4,
             "#fde0ef"
            ],
            [
             0.5,
             "#f7f7f7"
            ],
            [
             0.6,
             "#e6f5d0"
            ],
            [
             0.7,
             "#b8e186"
            ],
            [
             0.8,
             "#7fbc41"
            ],
            [
             0.9,
             "#4d9221"
            ],
            [
             1,
             "#276419"
            ]
           ],
           "sequential": [
            [
             0,
             "#0d0887"
            ],
            [
             0.1111111111111111,
             "#46039f"
            ],
            [
             0.2222222222222222,
             "#7201a8"
            ],
            [
             0.3333333333333333,
             "#9c179e"
            ],
            [
             0.4444444444444444,
             "#bd3786"
            ],
            [
             0.5555555555555556,
             "#d8576b"
            ],
            [
             0.6666666666666666,
             "#ed7953"
            ],
            [
             0.7777777777777778,
             "#fb9f3a"
            ],
            [
             0.8888888888888888,
             "#fdca26"
            ],
            [
             1,
             "#f0f921"
            ]
           ],
           "sequentialminus": [
            [
             0,
             "#0d0887"
            ],
            [
             0.1111111111111111,
             "#46039f"
            ],
            [
             0.2222222222222222,
             "#7201a8"
            ],
            [
             0.3333333333333333,
             "#9c179e"
            ],
            [
             0.4444444444444444,
             "#bd3786"
            ],
            [
             0.5555555555555556,
             "#d8576b"
            ],
            [
             0.6666666666666666,
             "#ed7953"
            ],
            [
             0.7777777777777778,
             "#fb9f3a"
            ],
            [
             0.8888888888888888,
             "#fdca26"
            ],
            [
             1,
             "#f0f921"
            ]
           ]
          },
          "colorway": [
           "#636efa",
           "#EF553B",
           "#00cc96",
           "#ab63fa",
           "#FFA15A",
           "#19d3f3",
           "#FF6692",
           "#B6E880",
           "#FF97FF",
           "#FECB52"
          ],
          "font": {
           "color": "#2a3f5f"
          },
          "geo": {
           "bgcolor": "white",
           "lakecolor": "white",
           "landcolor": "#E5ECF6",
           "showlakes": true,
           "showland": true,
           "subunitcolor": "white"
          },
          "hoverlabel": {
           "align": "left"
          },
          "hovermode": "closest",
          "mapbox": {
           "style": "light"
          },
          "paper_bgcolor": "white",
          "plot_bgcolor": "#E5ECF6",
          "polar": {
           "angularaxis": {
            "gridcolor": "white",
            "linecolor": "white",
            "ticks": ""
           },
           "bgcolor": "#E5ECF6",
           "radialaxis": {
            "gridcolor": "white",
            "linecolor": "white",
            "ticks": ""
           }
          },
          "scene": {
           "xaxis": {
            "backgroundcolor": "#E5ECF6",
            "gridcolor": "white",
            "gridwidth": 2,
            "linecolor": "white",
            "showbackground": true,
            "ticks": "",
            "zerolinecolor": "white"
           },
           "yaxis": {
            "backgroundcolor": "#E5ECF6",
            "gridcolor": "white",
            "gridwidth": 2,
            "linecolor": "white",
            "showbackground": true,
            "ticks": "",
            "zerolinecolor": "white"
           },
           "zaxis": {
            "backgroundcolor": "#E5ECF6",
            "gridcolor": "white",
            "gridwidth": 2,
            "linecolor": "white",
            "showbackground": true,
            "ticks": "",
            "zerolinecolor": "white"
           }
          },
          "shapedefaults": {
           "line": {
            "color": "#2a3f5f"
           }
          },
          "ternary": {
           "aaxis": {
            "gridcolor": "white",
            "linecolor": "white",
            "ticks": ""
           },
           "baxis": {
            "gridcolor": "white",
            "linecolor": "white",
            "ticks": ""
           },
           "bgcolor": "#E5ECF6",
           "caxis": {
            "gridcolor": "white",
            "linecolor": "white",
            "ticks": ""
           }
          },
          "title": {
           "x": 0.05
          },
          "xaxis": {
           "automargin": true,
           "gridcolor": "white",
           "linecolor": "white",
           "ticks": "",
           "title": {
            "standoff": 15
           },
           "zerolinecolor": "white",
           "zerolinewidth": 2
          },
          "yaxis": {
           "automargin": true,
           "gridcolor": "white",
           "linecolor": "white",
           "ticks": "",
           "title": {
            "standoff": 15
           },
           "zerolinecolor": "white",
           "zerolinewidth": 2
          }
         }
        },
        "title": {
         "text": "EU – Carbon-price paths (all sectors)"
        },
        "xaxis": {
         "anchor": "y",
         "domain": [
          0,
          1
         ],
         "title": {
          "text": "Year"
         }
        },
        "yaxis": {
         "anchor": "x",
         "domain": [
          0,
          1
         ],
         "title": {
          "text": "USD / tCO₂e"
         },
         "type": "log"
        }
       }
      }
     },
     "metadata": {},
     "output_type": "display_data"
    }
   ],
   "source": [
    "import seaborn as sns\n",
    "import matplotlib.pyplot as plt\n",
    "import plotly.express as px\n",
    "import numpy as np\n",
    "\n",
    "# make sure DF has required columns\n",
    "required = {\"year\",\"region\",\"sector\",\"scenario\",\"carbon_price_usd_tco2e\"}\n",
    "assert required.issubset(carbon_prices_full.columns), \"missing columns\"\n",
    "\n",
    "# -----------------------------------------------------------------------\n",
    "# MAIN GENERIC FUNCTION\n",
    "# -----------------------------------------------------------------------\n",
    "def plot_region_prices(df, region,\n",
    "                       tool      = \"seaborn\",   # \"seaborn\" or \"plotly\"\n",
    "                       facet     = True,        # only for seaborn: facet per sector?\n",
    "                       log_y     = False,\n",
    "                       ylim      = None):\n",
    "    \"\"\"\n",
    "    df      : master DataFrame\n",
    "    region  : e.g. \"USA\", \"EU\", \"Global\"\n",
    "    tool    : 'seaborn' (static)  or  'plotly' (interactive)\n",
    "    facet   : if seaborn & True  → facet per sector\n",
    "              if False           → one panel, colour = scenario\n",
    "    log_y   : set y-axis to log scale\n",
    "    ylim    : tuple (ymin,ymax) optional manual limits\n",
    "    \"\"\"\n",
    "    sub = df.query(\"region == @region\").copy()\n",
    "    if sub.empty:\n",
    "        raise ValueError(f\"No rows for region={region}\")\n",
    "\n",
    "    # optional: mask non-positive values if using log\n",
    "    if log_y:\n",
    "        sub.loc[sub['carbon_price_usd_tco2e'] <= 0, 'carbon_price_usd_tco2e'] = np.nan\n",
    "\n",
    "    # --------------- SEABORN version -----------------------------------\n",
    "    if tool.lower() == \"seaborn\":\n",
    "        sns.set_theme(style=\"whitegrid\")\n",
    "        if facet:\n",
    "            g = sns.relplot(\n",
    "                data=sub, x=\"year\", y=\"carbon_price_usd_tco2e\",\n",
    "                hue=\"scenario\", style=\"scenario\", markers=True,\n",
    "                col=\"sector\", col_wrap=3, linewidth=1, height=3.2\n",
    "            )\n",
    "            g.set_titles(\"{col_name}\")\n",
    "            ax_list = g.axes.flatten()\n",
    "        else:\n",
    "            plt.figure(figsize=(7,4))\n",
    "            ax = sns.lineplot(\n",
    "                data=sub, x=\"year\", y=\"carbon_price_usd_tco2e\",\n",
    "                hue=\"scenario\", style=\"sector\", markers=True, linewidth=1\n",
    "            )\n",
    "            ax_list = [ax]\n",
    "\n",
    "        # log-scale & y-limits\n",
    "        for ax in ax_list:\n",
    "            if log_y: ax.set_yscale('log')\n",
    "            if ylim:  ax.set_ylim(*ylim)\n",
    "\n",
    "        title = (f\"{region} – Carbon-price trajectory \"\n",
    "                 f\"({'facet by sector' if facet else 'all sectors'})\")\n",
    "        if facet:\n",
    "            g.fig.suptitle(title, y=1.03, fontsize=14)\n",
    "            g.set_axis_labels(\"Year\", \"USD / tCO₂e (log)\" if log_y else \"USD / tCO₂e\")\n",
    "        else:\n",
    "            plt.title(title, fontsize=14)\n",
    "            plt.xlabel(\"Year\"); plt.ylabel(\"USD / tCO₂e (log)\" if log_y else \"USD / tCO₂e\")\n",
    "        plt.tight_layout()\n",
    "        plt.show()\n",
    "        return\n",
    "\n",
    "    # --------------- PLOTLY version ------------------------------------\n",
    "    if tool.lower() == \"plotly\":\n",
    "        fig = px.line(\n",
    "            sub, x=\"year\", y=\"carbon_price_usd_tco2e\",\n",
    "            color=\"scenario\", line_dash=\"sector\", markers=True,\n",
    "            hover_data=[\"sector\",\"scenario\",\"carbon_price_usd_tco2e\"],\n",
    "            title=f\"{region} – Carbon-price paths (all sectors)\"\n",
    "        )\n",
    "        fig.update_traces(line_width=1, marker_size=6)\n",
    "        fig.update_layout(\n",
    "            xaxis_title=\"Year\",\n",
    "            yaxis_title=\"USD / tCO₂e\",\n",
    "            yaxis_type=\"log\" if log_y else \"linear\",\n",
    "            height=600\n",
    "        )\n",
    "        if ylim:\n",
    "            fig.update_yaxes(range=np.log10(ylim).tolist() if log_y else ylim)\n",
    "        fig.show()\n",
    "        return\n",
    "\n",
    "    raise ValueError(\"tool must be 'seaborn' or 'plotly'\")\n",
    "\n",
    "\n",
    "\n",
    "# interactive – Global, single panel, LOG-y\n",
    "plot_region_prices(carbon_prices_full, region=\"EU\", tool=\"plotly\",\n",
    "                   facet=False, log_y=True)\n",
    "\n"
   ]
  },
  {
   "cell_type": "code",
   "execution_count": 23,
   "id": "4675ea75",
   "metadata": {},
   "outputs": [
    {
     "name": "stderr",
     "output_type": "stream",
     "text": [
      "/var/folders/lf/9_7wh6ps1354b6glt9mst87m0000gn/T/ipykernel_49547/2209629813.py:27: UserWarning:\n",
      "\n",
      "Glyph 8322 (\\N{SUBSCRIPT TWO}) missing from font(s) Arial.\n",
      "\n",
      "/opt/anaconda3/envs/sp_work/lib/python3.11/site-packages/IPython/core/pylabtools.py:170: UserWarning:\n",
      "\n",
      "Glyph 8322 (\\N{SUBSCRIPT TWO}) missing from font(s) Arial.\n",
      "\n"
     ]
    },
    {
     "data": {
      "image/png": "[encoded data removed]",
      "text/plain": [
       "<Figure size 1043.5x600 with 5 Axes>"
      ]
     },
     "metadata": {},
     "output_type": "display_data"
    }
   ],
   "source": [
    "plot_df = carbon_prices_full.copy()\n",
    "plot_df.loc[plot_df['carbon_price_usd_tco2e'] <= 0, 'carbon_price_usd_tco2e'] = np.nan\n",
    "\n",
    "g = sns.relplot(\n",
    "        data      = plot_df,\n",
    "        x         = \"year\",\n",
    "        y         = \"carbon_price_usd_tco2e\",\n",
    "        hue       = \"scenario\",\n",
    "        kind      = \"line\",\n",
    "        marker    = \"o\",\n",
    "        col       = \"region\",\n",
    "        col_wrap  = 3,\n",
    "        height    = 3,\n",
    "        facet_kws = dict(sharey=False)\n",
    ")\n",
    "\n",
    "# put every facet on log-scale\n",
    "for ax in g.axes.flatten():\n",
    "    # ax.set_yscale('log')\n",
    "    ax.yaxis.set_major_formatter(\n",
    "        plt.FuncFormatter(lambda v, p: f\"{v:g}\")\n",
    "    )\n",
    "\n",
    "g.set_titles(\"{col_name}\")\n",
    "g.fig.suptitle(\"Trajectory per Sector – coloured by region\", y=1.03)\n",
    "g.set_axis_labels(\"Year\", \"USD / tCO₂e  (log scale)\")\n",
    "plt.tight_layout()\n",
    "plt.show()"
   ]
  },
  {
   "cell_type": "code",
   "execution_count": null,
   "id": "3ee4ba83",
   "metadata": {},
   "outputs": [],
   "source": [
    "# ngf5_global_carbon_prices"
   ]
  },
  {
   "cell_type": "code",
   "execution_count": 24,
   "id": "8d3dc604",
   "metadata": {},
   "outputs": [
    {
     "name": "stderr",
     "output_type": "stream",
     "text": [
      "/opt/anaconda3/envs/sp_work/lib/python3.11/site-packages/IPython/core/pylabtools.py:170: UserWarning:\n",
      "\n",
      "Glyph 8322 (\\N{SUBSCRIPT TWO}) missing from font(s) Arial.\n",
      "\n"
     ]
    },
    {
     "data": {
      "image/png": "[encoded data removed]",
      "text/plain": [
       "<Figure size 1043.5x600 with 5 Axes>"
      ]
     },
     "metadata": {},
     "output_type": "display_data"
    }
   ],
   "source": [
    "g = sns.relplot(\n",
    "    data = carbon_prices_full,\n",
    "    x=\"year\", y=\"carbon_price_usd_tco2e\",\n",
    "    hue=\"scenario\", kind=\"line\", marker=\"o\",\n",
    "    col=\"sector\", col_wrap=3, height=3, facet_kws={'sharey':False}\n",
    ")\n",
    "g.set_titles(\"{col_name}\")\n",
    "g.fig.suptitle(\"Trajectory per Sector – coloured by Scenario\", y=1.02)\n",
    "g.set_axis_labels(\"Year\", \"USD / tCO₂e\")\n",
    "plt.show()\n"
   ]
  },
  {
   "cell_type": "code",
   "execution_count": null,
   "id": "2843db3b",
   "metadata": {},
   "outputs": [],
   "source": [
    "emissions_paths.head()"
   ]
  },
  {
   "cell_type": "markdown",
   "id": "de770d78",
   "metadata": {},
   "source": [
    "Estimate Abatement"
   ]
  },
  {
   "cell_type": "code",
   "execution_count": 25,
   "id": "9aa5c3d4",
   "metadata": {},
   "outputs": [
    {
     "name": "stdout",
     "output_type": "stream",
     "text": [
      "⊢ Filtered to 1,196 rows  (45 companies)\n"
     ]
    }
   ],
   "source": [
    "\"\"\"\n",
    "Abatement-cost engine  v1.1-lite\n",
    "(c) 2025  –  delta-based capacity build / reuse\n",
    "\"\"\"\n",
    "from __future__ import annotations\n",
    "import warnings\n",
    "from typing import Dict, List, Tuple\n",
    "import pandas as pd\n",
    "\n",
    "# ────────────────────────────────────────────────────────────────\n",
    "# 0.  Pathway filter\n",
    "# ────────────────────────────────────────────────────────────────\n",
    "def filter_paths(df: pd.DataFrame,\n",
    "                 scenario: str = \"low\",\n",
    "                 interp:   str = \"linear\",\n",
    "                 verbose:  bool = True) -> pd.DataFrame:\n",
    "    out = df.query(\"scenario == @scenario and interpolation_method == @interp\").copy()\n",
    "    if out.empty:\n",
    "        raise ValueError(\"No rows for the chosen scenario / interpolation.\")\n",
    "    if verbose:\n",
    "        print(f\"⊢ Filtered to {len(out):,} rows  ({out['uid'].nunique()} companies)\")\n",
    "    return out\n",
    "\n",
    "\n",
    "# ────────────────────────────────────────────────────────────────\n",
    "# 1.  Technology filter\n",
    "# ────────────────────────────────────────────────────────────────\n",
    "def filter_tech_by_location_sector(df_abatement: pd.DataFrame,\n",
    "                                   location: str,\n",
    "                                   sector:   str) -> pd.DataFrame:\n",
    "    tech = df_abatement[(df_abatement[\"sector\"] == sector) &\n",
    "                        (df_abatement[\"region\"] == location)]\n",
    "    if tech.empty:\n",
    "        tech = df_abatement[(df_abatement[\"sector\"] == sector) &\n",
    "                            (df_abatement[\"region\"] == \"Global\")]\n",
    "    if tech.empty:\n",
    "        tech = df_abatement[df_abatement[\"region\"] == \"Global\"]\n",
    "    if tech.empty:\n",
    "        raise ValueError(f\"No abatement tech for {sector=} {location=}.\")\n",
    "    return tech.copy()\n",
    "\n",
    "\n",
    "# ────────────────────────────────────────────────────────────────\n",
    "# 2.  Δ-tonnes needed this year\n",
    "# ────────────────────────────────────────────────────────────────\n",
    "\n",
    "def tonnes_to_abate(df_paths: pd.DataFrame,\n",
    "                    uid: str,\n",
    "                    year: int,\n",
    "                    tgt: str,\n",
    "                    prev_allowed: float | None) -> Tuple[float, float]:\n",
    "    \"\"\"\n",
    "    tonnes_needed  =  allowed_{t-1}  –  allowed_{t}      ( ≥ 0 )\n",
    "    allowed_now    =  Scope-1 / Scope-2 / (1+2) for year t\n",
    "    \"\"\"\n",
    "    row = df_paths.query(\"uid == @uid and year == @year\").iloc[0]\n",
    "\n",
    "    # pick the right column(s)\n",
    "    if tgt == \"Scope 1\":\n",
    "        allowed_now = row[\"scope1_tonnes\"]\n",
    "    elif tgt == \"Scope 2\":\n",
    "        allowed_now = row[\"scope2_tonnes\"]\n",
    "    else:                                   # Combined\n",
    "        allowed_now = row[\"scope1_tonnes\"] + row[\"scope2_tonnes\"]\n",
    "\n",
    "    # first model year: no reduction yet → Δ = 0\n",
    "    if prev_allowed is None:\n",
    "        tonnes_needed = 0.0\n",
    "    else:\n",
    "        tonnes_needed = max(prev_allowed - allowed_now, 0.0)\n",
    "\n",
    "    return tonnes_needed, allowed_now\n",
    "\n",
    "\n",
    "# ────────────────────────────────────────────────────────────────\n",
    "# 3.  Dispatcher  – reuse spare → build cheapest new plants\n",
    "# ────────────────────────────────────────────────────────────────\n",
    "# ────────────────────────────────────────────────────────────────\n",
    "# 3.  Dispatcher  – reuse installed capacity, build when needed\n",
    "# ────────────────────────────────────────────────────────────────\n",
    "def dispatch_with_capacity(tech_df: pd.DataFrame,\n",
    "                           tonnes_needed: float,\n",
    "                           capacity_bank: Dict[str, float]\n",
    "                           ) -> tuple[list[dict], Dict[str, float]]:\n",
    "    \"\"\"\n",
    "    Parameters\n",
    "    ----------\n",
    "    tech_df        : menu of abatement technologies allowed for this company\n",
    "    tonnes_needed  : Δ-tonnes to abate in the current year\n",
    "    capacity_bank  : {technology: total_installed_capacity}  (tCO₂e / yr)\n",
    "\n",
    "    Returns\n",
    "    -------\n",
    "    packages       : list of build / reuse actions taken this year\n",
    "    capacity_bank  : updated bank for next year\n",
    "    \"\"\"\n",
    "    packages: list[dict] = []\n",
    "\n",
    "    # ----------------------------------------------------------- #\n",
    "    # 1️⃣  Re-use capacity already installed in previous years\n",
    "    # ----------------------------------------------------------- #\n",
    "    for tech, cap in capacity_bank.items():\n",
    "        if tonnes_needed <= 0:\n",
    "            break\n",
    "        take = min(cap, tonnes_needed)          # can’t exceed rated capacity\n",
    "        if take > 0:\n",
    "            r     = tech_df.loc[tech_df[\"technology\"] == tech].iloc[0]\n",
    "            opex  = r[\"abatement_cost_usd_tco2e_year\"] * take\n",
    "            packages.append({\n",
    "                \"technology\": tech,\n",
    "                \"new_build\":  False,\n",
    "                \"tonnes\":     take,\n",
    "                \"plant_capacity\": cap,          # full rated capacity\n",
    "                \"capex_usd\":  0.0,\n",
    "                \"opex_usd_year\": opex,\n",
    "                \"cost_per_tonne_abated\": opex / take,\n",
    "                \"abatement_tech_sector\": r[\"sector\"],\n",
    "            })\n",
    "            tonnes_needed -= take               # capacity is re-usable next year\n",
    "\n",
    "    # ----------------------------------------------------------- #\n",
    "    # 2️⃣  Build new plants (cheapest first) if demand still unmet\n",
    "    # ----------------------------------------------------------- #\n",
    "    if tonnes_needed > 0:\n",
    "        tech_df = tech_df.assign(\n",
    "            levelised=(tech_df[\"initial_investment_usd_million\"] * 1e6\n",
    "                       / tech_df[\"abatement_capacity_tco2e_year\"]\n",
    "                       + tech_df[\"abatement_cost_usd_tco2e_year\"])\n",
    "        ).sort_values(\"levelised\")\n",
    "\n",
    "        for _, r in tech_df.iterrows():\n",
    "            if tonnes_needed <= 0:\n",
    "                break\n",
    "\n",
    "            cap   = r[\"abatement_capacity_tco2e_year\"]\n",
    "            take  = min(cap, tonnes_needed)\n",
    "            capex = r[\"initial_investment_usd_million\"] * 1e6\n",
    "            opex  = r[\"abatement_cost_usd_tco2e_year\"] * take\n",
    "\n",
    "            packages.append({\n",
    "                \"technology\": r[\"technology\"],\n",
    "                \"new_build\":  True,\n",
    "                \"tonnes\":     take,\n",
    "                \"plant_capacity\": cap,\n",
    "                \"capex_usd\":  capex,\n",
    "                \"opex_usd_year\": opex,\n",
    "                \"cost_per_tonne_abated\": (capex / cap) + r[\"abatement_cost_usd_tco2e_year\"],\n",
    "                \"abatement_tech_sector\": r[\"sector\"],\n",
    "            })\n",
    "\n",
    "            # add the new plant’s capacity to any that already exists\n",
    "            capacity_bank[r[\"technology\"]] = capacity_bank.get(r[\"technology\"], 0) + cap\n",
    "            tonnes_needed -= take\n",
    "\n",
    "    return packages, capacity_bank\n",
    "\n",
    "\n",
    "\n",
    "# ────────────────────────────────────────────────────────────────\n",
    "# 4.  Per-company engine\n",
    "# ────────────────────────────────────────────────────────────────\n",
    "TARGET_MAP = {\n",
    "    \"Scope 1\":            \"Scope 1\",\n",
    "    \"Scope 2\":            \"Scope 2\",\n",
    "    \"Direct\":             \"Combined\",\n",
    "    \"Scope 2 and other\":  \"Combined\",\n",
    "}\n",
    "\n",
    "def compute_company_abatement_costs(uid: str,\n",
    "                                    df_paths: pd.DataFrame,\n",
    "                                    df_abatement: pd.DataFrame\n",
    "                                    ) -> Tuple[pd.DataFrame, pd.DataFrame]:\n",
    "    comp = df_paths[df_paths[\"uid\"] == uid]\n",
    "    if comp.empty:\n",
    "        raise ValueError(f\"{uid=} missing in pathway data.\")\n",
    "\n",
    "    raw_tgt = comp[\"type_of_target\"].iat[0]\n",
    "    if raw_tgt == \"Scope 3\":\n",
    "        warnings.warn(f\"Skipping {uid}: Scope 3 target (not modelled).\")\n",
    "        return pd.DataFrame(), pd.DataFrame()\n",
    "\n",
    "    tgt = TARGET_MAP.get(raw_tgt)\n",
    "    if tgt is None:\n",
    "        warnings.warn(f\"Skipping {uid}: unknown target '{raw_tgt}'.\")\n",
    "        return pd.DataFrame(), pd.DataFrame()\n",
    "\n",
    "    sector   = comp[\"gics_sector\"].iat[0]\n",
    "    location = comp[\"country\"].iat[0]\n",
    "    tech_df  = filter_tech_by_location_sector(df_abatement, location, sector)\n",
    "\n",
    "    capacity_bank: Dict[str, float] = {}\n",
    "    annual_rows:  List[dict] = []\n",
    "    detail_rows:  List[dict] = []\n",
    "    cum_capex = cum_opex = 0.0\n",
    "    prev_allowed: float | None = None\n",
    "\n",
    "    for year in sorted(comp[\"year\"].unique()):\n",
    "        tonnes_needed, allowed_now = tonnes_to_abate(df_paths, uid, year, tgt, prev_allowed)\n",
    "        packages, capacity_bank = dispatch_with_capacity(tech_df, tonnes_needed, capacity_bank)\n",
    "\n",
    "        capex = sum(p[\"capex_usd\"]     for p in packages)\n",
    "        opex  = sum(p[\"opex_usd_year\"] for p in packages)\n",
    "        cum_capex += capex\n",
    "        cum_opex  += opex\n",
    "\n",
    "        annual_rows.append({\n",
    "            \"uid\": uid, \"year\": year, \"region\": location, \"gics_sector\": sector,\n",
    "            \"abatement_tonnes\": tonnes_needed,\n",
    "            \"capex_usd\": capex, \"opex_usd_year\": opex,\n",
    "            \"cum_capex_usd\": cum_capex, \"cum_opex_usd\": cum_opex,\n",
    "            \"technology_used\": \"; \".join(p[\"technology\"] for p in packages),\n",
    "            \"plant_capacity_built_this_year\": sum(\n",
    "                p[\"plant_capacity\"] for p in packages if p[\"new_build\"]),\n",
    "        })\n",
    "\n",
    "        for p in packages:\n",
    "            detail_rows.append({**p, \"uid\": uid, \"year\": year,\n",
    "                                \"region\": location, \"gics_sector\": sector})\n",
    "\n",
    "        prev_allowed = allowed_now\n",
    "\n",
    "    return pd.DataFrame(annual_rows), pd.DataFrame(detail_rows)\n",
    "\n",
    "\n",
    "# ────────────────────────────────────────────────────────────────\n",
    "# 5.  Portfolio runner\n",
    "# ────────────────────────────────────────────────────────────────\n",
    "def run_all_companies(df_paths: pd.DataFrame,\n",
    "                      df_abatement: pd.DataFrame\n",
    "                      ) -> Tuple[pd.DataFrame, pd.DataFrame, pd.DataFrame]:\n",
    "    annual_frames, detail_frames = [], []\n",
    "    for uid in df_paths[\"uid\"].unique():\n",
    "        annual, detail = compute_company_abatement_costs(uid, df_paths, df_abatement)\n",
    "        if not annual.empty:\n",
    "            annual_frames.append(annual)\n",
    "            detail_frames.append(detail)\n",
    "\n",
    "    if not annual_frames:\n",
    "        raise ValueError(\"No company produced output – check target labels.\")\n",
    "\n",
    "    annual_df = pd.concat(annual_frames, ignore_index=True)\n",
    "    detail_df = pd.concat(detail_frames, ignore_index=True)\n",
    "    summary_df = (annual_df.groupby(\"uid\")\n",
    "                  .agg(total_capex_usd     = (\"capex_usd\", \"sum\"),\n",
    "                       total_opex_usd      = (\"opex_usd_year\", \"sum\"),\n",
    "                       total_abated_tonnes = (\"abatement_tonnes\", \"sum\"),\n",
    "                       region              = (\"region\", \"first\"),\n",
    "                       gics_sector         = (\"gics_sector\", \"first\"))\n",
    "                  .reset_index())\n",
    "    return annual_df, summary_df, detail_df\n",
    "\n",
    "\n",
    "# ────────────────────────────────────────────────────────────────\n",
    "# 6.  Example (comment out SystemExit when real data are loaded)\n",
    "# ────────────────────────────────────────────────────────────────\n",
    "if __name__ == \"__main__\":\n",
    "    # raise SystemExit(\n",
    "    #     \"Load `emissions_paths` & `df_abatement`, then:\\n\")\n",
    "        paths = filter_paths(emissions_paths, 'low', 'linear')\n",
    "        annual_df, summary_df, detail_df = run_all_companies(paths, df_abatement)\n",
    "        annual_df.to_csv('annual_abatement_costs.csv', index=False)\n",
    "        summary_df.to_csv('summary_abatement_costs.csv', index=False)\n",
    "        detail_df.to_csv('detail_abatement_costs.csv', index=False)\n",
    "    \n"
   ]
  },
  {
   "cell_type": "code",
   "execution_count": 23,
   "id": "fa5a304d",
   "metadata": {},
   "outputs": [
    {
     "data": {
      "text/html": [
       "<div>\n",
       "<style scoped>\n",
       "    .dataframe tbody tr th:only-of-type {\n",
       "        vertical-align: middle;\n",
       "    }\n",
       "\n",
       "    .dataframe tbody tr th {\n",
       "        vertical-align: top;\n",
       "    }\n",
       "\n",
       "    .dataframe thead th {\n",
       "        text-align: right;\n",
       "    }\n",
       "</style>\n",
       "<table border=\"1\" class=\"dataframe\">\n",
       "  <thead>\n",
       "    <tr style=\"text-align: right;\">\n",
       "      <th></th>\n",
       "      <th>uid</th>\n",
       "      <th>gics_sector</th>\n",
       "      <th>country</th>\n",
       "      <th>type_of_target</th>\n",
       "      <th>year</th>\n",
       "      <th>scope1_tonnes</th>\n",
       "      <th>scope2_tonnes</th>\n",
       "      <th>targeted_emissions</th>\n",
       "      <th>scenario</th>\n",
       "      <th>growth_rate</th>\n",
       "      <th>interpolation_method</th>\n",
       "    </tr>\n",
       "  </thead>\n",
       "  <tbody>\n",
       "    <tr>\n",
       "      <th>0</th>\n",
       "      <td>C001</td>\n",
       "      <td>Real Estate</td>\n",
       "      <td>Global</td>\n",
       "      <td>Scope 2</td>\n",
       "      <td>2025</td>\n",
       "      <td>21510000</td>\n",
       "      <td>1070000</td>\n",
       "      <td>1070000</td>\n",
       "      <td>low</td>\n",
       "      <td>0.0</td>\n",
       "      <td>linear</td>\n",
       "    </tr>\n",
       "    <tr>\n",
       "      <th>1</th>\n",
       "      <td>C001</td>\n",
       "      <td>Real Estate</td>\n",
       "      <td>Global</td>\n",
       "      <td>Scope 2</td>\n",
       "      <td>2026</td>\n",
       "      <td>21510000</td>\n",
       "      <td>1046588</td>\n",
       "      <td>1046588</td>\n",
       "      <td>low</td>\n",
       "      <td>0.0</td>\n",
       "      <td>linear</td>\n",
       "    </tr>\n",
       "    <tr>\n",
       "      <th>2</th>\n",
       "      <td>C001</td>\n",
       "      <td>Real Estate</td>\n",
       "      <td>Global</td>\n",
       "      <td>Scope 2</td>\n",
       "      <td>2027</td>\n",
       "      <td>21510000</td>\n",
       "      <td>1023177</td>\n",
       "      <td>1023177</td>\n",
       "      <td>low</td>\n",
       "      <td>0.0</td>\n",
       "      <td>linear</td>\n",
       "    </tr>\n",
       "    <tr>\n",
       "      <th>3</th>\n",
       "      <td>C001</td>\n",
       "      <td>Real Estate</td>\n",
       "      <td>Global</td>\n",
       "      <td>Scope 2</td>\n",
       "      <td>2028</td>\n",
       "      <td>21510000</td>\n",
       "      <td>999765</td>\n",
       "      <td>999765</td>\n",
       "      <td>low</td>\n",
       "      <td>0.0</td>\n",
       "      <td>linear</td>\n",
       "    </tr>\n",
       "    <tr>\n",
       "      <th>4</th>\n",
       "      <td>C001</td>\n",
       "      <td>Real Estate</td>\n",
       "      <td>Global</td>\n",
       "      <td>Scope 2</td>\n",
       "      <td>2029</td>\n",
       "      <td>21510000</td>\n",
       "      <td>976354</td>\n",
       "      <td>976354</td>\n",
       "      <td>low</td>\n",
       "      <td>0.0</td>\n",
       "      <td>linear</td>\n",
       "    </tr>\n",
       "  </tbody>\n",
       "</table>\n",
       "</div>"
      ],
      "text/plain": [
       "    uid  gics_sector country type_of_target  year  scope1_tonnes  \\\n",
       "0  C001  Real Estate  Global        Scope 2  2025       21510000   \n",
       "1  C001  Real Estate  Global        Scope 2  2026       21510000   \n",
       "2  C001  Real Estate  Global        Scope 2  2027       21510000   \n",
       "3  C001  Real Estate  Global        Scope 2  2028       21510000   \n",
       "4  C001  Real Estate  Global        Scope 2  2029       21510000   \n",
       "\n",
       "   scope2_tonnes  targeted_emissions scenario  growth_rate  \\\n",
       "0        1070000             1070000      low          0.0   \n",
       "1        1046588             1046588      low          0.0   \n",
       "2        1023177             1023177      low          0.0   \n",
       "3         999765              999765      low          0.0   \n",
       "4         976354              976354      low          0.0   \n",
       "\n",
       "  interpolation_method  \n",
       "0               linear  \n",
       "1               linear  \n",
       "2               linear  \n",
       "3               linear  \n",
       "4               linear  "
      ]
     },
     "execution_count": 23,
     "metadata": {},
     "output_type": "execute_result"
    }
   ],
   "source": [
    "emissions_paths.head()"
   ]
  },
  {
   "cell_type": "code",
   "execution_count": 17,
   "id": "57485461",
   "metadata": {},
   "outputs": [
    {
     "data": {
      "text/html": [
       "<div>\n",
       "<style scoped>\n",
       "    .dataframe tbody tr th:only-of-type {\n",
       "        vertical-align: middle;\n",
       "    }\n",
       "\n",
       "    .dataframe tbody tr th {\n",
       "        vertical-align: top;\n",
       "    }\n",
       "\n",
       "    .dataframe thead th {\n",
       "        text-align: right;\n",
       "    }\n",
       "</style>\n",
       "<table border=\"1\" class=\"dataframe\">\n",
       "  <thead>\n",
       "    <tr style=\"text-align: right;\">\n",
       "      <th></th>\n",
       "      <th>sector</th>\n",
       "      <th>region</th>\n",
       "      <th>technology</th>\n",
       "      <th>initial_investment_usd_million</th>\n",
       "      <th>abatement_capacity_tco2e_year</th>\n",
       "      <th>abatement_cost_usd_tco2e_year</th>\n",
       "    </tr>\n",
       "  </thead>\n",
       "  <tbody>\n",
       "    <tr>\n",
       "      <th>0</th>\n",
       "      <td>Energy</td>\n",
       "      <td>USA</td>\n",
       "      <td>Utility-scale Solar</td>\n",
       "      <td>350.52</td>\n",
       "      <td>60952</td>\n",
       "      <td>50.97</td>\n",
       "    </tr>\n",
       "    <tr>\n",
       "      <th>1</th>\n",
       "      <td>Energy</td>\n",
       "      <td>USA</td>\n",
       "      <td>Wind Power</td>\n",
       "      <td>218.94</td>\n",
       "      <td>192720</td>\n",
       "      <td>31.15</td>\n",
       "    </tr>\n",
       "    <tr>\n",
       "      <th>2</th>\n",
       "      <td>Energy</td>\n",
       "      <td>EU</td>\n",
       "      <td>Utility-scale Solar</td>\n",
       "      <td>558.64</td>\n",
       "      <td>54776</td>\n",
       "      <td>44.22</td>\n",
       "    </tr>\n",
       "    <tr>\n",
       "      <th>3</th>\n",
       "      <td>Energy</td>\n",
       "      <td>EU</td>\n",
       "      <td>Carbon Capture and Storage</td>\n",
       "      <td>340.98</td>\n",
       "      <td>50000</td>\n",
       "      <td>105.16</td>\n",
       "    </tr>\n",
       "    <tr>\n",
       "      <th>4</th>\n",
       "      <td>Energy</td>\n",
       "      <td>China</td>\n",
       "      <td>Utility-scale Solar</td>\n",
       "      <td>380.28</td>\n",
       "      <td>217543</td>\n",
       "      <td>43.47</td>\n",
       "    </tr>\n",
       "  </tbody>\n",
       "</table>\n",
       "</div>"
      ],
      "text/plain": [
       "   sector region                  technology  initial_investment_usd_million  \\\n",
       "0  Energy    USA         Utility-scale Solar                          350.52   \n",
       "1  Energy    USA                  Wind Power                          218.94   \n",
       "2  Energy     EU         Utility-scale Solar                          558.64   \n",
       "3  Energy     EU  Carbon Capture and Storage                          340.98   \n",
       "4  Energy  China         Utility-scale Solar                          380.28   \n",
       "\n",
       "   abatement_capacity_tco2e_year  abatement_cost_usd_tco2e_year  \n",
       "0                          60952                          50.97  \n",
       "1                         192720                          31.15  \n",
       "2                          54776                          44.22  \n",
       "3                          50000                         105.16  \n",
       "4                         217543                          43.47  "
      ]
     },
     "execution_count": 17,
     "metadata": {},
     "output_type": "execute_result"
    }
   ],
   "source": [
    "df_abatement.head()"
   ]
  },
  {
   "cell_type": "code",
   "execution_count": 24,
   "id": "8cd09227",
   "metadata": {},
   "outputs": [
    {
     "data": {
      "text/html": [
       "<div>\n",
       "<style scoped>\n",
       "    .dataframe tbody tr th:only-of-type {\n",
       "        vertical-align: middle;\n",
       "    }\n",
       "\n",
       "    .dataframe tbody tr th {\n",
       "        vertical-align: top;\n",
       "    }\n",
       "\n",
       "    .dataframe thead th {\n",
       "        text-align: right;\n",
       "    }\n",
       "</style>\n",
       "<table border=\"1\" class=\"dataframe\">\n",
       "  <thead>\n",
       "    <tr style=\"text-align: right;\">\n",
       "      <th></th>\n",
       "      <th>uid</th>\n",
       "      <th>year</th>\n",
       "      <th>region</th>\n",
       "      <th>gics_sector</th>\n",
       "      <th>abatement_tonnes</th>\n",
       "      <th>capex_usd</th>\n",
       "      <th>opex_usd_year</th>\n",
       "      <th>cum_capex_usd</th>\n",
       "      <th>cum_opex_usd</th>\n",
       "      <th>technology_used</th>\n",
       "      <th>plant_capacity_built_this_year</th>\n",
       "    </tr>\n",
       "  </thead>\n",
       "  <tbody>\n",
       "    <tr>\n",
       "      <th>0</th>\n",
       "      <td>C001</td>\n",
       "      <td>2025</td>\n",
       "      <td>Global</td>\n",
       "      <td>Real Estate</td>\n",
       "      <td>0.0</td>\n",
       "      <td>0.0</td>\n",
       "      <td>0.00</td>\n",
       "      <td>0.0</td>\n",
       "      <td>0.00</td>\n",
       "      <td></td>\n",
       "      <td>0</td>\n",
       "    </tr>\n",
       "    <tr>\n",
       "      <th>1</th>\n",
       "      <td>C001</td>\n",
       "      <td>2026</td>\n",
       "      <td>Global</td>\n",
       "      <td>Real Estate</td>\n",
       "      <td>23412.0</td>\n",
       "      <td>77400000.0</td>\n",
       "      <td>1101066.36</td>\n",
       "      <td>77400000.0</td>\n",
       "      <td>1101066.36</td>\n",
       "      <td>Energy Efficiency Upgrades</td>\n",
       "      <td>39466</td>\n",
       "    </tr>\n",
       "    <tr>\n",
       "      <th>2</th>\n",
       "      <td>C001</td>\n",
       "      <td>2027</td>\n",
       "      <td>Global</td>\n",
       "      <td>Real Estate</td>\n",
       "      <td>23411.0</td>\n",
       "      <td>0.0</td>\n",
       "      <td>1101019.33</td>\n",
       "      <td>77400000.0</td>\n",
       "      <td>2202085.69</td>\n",
       "      <td>Energy Efficiency Upgrades</td>\n",
       "      <td>0</td>\n",
       "    </tr>\n",
       "    <tr>\n",
       "      <th>3</th>\n",
       "      <td>C001</td>\n",
       "      <td>2028</td>\n",
       "      <td>Global</td>\n",
       "      <td>Real Estate</td>\n",
       "      <td>23412.0</td>\n",
       "      <td>0.0</td>\n",
       "      <td>1101066.36</td>\n",
       "      <td>77400000.0</td>\n",
       "      <td>3303152.05</td>\n",
       "      <td>Energy Efficiency Upgrades</td>\n",
       "      <td>0</td>\n",
       "    </tr>\n",
       "    <tr>\n",
       "      <th>4</th>\n",
       "      <td>C001</td>\n",
       "      <td>2029</td>\n",
       "      <td>Global</td>\n",
       "      <td>Real Estate</td>\n",
       "      <td>23411.0</td>\n",
       "      <td>0.0</td>\n",
       "      <td>1101019.33</td>\n",
       "      <td>77400000.0</td>\n",
       "      <td>4404171.38</td>\n",
       "      <td>Energy Efficiency Upgrades</td>\n",
       "      <td>0</td>\n",
       "    </tr>\n",
       "  </tbody>\n",
       "</table>\n",
       "</div>"
      ],
      "text/plain": [
       "    uid  year  region  gics_sector  abatement_tonnes   capex_usd  \\\n",
       "0  C001  2025  Global  Real Estate               0.0         0.0   \n",
       "1  C001  2026  Global  Real Estate           23412.0  77400000.0   \n",
       "2  C001  2027  Global  Real Estate           23411.0         0.0   \n",
       "3  C001  2028  Global  Real Estate           23412.0         0.0   \n",
       "4  C001  2029  Global  Real Estate           23411.0         0.0   \n",
       "\n",
       "   opex_usd_year  cum_capex_usd  cum_opex_usd             technology_used  \\\n",
       "0           0.00            0.0          0.00                               \n",
       "1     1101066.36     77400000.0    1101066.36  Energy Efficiency Upgrades   \n",
       "2     1101019.33     77400000.0    2202085.69  Energy Efficiency Upgrades   \n",
       "3     1101066.36     77400000.0    3303152.05  Energy Efficiency Upgrades   \n",
       "4     1101019.33     77400000.0    4404171.38  Energy Efficiency Upgrades   \n",
       "\n",
       "   plant_capacity_built_this_year  \n",
       "0                               0  \n",
       "1                           39466  \n",
       "2                               0  \n",
       "3                               0  \n",
       "4                               0  "
      ]
     },
     "execution_count": 24,
     "metadata": {},
     "output_type": "execute_result"
    }
   ],
   "source": [
    "annual_df.head()# emissions_paths.head()"
   ]
  },
  {
   "cell_type": "code",
   "execution_count": null,
   "id": "5d751ccb",
   "metadata": {},
   "outputs": [],
   "source": []
  },
  {
   "cell_type": "markdown",
   "id": "215a3cb3",
   "metadata": {},
   "source": [
    "trade off analysis."
   ]
  },
  {
   "cell_type": "code",
   "execution_count": null,
   "id": "0b11f01d",
   "metadata": {},
   "outputs": [],
   "source": [
    "\n",
    "\n",
    "def build_tradeoff_table(annual_df, emissions_paths, carbon_prices_full):\n",
    "    # ── 1. Merge emissions + abatement ────────────────────────────────\n",
    "    emis = (emissions_paths\n",
    "            .assign(e_total=lambda d: d['scope1_tonnes'] + d['scope2_tonnes'])\n",
    "            .loc[:, ['uid', 'year', 'gics_sector', 'country', 'e_total']])\n",
    "\n",
    "    abat = (annual_df\n",
    "            .loc[:, ['uid', 'year',\n",
    "                     'abatement_tonnes', 'capex_usd', 'opex_usd_year']]\n",
    "            .sort_values(['uid', 'year'])\n",
    "            .assign(capex_cum=lambda d: d.groupby('uid')['capex_usd'].cumsum(),\n",
    "                    opex_cum =lambda d: d.groupby('uid')['opex_usd_year'].cumsum()))\n",
    "\n",
    "    base = emis.merge(abat, on=['uid', 'year'], how='left').fillna(0)\n",
    "\n",
    "    # ── 2. Cross-join every scenario (Low / Medium / High) ────────────\n",
    "    scenarios = carbon_prices_full['scenario'].unique()\n",
    "    base = (base.assign(key=1)\n",
    "                 .merge(pd.DataFrame({'scenario': scenarios, 'key': 1}),\n",
    "                        on='key').drop('key', axis=1))\n",
    "\n",
    "    # ── 3. Attach carbon prices with Global fallback ──────────────────\n",
    "    price_cols = ['sector', 'region', 'scenario',\n",
    "                  'year', 'carbon_price_usd_tco2e']\n",
    "    prices = carbon_prices_full[price_cols]\n",
    "\n",
    "    df = base.merge(\n",
    "        prices,\n",
    "        left_on =['gics_sector','country','scenario','year'],\n",
    "        right_on=['sector'     ,'region' ,'scenario','year'],\n",
    "        how='left')\n",
    "\n",
    "    miss = df['carbon_price_usd_tco2e'].isna()\n",
    "    if miss.any():\n",
    "        global_prices = prices[prices['region'] == 'Global']\n",
    "        df.loc[miss, 'carbon_price_usd_tco2e'] = (\n",
    "            df[miss]\n",
    "            .merge(global_prices,\n",
    "                   on=['sector','scenario','year'],\n",
    "                   how='left')['carbon_price_usd_tco2e_y']\n",
    "        )\n",
    "\n",
    "    # ── 4. Compute cost metrics ───────────────────────────────────────\n",
    "    df['carbon_cost_without_usd'] = df['e_total'] * df['carbon_price_usd_tco2e']\n",
    "    df['carbon_cost_with_usd']    = (\n",
    "        (df['e_total'] - df['abatement_tonnes']) *\n",
    "        df['carbon_price_usd_tco2e']\n",
    "    )\n",
    "    df['total_cost_with_abatement_usd'] = (\n",
    "        df['capex_cum'] + df['opex_cum'] + df['carbon_cost_with_usd']\n",
    "    )\n",
    "    df['net_savings_usd'] = (\n",
    "        df['carbon_cost_without_usd'] - df['total_cost_with_abatement_usd']\n",
    "    )\n",
    "\n",
    "    return df[['uid','scenario','year',\n",
    "               'carbon_cost_without_usd',\n",
    "               'total_cost_with_abatement_usd',\n",
    "               'net_savings_usd']]\n",
    "\n",
    "tradeoffs = build_tradeoff_table(annual_df, emissions_paths, carbon_prices_full)\n",
    "\n",
    "# ── Export the tradeoff table ───────────────────────────────────────\n",
    "tradeoffs.to_csv(\"tradeoff_table.csv\", index=False)\n"
   ]
  },
  {
   "cell_type": "code",
   "execution_count": null,
   "id": "17dfe66e",
   "metadata": {},
   "outputs": [],
   "source": []
  },
  {
   "cell_type": "code",
   "execution_count": null,
   "id": "0b10203a",
   "metadata": {},
   "outputs": [],
   "source": [
    "# tradeoffs.head()"
   ]
  },
  {
   "cell_type": "code",
   "execution_count": null,
   "id": "814a7167",
   "metadata": {},
   "outputs": [],
   "source": []
  },
  {
   "cell_type": "code",
   "execution_count": null,
   "id": "1ffdd348",
   "metadata": {},
   "outputs": [],
   "source": []
  }
 ],
 "metadata": {
  "kernelspec": {
   "display_name": "sp_work",
   "language": "python",
   "name": "python3"
  },
  "language_info": {
   "codemirror_mode": {
    "name": "ipython",
    "version": 3
   },
   "file_extension": ".py",
   "mimetype": "text/x-python",
   "name": "python",
   "nbconvert_exporter": "python",
   "pygments_lexer": "ipython3",
   "version": "3.11.13"
  }
 },
 "nbformat": 4,
 "nbformat_minor": 5
}
