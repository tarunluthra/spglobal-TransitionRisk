{
 "cells": [
  {
   "cell_type": "code",
   "execution_count": 2,
   "id": "9e78f005",
   "metadata": {},
   "outputs": [],
   "source": [
    "# Core\n",
    "import pandas as pd, numpy as np\n",
    "from pathlib import Path\n",
    "\n",
    "# Viz\n",
    "import matplotlib.pyplot as plt\n",
    "import seaborn as sns\n",
    "import plotly.express as px\n",
    "import plotly.graph_objects as go\n",
    "\n",
    "# Widgets (optional)\n",
    "import ipywidgets as wdg\n",
    "from IPython.display import display, Markdown"
   ]
  },
  {
   "cell_type": "code",
   "execution_count": 49,
   "id": "9cafe1a4",
   "metadata": {},
   "outputs": [],
   "source": [
    "filenames = {\n",
    "    \"df_merged\": \"df_merged.csv\",\n",
    "    \"abatement_costs\": \"abatement_costs.csv\",\n",
    "    \"abatement_detail\": \"abatement_detail.csv\",\n",
    "    \"abatement_summary\": \"abatement_summary.csv\",\n",
    "    \"annual_abatement_costs\": \"annual_abatement_costs.csv\",\n",
    "    \"carbon_costs\": \"carbon_costs.csv\",\n",
    "    \"carbon_prices_full\": \"carbon_prices_full.csv\",\n",
    "    \"df_abatement\": \"df_abatement.csv\",\n",
    "    \"df_carbon_prices\": \"df_carbon_prices.csv\",\n",
    "    \"df_emissions\": \"df_emissions.csv\",\n",
    "    \"df_merged\": \"df_merged.csv\",\n",
    "    \"df_targets_clean\": \"df_targets_clean.csv\",\n",
    "    \"emissions_paths\": \"emissions_paths.csv\",\n",
    "    # \"emissions_targets\": \"emissions_targets.csv\",\n",
    "    \"ngfs_global_snapshot\": \"ngfs_global_snapshot_1750868451.csv\",\n",
    "    \"ngfs_snapshot\": \"ngfs_snapshot_1750868525.csv\",\n",
    "    \"projected_carbon_prices\": \"projected_carbon_prices.csv\",\n",
    "    \"tradeoff_analysis\": \"tradeoff_analysis.csv\",\n",
    "    # \"tradeoff_table\": \"tradeoff_table.csv\",\n",
    "}\n",
    "\n",
    "dfs = {name: pd.read_csv(path) for name, path in filenames.items()}\n"
   ]
  },
  {
   "cell_type": "code",
   "execution_count": 50,
   "id": "ad2ea3c4",
   "metadata": {},
   "outputs": [
    {
     "name": "stdout",
     "output_type": "stream",
     "text": [
      "\n",
      "df_merged.head():\n"
     ]
    },
    {
     "data": {
      "text/html": [
       "<div>\n",
       "<style scoped>\n",
       "    .dataframe tbody tr th:only-of-type {\n",
       "        vertical-align: middle;\n",
       "    }\n",
       "\n",
       "    .dataframe tbody tr th {\n",
       "        vertical-align: top;\n",
       "    }\n",
       "\n",
       "    .dataframe thead th {\n",
       "        text-align: right;\n",
       "    }\n",
       "</style>\n",
       "<table border=\"1\" class=\"dataframe\">\n",
       "  <thead>\n",
       "    <tr style=\"text-align: right;\">\n",
       "      <th></th>\n",
       "      <th>uid</th>\n",
       "      <th>type_of_target</th>\n",
       "      <th>reduction_target</th>\n",
       "      <th>reduction_value</th>\n",
       "      <th>reduction_type</th>\n",
       "      <th>reduction_unit</th>\n",
       "      <th>baseline_year</th>\n",
       "      <th>endline_year</th>\n",
       "      <th>comment</th>\n",
       "      <th>gics_sector</th>\n",
       "      <th>country</th>\n",
       "      <th>year</th>\n",
       "      <th>scope1_tonnes</th>\n",
       "      <th>scope2_tonnes</th>\n",
       "      <th>unit_production</th>\n",
       "      <th>production_volume</th>\n",
       "      <th>merge_status</th>\n",
       "    </tr>\n",
       "  </thead>\n",
       "  <tbody>\n",
       "    <tr>\n",
       "      <th>0</th>\n",
       "      <td>C001</td>\n",
       "      <td>Scope 2</td>\n",
       "      <td>0.547</td>\n",
       "      <td>0.547</td>\n",
       "      <td>absolute</td>\n",
       "      <td>%</td>\n",
       "      <td>2019</td>\n",
       "      <td>2050</td>\n",
       "      <td>NaN</td>\n",
       "      <td>Real Estate</td>\n",
       "      <td>Global</td>\n",
       "      <td>2025.0</td>\n",
       "      <td>21510000.0</td>\n",
       "      <td>1070000.0</td>\n",
       "      <td>m2 building</td>\n",
       "      <td>46280000.0</td>\n",
       "      <td>both</td>\n",
       "    </tr>\n",
       "    <tr>\n",
       "      <th>1</th>\n",
       "      <td>C002</td>\n",
       "      <td>Scope 1</td>\n",
       "      <td>0.35 tCO2e/MWh</td>\n",
       "      <td>0.350</td>\n",
       "      <td>intensity</td>\n",
       "      <td>tCO2e/mwh</td>\n",
       "      <td>2020</td>\n",
       "      <td>2050</td>\n",
       "      <td>NaN</td>\n",
       "      <td>Energy</td>\n",
       "      <td>Brazil</td>\n",
       "      <td>2025.0</td>\n",
       "      <td>6570000.0</td>\n",
       "      <td>17510000.0</td>\n",
       "      <td>MWh</td>\n",
       "      <td>40950000.0</td>\n",
       "      <td>both</td>\n",
       "    </tr>\n",
       "    <tr>\n",
       "      <th>2</th>\n",
       "      <td>C003</td>\n",
       "      <td>Scope 1</td>\n",
       "      <td>0.348</td>\n",
       "      <td>0.348</td>\n",
       "      <td>absolute</td>\n",
       "      <td>%</td>\n",
       "      <td>2018</td>\n",
       "      <td>2050</td>\n",
       "      <td>NaN</td>\n",
       "      <td>Energy</td>\n",
       "      <td>EU</td>\n",
       "      <td>2025.0</td>\n",
       "      <td>19940000.0</td>\n",
       "      <td>7720000.0</td>\n",
       "      <td>MWh</td>\n",
       "      <td>69790000.0</td>\n",
       "      <td>both</td>\n",
       "    </tr>\n",
       "    <tr>\n",
       "      <th>3</th>\n",
       "      <td>C003</td>\n",
       "      <td>Scope 2</td>\n",
       "      <td>0.256</td>\n",
       "      <td>0.256</td>\n",
       "      <td>absolute</td>\n",
       "      <td>%</td>\n",
       "      <td>2019</td>\n",
       "      <td>2050</td>\n",
       "      <td>NaN</td>\n",
       "      <td>Energy</td>\n",
       "      <td>EU</td>\n",
       "      <td>2025.0</td>\n",
       "      <td>19940000.0</td>\n",
       "      <td>7720000.0</td>\n",
       "      <td>MWh</td>\n",
       "      <td>69790000.0</td>\n",
       "      <td>both</td>\n",
       "    </tr>\n",
       "    <tr>\n",
       "      <th>4</th>\n",
       "      <td>C004</td>\n",
       "      <td>Scope 2</td>\n",
       "      <td>0.188</td>\n",
       "      <td>0.188</td>\n",
       "      <td>absolute</td>\n",
       "      <td>%</td>\n",
       "      <td>2024</td>\n",
       "      <td>2050</td>\n",
       "      <td>NaN</td>\n",
       "      <td>Consumer Discretionary</td>\n",
       "      <td>Unknown</td>\n",
       "      <td>2025.0</td>\n",
       "      <td>13340000.0</td>\n",
       "      <td>17140000.0</td>\n",
       "      <td>unit</td>\n",
       "      <td>98870000.0</td>\n",
       "      <td>both</td>\n",
       "    </tr>\n",
       "  </tbody>\n",
       "</table>\n",
       "</div>"
      ],
      "text/plain": [
       "    uid type_of_target reduction_target  reduction_value reduction_type  \\\n",
       "0  C001        Scope 2            0.547            0.547       absolute   \n",
       "1  C002        Scope 1   0.35 tCO2e/MWh            0.350      intensity   \n",
       "2  C003        Scope 1            0.348            0.348       absolute   \n",
       "3  C003        Scope 2            0.256            0.256       absolute   \n",
       "4  C004        Scope 2            0.188            0.188       absolute   \n",
       "\n",
       "  reduction_unit  baseline_year  endline_year comment             gics_sector  \\\n",
       "0              %           2019          2050     NaN             Real Estate   \n",
       "1      tCO2e/mwh           2020          2050     NaN                  Energy   \n",
       "2              %           2018          2050     NaN                  Energy   \n",
       "3              %           2019          2050     NaN                  Energy   \n",
       "4              %           2024          2050     NaN  Consumer Discretionary   \n",
       "\n",
       "   country    year  scope1_tonnes  scope2_tonnes unit_production  \\\n",
       "0   Global  2025.0     21510000.0      1070000.0     m2 building   \n",
       "1   Brazil  2025.0      6570000.0     17510000.0             MWh   \n",
       "2       EU  2025.0     19940000.0      7720000.0             MWh   \n",
       "3       EU  2025.0     19940000.0      7720000.0             MWh   \n",
       "4  Unknown  2025.0     13340000.0     17140000.0            unit   \n",
       "\n",
       "   production_volume merge_status  \n",
       "0         46280000.0         both  \n",
       "1         40950000.0         both  \n",
       "2         69790000.0         both  \n",
       "3         69790000.0         both  \n",
       "4         98870000.0         both  "
      ]
     },
     "metadata": {},
     "output_type": "display_data"
    },
    {
     "name": "stdout",
     "output_type": "stream",
     "text": [
      "\n",
      "abatement_costs.head():\n"
     ]
    },
    {
     "data": {
      "text/html": [
       "<div>\n",
       "<style scoped>\n",
       "    .dataframe tbody tr th:only-of-type {\n",
       "        vertical-align: middle;\n",
       "    }\n",
       "\n",
       "    .dataframe tbody tr th {\n",
       "        vertical-align: top;\n",
       "    }\n",
       "\n",
       "    .dataframe thead th {\n",
       "        text-align: right;\n",
       "    }\n",
       "</style>\n",
       "<table border=\"1\" class=\"dataframe\">\n",
       "  <thead>\n",
       "    <tr style=\"text-align: right;\">\n",
       "      <th></th>\n",
       "      <th>uid</th>\n",
       "      <th>target_type</th>\n",
       "      <th>annual_reduction_tonnes</th>\n",
       "      <th>abatement_cost_usd_year</th>\n",
       "      <th>technology</th>\n",
       "    </tr>\n",
       "  </thead>\n",
       "  <tbody>\n",
       "    <tr>\n",
       "      <th>0</th>\n",
       "      <td>C003</td>\n",
       "      <td>Scope 1</td>\n",
       "      <td>234715</td>\n",
       "      <td>7879389</td>\n",
       "      <td>Wind Power</td>\n",
       "    </tr>\n",
       "    <tr>\n",
       "      <th>1</th>\n",
       "      <td>C003</td>\n",
       "      <td>Scope 2</td>\n",
       "      <td>67076</td>\n",
       "      <td>2251733</td>\n",
       "      <td>Wind Power</td>\n",
       "    </tr>\n",
       "    <tr>\n",
       "      <th>2</th>\n",
       "      <td>C003</td>\n",
       "      <td>Scope 1</td>\n",
       "      <td>234715</td>\n",
       "      <td>7879389</td>\n",
       "      <td>Wind Power</td>\n",
       "    </tr>\n",
       "    <tr>\n",
       "      <th>3</th>\n",
       "      <td>C003</td>\n",
       "      <td>Scope 2</td>\n",
       "      <td>67076</td>\n",
       "      <td>2251733</td>\n",
       "      <td>Wind Power</td>\n",
       "    </tr>\n",
       "    <tr>\n",
       "      <th>4</th>\n",
       "      <td>C004</td>\n",
       "      <td>Scope 2</td>\n",
       "      <td>124838</td>\n",
       "      <td>4385561</td>\n",
       "      <td>Heat Pumps</td>\n",
       "    </tr>\n",
       "  </tbody>\n",
       "</table>\n",
       "</div>"
      ],
      "text/plain": [
       "    uid target_type  annual_reduction_tonnes  abatement_cost_usd_year  \\\n",
       "0  C003     Scope 1                   234715                  7879389   \n",
       "1  C003     Scope 2                    67076                  2251733   \n",
       "2  C003     Scope 1                   234715                  7879389   \n",
       "3  C003     Scope 2                    67076                  2251733   \n",
       "4  C004     Scope 2                   124838                  4385561   \n",
       "\n",
       "   technology  \n",
       "0  Wind Power  \n",
       "1  Wind Power  \n",
       "2  Wind Power  \n",
       "3  Wind Power  \n",
       "4  Heat Pumps  "
      ]
     },
     "metadata": {},
     "output_type": "display_data"
    },
    {
     "name": "stdout",
     "output_type": "stream",
     "text": [
      "\n",
      "abatement_detail.head():\n"
     ]
    },
    {
     "data": {
      "text/html": [
       "<div>\n",
       "<style scoped>\n",
       "    .dataframe tbody tr th:only-of-type {\n",
       "        vertical-align: middle;\n",
       "    }\n",
       "\n",
       "    .dataframe tbody tr th {\n",
       "        vertical-align: top;\n",
       "    }\n",
       "\n",
       "    .dataframe thead th {\n",
       "        text-align: right;\n",
       "    }\n",
       "</style>\n",
       "<table border=\"1\" class=\"dataframe\">\n",
       "  <thead>\n",
       "    <tr style=\"text-align: right;\">\n",
       "      <th></th>\n",
       "      <th>uid</th>\n",
       "      <th>year</th>\n",
       "      <th>technology</th>\n",
       "      <th>new_build</th>\n",
       "      <th>tonnes</th>\n",
       "      <th>capex_usd</th>\n",
       "      <th>opex_usd_year</th>\n",
       "      <th>spare_after_yr</th>\n",
       "    </tr>\n",
       "  </thead>\n",
       "  <tbody>\n",
       "    <tr>\n",
       "      <th>0</th>\n",
       "      <td>C001</td>\n",
       "      <td>2026</td>\n",
       "      <td>Wind Power</td>\n",
       "      <td>True</td>\n",
       "      <td>23412.0</td>\n",
       "      <td>631170000.0</td>\n",
       "      <td>785940.84</td>\n",
       "      <td>66775.0</td>\n",
       "    </tr>\n",
       "    <tr>\n",
       "      <th>1</th>\n",
       "      <td>C001</td>\n",
       "      <td>2027</td>\n",
       "      <td>Wind Power</td>\n",
       "      <td>False</td>\n",
       "      <td>23411.0</td>\n",
       "      <td>0.0</td>\n",
       "      <td>785907.27</td>\n",
       "      <td>43364.0</td>\n",
       "    </tr>\n",
       "    <tr>\n",
       "      <th>2</th>\n",
       "      <td>C001</td>\n",
       "      <td>2028</td>\n",
       "      <td>Wind Power</td>\n",
       "      <td>False</td>\n",
       "      <td>23412.0</td>\n",
       "      <td>0.0</td>\n",
       "      <td>785940.84</td>\n",
       "      <td>19952.0</td>\n",
       "    </tr>\n",
       "    <tr>\n",
       "      <th>3</th>\n",
       "      <td>C001</td>\n",
       "      <td>2029</td>\n",
       "      <td>Wind Power</td>\n",
       "      <td>False</td>\n",
       "      <td>19952.0</td>\n",
       "      <td>0.0</td>\n",
       "      <td>669788.64</td>\n",
       "      <td>86728.0</td>\n",
       "    </tr>\n",
       "    <tr>\n",
       "      <th>4</th>\n",
       "      <td>C001</td>\n",
       "      <td>2029</td>\n",
       "      <td>Wind Power</td>\n",
       "      <td>True</td>\n",
       "      <td>3459.0</td>\n",
       "      <td>631170000.0</td>\n",
       "      <td>116118.63</td>\n",
       "      <td>86728.0</td>\n",
       "    </tr>\n",
       "  </tbody>\n",
       "</table>\n",
       "</div>"
      ],
      "text/plain": [
       "    uid  year  technology  new_build   tonnes    capex_usd  opex_usd_year  \\\n",
       "0  C001  2026  Wind Power       True  23412.0  631170000.0      785940.84   \n",
       "1  C001  2027  Wind Power      False  23411.0          0.0      785907.27   \n",
       "2  C001  2028  Wind Power      False  23412.0          0.0      785940.84   \n",
       "3  C001  2029  Wind Power      False  19952.0          0.0      669788.64   \n",
       "4  C001  2029  Wind Power       True   3459.0  631170000.0      116118.63   \n",
       "\n",
       "   spare_after_yr  \n",
       "0         66775.0  \n",
       "1         43364.0  \n",
       "2         19952.0  \n",
       "3         86728.0  \n",
       "4         86728.0  "
      ]
     },
     "metadata": {},
     "output_type": "display_data"
    },
    {
     "name": "stdout",
     "output_type": "stream",
     "text": [
      "\n",
      "abatement_summary.head():\n"
     ]
    },
    {
     "data": {
      "text/html": [
       "<div>\n",
       "<style scoped>\n",
       "    .dataframe tbody tr th:only-of-type {\n",
       "        vertical-align: middle;\n",
       "    }\n",
       "\n",
       "    .dataframe tbody tr th {\n",
       "        vertical-align: top;\n",
       "    }\n",
       "\n",
       "    .dataframe thead th {\n",
       "        text-align: right;\n",
       "    }\n",
       "</style>\n",
       "<table border=\"1\" class=\"dataframe\">\n",
       "  <thead>\n",
       "    <tr style=\"text-align: right;\">\n",
       "      <th></th>\n",
       "      <th>uid</th>\n",
       "      <th>total_capex_usd</th>\n",
       "      <th>total_opex_usd</th>\n",
       "      <th>total_abated_tonnes</th>\n",
       "    </tr>\n",
       "  </thead>\n",
       "  <tbody>\n",
       "    <tr>\n",
       "      <th>0</th>\n",
       "      <td>C001</td>\n",
       "      <td>4.418190e+09</td>\n",
       "      <td>1.964819e+07</td>\n",
       "      <td>585290.0</td>\n",
       "    </tr>\n",
       "    <tr>\n",
       "      <th>1</th>\n",
       "      <td>C002</td>\n",
       "      <td>8.205210e+09</td>\n",
       "      <td>3.670457e+07</td>\n",
       "      <td>1093374.0</td>\n",
       "    </tr>\n",
       "    <tr>\n",
       "      <th>2</th>\n",
       "      <td>C003</td>\n",
       "      <td>2.249050e+10</td>\n",
       "      <td>1.920049e+08</td>\n",
       "      <td>6939120.0</td>\n",
       "    </tr>\n",
       "    <tr>\n",
       "      <th>3</th>\n",
       "      <td>C004</td>\n",
       "      <td>4.827500e+09</td>\n",
       "      <td>4.218650e+07</td>\n",
       "      <td>3222320.0</td>\n",
       "    </tr>\n",
       "    <tr>\n",
       "      <th>4</th>\n",
       "      <td>C005</td>\n",
       "      <td>5.975138e+10</td>\n",
       "      <td>1.110492e+09</td>\n",
       "      <td>0.0</td>\n",
       "    </tr>\n",
       "  </tbody>\n",
       "</table>\n",
       "</div>"
      ],
      "text/plain": [
       "    uid  total_capex_usd  total_opex_usd  total_abated_tonnes\n",
       "0  C001     4.418190e+09    1.964819e+07             585290.0\n",
       "1  C002     8.205210e+09    3.670457e+07            1093374.0\n",
       "2  C003     2.249050e+10    1.920049e+08            6939120.0\n",
       "3  C004     4.827500e+09    4.218650e+07            3222320.0\n",
       "4  C005     5.975138e+10    1.110492e+09                  0.0"
      ]
     },
     "metadata": {},
     "output_type": "display_data"
    },
    {
     "name": "stdout",
     "output_type": "stream",
     "text": [
      "\n",
      "annual_abatement_costs.head():\n"
     ]
    },
    {
     "data": {
      "text/html": [
       "<div>\n",
       "<style scoped>\n",
       "    .dataframe tbody tr th:only-of-type {\n",
       "        vertical-align: middle;\n",
       "    }\n",
       "\n",
       "    .dataframe tbody tr th {\n",
       "        vertical-align: top;\n",
       "    }\n",
       "\n",
       "    .dataframe thead th {\n",
       "        text-align: right;\n",
       "    }\n",
       "</style>\n",
       "<table border=\"1\" class=\"dataframe\">\n",
       "  <thead>\n",
       "    <tr style=\"text-align: right;\">\n",
       "      <th></th>\n",
       "      <th>uid</th>\n",
       "      <th>year</th>\n",
       "      <th>abatement_tonnes</th>\n",
       "      <th>capex_usd</th>\n",
       "      <th>opex_usd_year</th>\n",
       "      <th>cum_capex_usd</th>\n",
       "      <th>cum_opex_usd</th>\n",
       "    </tr>\n",
       "  </thead>\n",
       "  <tbody>\n",
       "    <tr>\n",
       "      <th>0</th>\n",
       "      <td>C001</td>\n",
       "      <td>2025</td>\n",
       "      <td>0.0</td>\n",
       "      <td>0.0</td>\n",
       "      <td>0.00</td>\n",
       "      <td>0.000000e+00</td>\n",
       "      <td>0.00</td>\n",
       "    </tr>\n",
       "    <tr>\n",
       "      <th>1</th>\n",
       "      <td>C001</td>\n",
       "      <td>2026</td>\n",
       "      <td>23412.0</td>\n",
       "      <td>631170000.0</td>\n",
       "      <td>785940.84</td>\n",
       "      <td>6.311700e+08</td>\n",
       "      <td>785940.84</td>\n",
       "    </tr>\n",
       "    <tr>\n",
       "      <th>2</th>\n",
       "      <td>C001</td>\n",
       "      <td>2027</td>\n",
       "      <td>23411.0</td>\n",
       "      <td>0.0</td>\n",
       "      <td>785907.27</td>\n",
       "      <td>6.311700e+08</td>\n",
       "      <td>1571848.11</td>\n",
       "    </tr>\n",
       "    <tr>\n",
       "      <th>3</th>\n",
       "      <td>C001</td>\n",
       "      <td>2028</td>\n",
       "      <td>23412.0</td>\n",
       "      <td>0.0</td>\n",
       "      <td>785940.84</td>\n",
       "      <td>6.311700e+08</td>\n",
       "      <td>2357788.95</td>\n",
       "    </tr>\n",
       "    <tr>\n",
       "      <th>4</th>\n",
       "      <td>C001</td>\n",
       "      <td>2029</td>\n",
       "      <td>23411.0</td>\n",
       "      <td>631170000.0</td>\n",
       "      <td>785907.27</td>\n",
       "      <td>1.262340e+09</td>\n",
       "      <td>3143696.22</td>\n",
       "    </tr>\n",
       "  </tbody>\n",
       "</table>\n",
       "</div>"
      ],
      "text/plain": [
       "    uid  year  abatement_tonnes    capex_usd  opex_usd_year  cum_capex_usd  \\\n",
       "0  C001  2025               0.0          0.0           0.00   0.000000e+00   \n",
       "1  C001  2026           23412.0  631170000.0      785940.84   6.311700e+08   \n",
       "2  C001  2027           23411.0          0.0      785907.27   6.311700e+08   \n",
       "3  C001  2028           23412.0          0.0      785940.84   6.311700e+08   \n",
       "4  C001  2029           23411.0  631170000.0      785907.27   1.262340e+09   \n",
       "\n",
       "   cum_opex_usd  \n",
       "0          0.00  \n",
       "1     785940.84  \n",
       "2    1571848.11  \n",
       "3    2357788.95  \n",
       "4    3143696.22  "
      ]
     },
     "metadata": {},
     "output_type": "display_data"
    },
    {
     "name": "stdout",
     "output_type": "stream",
     "text": [
      "\n",
      "carbon_costs.head():\n"
     ]
    },
    {
     "data": {
      "text/html": [
       "<div>\n",
       "<style scoped>\n",
       "    .dataframe tbody tr th:only-of-type {\n",
       "        vertical-align: middle;\n",
       "    }\n",
       "\n",
       "    .dataframe tbody tr th {\n",
       "        vertical-align: top;\n",
       "    }\n",
       "\n",
       "    .dataframe thead th {\n",
       "        text-align: right;\n",
       "    }\n",
       "</style>\n",
       "<table border=\"1\" class=\"dataframe\">\n",
       "  <thead>\n",
       "    <tr style=\"text-align: right;\">\n",
       "      <th></th>\n",
       "      <th>uid</th>\n",
       "      <th>year</th>\n",
       "      <th>scenario</th>\n",
       "      <th>carbon_cost_usd</th>\n",
       "    </tr>\n",
       "  </thead>\n",
       "  <tbody>\n",
       "    <tr>\n",
       "      <th>0</th>\n",
       "      <td>C002</td>\n",
       "      <td>2025</td>\n",
       "      <td>Low Risk</td>\n",
       "      <td>7.288256e+08</td>\n",
       "    </tr>\n",
       "    <tr>\n",
       "      <th>1</th>\n",
       "      <td>C002</td>\n",
       "      <td>2025</td>\n",
       "      <td>Medium Risk</td>\n",
       "      <td>7.818776e+08</td>\n",
       "    </tr>\n",
       "    <tr>\n",
       "      <th>2</th>\n",
       "      <td>C002</td>\n",
       "      <td>2025</td>\n",
       "      <td>High Risk</td>\n",
       "      <td>7.851601e+08</td>\n",
       "    </tr>\n",
       "    <tr>\n",
       "      <th>3</th>\n",
       "      <td>C002</td>\n",
       "      <td>2026</td>\n",
       "      <td>Low Risk</td>\n",
       "      <td>7.525294e+08</td>\n",
       "    </tr>\n",
       "    <tr>\n",
       "      <th>4</th>\n",
       "      <td>C002</td>\n",
       "      <td>2026</td>\n",
       "      <td>Medium Risk</td>\n",
       "      <td>8.330080e+08</td>\n",
       "    </tr>\n",
       "  </tbody>\n",
       "</table>\n",
       "</div>"
      ],
      "text/plain": [
       "    uid  year     scenario  carbon_cost_usd\n",
       "0  C002  2025     Low Risk     7.288256e+08\n",
       "1  C002  2025  Medium Risk     7.818776e+08\n",
       "2  C002  2025    High Risk     7.851601e+08\n",
       "3  C002  2026     Low Risk     7.525294e+08\n",
       "4  C002  2026  Medium Risk     8.330080e+08"
      ]
     },
     "metadata": {},
     "output_type": "display_data"
    },
    {
     "name": "stdout",
     "output_type": "stream",
     "text": [
      "\n",
      "carbon_prices_full.head():\n"
     ]
    },
    {
     "data": {
      "text/html": [
       "<div>\n",
       "<style scoped>\n",
       "    .dataframe tbody tr th:only-of-type {\n",
       "        vertical-align: middle;\n",
       "    }\n",
       "\n",
       "    .dataframe tbody tr th {\n",
       "        vertical-align: top;\n",
       "    }\n",
       "\n",
       "    .dataframe thead th {\n",
       "        text-align: right;\n",
       "    }\n",
       "</style>\n",
       "<table border=\"1\" class=\"dataframe\">\n",
       "  <thead>\n",
       "    <tr style=\"text-align: right;\">\n",
       "      <th></th>\n",
       "      <th>year</th>\n",
       "      <th>carbon_price_usd_tco2e</th>\n",
       "      <th>sector</th>\n",
       "      <th>region</th>\n",
       "      <th>scenario</th>\n",
       "      <th>source</th>\n",
       "    </tr>\n",
       "  </thead>\n",
       "  <tbody>\n",
       "    <tr>\n",
       "      <th>0</th>\n",
       "      <td>2025</td>\n",
       "      <td>9.200000</td>\n",
       "      <td>Consumer Discretionary</td>\n",
       "      <td>China</td>\n",
       "      <td>High Risk</td>\n",
       "      <td>adaptive_cagr</td>\n",
       "    </tr>\n",
       "    <tr>\n",
       "      <th>1</th>\n",
       "      <td>2026</td>\n",
       "      <td>11.247222</td>\n",
       "      <td>Consumer Discretionary</td>\n",
       "      <td>China</td>\n",
       "      <td>High Risk</td>\n",
       "      <td>adaptive_cagr</td>\n",
       "    </tr>\n",
       "    <tr>\n",
       "      <th>2</th>\n",
       "      <td>2027</td>\n",
       "      <td>13.750000</td>\n",
       "      <td>Consumer Discretionary</td>\n",
       "      <td>China</td>\n",
       "      <td>High Risk</td>\n",
       "      <td>adaptive_cagr</td>\n",
       "    </tr>\n",
       "    <tr>\n",
       "      <th>3</th>\n",
       "      <td>2028</td>\n",
       "      <td>15.179555</td>\n",
       "      <td>Consumer Discretionary</td>\n",
       "      <td>China</td>\n",
       "      <td>High Risk</td>\n",
       "      <td>adaptive_cagr</td>\n",
       "    </tr>\n",
       "    <tr>\n",
       "      <th>4</th>\n",
       "      <td>2029</td>\n",
       "      <td>16.757738</td>\n",
       "      <td>Consumer Discretionary</td>\n",
       "      <td>China</td>\n",
       "      <td>High Risk</td>\n",
       "      <td>adaptive_cagr</td>\n",
       "    </tr>\n",
       "  </tbody>\n",
       "</table>\n",
       "</div>"
      ],
      "text/plain": [
       "   year  carbon_price_usd_tco2e                  sector region   scenario  \\\n",
       "0  2025                9.200000  Consumer Discretionary  China  High Risk   \n",
       "1  2026               11.247222  Consumer Discretionary  China  High Risk   \n",
       "2  2027               13.750000  Consumer Discretionary  China  High Risk   \n",
       "3  2028               15.179555  Consumer Discretionary  China  High Risk   \n",
       "4  2029               16.757738  Consumer Discretionary  China  High Risk   \n",
       "\n",
       "          source  \n",
       "0  adaptive_cagr  \n",
       "1  adaptive_cagr  \n",
       "2  adaptive_cagr  \n",
       "3  adaptive_cagr  \n",
       "4  adaptive_cagr  "
      ]
     },
     "metadata": {},
     "output_type": "display_data"
    },
    {
     "name": "stdout",
     "output_type": "stream",
     "text": [
      "\n",
      "df_abatement.head():\n"
     ]
    },
    {
     "data": {
      "text/html": [
       "<div>\n",
       "<style scoped>\n",
       "    .dataframe tbody tr th:only-of-type {\n",
       "        vertical-align: middle;\n",
       "    }\n",
       "\n",
       "    .dataframe tbody tr th {\n",
       "        vertical-align: top;\n",
       "    }\n",
       "\n",
       "    .dataframe thead th {\n",
       "        text-align: right;\n",
       "    }\n",
       "</style>\n",
       "<table border=\"1\" class=\"dataframe\">\n",
       "  <thead>\n",
       "    <tr style=\"text-align: right;\">\n",
       "      <th></th>\n",
       "      <th>sector</th>\n",
       "      <th>region</th>\n",
       "      <th>technology</th>\n",
       "      <th>initial_investment_usd_million</th>\n",
       "      <th>abatement_capacity_tco2e_year</th>\n",
       "      <th>abatement_cost_usd_tco2e_year</th>\n",
       "    </tr>\n",
       "  </thead>\n",
       "  <tbody>\n",
       "    <tr>\n",
       "      <th>0</th>\n",
       "      <td>Energy</td>\n",
       "      <td>USA</td>\n",
       "      <td>Utility-scale Solar</td>\n",
       "      <td>350.52</td>\n",
       "      <td>60952</td>\n",
       "      <td>50.97</td>\n",
       "    </tr>\n",
       "    <tr>\n",
       "      <th>1</th>\n",
       "      <td>Energy</td>\n",
       "      <td>USA</td>\n",
       "      <td>Wind Power</td>\n",
       "      <td>218.94</td>\n",
       "      <td>192720</td>\n",
       "      <td>31.15</td>\n",
       "    </tr>\n",
       "    <tr>\n",
       "      <th>2</th>\n",
       "      <td>Energy</td>\n",
       "      <td>EU</td>\n",
       "      <td>Utility-scale Solar</td>\n",
       "      <td>558.64</td>\n",
       "      <td>54776</td>\n",
       "      <td>44.22</td>\n",
       "    </tr>\n",
       "    <tr>\n",
       "      <th>3</th>\n",
       "      <td>Energy</td>\n",
       "      <td>EU</td>\n",
       "      <td>Carbon Capture and Storage</td>\n",
       "      <td>340.98</td>\n",
       "      <td>50000</td>\n",
       "      <td>105.16</td>\n",
       "    </tr>\n",
       "    <tr>\n",
       "      <th>4</th>\n",
       "      <td>Energy</td>\n",
       "      <td>China</td>\n",
       "      <td>Utility-scale Solar</td>\n",
       "      <td>380.28</td>\n",
       "      <td>217543</td>\n",
       "      <td>43.47</td>\n",
       "    </tr>\n",
       "  </tbody>\n",
       "</table>\n",
       "</div>"
      ],
      "text/plain": [
       "   sector region                  technology  initial_investment_usd_million  \\\n",
       "0  Energy    USA         Utility-scale Solar                          350.52   \n",
       "1  Energy    USA                  Wind Power                          218.94   \n",
       "2  Energy     EU         Utility-scale Solar                          558.64   \n",
       "3  Energy     EU  Carbon Capture and Storage                          340.98   \n",
       "4  Energy  China         Utility-scale Solar                          380.28   \n",
       "\n",
       "   abatement_capacity_tco2e_year  abatement_cost_usd_tco2e_year  \n",
       "0                          60952                          50.97  \n",
       "1                         192720                          31.15  \n",
       "2                          54776                          44.22  \n",
       "3                          50000                         105.16  \n",
       "4                         217543                          43.47  "
      ]
     },
     "metadata": {},
     "output_type": "display_data"
    },
    {
     "name": "stdout",
     "output_type": "stream",
     "text": [
      "\n",
      "df_carbon_prices.head():\n"
     ]
    },
    {
     "data": {
      "text/html": [
       "<div>\n",
       "<style scoped>\n",
       "    .dataframe tbody tr th:only-of-type {\n",
       "        vertical-align: middle;\n",
       "    }\n",
       "\n",
       "    .dataframe tbody tr th {\n",
       "        vertical-align: top;\n",
       "    }\n",
       "\n",
       "    .dataframe thead th {\n",
       "        text-align: right;\n",
       "    }\n",
       "</style>\n",
       "<table border=\"1\" class=\"dataframe\">\n",
       "  <thead>\n",
       "    <tr style=\"text-align: right;\">\n",
       "      <th></th>\n",
       "      <th>sector</th>\n",
       "      <th>region</th>\n",
       "      <th>year</th>\n",
       "      <th>scenario</th>\n",
       "      <th>carbon_price_usd_tco2e</th>\n",
       "    </tr>\n",
       "  </thead>\n",
       "  <tbody>\n",
       "    <tr>\n",
       "      <th>0</th>\n",
       "      <td>Energy</td>\n",
       "      <td>USA</td>\n",
       "      <td>2025</td>\n",
       "      <td>Low Risk</td>\n",
       "      <td>58.07</td>\n",
       "    </tr>\n",
       "    <tr>\n",
       "      <th>1</th>\n",
       "      <td>Energy</td>\n",
       "      <td>USA</td>\n",
       "      <td>2027</td>\n",
       "      <td>Low Risk</td>\n",
       "      <td>57.92</td>\n",
       "    </tr>\n",
       "    <tr>\n",
       "      <th>2</th>\n",
       "      <td>Energy</td>\n",
       "      <td>USA</td>\n",
       "      <td>2030</td>\n",
       "      <td>Low Risk</td>\n",
       "      <td>59.77</td>\n",
       "    </tr>\n",
       "    <tr>\n",
       "      <th>3</th>\n",
       "      <td>Energy</td>\n",
       "      <td>USA</td>\n",
       "      <td>2025</td>\n",
       "      <td>Medium Risk</td>\n",
       "      <td>55.26</td>\n",
       "    </tr>\n",
       "    <tr>\n",
       "      <th>4</th>\n",
       "      <td>Energy</td>\n",
       "      <td>USA</td>\n",
       "      <td>2027</td>\n",
       "      <td>Medium Risk</td>\n",
       "      <td>65.63</td>\n",
       "    </tr>\n",
       "  </tbody>\n",
       "</table>\n",
       "</div>"
      ],
      "text/plain": [
       "   sector region  year     scenario  carbon_price_usd_tco2e\n",
       "0  Energy    USA  2025     Low Risk                   58.07\n",
       "1  Energy    USA  2027     Low Risk                   57.92\n",
       "2  Energy    USA  2030     Low Risk                   59.77\n",
       "3  Energy    USA  2025  Medium Risk                   55.26\n",
       "4  Energy    USA  2027  Medium Risk                   65.63"
      ]
     },
     "metadata": {},
     "output_type": "display_data"
    },
    {
     "name": "stdout",
     "output_type": "stream",
     "text": [
      "\n",
      "df_emissions.head():\n"
     ]
    },
    {
     "data": {
      "text/html": [
       "<div>\n",
       "<style scoped>\n",
       "    .dataframe tbody tr th:only-of-type {\n",
       "        vertical-align: middle;\n",
       "    }\n",
       "\n",
       "    .dataframe tbody tr th {\n",
       "        vertical-align: top;\n",
       "    }\n",
       "\n",
       "    .dataframe thead th {\n",
       "        text-align: right;\n",
       "    }\n",
       "</style>\n",
       "<table border=\"1\" class=\"dataframe\">\n",
       "  <thead>\n",
       "    <tr style=\"text-align: right;\">\n",
       "      <th></th>\n",
       "      <th>uid</th>\n",
       "      <th>gics_sector</th>\n",
       "      <th>country</th>\n",
       "      <th>year</th>\n",
       "      <th>scope1_tonnes</th>\n",
       "      <th>scope2_tonnes</th>\n",
       "      <th>unit_production</th>\n",
       "      <th>production_volume</th>\n",
       "    </tr>\n",
       "  </thead>\n",
       "  <tbody>\n",
       "    <tr>\n",
       "      <th>0</th>\n",
       "      <td>C001</td>\n",
       "      <td>Real Estate</td>\n",
       "      <td>Global</td>\n",
       "      <td>2025</td>\n",
       "      <td>21510000.0</td>\n",
       "      <td>1070000.0</td>\n",
       "      <td>m2 building</td>\n",
       "      <td>46280000.0</td>\n",
       "    </tr>\n",
       "    <tr>\n",
       "      <th>1</th>\n",
       "      <td>C002</td>\n",
       "      <td>Energy</td>\n",
       "      <td>Brazil</td>\n",
       "      <td>2025</td>\n",
       "      <td>6570000.0</td>\n",
       "      <td>17510000.0</td>\n",
       "      <td>MWh</td>\n",
       "      <td>40950000.0</td>\n",
       "    </tr>\n",
       "    <tr>\n",
       "      <th>2</th>\n",
       "      <td>C003</td>\n",
       "      <td>Energy</td>\n",
       "      <td>EU</td>\n",
       "      <td>2025</td>\n",
       "      <td>19940000.0</td>\n",
       "      <td>7720000.0</td>\n",
       "      <td>MWh</td>\n",
       "      <td>69790000.0</td>\n",
       "    </tr>\n",
       "    <tr>\n",
       "      <th>3</th>\n",
       "      <td>C004</td>\n",
       "      <td>Consumer Discretionary</td>\n",
       "      <td>Unknown</td>\n",
       "      <td>2025</td>\n",
       "      <td>13340000.0</td>\n",
       "      <td>17140000.0</td>\n",
       "      <td>unit</td>\n",
       "      <td>98870000.0</td>\n",
       "    </tr>\n",
       "    <tr>\n",
       "      <th>4</th>\n",
       "      <td>C005</td>\n",
       "      <td>Financials</td>\n",
       "      <td>EU</td>\n",
       "      <td>2025</td>\n",
       "      <td>7470000.0</td>\n",
       "      <td>10710000.0</td>\n",
       "      <td>unit</td>\n",
       "      <td>68920000.0</td>\n",
       "    </tr>\n",
       "  </tbody>\n",
       "</table>\n",
       "</div>"
      ],
      "text/plain": [
       "    uid             gics_sector  country  year  scope1_tonnes  scope2_tonnes  \\\n",
       "0  C001             Real Estate   Global  2025     21510000.0      1070000.0   \n",
       "1  C002                  Energy   Brazil  2025      6570000.0     17510000.0   \n",
       "2  C003                  Energy       EU  2025     19940000.0      7720000.0   \n",
       "3  C004  Consumer Discretionary  Unknown  2025     13340000.0     17140000.0   \n",
       "4  C005              Financials       EU  2025      7470000.0     10710000.0   \n",
       "\n",
       "  unit_production  production_volume  \n",
       "0     m2 building         46280000.0  \n",
       "1             MWh         40950000.0  \n",
       "2             MWh         69790000.0  \n",
       "3            unit         98870000.0  \n",
       "4            unit         68920000.0  "
      ]
     },
     "metadata": {},
     "output_type": "display_data"
    },
    {
     "name": "stdout",
     "output_type": "stream",
     "text": [
      "\n",
      "df_targets_clean.head():\n"
     ]
    },
    {
     "data": {
      "text/html": [
       "<div>\n",
       "<style scoped>\n",
       "    .dataframe tbody tr th:only-of-type {\n",
       "        vertical-align: middle;\n",
       "    }\n",
       "\n",
       "    .dataframe tbody tr th {\n",
       "        vertical-align: top;\n",
       "    }\n",
       "\n",
       "    .dataframe thead th {\n",
       "        text-align: right;\n",
       "    }\n",
       "</style>\n",
       "<table border=\"1\" class=\"dataframe\">\n",
       "  <thead>\n",
       "    <tr style=\"text-align: right;\">\n",
       "      <th></th>\n",
       "      <th>uid</th>\n",
       "      <th>type_of_target</th>\n",
       "      <th>reduction_target</th>\n",
       "      <th>reduction_value</th>\n",
       "      <th>reduction_type</th>\n",
       "      <th>reduction_unit</th>\n",
       "      <th>baseline_year</th>\n",
       "      <th>endline_year</th>\n",
       "      <th>comment</th>\n",
       "    </tr>\n",
       "  </thead>\n",
       "  <tbody>\n",
       "    <tr>\n",
       "      <th>0</th>\n",
       "      <td>C001</td>\n",
       "      <td>Scope 2</td>\n",
       "      <td>0.547</td>\n",
       "      <td>0.547</td>\n",
       "      <td>absolute</td>\n",
       "      <td>%</td>\n",
       "      <td>2019</td>\n",
       "      <td>2050</td>\n",
       "      <td>NaN</td>\n",
       "    </tr>\n",
       "    <tr>\n",
       "      <th>1</th>\n",
       "      <td>C002</td>\n",
       "      <td>Scope 1</td>\n",
       "      <td>0.35 tCO2e/MWh</td>\n",
       "      <td>0.350</td>\n",
       "      <td>intensity</td>\n",
       "      <td>tCO2e/mwh</td>\n",
       "      <td>2020</td>\n",
       "      <td>2050</td>\n",
       "      <td>NaN</td>\n",
       "    </tr>\n",
       "    <tr>\n",
       "      <th>2</th>\n",
       "      <td>C003</td>\n",
       "      <td>Scope 1</td>\n",
       "      <td>0.348</td>\n",
       "      <td>0.348</td>\n",
       "      <td>absolute</td>\n",
       "      <td>%</td>\n",
       "      <td>2018</td>\n",
       "      <td>2050</td>\n",
       "      <td>NaN</td>\n",
       "    </tr>\n",
       "    <tr>\n",
       "      <th>3</th>\n",
       "      <td>C003</td>\n",
       "      <td>Scope 2</td>\n",
       "      <td>0.256</td>\n",
       "      <td>0.256</td>\n",
       "      <td>absolute</td>\n",
       "      <td>%</td>\n",
       "      <td>2019</td>\n",
       "      <td>2050</td>\n",
       "      <td>NaN</td>\n",
       "    </tr>\n",
       "    <tr>\n",
       "      <th>4</th>\n",
       "      <td>C004</td>\n",
       "      <td>Scope 2</td>\n",
       "      <td>0.188</td>\n",
       "      <td>0.188</td>\n",
       "      <td>absolute</td>\n",
       "      <td>%</td>\n",
       "      <td>2024</td>\n",
       "      <td>2050</td>\n",
       "      <td>NaN</td>\n",
       "    </tr>\n",
       "  </tbody>\n",
       "</table>\n",
       "</div>"
      ],
      "text/plain": [
       "    uid type_of_target reduction_target  reduction_value reduction_type  \\\n",
       "0  C001        Scope 2            0.547            0.547       absolute   \n",
       "1  C002        Scope 1   0.35 tCO2e/MWh            0.350      intensity   \n",
       "2  C003        Scope 1            0.348            0.348       absolute   \n",
       "3  C003        Scope 2            0.256            0.256       absolute   \n",
       "4  C004        Scope 2            0.188            0.188       absolute   \n",
       "\n",
       "  reduction_unit  baseline_year  endline_year comment  \n",
       "0              %           2019          2050     NaN  \n",
       "1      tCO2e/mwh           2020          2050     NaN  \n",
       "2              %           2018          2050     NaN  \n",
       "3              %           2019          2050     NaN  \n",
       "4              %           2024          2050     NaN  "
      ]
     },
     "metadata": {},
     "output_type": "display_data"
    },
    {
     "name": "stdout",
     "output_type": "stream",
     "text": [
      "\n",
      "emissions_paths.head():\n"
     ]
    },
    {
     "data": {
      "text/html": [
       "<div>\n",
       "<style scoped>\n",
       "    .dataframe tbody tr th:only-of-type {\n",
       "        vertical-align: middle;\n",
       "    }\n",
       "\n",
       "    .dataframe tbody tr th {\n",
       "        vertical-align: top;\n",
       "    }\n",
       "\n",
       "    .dataframe thead th {\n",
       "        text-align: right;\n",
       "    }\n",
       "</style>\n",
       "<table border=\"1\" class=\"dataframe\">\n",
       "  <thead>\n",
       "    <tr style=\"text-align: right;\">\n",
       "      <th></th>\n",
       "      <th>uid</th>\n",
       "      <th>gics_sector</th>\n",
       "      <th>country</th>\n",
       "      <th>type_of_target</th>\n",
       "      <th>year</th>\n",
       "      <th>scope1_tonnes</th>\n",
       "      <th>scope2_tonnes</th>\n",
       "      <th>scenario</th>\n",
       "      <th>growth_rate</th>\n",
       "      <th>interpolation_method</th>\n",
       "    </tr>\n",
       "  </thead>\n",
       "  <tbody>\n",
       "    <tr>\n",
       "      <th>0</th>\n",
       "      <td>C001</td>\n",
       "      <td>Real Estate</td>\n",
       "      <td>Global</td>\n",
       "      <td>Scope 2</td>\n",
       "      <td>2025</td>\n",
       "      <td>21510000</td>\n",
       "      <td>1070000</td>\n",
       "      <td>low</td>\n",
       "      <td>0.0</td>\n",
       "      <td>linear</td>\n",
       "    </tr>\n",
       "    <tr>\n",
       "      <th>1</th>\n",
       "      <td>C001</td>\n",
       "      <td>Real Estate</td>\n",
       "      <td>Global</td>\n",
       "      <td>Scope 2</td>\n",
       "      <td>2026</td>\n",
       "      <td>21510000</td>\n",
       "      <td>1046588</td>\n",
       "      <td>low</td>\n",
       "      <td>0.0</td>\n",
       "      <td>linear</td>\n",
       "    </tr>\n",
       "    <tr>\n",
       "      <th>2</th>\n",
       "      <td>C001</td>\n",
       "      <td>Real Estate</td>\n",
       "      <td>Global</td>\n",
       "      <td>Scope 2</td>\n",
       "      <td>2027</td>\n",
       "      <td>21510000</td>\n",
       "      <td>1023177</td>\n",
       "      <td>low</td>\n",
       "      <td>0.0</td>\n",
       "      <td>linear</td>\n",
       "    </tr>\n",
       "    <tr>\n",
       "      <th>3</th>\n",
       "      <td>C001</td>\n",
       "      <td>Real Estate</td>\n",
       "      <td>Global</td>\n",
       "      <td>Scope 2</td>\n",
       "      <td>2028</td>\n",
       "      <td>21510000</td>\n",
       "      <td>999765</td>\n",
       "      <td>low</td>\n",
       "      <td>0.0</td>\n",
       "      <td>linear</td>\n",
       "    </tr>\n",
       "    <tr>\n",
       "      <th>4</th>\n",
       "      <td>C001</td>\n",
       "      <td>Real Estate</td>\n",
       "      <td>Global</td>\n",
       "      <td>Scope 2</td>\n",
       "      <td>2029</td>\n",
       "      <td>21510000</td>\n",
       "      <td>976354</td>\n",
       "      <td>low</td>\n",
       "      <td>0.0</td>\n",
       "      <td>linear</td>\n",
       "    </tr>\n",
       "  </tbody>\n",
       "</table>\n",
       "</div>"
      ],
      "text/plain": [
       "    uid  gics_sector country type_of_target  year  scope1_tonnes  \\\n",
       "0  C001  Real Estate  Global        Scope 2  2025       21510000   \n",
       "1  C001  Real Estate  Global        Scope 2  2026       21510000   \n",
       "2  C001  Real Estate  Global        Scope 2  2027       21510000   \n",
       "3  C001  Real Estate  Global        Scope 2  2028       21510000   \n",
       "4  C001  Real Estate  Global        Scope 2  2029       21510000   \n",
       "\n",
       "   scope2_tonnes scenario  growth_rate interpolation_method  \n",
       "0        1070000      low          0.0               linear  \n",
       "1        1046588      low          0.0               linear  \n",
       "2        1023177      low          0.0               linear  \n",
       "3         999765      low          0.0               linear  \n",
       "4         976354      low          0.0               linear  "
      ]
     },
     "metadata": {},
     "output_type": "display_data"
    },
    {
     "name": "stdout",
     "output_type": "stream",
     "text": [
      "\n",
      "ngfs_global_snapshot.head():\n"
     ]
    },
    {
     "data": {
      "text/html": [
       "<div>\n",
       "<style scoped>\n",
       "    .dataframe tbody tr th:only-of-type {\n",
       "        vertical-align: middle;\n",
       "    }\n",
       "\n",
       "    .dataframe tbody tr th {\n",
       "        vertical-align: top;\n",
       "    }\n",
       "\n",
       "    .dataframe thead th {\n",
       "        text-align: right;\n",
       "    }\n",
       "</style>\n",
       "<table border=\"1\" class=\"dataframe\">\n",
       "  <thead>\n",
       "    <tr style=\"text-align: right;\">\n",
       "      <th></th>\n",
       "      <th>Model</th>\n",
       "      <th>Scenario</th>\n",
       "      <th>Region</th>\n",
       "      <th>Variable</th>\n",
       "      <th>Unit</th>\n",
       "      <th>2020</th>\n",
       "      <th>2025</th>\n",
       "      <th>2030</th>\n",
       "      <th>2035</th>\n",
       "      <th>2040</th>\n",
       "      <th>2045</th>\n",
       "      <th>2050</th>\n",
       "      <th>2055</th>\n",
       "      <th>2060</th>\n",
       "      <th>2070</th>\n",
       "      <th>2080</th>\n",
       "      <th>2090</th>\n",
       "      <th>2100</th>\n",
       "    </tr>\n",
       "  </thead>\n",
       "  <tbody>\n",
       "    <tr>\n",
       "      <th>0</th>\n",
       "      <td>MESSAGEix-GLOBIOM 2.0-M-R12-NGFS</td>\n",
       "      <td>Below 2?C</td>\n",
       "      <td>World</td>\n",
       "      <td>Price|Carbon</td>\n",
       "      <td>US$2010/t CO2</td>\n",
       "      <td>0.0</td>\n",
       "      <td>0.0</td>\n",
       "      <td>49.932541</td>\n",
       "      <td>54.812040</td>\n",
       "      <td>66.416543</td>\n",
       "      <td>88.090790</td>\n",
       "      <td>111.985720</td>\n",
       "      <td>128.574041</td>\n",
       "      <td>155.968481</td>\n",
       "      <td>251.739652</td>\n",
       "      <td>387.443060</td>\n",
       "      <td>279.666512</td>\n",
       "      <td>260.054474</td>\n",
       "    </tr>\n",
       "    <tr>\n",
       "      <th>1</th>\n",
       "      <td>MESSAGEix-GLOBIOM 2.0-M-R12-NGFS</td>\n",
       "      <td>Current Policies</td>\n",
       "      <td>World</td>\n",
       "      <td>Price|Carbon</td>\n",
       "      <td>US$2010/t CO2</td>\n",
       "      <td>0.0</td>\n",
       "      <td>0.0</td>\n",
       "      <td>2.375986</td>\n",
       "      <td>2.736761</td>\n",
       "      <td>3.114615</td>\n",
       "      <td>3.518626</td>\n",
       "      <td>3.929533</td>\n",
       "      <td>4.335628</td>\n",
       "      <td>4.731550</td>\n",
       "      <td>5.521350</td>\n",
       "      <td>6.235536</td>\n",
       "      <td>6.898318</td>\n",
       "      <td>7.552773</td>\n",
       "    </tr>\n",
       "    <tr>\n",
       "      <th>2</th>\n",
       "      <td>MESSAGEix-GLOBIOM 2.0-M-R12-NGFS</td>\n",
       "      <td>Delayed transition</td>\n",
       "      <td>World</td>\n",
       "      <td>Price|Carbon</td>\n",
       "      <td>US$2010/t CO2</td>\n",
       "      <td>0.0</td>\n",
       "      <td>0.0</td>\n",
       "      <td>2.375986</td>\n",
       "      <td>50.876467</td>\n",
       "      <td>75.862313</td>\n",
       "      <td>85.518030</td>\n",
       "      <td>110.633704</td>\n",
       "      <td>137.419815</td>\n",
       "      <td>164.296311</td>\n",
       "      <td>248.082436</td>\n",
       "      <td>387.531726</td>\n",
       "      <td>296.537709</td>\n",
       "      <td>252.706153</td>\n",
       "    </tr>\n",
       "    <tr>\n",
       "      <th>3</th>\n",
       "      <td>MESSAGEix-GLOBIOM 2.0-M-R12-NGFS</td>\n",
       "      <td>Fragmented World</td>\n",
       "      <td>World</td>\n",
       "      <td>Price|Carbon</td>\n",
       "      <td>US$2010/t CO2</td>\n",
       "      <td>0.0</td>\n",
       "      <td>0.0</td>\n",
       "      <td>2.375986</td>\n",
       "      <td>13.829744</td>\n",
       "      <td>14.472360</td>\n",
       "      <td>19.222453</td>\n",
       "      <td>63.986743</td>\n",
       "      <td>41.070881</td>\n",
       "      <td>138.360254</td>\n",
       "      <td>81.700710</td>\n",
       "      <td>166.250012</td>\n",
       "      <td>74.643204</td>\n",
       "      <td>84.064246</td>\n",
       "    </tr>\n",
       "    <tr>\n",
       "      <th>4</th>\n",
       "      <td>MESSAGEix-GLOBIOM 2.0-M-R12-NGFS</td>\n",
       "      <td>Low demand</td>\n",
       "      <td>World</td>\n",
       "      <td>Price|Carbon</td>\n",
       "      <td>US$2010/t CO2</td>\n",
       "      <td>0.0</td>\n",
       "      <td>0.0</td>\n",
       "      <td>98.249605</td>\n",
       "      <td>127.377459</td>\n",
       "      <td>170.076352</td>\n",
       "      <td>198.587790</td>\n",
       "      <td>243.030407</td>\n",
       "      <td>287.877443</td>\n",
       "      <td>371.403401</td>\n",
       "      <td>386.485124</td>\n",
       "      <td>423.070052</td>\n",
       "      <td>129.495958</td>\n",
       "      <td>140.417237</td>\n",
       "    </tr>\n",
       "  </tbody>\n",
       "</table>\n",
       "</div>"
      ],
      "text/plain": [
       "                              Model            Scenario Region      Variable  \\\n",
       "0  MESSAGEix-GLOBIOM 2.0-M-R12-NGFS           Below 2?C  World  Price|Carbon   \n",
       "1  MESSAGEix-GLOBIOM 2.0-M-R12-NGFS    Current Policies  World  Price|Carbon   \n",
       "2  MESSAGEix-GLOBIOM 2.0-M-R12-NGFS  Delayed transition  World  Price|Carbon   \n",
       "3  MESSAGEix-GLOBIOM 2.0-M-R12-NGFS    Fragmented World  World  Price|Carbon   \n",
       "4  MESSAGEix-GLOBIOM 2.0-M-R12-NGFS          Low demand  World  Price|Carbon   \n",
       "\n",
       "            Unit  2020  2025       2030        2035        2040        2045  \\\n",
       "0  US$2010/t CO2   0.0   0.0  49.932541   54.812040   66.416543   88.090790   \n",
       "1  US$2010/t CO2   0.0   0.0   2.375986    2.736761    3.114615    3.518626   \n",
       "2  US$2010/t CO2   0.0   0.0   2.375986   50.876467   75.862313   85.518030   \n",
       "3  US$2010/t CO2   0.0   0.0   2.375986   13.829744   14.472360   19.222453   \n",
       "4  US$2010/t CO2   0.0   0.0  98.249605  127.377459  170.076352  198.587790   \n",
       "\n",
       "         2050        2055        2060        2070        2080        2090  \\\n",
       "0  111.985720  128.574041  155.968481  251.739652  387.443060  279.666512   \n",
       "1    3.929533    4.335628    4.731550    5.521350    6.235536    6.898318   \n",
       "2  110.633704  137.419815  164.296311  248.082436  387.531726  296.537709   \n",
       "3   63.986743   41.070881  138.360254   81.700710  166.250012   74.643204   \n",
       "4  243.030407  287.877443  371.403401  386.485124  423.070052  129.495958   \n",
       "\n",
       "         2100  \n",
       "0  260.054474  \n",
       "1    7.552773  \n",
       "2  252.706153  \n",
       "3   84.064246  \n",
       "4  140.417237  "
      ]
     },
     "metadata": {},
     "output_type": "display_data"
    },
    {
     "name": "stdout",
     "output_type": "stream",
     "text": [
      "\n",
      "ngfs_snapshot.head():\n"
     ]
    },
    {
     "data": {
      "text/html": [
       "<div>\n",
       "<style scoped>\n",
       "    .dataframe tbody tr th:only-of-type {\n",
       "        vertical-align: middle;\n",
       "    }\n",
       "\n",
       "    .dataframe tbody tr th {\n",
       "        vertical-align: top;\n",
       "    }\n",
       "\n",
       "    .dataframe thead th {\n",
       "        text-align: right;\n",
       "    }\n",
       "</style>\n",
       "<table border=\"1\" class=\"dataframe\">\n",
       "  <thead>\n",
       "    <tr style=\"text-align: right;\">\n",
       "      <th></th>\n",
       "      <th>Model</th>\n",
       "      <th>Scenario</th>\n",
       "      <th>Region</th>\n",
       "      <th>Variable</th>\n",
       "      <th>Unit</th>\n",
       "      <th>2020</th>\n",
       "      <th>2025</th>\n",
       "      <th>2030</th>\n",
       "      <th>2035</th>\n",
       "      <th>2040</th>\n",
       "      <th>2045</th>\n",
       "      <th>2050</th>\n",
       "      <th>2055</th>\n",
       "      <th>2060</th>\n",
       "      <th>2070</th>\n",
       "      <th>2080</th>\n",
       "      <th>2090</th>\n",
       "      <th>2100</th>\n",
       "    </tr>\n",
       "  </thead>\n",
       "  <tbody>\n",
       "    <tr>\n",
       "      <th>0</th>\n",
       "      <td>MESSAGEix-GLOBIOM 2.0-M-R12-NGFS</td>\n",
       "      <td>Below 2?C</td>\n",
       "      <td>OECD &amp; EU (R5)</td>\n",
       "      <td>Price|Carbon</td>\n",
       "      <td>US$2010/t CO2</td>\n",
       "      <td>0.0</td>\n",
       "      <td>0.0</td>\n",
       "      <td>48.151919</td>\n",
       "      <td>54.664413</td>\n",
       "      <td>66.323205</td>\n",
       "      <td>89.748734</td>\n",
       "      <td>114.415061</td>\n",
       "      <td>128.479413</td>\n",
       "      <td>176.171349</td>\n",
       "      <td>252.988259</td>\n",
       "      <td>377.229880</td>\n",
       "      <td>281.702501</td>\n",
       "      <td>257.131503</td>\n",
       "    </tr>\n",
       "    <tr>\n",
       "      <th>1</th>\n",
       "      <td>MESSAGEix-GLOBIOM 2.0-M-R12-NGFS</td>\n",
       "      <td>Current Policies</td>\n",
       "      <td>OECD &amp; EU (R5)</td>\n",
       "      <td>Price|Carbon</td>\n",
       "      <td>US$2010/t CO2</td>\n",
       "      <td>0.0</td>\n",
       "      <td>0.0</td>\n",
       "      <td>0.074391</td>\n",
       "      <td>0.604857</td>\n",
       "      <td>1.137905</td>\n",
       "      <td>1.671860</td>\n",
       "      <td>2.207314</td>\n",
       "      <td>2.741388</td>\n",
       "      <td>3.276003</td>\n",
       "      <td>4.347433</td>\n",
       "      <td>5.415807</td>\n",
       "      <td>6.483165</td>\n",
       "      <td>7.552773</td>\n",
       "    </tr>\n",
       "    <tr>\n",
       "      <th>2</th>\n",
       "      <td>MESSAGEix-GLOBIOM 2.0-M-R12-NGFS</td>\n",
       "      <td>Delayed transition</td>\n",
       "      <td>OECD &amp; EU (R5)</td>\n",
       "      <td>Price|Carbon</td>\n",
       "      <td>US$2010/t CO2</td>\n",
       "      <td>0.0</td>\n",
       "      <td>0.0</td>\n",
       "      <td>0.074391</td>\n",
       "      <td>52.779089</td>\n",
       "      <td>76.964237</td>\n",
       "      <td>83.161340</td>\n",
       "      <td>124.884168</td>\n",
       "      <td>138.353271</td>\n",
       "      <td>192.158764</td>\n",
       "      <td>248.216599</td>\n",
       "      <td>372.872342</td>\n",
       "      <td>297.751302</td>\n",
       "      <td>251.044748</td>\n",
       "    </tr>\n",
       "    <tr>\n",
       "      <th>3</th>\n",
       "      <td>MESSAGEix-GLOBIOM 2.0-M-R12-NGFS</td>\n",
       "      <td>Fragmented World</td>\n",
       "      <td>OECD &amp; EU (R5)</td>\n",
       "      <td>Price|Carbon</td>\n",
       "      <td>US$2010/t CO2</td>\n",
       "      <td>0.0</td>\n",
       "      <td>0.0</td>\n",
       "      <td>0.074391</td>\n",
       "      <td>5.037281</td>\n",
       "      <td>5.492512</td>\n",
       "      <td>6.854256</td>\n",
       "      <td>87.010049</td>\n",
       "      <td>27.280828</td>\n",
       "      <td>240.332619</td>\n",
       "      <td>97.098778</td>\n",
       "      <td>166.497631</td>\n",
       "      <td>95.210189</td>\n",
       "      <td>100.899541</td>\n",
       "    </tr>\n",
       "    <tr>\n",
       "      <th>4</th>\n",
       "      <td>MESSAGEix-GLOBIOM 2.0-M-R12-NGFS</td>\n",
       "      <td>Low demand</td>\n",
       "      <td>OECD &amp; EU (R5)</td>\n",
       "      <td>Price|Carbon</td>\n",
       "      <td>US$2010/t CO2</td>\n",
       "      <td>0.0</td>\n",
       "      <td>0.0</td>\n",
       "      <td>99.775780</td>\n",
       "      <td>124.441146</td>\n",
       "      <td>173.273086</td>\n",
       "      <td>195.593972</td>\n",
       "      <td>239.026697</td>\n",
       "      <td>296.544334</td>\n",
       "      <td>383.275610</td>\n",
       "      <td>417.299853</td>\n",
       "      <td>552.739086</td>\n",
       "      <td>180.974456</td>\n",
       "      <td>187.380194</td>\n",
       "    </tr>\n",
       "  </tbody>\n",
       "</table>\n",
       "</div>"
      ],
      "text/plain": [
       "                              Model            Scenario          Region  \\\n",
       "0  MESSAGEix-GLOBIOM 2.0-M-R12-NGFS           Below 2?C  OECD & EU (R5)   \n",
       "1  MESSAGEix-GLOBIOM 2.0-M-R12-NGFS    Current Policies  OECD & EU (R5)   \n",
       "2  MESSAGEix-GLOBIOM 2.0-M-R12-NGFS  Delayed transition  OECD & EU (R5)   \n",
       "3  MESSAGEix-GLOBIOM 2.0-M-R12-NGFS    Fragmented World  OECD & EU (R5)   \n",
       "4  MESSAGEix-GLOBIOM 2.0-M-R12-NGFS          Low demand  OECD & EU (R5)   \n",
       "\n",
       "       Variable           Unit  2020  2025       2030        2035        2040  \\\n",
       "0  Price|Carbon  US$2010/t CO2   0.0   0.0  48.151919   54.664413   66.323205   \n",
       "1  Price|Carbon  US$2010/t CO2   0.0   0.0   0.074391    0.604857    1.137905   \n",
       "2  Price|Carbon  US$2010/t CO2   0.0   0.0   0.074391   52.779089   76.964237   \n",
       "3  Price|Carbon  US$2010/t CO2   0.0   0.0   0.074391    5.037281    5.492512   \n",
       "4  Price|Carbon  US$2010/t CO2   0.0   0.0  99.775780  124.441146  173.273086   \n",
       "\n",
       "         2045        2050        2055        2060        2070        2080  \\\n",
       "0   89.748734  114.415061  128.479413  176.171349  252.988259  377.229880   \n",
       "1    1.671860    2.207314    2.741388    3.276003    4.347433    5.415807   \n",
       "2   83.161340  124.884168  138.353271  192.158764  248.216599  372.872342   \n",
       "3    6.854256   87.010049   27.280828  240.332619   97.098778  166.497631   \n",
       "4  195.593972  239.026697  296.544334  383.275610  417.299853  552.739086   \n",
       "\n",
       "         2090        2100  \n",
       "0  281.702501  257.131503  \n",
       "1    6.483165    7.552773  \n",
       "2  297.751302  251.044748  \n",
       "3   95.210189  100.899541  \n",
       "4  180.974456  187.380194  "
      ]
     },
     "metadata": {},
     "output_type": "display_data"
    },
    {
     "name": "stdout",
     "output_type": "stream",
     "text": [
      "\n",
      "projected_carbon_prices.head():\n"
     ]
    },
    {
     "data": {
      "text/html": [
       "<div>\n",
       "<style scoped>\n",
       "    .dataframe tbody tr th:only-of-type {\n",
       "        vertical-align: middle;\n",
       "    }\n",
       "\n",
       "    .dataframe tbody tr th {\n",
       "        vertical-align: top;\n",
       "    }\n",
       "\n",
       "    .dataframe thead th {\n",
       "        text-align: right;\n",
       "    }\n",
       "</style>\n",
       "<table border=\"1\" class=\"dataframe\">\n",
       "  <thead>\n",
       "    <tr style=\"text-align: right;\">\n",
       "      <th></th>\n",
       "      <th>sector</th>\n",
       "      <th>region</th>\n",
       "      <th>scenario</th>\n",
       "      <th>level_3</th>\n",
       "      <th>year</th>\n",
       "      <th>carbon_price_usd_tco2e</th>\n",
       "    </tr>\n",
       "  </thead>\n",
       "  <tbody>\n",
       "    <tr>\n",
       "      <th>0</th>\n",
       "      <td>Consumer Discretionary</td>\n",
       "      <td>China</td>\n",
       "      <td>High Risk</td>\n",
       "      <td>0</td>\n",
       "      <td>2025</td>\n",
       "      <td>9.527632</td>\n",
       "    </tr>\n",
       "    <tr>\n",
       "      <th>1</th>\n",
       "      <td>Consumer Discretionary</td>\n",
       "      <td>China</td>\n",
       "      <td>High Risk</td>\n",
       "      <td>1</td>\n",
       "      <td>2026</td>\n",
       "      <td>11.365789</td>\n",
       "    </tr>\n",
       "    <tr>\n",
       "      <th>2</th>\n",
       "      <td>Consumer Discretionary</td>\n",
       "      <td>China</td>\n",
       "      <td>High Risk</td>\n",
       "      <td>2</td>\n",
       "      <td>2027</td>\n",
       "      <td>13.203947</td>\n",
       "    </tr>\n",
       "    <tr>\n",
       "      <th>3</th>\n",
       "      <td>Consumer Discretionary</td>\n",
       "      <td>China</td>\n",
       "      <td>High Risk</td>\n",
       "      <td>3</td>\n",
       "      <td>2028</td>\n",
       "      <td>15.042105</td>\n",
       "    </tr>\n",
       "    <tr>\n",
       "      <th>4</th>\n",
       "      <td>Consumer Discretionary</td>\n",
       "      <td>China</td>\n",
       "      <td>High Risk</td>\n",
       "      <td>4</td>\n",
       "      <td>2029</td>\n",
       "      <td>16.880263</td>\n",
       "    </tr>\n",
       "  </tbody>\n",
       "</table>\n",
       "</div>"
      ],
      "text/plain": [
       "                   sector region   scenario  level_3  year  \\\n",
       "0  Consumer Discretionary  China  High Risk        0  2025   \n",
       "1  Consumer Discretionary  China  High Risk        1  2026   \n",
       "2  Consumer Discretionary  China  High Risk        2  2027   \n",
       "3  Consumer Discretionary  China  High Risk        3  2028   \n",
       "4  Consumer Discretionary  China  High Risk        4  2029   \n",
       "\n",
       "   carbon_price_usd_tco2e  \n",
       "0                9.527632  \n",
       "1               11.365789  \n",
       "2               13.203947  \n",
       "3               15.042105  \n",
       "4               16.880263  "
      ]
     },
     "metadata": {},
     "output_type": "display_data"
    },
    {
     "name": "stdout",
     "output_type": "stream",
     "text": [
      "\n",
      "tradeoff_analysis.head():\n"
     ]
    },
    {
     "data": {
      "text/html": [
       "<div>\n",
       "<style scoped>\n",
       "    .dataframe tbody tr th:only-of-type {\n",
       "        vertical-align: middle;\n",
       "    }\n",
       "\n",
       "    .dataframe tbody tr th {\n",
       "        vertical-align: top;\n",
       "    }\n",
       "\n",
       "    .dataframe thead th {\n",
       "        text-align: right;\n",
       "    }\n",
       "</style>\n",
       "<table border=\"1\" class=\"dataframe\">\n",
       "  <thead>\n",
       "    <tr style=\"text-align: right;\">\n",
       "      <th></th>\n",
       "      <th>uid</th>\n",
       "      <th>year</th>\n",
       "      <th>scenario</th>\n",
       "      <th>carbon_cost_without_usd</th>\n",
       "      <th>total_cost_with_abatement_usd</th>\n",
       "      <th>net_savings_usd</th>\n",
       "    </tr>\n",
       "  </thead>\n",
       "  <tbody>\n",
       "    <tr>\n",
       "      <th>0</th>\n",
       "      <td>C002</td>\n",
       "      <td>2025</td>\n",
       "      <td>Low Risk</td>\n",
       "      <td>729137884</td>\n",
       "      <td>729137884</td>\n",
       "      <td>0</td>\n",
       "    </tr>\n",
       "    <tr>\n",
       "      <th>1</th>\n",
       "      <td>C002</td>\n",
       "      <td>2025</td>\n",
       "      <td>High Risk</td>\n",
       "      <td>802687092</td>\n",
       "      <td>802687092</td>\n",
       "      <td>0</td>\n",
       "    </tr>\n",
       "    <tr>\n",
       "      <th>2</th>\n",
       "      <td>C002</td>\n",
       "      <td>2026</td>\n",
       "      <td>Low Risk</td>\n",
       "      <td>754167386</td>\n",
       "      <td>751286642</td>\n",
       "      <td>2880744</td>\n",
       "    </tr>\n",
       "    <tr>\n",
       "      <th>3</th>\n",
       "      <td>C002</td>\n",
       "      <td>2026</td>\n",
       "      <td>High Risk</td>\n",
       "      <td>919940372</td>\n",
       "      <td>916426414</td>\n",
       "      <td>3513958</td>\n",
       "    </tr>\n",
       "    <tr>\n",
       "      <th>4</th>\n",
       "      <td>C002</td>\n",
       "      <td>2027</td>\n",
       "      <td>Low Risk</td>\n",
       "      <td>780056088</td>\n",
       "      <td>774096823</td>\n",
       "      <td>5959266</td>\n",
       "    </tr>\n",
       "  </tbody>\n",
       "</table>\n",
       "</div>"
      ],
      "text/plain": [
       "    uid  year   scenario  carbon_cost_without_usd  \\\n",
       "0  C002  2025   Low Risk                729137884   \n",
       "1  C002  2025  High Risk                802687092   \n",
       "2  C002  2026   Low Risk                754167386   \n",
       "3  C002  2026  High Risk                919940372   \n",
       "4  C002  2027   Low Risk                780056088   \n",
       "\n",
       "   total_cost_with_abatement_usd  net_savings_usd  \n",
       "0                      729137884                0  \n",
       "1                      802687092                0  \n",
       "2                      751286642          2880744  \n",
       "3                      916426414          3513958  \n",
       "4                      774096823          5959266  "
      ]
     },
     "metadata": {},
     "output_type": "display_data"
    }
   ],
   "source": [
    "# Display head of each dataframe in the dfs dictionary\n",
    "for name in filenames:\n",
    "    if name in dfs:\n",
    "        print(f\"\\n{name}.head():\")\n",
    "        display(dfs[name].head())\n",
    "    else:\n",
    "        print(f\"\\n{name} not found in dfs\")\n"
   ]
  },
  {
   "cell_type": "code",
   "execution_count": null,
   "id": "f51ce635",
   "metadata": {},
   "outputs": [],
   "source": [
    "dfs[\"df_merged\"].head()"
   ]
  },
  {
   "cell_type": "markdown",
   "id": "d305a5aa",
   "metadata": {},
   "source": [
    "Why the transition matters\n",
    "\n",
    "Metric Cumulative system-wide emissions vs. Paris-aligned budget\n",
    "Visual Stacked-area “emissions wedge”"
   ]
  },
  {
   "cell_type": "code",
   "execution_count": 11,
   "id": "c6726cc4",
   "metadata": {},
   "outputs": [
    {
     "data": {
      "image/png": "[encoded data removed]",
      "text/plain": [
       "<Figure size 1000x500 with 1 Axes>"
      ]
     },
     "metadata": {},
     "output_type": "display_data"
    }
   ],
   "source": [
    "import pandas as pd\n",
    "import matplotlib.pyplot as plt\n",
    "import seaborn as sns\n",
    "\n",
    "def plot_sector_wedge(df, scope_cols=(\"scope1_tonnes\", \"scope2_tonnes\"),\n",
    "                      legend_rank_year=None):\n",
    "    \"\"\"\n",
    "    Parameters\n",
    "    ----------\n",
    "    df : tidy DataFrame with 'year' and 'gics_sector'\n",
    "    scope_cols : tuple of column names to sum for total emissions\n",
    "    legend_rank_year : int or None\n",
    "        Year whose sector totals should determine legend order.\n",
    "        If None defaults to df.year.max().\n",
    "    \"\"\"\n",
    "    df = df.copy()\n",
    "    df[\"total\"] = df[list(scope_cols)].fillna(0).sum(axis=1)\n",
    "\n",
    "    # -------- stack order (small → large) so little wedges sit on top ----------\n",
    "    order = (\n",
    "        df[df.year == df.year.max()]\n",
    "        .groupby(\"gics_sector\")[\"total\"]\n",
    "        .sum()\n",
    "        .sort_values(ascending=True)        # small → big  (for stacking)\n",
    "        .index\n",
    "        .tolist()\n",
    "    )\n",
    "\n",
    "    stack = (\n",
    "        df.groupby([\"year\", \"gics_sector\"])[\"total\"]\n",
    "        .sum()\n",
    "        .unstack(fill_value=0)[order]\n",
    "        / 1e9                                #   Gt CO₂e\n",
    "    )\n",
    "\n",
    "    # --------------------------- plot -----------------------------------------\n",
    "    fig, ax = plt.subplots(figsize=(10, 5))\n",
    "    stack.plot.area(ax=ax, linewidth=0, alpha=0.85, colormap=\"tab10\")\n",
    "\n",
    "    ax.set_title(\"Global emissions wedge by sector\", pad=12, fontsize=14)\n",
    "    ax.set_xlabel(\"\")\n",
    "    ax.set_ylabel(\"Gt CO₂e yr⁻¹\")\n",
    "    ax.set_xlim(stack.index.min(), stack.index.max())\n",
    "    ax.set_ylim(0, stack.sum(axis=1).max() * 1.05)\n",
    "\n",
    "    # ----------- legend: big → small (descending) -----------------------------\n",
    "    if legend_rank_year is None:\n",
    "        legend_rank_year = df.year.max()\n",
    "\n",
    "    # totals in the chosen year\n",
    "    totals = (df[df.year == legend_rank_year]\n",
    "              .groupby(\"gics_sector\")[\"total\"]\n",
    "              .sum())\n",
    "\n",
    "    # existing handles & labels\n",
    "    handles, labels = ax.get_legend_handles_labels()\n",
    "    # map label → handle\n",
    "    handle_map = dict(zip(labels, handles))\n",
    "\n",
    "    # desired order: largest first\n",
    "    legend_order = totals.sort_values(ascending=False).index.tolist()\n",
    "\n",
    "    # rebuild legend\n",
    "    ax.legend([handle_map[lab] for lab in legend_order],\n",
    "              legend_order,\n",
    "              title=None,\n",
    "              loc=\"center left\",\n",
    "              bbox_to_anchor=(1.02, 0.5),\n",
    "              frameon=False)\n",
    "\n",
    "    sns.despine()\n",
    "    plt.tight_layout()\n",
    "\n",
    "# Example call\n",
    "plot_sector_wedge(paths)\n"
   ]
  },
  {
   "cell_type": "code",
   "execution_count": 13,
   "id": "25621371",
   "metadata": {},
   "outputs": [
    {
     "data": {
      "image/png": "[encoded data removed]",
      "text/plain": [
       "<Figure size 1000x500 with 1 Axes>"
      ]
     },
     "metadata": {},
     "output_type": "display_data"
    }
   ],
   "source": [
    "import pandas as pd\n",
    "import matplotlib.pyplot as plt\n",
    "import seaborn as sns\n",
    "\n",
    "def plot_sector_wedge(df, scope_cols=(\"scope1_tonnes\", \"scope2_tonnes\"),\n",
    "                      legend_rank_year=None):\n",
    "    \"\"\"\n",
    "    Parameters\n",
    "    ----------\n",
    "    df : tidy DataFrame with 'year' and 'gics_sector'\n",
    "    scope_cols : tuple of column names to sum for total emissions\n",
    "    legend_rank_year : int or None\n",
    "        Year whose sector totals should determine legend order.\n",
    "        If None defaults to df.year.max().\n",
    "    \"\"\"\n",
    "    df = df.copy()\n",
    "    df[\"total\"] = df[list(scope_cols)].fillna(0).sum(axis=1)\n",
    "\n",
    "    # -------- stack order (small → large) so little wedges sit on top ----------\n",
    "    order = (\n",
    "        df[df.year == df.year.max()]\n",
    "        .groupby(\"country\")[\"total\"]\n",
    "        .sum()\n",
    "        .sort_values(ascending=True)        # small → big  (for stacking)\n",
    "        .index\n",
    "        .tolist()\n",
    "    )\n",
    "\n",
    "    stack = (\n",
    "        df.groupby([\"year\", \"country\"])[\"total\"]\n",
    "        .sum()\n",
    "        .unstack(fill_value=0)[order]\n",
    "        / 1e9                                #   Gt CO₂e\n",
    "    )\n",
    "\n",
    "    # --------------------------- plot -----------------------------------------\n",
    "    fig, ax = plt.subplots(figsize=(10, 5))\n",
    "    stack.plot.area(ax=ax, linewidth=0, alpha=0.85, colormap=\"tab10\")\n",
    "\n",
    "    ax.set_title(\"Global emissions wedge by country\", pad=12, fontsize=14)\n",
    "    ax.set_xlabel(\"\")\n",
    "    ax.set_ylabel(\"Gt CO₂e yr⁻¹\")\n",
    "    ax.set_xlim(stack.index.min(), stack.index.max())\n",
    "    ax.set_ylim(0, stack.sum(axis=1).max() * 1.05)\n",
    "\n",
    "    # ----------- legend: big → small (descending) -----------------------------\n",
    "    if legend_rank_year is None:\n",
    "        legend_rank_year = df.year.max()\n",
    "\n",
    "    # totals in the chosen year\n",
    "    totals = (df[df.year == legend_rank_year]\n",
    "              .groupby(\"country\")[\"total\"]\n",
    "              .sum())\n",
    "\n",
    "    # existing handles & labels\n",
    "    handles, labels = ax.get_legend_handles_labels()\n",
    "    # map label → handle\n",
    "    handle_map = dict(zip(labels, handles))\n",
    "\n",
    "    # desired order: largest first\n",
    "    legend_order = totals.sort_values(ascending=False).index.tolist()\n",
    "\n",
    "    # rebuild legend\n",
    "    ax.legend([handle_map[lab] for lab in legend_order],\n",
    "              legend_order,\n",
    "              title=None,\n",
    "              loc=\"center left\",\n",
    "              bbox_to_anchor=(1.02, 0.5),\n",
    "              frameon=False)\n",
    "\n",
    "    sns.despine()\n",
    "    plt.tight_layout()\n",
    "\n",
    "# Example call\n",
    "plot_sector_wedge(paths)\n"
   ]
  },
  {
   "cell_type": "markdown",
   "id": "f6052ffa",
   "metadata": {},
   "source": [
    "Who’s cutting fastest?\n",
    "\n",
    "Metric % reduction 2025 → 2050 for every firm\n",
    "Visual Sorted bar or dot strip with sector colour-coding"
   ]
  },
  {
   "cell_type": "code",
   "execution_count": 17,
   "id": "1ec49690",
   "metadata": {},
   "outputs": [
    {
     "data": {
      "text/html": [
       "<div>\n",
       "<style scoped>\n",
       "    .dataframe tbody tr th:only-of-type {\n",
       "        vertical-align: middle;\n",
       "    }\n",
       "\n",
       "    .dataframe tbody tr th {\n",
       "        vertical-align: top;\n",
       "    }\n",
       "\n",
       "    .dataframe thead th {\n",
       "        text-align: right;\n",
       "    }\n",
       "</style>\n",
       "<table border=\"1\" class=\"dataframe\">\n",
       "  <thead>\n",
       "    <tr style=\"text-align: right;\">\n",
       "      <th></th>\n",
       "      <th>uid</th>\n",
       "      <th>gics_sector</th>\n",
       "      <th>country</th>\n",
       "      <th>type_of_target</th>\n",
       "      <th>year</th>\n",
       "      <th>scope1_tonnes</th>\n",
       "      <th>scope2_tonnes</th>\n",
       "      <th>scenario</th>\n",
       "      <th>growth_rate</th>\n",
       "      <th>interpolation_method</th>\n",
       "      <th>total</th>\n",
       "    </tr>\n",
       "  </thead>\n",
       "  <tbody>\n",
       "    <tr>\n",
       "      <th>0</th>\n",
       "      <td>C001</td>\n",
       "      <td>Real Estate</td>\n",
       "      <td>Global</td>\n",
       "      <td>Scope 2</td>\n",
       "      <td>2025</td>\n",
       "      <td>21510000</td>\n",
       "      <td>1070000</td>\n",
       "      <td>low</td>\n",
       "      <td>0.0</td>\n",
       "      <td>linear</td>\n",
       "      <td>22580000</td>\n",
       "    </tr>\n",
       "    <tr>\n",
       "      <th>1</th>\n",
       "      <td>C001</td>\n",
       "      <td>Real Estate</td>\n",
       "      <td>Global</td>\n",
       "      <td>Scope 2</td>\n",
       "      <td>2026</td>\n",
       "      <td>21510000</td>\n",
       "      <td>1046588</td>\n",
       "      <td>low</td>\n",
       "      <td>0.0</td>\n",
       "      <td>linear</td>\n",
       "      <td>22556588</td>\n",
       "    </tr>\n",
       "    <tr>\n",
       "      <th>2</th>\n",
       "      <td>C001</td>\n",
       "      <td>Real Estate</td>\n",
       "      <td>Global</td>\n",
       "      <td>Scope 2</td>\n",
       "      <td>2027</td>\n",
       "      <td>21510000</td>\n",
       "      <td>1023177</td>\n",
       "      <td>low</td>\n",
       "      <td>0.0</td>\n",
       "      <td>linear</td>\n",
       "      <td>22533177</td>\n",
       "    </tr>\n",
       "    <tr>\n",
       "      <th>3</th>\n",
       "      <td>C001</td>\n",
       "      <td>Real Estate</td>\n",
       "      <td>Global</td>\n",
       "      <td>Scope 2</td>\n",
       "      <td>2028</td>\n",
       "      <td>21510000</td>\n",
       "      <td>999765</td>\n",
       "      <td>low</td>\n",
       "      <td>0.0</td>\n",
       "      <td>linear</td>\n",
       "      <td>22509765</td>\n",
       "    </tr>\n",
       "    <tr>\n",
       "      <th>4</th>\n",
       "      <td>C001</td>\n",
       "      <td>Real Estate</td>\n",
       "      <td>Global</td>\n",
       "      <td>Scope 2</td>\n",
       "      <td>2029</td>\n",
       "      <td>21510000</td>\n",
       "      <td>976354</td>\n",
       "      <td>low</td>\n",
       "      <td>0.0</td>\n",
       "      <td>linear</td>\n",
       "      <td>22486354</td>\n",
       "    </tr>\n",
       "  </tbody>\n",
       "</table>\n",
       "</div>"
      ],
      "text/plain": [
       "    uid  gics_sector country type_of_target  year  scope1_tonnes  \\\n",
       "0  C001  Real Estate  Global        Scope 2  2025       21510000   \n",
       "1  C001  Real Estate  Global        Scope 2  2026       21510000   \n",
       "2  C001  Real Estate  Global        Scope 2  2027       21510000   \n",
       "3  C001  Real Estate  Global        Scope 2  2028       21510000   \n",
       "4  C001  Real Estate  Global        Scope 2  2029       21510000   \n",
       "\n",
       "   scope2_tonnes scenario  growth_rate interpolation_method     total  \n",
       "0        1070000      low          0.0               linear  22580000  \n",
       "1        1046588      low          0.0               linear  22556588  \n",
       "2        1023177      low          0.0               linear  22533177  \n",
       "3         999765      low          0.0               linear  22509765  \n",
       "4         976354      low          0.0               linear  22486354  "
      ]
     },
     "execution_count": 17,
     "metadata": {},
     "output_type": "execute_result"
    }
   ],
   "source": [
    "paths.head()"
   ]
  },
  {
   "cell_type": "code",
   "execution_count": 19,
   "id": "ef054839",
   "metadata": {},
   "outputs": [
    {
     "data": {
      "text/plain": [
       "uid\n",
       "C001    0.025921\n",
       "C001    0.025921\n",
       "C001    0.025921\n",
       "C001    0.025414\n",
       "C001    0.025414\n",
       "          ...   \n",
       "C050    0.086237\n",
       "C050    0.086237\n",
       "C050    0.084601\n",
       "C050    0.084601\n",
       "C050    0.084601\n",
       "Name: pct_reduction, Length: 294, dtype: float64"
      ]
     },
     "execution_count": 19,
     "metadata": {},
     "output_type": "execute_result"
    }
   ],
   "source": [
    "pct"
   ]
  },
  {
   "cell_type": "code",
   "execution_count": null,
   "id": "dd3ad107",
   "metadata": {},
   "outputs": [
    {
     "data": {
      "image/png": "[encoded data removed]",
      "text/plain": [
       "<Figure size 1000x750 with 1 Axes>"
      ]
     },
     "metadata": {},
     "output_type": "display_data"
    }
   ],
   "source": [
    "import pandas as pd, numpy as np, matplotlib.pyplot as plt, seaborn as sns\n",
    "from matplotlib.ticker import PercentFormatter\n",
    "from matplotlib.patches import Patch\n",
    "import matplotlib.lines as mlines\n",
    "\n",
    "# ------------ CONFIG ---------------------------------------------------------\n",
    "BASE_YR, END_YR = 2025, 2050\n",
    "TOP_N           = 1\n",
    "palette_name    = \"tab10\"       # any seaborn/mpl palette\n",
    "\n",
    "# ------------ 1. %-reduction per scope ---------------------------------------\n",
    "paths   = dfs[\"emissions_paths\"].copy()\n",
    "paths   = paths[paths.year.isin([BASE_YR, END_YR])]\n",
    "\n",
    "wide = (\n",
    "    paths.pivot_table(index=[\"uid\", \"gics_sector\", \"year\"],\n",
    "                      values=[\"scope1_tonnes\", \"scope2_tonnes\"],\n",
    "                      aggfunc=\"sum\")\n",
    "         .reset_index()\n",
    ")\n",
    "\n",
    "def pct_reduction(scope):\n",
    "    base = wide.query(\"year == @BASE_YR\").set_index(\"uid\")[scope]\n",
    "    end  = wide.query(\"year == @END_YR\").set_index(\"uid\")[scope]\n",
    "    good = (base > 0) & end.notna()\n",
    "    return (1 - end[good] / base[good]).rename(f\"pct_{scope}\")\n",
    "\n",
    "pct = pd.concat([pct_reduction(\"scope1_tonnes\"),\n",
    "                 pct_reduction(\"scope2_tonnes\")], axis=1).dropna()\n",
    "\n",
    "sector_map = (wide.query(\"year == @BASE_YR\")[[\"uid\", \"gics_sector\"]]\n",
    "                   .drop_duplicates()\n",
    "                   .set_index(\"uid\")[\"gics_sector\"])\n",
    "tot2050 = (wide.query(\"year == @END_YR\").groupby(\"uid\")\n",
    "                [[\"scope1_tonnes\", \"scope2_tonnes\"]].sum().sum(axis=1))\n",
    "\n",
    "pct[\"sector\"]   = sector_map\n",
    "pct[\"tot2050\"]  = tot2050\n",
    "\n",
    "ranked = (pct.sort_values(\"pct_scope1_tonnes\", ascending=False)\n",
    "             .head(TOP_N).reset_index())\n",
    "\n",
    "# ------------ 2. Colour map --------------------------------------------------\n",
    "sectors        = ranked[\"sector\"].unique().tolist()\n",
    "palette        = sns.color_palette(palette_name, len(sectors))\n",
    "colour_map     = dict(zip(sectors, palette))\n",
    "\n",
    "# ------------ 3. Dumbbell plot ----------------------------------------------\n",
    "fig_h = 0.6*TOP_N + 1.5\n",
    "fig, ax = plt.subplots(figsize=(10, fig_h))\n",
    "\n",
    "# stems\n",
    "ax.hlines(y=ranked[\"uid\"], xmin=ranked[\"pct_scope1_tonnes\"],\n",
    "          xmax=ranked[\"pct_scope2_tonnes\"], color=\"lightgray\", lw=1.5, zorder=1)\n",
    "\n",
    "# dots\n",
    "sns.scatterplot(data=ranked, y=\"uid\", x=\"pct_scope1_tonnes\",\n",
    "                hue=\"sector\", palette=colour_map, s=80, zorder=2,\n",
    "                marker=\"o\", legend=False, ax=ax)\n",
    "sns.scatterplot(data=ranked, y=\"uid\", x=\"pct_scope2_tonnes\",\n",
    "                hue=\"sector\", palette=colour_map, s=80, zorder=3,\n",
    "                marker=\"s\", legend=False, ax=ax)\n",
    "\n",
    "# axes\n",
    "ax.set_xlabel(f\"% reduction {BASE_YR} → {END_YR}\")\n",
    "ax.xaxis.set_major_formatter(PercentFormatter(1.0))\n",
    "ax.set_ylabel(\"\")\n",
    "ax.set_title(f\"Top-{TOP_N} fastest decarbonisers – Scope 1 vs Scope 2\")\n",
    "\n",
    "# ------------ 4. Manual legends ---------------------------------------------\n",
    "# sector colours, ordered by total 2050 emissions (largest first)\n",
    "sector_order = (ranked.groupby(\"sector\")[\"tot2050\"]\n",
    "                        .sum().sort_values(ascending=False).index.tolist())\n",
    "sector_handles = [Patch(facecolor=colour_map[s], label=s) for s in sector_order]\n",
    "leg1 = ax.legend(handles=sector_handles, title=\"Sector (colour)\",\n",
    "                 bbox_to_anchor=(1.02, 1), loc=\"upper left\", frameon=False)\n",
    "\n",
    "# dot shapes\n",
    "h_s1 = mlines.Line2D([], [], color=\"black\", marker=\"o\", ls=\"\", ms=8)\n",
    "h_s2 = mlines.Line2D([], [], color=\"black\", marker=\"s\", ls=\"\", ms=8)\n",
    "ax.legend([h_s1, h_s2], [\"Scope 1\", \"Scope 2\"],\n",
    "          title=\"Dot shape\", bbox_to_anchor=(1.02, 0), loc=\"lower left\",\n",
    "          frameon=False)\n",
    "ax.add_artist(leg1)\n",
    "\n",
    "sns.despine(left=True)\n",
    "plt.tight_layout()\n"
   ]
  },
  {
   "cell_type": "code",
   "execution_count": 25,
   "id": "fa3bf532",
   "metadata": {},
   "outputs": [
    {
     "data": {
      "image/png": "[encoded data removed]",
      "text/plain": [
       "<Figure size 1000x700 with 1 Axes>"
      ]
     },
     "metadata": {},
     "output_type": "display_data"
    }
   ],
   "source": [
    "# --- prep (uses `ranked` from your previous cell) ---------------------------\n",
    "df = ranked.copy()\n",
    "df[\"left\"]  = -df[\"pct_scope1_tonnes\"]   # mirror Scope 1 to the left\n",
    "df[\"right\"] =  df[\"pct_scope2_tonnes\"]\n",
    "\n",
    "# order by whichever scope is larger so the rows are meaningful\n",
    "df = df.sort_values([\"right\", \"left\"], ascending=[False, False])\n",
    "\n",
    "# --- plot -------------------------------------------------------------------\n",
    "fig_h = 0.55 * len(df) + 1.5\n",
    "fig, ax = plt.subplots(figsize=(10, fig_h))\n",
    "\n",
    "# left bars  (Scope 1)\n",
    "ax.barh(df[\"uid\"], df[\"left\"],  color=df[\"sector\"].map(colour_map),\n",
    "        edgecolor=\"none\", height=0.40, label=\"Scope 1\")\n",
    "\n",
    "# right bars (Scope 2)\n",
    "ax.barh(df[\"uid\"], df[\"right\"], color=df[\"sector\"].map(colour_map),\n",
    "        edgecolor=\"none\", height=0.40, label=\"Scope 2\")\n",
    "\n",
    "# centre line\n",
    "ax.axvline(0, color=\"black\", lw=0.7)\n",
    "\n",
    "# axes & labels\n",
    "ax.set_xlim(-1.05, 1.05)                       # -100 % .. +100 %\n",
    "ax.xaxis.set_major_formatter(PercentFormatter(1))\n",
    "ax.set_xlabel(f\"% reduction {BASE_YR} → {END_YR}\")\n",
    "ax.set_ylabel(\"\")\n",
    "ax.set_title(f\"Top-{TOP_N} fastest decarbonisers – Scope 1 (left) vs Scope 2 (right)\")\n",
    "\n",
    "# *** legends ***\n",
    "sector_patches = [Patch(fc=colour_map[s], label=s) for s in sector_order]\n",
    "leg1 = ax.legend(handles=sector_patches, title=\"Sector (colour)\",\n",
    "                 bbox_to_anchor=(1.02, 1), loc=\"upper left\", frameon=False)\n",
    "\n",
    "# scope legend\n",
    "ax.legend([Patch(fc=\"gray\"), Patch(fc=\"gray\")],\n",
    "          [\"Scope 1\", \"Scope 2\"], title=\"Bar side\",\n",
    "          bbox_to_anchor=(1.02, 0), loc=\"lower left\", frameon=False)\n",
    "ax.add_artist(leg1)\n",
    "\n",
    "sns.despine(left=True, bottom=True)\n",
    "plt.tight_layout()\n"
   ]
  },
  {
   "cell_type": "code",
   "execution_count": 26,
   "id": "338dbb10",
   "metadata": {},
   "outputs": [
    {
     "data": {
      "image/png": "[encoded data removed]",
      "text/plain": [
       "<Figure size 900x680 with 1 Axes>"
      ]
     },
     "metadata": {},
     "output_type": "display_data"
    }
   ],
   "source": [
    "fig_h = 0.55 * len(df) + 1.3\n",
    "fig, ax = plt.subplots(figsize=(9, fig_h))\n",
    "\n",
    "bar_h = 0.35\n",
    "y_pos  = np.arange(len(df))\n",
    "\n",
    "# bars\n",
    "ax.barh(y_pos + bar_h/2, df[\"pct_scope1_tonnes\"],\n",
    "        height=bar_h, label=\"Scope 1\",\n",
    "        color=df[\"sector\"].map(colour_map))\n",
    "ax.barh(y_pos - bar_h/2, df[\"pct_scope2_tonnes\"],\n",
    "        height=bar_h, label=\"Scope 2\",\n",
    "        color=df[\"sector\"].map(colour_map), alpha=0.6)\n",
    "\n",
    "# value labels\n",
    "for i, (s1, s2) in enumerate(zip(df[\"pct_scope1_tonnes\"], df[\"pct_scope2_tonnes\"])):\n",
    "    ax.text(s1 + 0.02, i + bar_h/2, f\"{s1:.0%}\", va=\"center\", fontsize=8)\n",
    "    ax.text(s2 + 0.02, i - bar_h/2, f\"{s2:.0%}\", va=\"center\", fontsize=8)\n",
    "\n",
    "# cosmetics\n",
    "ax.set_yticks(y_pos)\n",
    "ax.set_yticklabels(df[\"uid\"])\n",
    "ax.xaxis.set_major_formatter(PercentFormatter(1))\n",
    "ax.set_xlabel(f\"% reduction {BASE_YR} → {END_YR}\")\n",
    "ax.set_title(f\"Top-{TOP_N} fastest decarbonisers – Scope split\")\n",
    "\n",
    "# legends\n",
    "sector_patches = [Patch(fc=colour_map[s], label=s) for s in sector_order]\n",
    "leg1 = ax.legend(handles=sector_patches, title=\"Sector (colour)\",\n",
    "                 bbox_to_anchor=(1.02, 1), loc=\"upper left\", frameon=False)\n",
    "leg2 = ax.legend(handles=[mlines.Line2D([],[],lw=8,color=\"gray\", label=\"Scope 1\"),\n",
    "                          mlines.Line2D([],[],lw=8,color=\"gray\", alpha=0.6, label=\"Scope 2\")],\n",
    "                 title=\"Bar tint\", bbox_to_anchor=(1.02, 0), loc=\"lower left\",\n",
    "                 frameon=False)\n",
    "ax.add_artist(leg1)\n",
    "\n",
    "sns.despine(left=True)\n",
    "plt.tight_layout()\n"
   ]
  },
  {
   "cell_type": "code",
   "execution_count": 28,
   "id": "82157696",
   "metadata": {},
   "outputs": [
    {
     "data": {
      "text/html": [
       "<div>\n",
       "<style scoped>\n",
       "    .dataframe tbody tr th:only-of-type {\n",
       "        vertical-align: middle;\n",
       "    }\n",
       "\n",
       "    .dataframe tbody tr th {\n",
       "        vertical-align: top;\n",
       "    }\n",
       "\n",
       "    .dataframe thead th {\n",
       "        text-align: right;\n",
       "    }\n",
       "</style>\n",
       "<table border=\"1\" class=\"dataframe\">\n",
       "  <thead>\n",
       "    <tr style=\"text-align: right;\">\n",
       "      <th></th>\n",
       "      <th>uid</th>\n",
       "      <th>year</th>\n",
       "      <th>scenario</th>\n",
       "      <th>carbon_cost_usd</th>\n",
       "    </tr>\n",
       "  </thead>\n",
       "  <tbody>\n",
       "    <tr>\n",
       "      <th>0</th>\n",
       "      <td>C002</td>\n",
       "      <td>2025</td>\n",
       "      <td>Low Risk</td>\n",
       "      <td>7.288256e+08</td>\n",
       "    </tr>\n",
       "    <tr>\n",
       "      <th>1</th>\n",
       "      <td>C002</td>\n",
       "      <td>2025</td>\n",
       "      <td>Medium Risk</td>\n",
       "      <td>7.818776e+08</td>\n",
       "    </tr>\n",
       "    <tr>\n",
       "      <th>2</th>\n",
       "      <td>C002</td>\n",
       "      <td>2025</td>\n",
       "      <td>High Risk</td>\n",
       "      <td>7.851601e+08</td>\n",
       "    </tr>\n",
       "    <tr>\n",
       "      <th>3</th>\n",
       "      <td>C002</td>\n",
       "      <td>2026</td>\n",
       "      <td>Low Risk</td>\n",
       "      <td>7.525294e+08</td>\n",
       "    </tr>\n",
       "    <tr>\n",
       "      <th>4</th>\n",
       "      <td>C002</td>\n",
       "      <td>2026</td>\n",
       "      <td>Medium Risk</td>\n",
       "      <td>8.330080e+08</td>\n",
       "    </tr>\n",
       "    <tr>\n",
       "      <th>...</th>\n",
       "      <td>...</td>\n",
       "      <td>...</td>\n",
       "      <td>...</td>\n",
       "      <td>...</td>\n",
       "    </tr>\n",
       "    <tr>\n",
       "      <th>1555</th>\n",
       "      <td>C050</td>\n",
       "      <td>2049</td>\n",
       "      <td>Medium Risk</td>\n",
       "      <td>2.386497e+09</td>\n",
       "    </tr>\n",
       "    <tr>\n",
       "      <th>1556</th>\n",
       "      <td>C050</td>\n",
       "      <td>2049</td>\n",
       "      <td>High Risk</td>\n",
       "      <td>3.935105e+09</td>\n",
       "    </tr>\n",
       "    <tr>\n",
       "      <th>1557</th>\n",
       "      <td>C050</td>\n",
       "      <td>2050</td>\n",
       "      <td>Low Risk</td>\n",
       "      <td>9.661846e+08</td>\n",
       "    </tr>\n",
       "    <tr>\n",
       "      <th>1558</th>\n",
       "      <td>C050</td>\n",
       "      <td>2050</td>\n",
       "      <td>Medium Risk</td>\n",
       "      <td>2.446674e+09</td>\n",
       "    </tr>\n",
       "    <tr>\n",
       "      <th>1559</th>\n",
       "      <td>C050</td>\n",
       "      <td>2050</td>\n",
       "      <td>High Risk</td>\n",
       "      <td>4.051423e+09</td>\n",
       "    </tr>\n",
       "  </tbody>\n",
       "</table>\n",
       "<p>1560 rows × 4 columns</p>\n",
       "</div>"
      ],
      "text/plain": [
       "       uid  year     scenario  carbon_cost_usd\n",
       "0     C002  2025     Low Risk     7.288256e+08\n",
       "1     C002  2025  Medium Risk     7.818776e+08\n",
       "2     C002  2025    High Risk     7.851601e+08\n",
       "3     C002  2026     Low Risk     7.525294e+08\n",
       "4     C002  2026  Medium Risk     8.330080e+08\n",
       "...    ...   ...          ...              ...\n",
       "1555  C050  2049  Medium Risk     2.386497e+09\n",
       "1556  C050  2049    High Risk     3.935105e+09\n",
       "1557  C050  2050     Low Risk     9.661846e+08\n",
       "1558  C050  2050  Medium Risk     2.446674e+09\n",
       "1559  C050  2050    High Risk     4.051423e+09\n",
       "\n",
       "[1560 rows x 4 columns]"
      ]
     },
     "execution_count": 28,
     "metadata": {},
     "output_type": "execute_result"
    }
   ],
   "source": [
    "cc"
   ]
  },
  {
   "cell_type": "markdown",
   "id": "e20efedf",
   "metadata": {},
   "source": [
    "3. Translation into money: carbon-price liability\n",
    "\n",
    "Metric Annual and cumulative carbon-pricing cost per firm & scenario"
   ]
  },
  {
   "cell_type": "code",
   "execution_count": 32,
   "id": "35b1594a",
   "metadata": {},
   "outputs": [
    {
     "data": {
      "image/png": "[encoded data removed]",
      "text/plain": [
       "<Figure size 800x550 with 2 Axes>"
      ]
     },
     "metadata": {},
     "output_type": "display_data"
    }
   ],
   "source": [
    "import pandas as pd, numpy as np\n",
    "import matplotlib.pyplot as plt\n",
    "import seaborn as sns\n",
    "from matplotlib.colors import LogNorm          #  ← NEW\n",
    "\n",
    "# ------------ CONFIG -------------------------------------------------\n",
    "UID_COL  = \"uid\"\n",
    "SCEN_COL = \"scenario\"\n",
    "YEAR_COL = \"year\"\n",
    "COST_COL = \"carbon_cost_usd\"    # your column\n",
    "TOP_N    = 10\n",
    "\n",
    "cc = dfs[\"carbon_costs\"].copy()\n",
    "\n",
    "# optional tidy-up of scenario names\n",
    "cc[SCEN_COL] = (cc[SCEN_COL]\n",
    "                .str.strip()\n",
    "                .str.replace(r\"\\s+Risk\", \"\", regex=True)\n",
    "                .str.title())\n",
    "\n",
    "# ------------ 1. cumulative  cost (in USD bn) ------------------------\n",
    "cum_tbl = (\n",
    "    cc.groupby([UID_COL, SCEN_COL])[COST_COL]\n",
    "      .sum()\n",
    "      .unstack(fill_value=0) / 1e9\n",
    ")\n",
    "\n",
    "# keep non-zero rows and top-N\n",
    "ranked = (cum_tbl.loc[cum_tbl.sum(axis=1) > 0]\n",
    "                   .assign(total=lambda d: d.sum(axis=1))\n",
    "                   .sort_values(\"total\", ascending=False)\n",
    "                   .drop(columns=\"total\")\n",
    "                   .head(TOP_N))\n",
    "\n",
    "# ------------ 2. heat-map -------------------------------------------\n",
    "vmin, vmax = ranked.min().min(), ranked.max().max()\n",
    "use_log    = vmax / max(vmin, 1e-6) > 100        # >2 orders of magnitude?\n",
    "\n",
    "fig_h = 0.4*len(ranked) + 1.5\n",
    "fig, ax = plt.subplots(figsize=(8, fig_h))\n",
    "\n",
    "sns.heatmap(\n",
    "    ranked,\n",
    "    cmap=\"YlOrRd\",\n",
    "    norm=LogNorm(vmin=max(vmin, 1e-3), vmax=vmax) if use_log else None,\n",
    "    annot=True, fmt=\".1f\",\n",
    "    linewidths=0.5,\n",
    "    cbar_kws=dict(label=\"Cumulative cost 2025-50 (US$ bn)\"),\n",
    "    ax=ax,\n",
    ")\n",
    "\n",
    "ax.set_title(f\"Carbon-price liability – Top {TOP_N} companies\")\n",
    "ax.set_xlabel(\"Scenario\")\n",
    "ax.set_ylabel(\"Company\")\n",
    "plt.tight_layout()\n"
   ]
  },
  {
   "cell_type": "code",
   "execution_count": null,
   "id": "e35952c6",
   "metadata": {},
   "outputs": [],
   "source": [
    "4. What would it cost to avoid those payments?\n",
    "\n",
    "Metric Cheapest abatement CAPEX to meet targets\n",
    "Visual Waterfall per company (top-risk names)"
   ]
  },
  {
   "cell_type": "markdown",
   "id": "27cab502",
   "metadata": {},
   "source": [
    ". Total Carbon Pricing Costs by 2050\n",
    "\n",
    "Purpose: Illustrate the financial burden of carbon pricing up to 2050."
   ]
  },
  {
   "cell_type": "code",
   "execution_count": 41,
   "id": "527801d1",
   "metadata": {},
   "outputs": [
    {
     "data": {
      "text/html": [
       "<div>\n",
       "<style scoped>\n",
       "    .dataframe tbody tr th:only-of-type {\n",
       "        vertical-align: middle;\n",
       "    }\n",
       "\n",
       "    .dataframe tbody tr th {\n",
       "        vertical-align: top;\n",
       "    }\n",
       "\n",
       "    .dataframe thead th {\n",
       "        text-align: right;\n",
       "    }\n",
       "</style>\n",
       "<table border=\"1\" class=\"dataframe\">\n",
       "  <thead>\n",
       "    <tr style=\"text-align: right;\">\n",
       "      <th></th>\n",
       "      <th>uid</th>\n",
       "      <th>year</th>\n",
       "      <th>scenario</th>\n",
       "      <th>carbon_cost_usd</th>\n",
       "    </tr>\n",
       "  </thead>\n",
       "  <tbody>\n",
       "    <tr>\n",
       "      <th>0</th>\n",
       "      <td>C002</td>\n",
       "      <td>2025</td>\n",
       "      <td>Low Risk</td>\n",
       "      <td>7.288256e+08</td>\n",
       "    </tr>\n",
       "    <tr>\n",
       "      <th>1</th>\n",
       "      <td>C002</td>\n",
       "      <td>2025</td>\n",
       "      <td>Medium Risk</td>\n",
       "      <td>7.818776e+08</td>\n",
       "    </tr>\n",
       "    <tr>\n",
       "      <th>2</th>\n",
       "      <td>C002</td>\n",
       "      <td>2025</td>\n",
       "      <td>High Risk</td>\n",
       "      <td>7.851601e+08</td>\n",
       "    </tr>\n",
       "    <tr>\n",
       "      <th>3</th>\n",
       "      <td>C002</td>\n",
       "      <td>2026</td>\n",
       "      <td>Low Risk</td>\n",
       "      <td>7.525294e+08</td>\n",
       "    </tr>\n",
       "    <tr>\n",
       "      <th>4</th>\n",
       "      <td>C002</td>\n",
       "      <td>2026</td>\n",
       "      <td>Medium Risk</td>\n",
       "      <td>8.330080e+08</td>\n",
       "    </tr>\n",
       "  </tbody>\n",
       "</table>\n",
       "</div>"
      ],
      "text/plain": [
       "    uid  year     scenario  carbon_cost_usd\n",
       "0  C002  2025     Low Risk     7.288256e+08\n",
       "1  C002  2025  Medium Risk     7.818776e+08\n",
       "2  C002  2025    High Risk     7.851601e+08\n",
       "3  C002  2026     Low Risk     7.525294e+08\n",
       "4  C002  2026  Medium Risk     8.330080e+08"
      ]
     },
     "execution_count": 41,
     "metadata": {},
     "output_type": "execute_result"
    }
   ],
   "source": [
    "dfs['carbon_costs'].head()"
   ]
  },
  {
   "cell_type": "code",
   "execution_count": null,
   "id": "e9b9020e",
   "metadata": {},
   "outputs": [],
   "source": [
    "# def select_top_companies_per_sector(df_emissions, df_merged, baseline_year=2025, top_n=3):\n",
    "#     \"\"\"Select the top N companies per sector based on emissions in a baseline year.\"\"\"\n",
    "#     # Filter emissions for the baseline year\n",
    "#     df_baseline = df_emissions[df_emissions['year'] == baseline_year]\n",
    "#     # Merge with sector information\n",
    "#     df_baseline = df_baseline.merge(df_merged[['uid', 'sector']], on='uid')\n",
    "#     # Group by sector and select top N companies by emissions\n",
    "#     top_companies = df_baseline.groupby('sector').apply(\n",
    "#         lambda x: x.nlargest(top_n, 'emissions')\n",
    "#     ).reset_index(drop=True)\n",
    "#     # Return unique company names\n",
    "#     return top_companies['company'].unique()"
   ]
  },
  {
   "cell_type": "code",
   "execution_count": 53,
   "id": "0dfe3984",
   "metadata": {},
   "outputs": [
    {
     "name": "stderr",
     "output_type": "stream",
     "text": [
      "/var/folders/lf/9_7wh6ps1354b6glt9mst87m0000gn/T/ipykernel_44278/1408930695.py:27: FutureWarning: DataFrameGroupBy.apply operated on the grouping columns. This behavior is deprecated, and in a future version of pandas the grouping columns will be excluded from the operation. Either pass `include_groups=False` to exclude the groupings or explicitly select the grouping columns after groupby to silence this warning.\n",
      "  .apply(lambda x: x.nlargest(top_n, 'total_emissions')['uid'])\n"
     ]
    },
    {
     "data": {
      "image/png": "[encoded data removed]",
      "text/plain": [
       "<Figure size 1000x600 with 1 Axes>"
      ]
     },
     "metadata": {},
     "output_type": "display_data"
    }
   ],
   "source": [
    "import pandas as pd\n",
    "import matplotlib.pyplot as plt\n",
    "import seaborn as sns\n",
    "\n",
    "def select_top_companies_per_sector(df_emissions, baseline_year=2025, baseline_scenario='low', top_n=3):\n",
    "    \"\"\"\n",
    "    Select top N companies per sector based on total emissions in the baseline year and scenario.\n",
    "    \n",
    "    Parameters:\n",
    "    - df_emissions: DataFrame with emissions data (e.g., dfs['emissions_paths'])\n",
    "    - baseline_year: Year to use as baseline (default: 2025)\n",
    "    - baseline_scenario: Scenario to filter (default: 'low')\n",
    "    - top_n: Number of top companies per sector (default: 3)\n",
    "    \n",
    "    Returns:\n",
    "    - List of unique 'uid' values for selected companies\n",
    "    \"\"\"\n",
    "    # Filter for baseline year and scenario\n",
    "    df_baseline = df_emissions[(df_emissions['year'] == baseline_year) & \n",
    "                               (df_emissions['scenario'] == baseline_scenario)].copy()\n",
    "    \n",
    "    # Calculate total emissions as sum of Scope 1 and Scope 2\n",
    "    df_baseline['total_emissions'] = df_baseline['scope1_tonnes'] + df_baseline['scope2_tonnes']\n",
    "    \n",
    "    # Group by sector and select top N companies by total emissions\n",
    "    top_uids = (df_baseline.groupby('gics_sector')\n",
    "                .apply(lambda x: x.nlargest(top_n, 'total_emissions')['uid'])\n",
    "                .reset_index(drop=True))\n",
    "    \n",
    "    return top_uids.unique().tolist()\n",
    "\n",
    "def plot_total_carbon_costs(dfs):\n",
    "    \"\"\"Plot total carbon costs by 2050 for selected companies.\"\"\"\n",
    "    # Access carbon costs dataframe from dfs dictionary\n",
    "    df_carbon_costs = dfs['carbon_costs']\n",
    "    \n",
    "    # Filter for years up to 2050, group by uid and scenario, sum carbon costs\n",
    "    df_total = (df_carbon_costs[df_carbon_costs['year'] <= 2050]\n",
    "                .groupby(['uid', 'scenario'])['carbon_cost_usd']\n",
    "                .sum()\n",
    "                .reset_index())\n",
    "    \n",
    "    # Select top companies using emissions_paths\n",
    "    selected_companies = select_top_companies_per_sector(dfs['emissions_paths'])\n",
    "    \n",
    "    # Filter for selected companies\n",
    "    df_selected = df_total[df_total['uid'].isin(selected_companies)]\n",
    "    \n",
    "    # Create bar plot\n",
    "    plt.figure(figsize=(10, 6))\n",
    "    sns.barplot(data=df_selected, x='uid', y='carbon_cost_usd', hue='scenario')\n",
    "    plt.title('Total Carbon Costs by 2050 (Top Companies per Sector)')\n",
    "    plt.xlabel('Company UID')\n",
    "    plt.ylabel('Total Carbon Cost (USD)')\n",
    "    plt.legend(title='Scenario')\n",
    "    plt.tight_layout()\n",
    "    plt.show()\n",
    "\n",
    "# Example call (assuming dfs is a dictionary of dataframes)\n",
    "plot_total_carbon_costs(dfs)"
   ]
  },
  {
   "cell_type": "code",
   "execution_count": 54,
   "id": "7deafe8b",
   "metadata": {},
   "outputs": [],
   "source": [
    "# plot_total_carbon_costs(dfs)"
   ]
  },
  {
   "cell_type": "markdown",
   "id": "017888ce",
   "metadata": {},
   "source": [
    "5. Pay-or-abate decision frame\n",
    "\n",
    "Metric NPV(carbon-price) – NPV(abatement)\n",
    "Visual Quadrant scatter: x = abatement spend, y = carbon-price liability"
   ]
  },
  {
   "cell_type": "code",
   "execution_count": null,
   "id": "9316ce9c",
   "metadata": {},
   "outputs": [],
   "source": [
    "\n",
    "\n",
    "trade = pd.DataFrame({\n",
    "    \"abatement_npv\": abatement_npv,      # pre-calculated series\n",
    "    \"price_npv\":     npv_tbl[\"high\"],    # pick high-risk scenario for stress\n",
    "    \"sector\": paths.set_index(\"company\").sector,\n",
    "})\n",
    "trade.plot.scatter(\"abatement_npv\", \"price_npv\", c=trade.sector.map(sector_col),\n",
    "                   figsize=(7,7), alpha=0.7, s=80)\n",
    "plt.axline((0,0),(1,1), ls=\"--\"); plt.xlabel(\"NPV: abatement (US$ bn)\")\n",
    "plt.ylabel(\"NPV: carbon price paid (US$ bn)\")\n",
    "plt.title(\"Invest vs. Pay – High-risk scenario\")\n",
    "\n",
    "Interpretation cue: Upper-right = expensive either way (watch-list).\n",
    "Below the 45° line = abatement cheaper than paying."
   ]
  },
  {
   "cell_type": "code",
   "execution_count": null,
   "id": "f14d6c0c",
   "metadata": {},
   "outputs": [],
   "source": []
  },
  {
   "cell_type": "markdown",
   "id": "e67e947a",
   "metadata": {},
   "source": [
    "6. Regional context\n",
    "\n",
    "Metric Average carbon-price cost per tonne by region & scenario\n",
    "Visual Choropleth map or strip plot"
   ]
  },
  {
   "cell_type": "code",
   "execution_count": 36,
   "id": "890bd6b9",
   "metadata": {},
   "outputs": [
    {
     "data": {
      "text/html": [
       "<div>\n",
       "<style scoped>\n",
       "    .dataframe tbody tr th:only-of-type {\n",
       "        vertical-align: middle;\n",
       "    }\n",
       "\n",
       "    .dataframe tbody tr th {\n",
       "        vertical-align: top;\n",
       "    }\n",
       "\n",
       "    .dataframe thead th {\n",
       "        text-align: right;\n",
       "    }\n",
       "</style>\n",
       "<table border=\"1\" class=\"dataframe\">\n",
       "  <thead>\n",
       "    <tr style=\"text-align: right;\">\n",
       "      <th></th>\n",
       "      <th>uid</th>\n",
       "      <th>year</th>\n",
       "      <th>scenario</th>\n",
       "      <th>carbon_cost_usd</th>\n",
       "    </tr>\n",
       "  </thead>\n",
       "  <tbody>\n",
       "    <tr>\n",
       "      <th>0</th>\n",
       "      <td>C002</td>\n",
       "      <td>2025</td>\n",
       "      <td>Low Risk</td>\n",
       "      <td>7.288256e+08</td>\n",
       "    </tr>\n",
       "    <tr>\n",
       "      <th>1</th>\n",
       "      <td>C002</td>\n",
       "      <td>2025</td>\n",
       "      <td>Medium Risk</td>\n",
       "      <td>7.818776e+08</td>\n",
       "    </tr>\n",
       "    <tr>\n",
       "      <th>2</th>\n",
       "      <td>C002</td>\n",
       "      <td>2025</td>\n",
       "      <td>High Risk</td>\n",
       "      <td>7.851601e+08</td>\n",
       "    </tr>\n",
       "    <tr>\n",
       "      <th>3</th>\n",
       "      <td>C002</td>\n",
       "      <td>2026</td>\n",
       "      <td>Low Risk</td>\n",
       "      <td>7.525294e+08</td>\n",
       "    </tr>\n",
       "    <tr>\n",
       "      <th>4</th>\n",
       "      <td>C002</td>\n",
       "      <td>2026</td>\n",
       "      <td>Medium Risk</td>\n",
       "      <td>8.330080e+08</td>\n",
       "    </tr>\n",
       "  </tbody>\n",
       "</table>\n",
       "</div>"
      ],
      "text/plain": [
       "    uid  year     scenario  carbon_cost_usd\n",
       "0  C002  2025     Low Risk     7.288256e+08\n",
       "1  C002  2025  Medium Risk     7.818776e+08\n",
       "2  C002  2025    High Risk     7.851601e+08\n",
       "3  C002  2026     Low Risk     7.525294e+08\n",
       "4  C002  2026  Medium Risk     8.330080e+08"
      ]
     },
     "execution_count": 36,
     "metadata": {},
     "output_type": "execute_result"
    }
   ],
   "source": [
    "carbon_costs.head()"
   ]
  },
  {
   "cell_type": "code",
   "execution_count": null,
   "id": "73389131",
   "metadata": {},
   "outputs": [],
   "source": []
  },
  {
   "cell_type": "code",
   "execution_count": null,
   "id": "c383490a",
   "metadata": {},
   "outputs": [],
   "source": []
  },
  {
   "cell_type": "code",
   "execution_count": null,
   "id": "8d11cbdb",
   "metadata": {},
   "outputs": [
    {
     "data": {
      "application/vnd.plotly.v1+json": {
       "config": {
        "plotlyServerURL": "https://plot.ly"
       },
       "data": [
        {
         "line": {
          "color": "#8884d8"
         },
         "name": "Capital Expenditure",
         "type": "scatter",
         "x": {
          "bdata": "6QfqB+sH7AftB+4H7wfwB/EH8gfzB/QH9Qf2B/cH+Af5B/oH+wf8B/0H/gf/BwAIAQgCCA==",
          "dtype": "i2"
         },
         "y": {
          "bdata": "AAAAVg0+80EAAGA67gQjQgAAAIT8SB1CAABAU3Z3IEIAAODryj8gQgAAQDS85h9CAADA8GoRHkIAAED5lJ4gQgAAgMI5mx9CAACANQM8IEIAAED+EuAeQgAAICPkzCBCAAAAe0ByHUIAAEDnhgkhQgAAAMex2x5CAACAQ+1bIUIAAECE3BwfQgAAYLPyyiBCAACAV5AVHkIAAABVBb0gQgAAQD4Pyx9CAADAItPyIEIAAMCl2f8fQgAAQEdIfyBCAAAgBwMbIEIAAICSrzYhQg==",
          "dtype": "f8"
         }
        },
        {
         "line": {
          "color": "#82ca9d"
         },
         "name": "Operational Expenditure",
         "type": "scatter",
         "x": {
          "bdata": "6QfqB+sH7AftB+4H7wfwB/EH8gfzB/QH9Qf2B/cH+Af5B/oH+wf8B/0H/gf/BwAIAQgCCA==",
          "dtype": "i2"
         },
         "y": {
          "bdata": "KVyP/4cQnUHNzExXb1u9QQAAgBqAgb5B4XqUR1bkvEH2KJxmOdi9QbgeRW4IVL5BuB7FDyPUvUEpXE+sYza9Qa5HoV9Hs75B7FG4VOfFvUE+ClfhPRe+QZDCNWan271BSOH6WFOPvkFSuN7ve6i9QaRwveVAnr5BAABA8kqJvUHXo7CDNNK+QaRwfe3oO75BuR5FQyVGvkGkcH1frEm+Qa5HIS+v275BuB7FEz4UvkGQwjUlmgG/QRWuxyr7er5BcT0KpMWqvkHNzIzCY3++QQ==",
          "dtype": "f8"
         }
        }
       ],
       "layout": {
        "template": {
         "data": {
          "bar": [
           {
            "error_x": {
             "color": "#2a3f5f"
            },
            "error_y": {
             "color": "#2a3f5f"
            },
            "marker": {
             "line": {
              "color": "white",
              "width": 0.5
             },
             "pattern": {
              "fillmode": "overlay",
              "size": 10,
              "solidity": 0.2
             }
            },
            "type": "bar"
           }
          ],
          "barpolar": [
           {
            "marker": {
             "line": {
              "color": "white",
              "width": 0.5
             },
             "pattern": {
              "fillmode": "overlay",
              "size": 10,
              "solidity": 0.2
             }
            },
            "type": "barpolar"
           }
          ],
          "carpet": [
           {
            "aaxis": {
             "endlinecolor": "#2a3f5f",
             "gridcolor": "#C8D4E3",
             "linecolor": "#C8D4E3",
             "minorgridcolor": "#C8D4E3",
             "startlinecolor": "#2a3f5f"
            },
            "baxis": {
             "endlinecolor": "#2a3f5f",
             "gridcolor": "#C8D4E3",
             "linecolor": "#C8D4E3",
             "minorgridcolor": "#C8D4E3",
             "startlinecolor": "#2a3f5f"
            },
            "type": "carpet"
           }
          ],
          "choropleth": [
           {
            "colorbar": {
             "outlinewidth": 0,
             "ticks": ""
            },
            "type": "choropleth"
           }
          ],
          "contour": [
           {
            "colorbar": {
             "outlinewidth": 0,
             "ticks": ""
            },
            "colorscale": [
             [
              0,
              "#0d0887"
             ],
             [
              0.1111111111111111,
              "#46039f"
             ],
             [
              0.2222222222222222,
              "#7201a8"
             ],
             [
              0.3333333333333333,
              "#9c179e"
             ],
             [
              0.4444444444444444,
              "#bd3786"
             ],
             [
              0.5555555555555556,
              "#d8576b"
             ],
             [
              0.6666666666666666,
              "#ed7953"
             ],
             [
              0.7777777777777778,
              "#fb9f3a"
             ],
             [
              0.8888888888888888,
              "#fdca26"
             ],
             [
              1,
              "#f0f921"
             ]
            ],
            "type": "contour"
           }
          ],
          "contourcarpet": [
           {
            "colorbar": {
             "outlinewidth": 0,
             "ticks": ""
            },
            "type": "contourcarpet"
           }
          ],
          "heatmap": [
           {
            "colorbar": {
             "outlinewidth": 0,
             "ticks": ""
            },
            "colorscale": [
             [
              0,
              "#0d0887"
             ],
             [
              0.1111111111111111,
              "#46039f"
             ],
             [
              0.2222222222222222,
              "#7201a8"
             ],
             [
              0.3333333333333333,
              "#9c179e"
             ],
             [
              0.4444444444444444,
              "#bd3786"
             ],
             [
              0.5555555555555556,
              "#d8576b"
             ],
             [
              0.6666666666666666,
              "#ed7953"
             ],
             [
              0.7777777777777778,
              "#fb9f3a"
             ],
             [
              0.8888888888888888,
              "#fdca26"
             ],
             [
              1,
              "#f0f921"
             ]
            ],
            "type": "heatmap"
           }
          ],
          "histogram": [
           {
            "marker": {
             "pattern": {
              "fillmode": "overlay",
              "size": 10,
              "solidity": 0.2
             }
            },
            "type": "histogram"
           }
          ],
          "histogram2d": [
           {
            "colorbar": {
             "outlinewidth": 0,
             "ticks": ""
            },
            "colorscale": [
             [
              0,
              "#0d0887"
             ],
             [
              0.1111111111111111,
              "#46039f"
             ],
             [
              0.2222222222222222,
              "#7201a8"
             ],
             [
              0.3333333333333333,
              "#9c179e"
             ],
             [
              0.4444444444444444,
              "#bd3786"
             ],
             [
              0.5555555555555556,
              "#d8576b"
             ],
             [
              0.6666666666666666,
              "#ed7953"
             ],
             [
              0.7777777777777778,
              "#fb9f3a"
             ],
             [
              0.8888888888888888,
              "#fdca26"
             ],
             [
              1,
              "#f0f921"
             ]
            ],
            "type": "histogram2d"
           }
          ],
          "histogram2dcontour": [
           {
            "colorbar": {
             "outlinewidth": 0,
             "ticks": ""
            },
            "colorscale": [
             [
              0,
              "#0d0887"
             ],
             [
              0.1111111111111111,
              "#46039f"
             ],
             [
              0.2222222222222222,
              "#7201a8"
             ],
             [
              0.3333333333333333,
              "#9c179e"
             ],
             [
              0.4444444444444444,
              "#bd3786"
             ],
             [
              0.5555555555555556,
              "#d8576b"
             ],
             [
              0.6666666666666666,
              "#ed7953"
             ],
             [
              0.7777777777777778,
              "#fb9f3a"
             ],
             [
              0.8888888888888888,
              "#fdca26"
             ],
             [
              1,
              "#f0f921"
             ]
            ],
            "type": "histogram2dcontour"
           }
          ],
          "mesh3d": [
           {
            "colorbar": {
             "outlinewidth": 0,
             "ticks": ""
            },
            "type": "mesh3d"
           }
          ],
          "parcoords": [
           {
            "line": {
             "colorbar": {
              "outlinewidth": 0,
              "ticks": ""
             }
            },
            "type": "parcoords"
           }
          ],
          "pie": [
           {
            "automargin": true,
            "type": "pie"
           }
          ],
          "scatter": [
           {
            "fillpattern": {
             "fillmode": "overlay",
             "size": 10,
             "solidity": 0.2
            },
            "type": "scatter"
           }
          ],
          "scatter3d": [
           {
            "line": {
             "colorbar": {
              "outlinewidth": 0,
              "ticks": ""
             }
            },
            "marker": {
             "colorbar": {
              "outlinewidth": 0,
              "ticks": ""
             }
            },
            "type": "scatter3d"
           }
          ],
          "scattercarpet": [
           {
            "marker": {
             "colorbar": {
              "outlinewidth": 0,
              "ticks": ""
             }
            },
            "type": "scattercarpet"
           }
          ],
          "scattergeo": [
           {
            "marker": {
             "colorbar": {
              "outlinewidth": 0,
              "ticks": ""
             }
            },
            "type": "scattergeo"
           }
          ],
          "scattergl": [
           {
            "marker": {
             "colorbar": {
              "outlinewidth": 0,
              "ticks": ""
             }
            },
            "type": "scattergl"
           }
          ],
          "scattermap": [
           {
            "marker": {
             "colorbar": {
              "outlinewidth": 0,
              "ticks": ""
             }
            },
            "type": "scattermap"
           }
          ],
          "scattermapbox": [
           {
            "marker": {
             "colorbar": {
              "outlinewidth": 0,
              "ticks": ""
             }
            },
            "type": "scattermapbox"
           }
          ],
          "scatterpolar": [
           {
            "marker": {
             "colorbar": {
              "outlinewidth": 0,
              "ticks": ""
             }
            },
            "type": "scatterpolar"
           }
          ],
          "scatterpolargl": [
           {
            "marker": {
             "colorbar": {
              "outlinewidth": 0,
              "ticks": ""
             }
            },
            "type": "scatterpolargl"
           }
          ],
          "scatterternary": [
           {
            "marker": {
             "colorbar": {
              "outlinewidth": 0,
              "ticks": ""
             }
            },
            "type": "scatterternary"
           }
          ],
          "surface": [
           {
            "colorbar": {
             "outlinewidth": 0,
             "ticks": ""
            },
            "colorscale": [
             [
              0,
              "#0d0887"
             ],
             [
              0.1111111111111111,
              "#46039f"
             ],
             [
              0.2222222222222222,
              "#7201a8"
             ],
             [
              0.3333333333333333,
              "#9c179e"
             ],
             [
              0.4444444444444444,
              "#bd3786"
             ],
             [
              0.5555555555555556,
              "#d8576b"
             ],
             [
              0.6666666666666666,
              "#ed7953"
             ],
             [
              0.7777777777777778,
              "#fb9f3a"
             ],
             [
              0.8888888888888888,
              "#fdca26"
             ],
             [
              1,
              "#f0f921"
             ]
            ],
            "type": "surface"
           }
          ],
          "table": [
           {
            "cells": {
             "fill": {
              "color": "#EBF0F8"
             },
             "line": {
              "color": "white"
             }
            },
            "header": {
             "fill": {
              "color": "#C8D4E3"
             },
             "line": {
              "color": "white"
             }
            },
            "type": "table"
           }
          ]
         },
         "layout": {
          "annotationdefaults": {
           "arrowcolor": "#2a3f5f",
           "arrowhead": 0,
           "arrowwidth": 1
          },
          "autotypenumbers": "strict",
          "coloraxis": {
           "colorbar": {
            "outlinewidth": 0,
            "ticks": ""
           }
          },
          "colorscale": {
           "diverging": [
            [
             0,
             "#8e0152"
            ],
            [
             0.1,
             "#c51b7d"
            ],
            [
             0.2,
             "#de77ae"
            ],
            [
             0.3,
             "#f1b6da"
            ],
            [
             0.4,
             "#fde0ef"
            ],
            [
             0.5,
             "#f7f7f7"
            ],
            [
             0.6,
             "#e6f5d0"
            ],
            [
             0.7,
             "#b8e186"
            ],
            [
             0.8,
             "#7fbc41"
            ],
            [
             0.9,
             "#4d9221"
            ],
            [
             1,
             "#276419"
            ]
           ],
           "sequential": [
            [
             0,
             "#0d0887"
            ],
            [
             0.1111111111111111,
             "#46039f"
            ],
            [
             0.2222222222222222,
             "#7201a8"
            ],
            [
             0.3333333333333333,
             "#9c179e"
            ],
            [
             0.4444444444444444,
             "#bd3786"
            ],
            [
             0.5555555555555556,
             "#d8576b"
            ],
            [
             0.6666666666666666,
             "#ed7953"
            ],
            [
             0.7777777777777778,
             "#fb9f3a"
            ],
            [
             0.8888888888888888,
             "#fdca26"
            ],
            [
             1,
             "#f0f921"
            ]
           ],
           "sequentialminus": [
            [
             0,
             "#0d0887"
            ],
            [
             0.1111111111111111,
             "#46039f"
            ],
            [
             0.2222222222222222,
             "#7201a8"
            ],
            [
             0.3333333333333333,
             "#9c179e"
            ],
            [
             0.4444444444444444,
             "#bd3786"
            ],
            [
             0.5555555555555556,
             "#d8576b"
            ],
            [
             0.6666666666666666,
             "#ed7953"
            ],
            [
             0.7777777777777778,
             "#fb9f3a"
            ],
            [
             0.8888888888888888,
             "#fdca26"
            ],
            [
             1,
             "#f0f921"
            ]
           ]
          },
          "colorway": [
           "#636efa",
           "#EF553B",
           "#00cc96",
           "#ab63fa",
           "#FFA15A",
           "#19d3f3",
           "#FF6692",
           "#B6E880",
           "#FF97FF",
           "#FECB52"
          ],
          "font": {
           "color": "#2a3f5f"
          },
          "geo": {
           "bgcolor": "white",
           "lakecolor": "white",
           "landcolor": "white",
           "showlakes": true,
           "showland": true,
           "subunitcolor": "#C8D4E3"
          },
          "hoverlabel": {
           "align": "left"
          },
          "hovermode": "closest",
          "mapbox": {
           "style": "light"
          },
          "paper_bgcolor": "white",
          "plot_bgcolor": "white",
          "polar": {
           "angularaxis": {
            "gridcolor": "#EBF0F8",
            "linecolor": "#EBF0F8",
            "ticks": ""
           },
           "bgcolor": "white",
           "radialaxis": {
            "gridcolor": "#EBF0F8",
            "linecolor": "#EBF0F8",
            "ticks": ""
           }
          },
          "scene": {
           "xaxis": {
            "backgroundcolor": "white",
            "gridcolor": "#DFE8F3",
            "gridwidth": 2,
            "linecolor": "#EBF0F8",
            "showbackground": true,
            "ticks": "",
            "zerolinecolor": "#EBF0F8"
           },
           "yaxis": {
            "backgroundcolor": "white",
            "gridcolor": "#DFE8F3",
            "gridwidth": 2,
            "linecolor": "#EBF0F8",
            "showbackground": true,
            "ticks": "",
            "zerolinecolor": "#EBF0F8"
           },
           "zaxis": {
            "backgroundcolor": "white",
            "gridcolor": "#DFE8F3",
            "gridwidth": 2,
            "linecolor": "#EBF0F8",
            "showbackground": true,
            "ticks": "",
            "zerolinecolor": "#EBF0F8"
           }
          },
          "shapedefaults": {
           "line": {
            "color": "#2a3f5f"
           }
          },
          "ternary": {
           "aaxis": {
            "gridcolor": "#DFE8F3",
            "linecolor": "#A2B1C6",
            "ticks": ""
           },
           "baxis": {
            "gridcolor": "#DFE8F3",
            "linecolor": "#A2B1C6",
            "ticks": ""
           },
           "bgcolor": "white",
           "caxis": {
            "gridcolor": "#DFE8F3",
            "linecolor": "#A2B1C6",
            "ticks": ""
           }
          },
          "title": {
           "x": 0.05
          },
          "xaxis": {
           "automargin": true,
           "gridcolor": "#EBF0F8",
           "linecolor": "#EBF0F8",
           "ticks": "",
           "title": {
            "standoff": 15
           },
           "zerolinecolor": "#EBF0F8",
           "zerolinewidth": 2
          },
          "yaxis": {
           "automargin": true,
           "gridcolor": "#EBF0F8",
           "linecolor": "#EBF0F8",
           "ticks": "",
           "title": {
            "standoff": 15
           },
           "zerolinecolor": "#EBF0F8",
           "zerolinewidth": 2
          }
         }
        },
        "title": {
         "text": "Total Abatement Costs Over Time"
        },
        "xaxis": {
         "title": {
          "text": "Year"
         }
        },
        "yaxis": {
         "tickformat": ",.0s",
         "title": {
          "text": "Cost (USD)"
         }
        }
       }
      }
     },
     "metadata": {},
     "output_type": "display_data"
    },
    {
     "data": {
      "application/vnd.plotly.v1+json": {
       "config": {
        "plotlyServerURL": "https://plot.ly"
       },
       "data": [
        {
         "name": "2025",
         "type": "bar",
         "x": [
          "C001",
          "C002",
          "C003",
          "C004",
          "C005",
          "C006",
          "C008",
          "C009",
          "C010",
          "C011",
          "C012",
          "C013",
          "C014",
          "C015",
          "C016",
          "C017",
          "C018",
          "C019",
          "C020",
          "C021",
          "C022",
          "C023",
          "C024",
          "C025",
          "C027",
          "C028",
          "C029",
          "C030",
          "C031",
          "C032",
          "C033",
          "C034",
          "C035",
          "C036",
          "C037",
          "C038",
          "C039",
          "C040",
          "C041",
          "C042",
          "C043",
          "C044",
          "C045",
          "C046",
          "C047",
          "C048",
          "C049",
          "C050"
         ],
         "y": {
          "bdata": "AAAAAAAAAAAAAAAAAAAAAAAAAAAAAAAAAAAAAAAAAAAAAAAAAAAAAAAAAAAAAAAAAAAAAAAAAAAAAAAAAAAAAAAAAAAAAAAAAAAAAAAAAAAAAAAAAAAAAAAAAAAAAAAAAAAAAAAAAAAAAAAAAAAAAAAAAAAAAAAAAAAAAAAAAAAAAAAAAAAAAAAAAAAAAAAAAAAAAAAAAAAAAAAAAAAAAAAAAAAAAAAAAAAAAAAAAAAAAAAAAAAAAAAAAAAAAAAAAAAAAAAAAAAAAAAAAAAAAAAAAAAAAAAAAAAAAAAAAAAAAAAAAAAAAAAAAAAAAAAAAAAAAAAAAAAAAAAAAAAAAAAAAAAAAAAAAAAAAAAAAAAAAAAAAAAAAAAAAAAAAAAAAAAAAAAAAAAAAAAAAAAAAAAAAAAAAAAAAAAAAAAAAAAAAAAAAAAAAAAAAAAAAAAAAAAAAAAAAAAAAAAAAAAAAAAAAAAAAAAAAAAAAAAAAAAAAAAAAAAAAAAAAAAAAAAA",
          "dtype": "f8"
         }
        },
        {
         "name": "2026",
         "type": "bar",
         "x": [
          "C001",
          "C002",
          "C003",
          "C004",
          "C005",
          "C006",
          "C008",
          "C009",
          "C010",
          "C011",
          "C012",
          "C013",
          "C014",
          "C015",
          "C016",
          "C017",
          "C018",
          "C019",
          "C020",
          "C021",
          "C022",
          "C023",
          "C024",
          "C025",
          "C027",
          "C028",
          "C029",
          "C030",
          "C031",
          "C032",
          "C033",
          "C034",
          "C035",
          "C036",
          "C037",
          "C038",
          "C039",
          "C040",
          "C041",
          "C042",
          "C043",
          "C044",
          "C045",
          "C046",
          "C047",
          "C048",
          "C049",
          "C050"
         ],
         "y": {
          "bdata": "AAAAAADd1kAAAAAAAJDaQAAAAAD08BBBAAAAANB3/0AAAAAAAAAAAAAAAADwzwRBAAAAAADr7UAAAAAALMcRQQAAAAA4jAtBAAAAAKAgEkEAAAAAAOrHQAAAAAAAMwhBAAAAANh/EEEAAAAAsNH+QAAAAAAg3ftAAAAAAAByFkEAAAAAAAAAAAAAAABwrwpBAAAAAFCY/UAAAAAAYEniQAAAAADALvZAAAAAAMAoBEEAAAAAwIvjQAAAAACUhBJBAAAAAAAAAAAAAAAA0B0BQQAAAAAmVyJBAAAAAGD06UAAAAAAqN8KQQAAAACA2c9AAAAAAAB1G0EAAAAAAAAAAAAAAAAAAAAAAAAAAAAAAAAAAAAAQFvdQAAAAABwRAFBAAAAAAAAAAAAAAAACA0ZQQAAAAA4dQpBAAAAAAAy+UAAAAAADG4jQQAAAAAAAAAAAAAAAAAAAAAAAAAAwFgbQQAAAAAcwiFBAAAAAADb2kAAAAAAyOYHQQAAAABA/vdA",
          "dtype": "f8"
         }
        },
        {
         "name": "2027",
         "type": "bar",
         "x": [
          "C001",
          "C002",
          "C003",
          "C004",
          "C005",
          "C006",
          "C008",
          "C009",
          "C010",
          "C011",
          "C012",
          "C013",
          "C014",
          "C015",
          "C016",
          "C017",
          "C018",
          "C019",
          "C020",
          "C021",
          "C022",
          "C023",
          "C024",
          "C025",
          "C027",
          "C028",
          "C029",
          "C030",
          "C031",
          "C032",
          "C033",
          "C034",
          "C035",
          "C036",
          "C037",
          "C038",
          "C039",
          "C040",
          "C041",
          "C042",
          "C043",
          "C044",
          "C045",
          "C046",
          "C047",
          "C048",
          "C049",
          "C050"
         ],
         "y": {
          "bdata": "AAAAAMDc1kAAAAAAQLzbQAAAAAD08BBBAAAAANB3/0AAAAAAAAAAAAAAAAD4zwRBAAAAAADr7UAAAAAAMMcRQQAAAAAwjAtBAAAAAKAgEkEAAAAAgOnHQAAAAAAAMwhBAAAAANx/EEEAAAAAsNH+QAAAAAAg3ftAAAAAAAByFkEAAAAAAAAAAAAAAABorwpBAAAAAFCY/UAAAAAAYEniQAAAAADALvZAAAAAAMAoBEEAAAAA4IvjQAAAAACQhBJBAAAAAAAAAAAAAAAAyB0BQQAAAAAmVyJBAAAAAGD06UAAAAAAoN8KQQAAAACA2c9AAAAAAAB1G0EAAAAAAAAAAAAAAAAAAAAAAAAAAAAAAAAAAAAAQFvdQAAAAAB4RAFBAAAAAAAAAAAAAAAADA0ZQQAAAAAwdQpBAAAAAAAy+UAAAAAADG4jQQAAAAAAAAAAAAAAAAAAAAAAAAAAvFgbQQAAAAAgwiFBAAAAAADb2kAAAAAA+LgIQQAAAAAw/vdA",
          "dtype": "f8"
         }
        },
        {
         "name": "2028",
         "type": "bar",
         "x": [
          "C001",
          "C002",
          "C003",
          "C004",
          "C005",
          "C006",
          "C008",
          "C009",
          "C010",
          "C011",
          "C012",
          "C013",
          "C014",
          "C015",
          "C016",
          "C017",
          "C018",
          "C019",
          "C020",
          "C021",
          "C022",
          "C023",
          "C024",
          "C025",
          "C027",
          "C028",
          "C029",
          "C030",
          "C031",
          "C032",
          "C033",
          "C034",
          "C035",
          "C036",
          "C037",
          "C038",
          "C039",
          "C040",
          "C041",
          "C042",
          "C043",
          "C044",
          "C045",
          "C046",
          "C047",
          "C048",
          "C049",
          "C050"
         ],
         "y": {
          "bdata": "AAAAAADd1kAAAAAAwO3cQAAAAADw8BBBAAAAAMB3/0AAAAAAAAAAAAAAAADwzwRBAAAAAADr7UAAAAAAMMcRQQAAAAAwjAtBAAAAAKAgEkEAAAAAAOrHQAAAAAAAMwhBAAAAANh/EEEAAAAAwNH+QAAAAAAg3ftAAAAAAAByFkEAAAAAAAAAAAAAAABwrwpBAAAAAECY/UAAAAAAgEniQAAAAADALvZAAAAAAMAoBEEAAAAAwIvjQAAAAACYhBJBAAAAAAAAAAAAAAAA0B0BQQAAAAAoVyJBAAAAAID06UAAAAAAoN8KQQAAAAAA2s9AAAAAAAB1G0EAAAAAAAAAAAAAAAAAAAAAAAAAAAAAAAAAAAAAgFvdQAAAAABwRAFBAAAAAAAAAAAAAAAACA0ZQQAAAAAwdQpBAAAAAAAy+UAAAAAADG4jQQAAAAAAAAAAAAAAAAAAAAAAAAAAwFgbQQAAAAAcwiFBAAAAAADb2kAAAAAAuI4JQQAAAABA/vdA",
          "dtype": "f8"
         }
        },
        {
         "name": "2029",
         "type": "bar",
         "x": [
          "C001",
          "C002",
          "C003",
          "C004",
          "C005",
          "C006",
          "C008",
          "C009",
          "C010",
          "C011",
          "C012",
          "C013",
          "C014",
          "C015",
          "C016",
          "C017",
          "C018",
          "C019",
          "C020",
          "C021",
          "C022",
          "C023",
          "C024",
          "C025",
          "C027",
          "C028",
          "C029",
          "C030",
          "C031",
          "C032",
          "C033",
          "C034",
          "C035",
          "C036",
          "C037",
          "C038",
          "C039",
          "C040",
          "C041",
          "C042",
          "C043",
          "C044",
          "C045",
          "C046",
          "C047",
          "C048",
          "C049",
          "C050"
         ],
         "y": {
          "bdata": "AAAAAMDc1kAAAAAAwCTeQAAAAAD08BBBAAAAANB3/0AAAAAAAAAAAAAAAAD4zwRBAAAAAADr7UAAAAAAMMcRQQAAAAAwjAtBAAAAAKAgEkEAAAAAgOnHQAAAAAAAMwhBAAAAANx/EEEAAAAAsNH+QAAAAAAg3ftAAAAAAAByFkEAAAAAAAAAAAAAAABorwpBAAAAAFCY/UAAAAAAYEniQAAAAADALvZAAAAAAMAoBEEAAAAA4IvjQAAAAACQhBJBAAAAAAAAAAAAAAAAyB0BQQAAAAAmVyJBAAAAAGD06UAAAAAAoN8KQQAAAACA2c9AAAAAAAB1G0EAAAAAAAAAAAAAAAAAAAAAAAAAAAAAAAAAAAAAQFvdQAAAAAB4RAFBAAAAAAAAAAAAAAAADA0ZQQAAAAAwdQpBAAAAAAAy+UAAAAAADG4jQQAAAAAAAAAAAAAAAAAAAAAAAAAAvFgbQQAAAAAgwiFBAAAAAADb2kAAAAAAMGgKQQAAAAAw/vdA",
          "dtype": "f8"
         }
        },
        {
         "name": "2030",
         "type": "bar",
         "x": [
          "C001",
          "C002",
          "C003",
          "C004",
          "C005",
          "C006",
          "C008",
          "C009",
          "C010",
          "C011",
          "C012",
          "C013",
          "C014",
          "C015",
          "C016",
          "C017",
          "C018",
          "C019",
          "C020",
          "C021",
          "C022",
          "C023",
          "C024",
          "C025",
          "C027",
          "C028",
          "C029",
          "C030",
          "C031",
          "C032",
          "C033",
          "C034",
          "C035",
          "C036",
          "C037",
          "C038",
          "C039",
          "C040",
          "C041",
          "C042",
          "C043",
          "C044",
          "C045",
          "C046",
          "C047",
          "C048",
          "C049",
          "C050"
         ],
         "y": {
          "bdata": "AAAAAADd1kAAAAAAAGHfQAAAAAD08BBBAAAAANB3/0AAAAAAAAAAAAAAAADwzwRBAAAAAADr7UAAAAAALMcRQQAAAAA4jAtBAAAAAKAgEkEAAAAAAOrHQAAAAAAAMwhBAAAAANh/EEEAAAAAsNH+QAAAAAAg3ftAAAAAAAByFkEAAAAAAAAAAAAAAABwrwpBAAAAAFCY/UAAAAAAYEniQAAAAADALvZAAAAAAMAoBEEAAAAAwIvjQAAAAACUhBJBAAAAAAAAAAAAAAAA0B0BQQAAAAAmVyJBAAAAAGD06UAAAAAAqN8KQQAAAACA2c9AAAAAAAB1G0EAAAAAAAAAAAAAAAAAAAAAAAAAAAAAAAAAAAAAQFvdQAAAAABwRAFBAAAAAAAAAAAAAAAACA0ZQQAAAAA4dQpBAAAAAAAy+UAAAAAADG4jQQAAAAAAAAAAAAAAAAAAAAAAAAAAwFgbQQAAAAAcwiFBAAAAAADb2kAAAAAASEULQQAAAABA/vdA",
          "dtype": "f8"
         }
        },
        {
         "name": "2031",
         "type": "bar",
         "x": [
          "C001",
          "C002",
          "C003",
          "C004",
          "C005",
          "C006",
          "C008",
          "C009",
          "C010",
          "C011",
          "C012",
          "C013",
          "C014",
          "C015",
          "C016",
          "C017",
          "C018",
          "C019",
          "C020",
          "C021",
          "C022",
          "C023",
          "C024",
          "C025",
          "C027",
          "C028",
          "C029",
          "C030",
          "C031",
          "C032",
          "C033",
          "C034",
          "C035",
          "C036",
          "C037",
          "C038",
          "C039",
          "C040",
          "C041",
          "C042",
          "C043",
          "C044",
          "C045",
          "C046",
          "C047",
          "C048",
          "C049",
          "C050"
         ],
         "y": {
          "bdata": "AAAAAADd1kAAAAAAoFHgQAAAAAD08BBBAAAAANB3/0AAAAAAAAAAAAAAAADwzwRBAAAAAADr7UAAAAAALMcRQQAAAAA4jAtBAAAAAKAgEkEAAAAAAOrHQAAAAAAAMwhBAAAAANh/EEEAAAAAsNH+QAAAAAAg3ftAAAAAAAByFkEAAAAAAAAAAAAAAABwrwpBAAAAAFCY/UAAAAAAYEniQAAAAADALvZAAAAAAMAoBEEAAAAAwIvjQAAAAACUhBJBAAAAAAAAAAAAAAAA0B0BQQAAAAAmVyJBAAAAAGD06UAAAAAAqN8KQQAAAACA2c9AAAAAAAB1G0EAAAAAAAAAAAAAAAAAAAAAAAAAAAAAAAAAAAAAQFvdQAAAAABwRAFBAAAAAAAAAAAAAAAACA0ZQQAAAAA4dQpBAAAAAAAy+UAAAAAADG4jQQAAAAAAAAAAAAAAAAAAAAAAAAAAwFgbQQAAAAAcwiFBAAAAAADb2kAAAAAAICYMQQAAAABA/vdA",
          "dtype": "f8"
         }
        },
        {
         "name": "2032",
         "type": "bar",
         "x": [
          "C001",
          "C002",
          "C003",
          "C004",
          "C005",
          "C006",
          "C008",
          "C009",
          "C010",
          "C011",
          "C012",
          "C013",
          "C014",
          "C015",
          "C016",
          "C017",
          "C018",
          "C019",
          "C020",
          "C021",
          "C022",
          "C023",
          "C024",
          "C025",
          "C027",
          "C028",
          "C029",
          "C030",
          "C031",
          "C032",
          "C033",
          "C034",
          "C035",
          "C036",
          "C037",
          "C038",
          "C039",
          "C040",
          "C041",
          "C042",
          "C043",
          "C044",
          "C045",
          "C046",
          "C047",
          "C048",
          "C049",
          "C050"
         ],
         "y": {
          "bdata": "AAAAAMDc1kAAAAAAgPXgQAAAAAD08BBBAAAAANB3/0AAAAAAAAAAAAAAAAD4zwRBAAAAAADr7UAAAAAAMMcRQQAAAAAwjAtBAAAAAKAgEkEAAAAAgOnHQAAAAAAAMwhBAAAAANx/EEEAAAAAsNH+QAAAAAAg3ftAAAAAAAByFkEAAAAAAAAAAAAAAABorwpBAAAAAFCY/UAAAAAAYEniQAAAAADALvZAAAAAAMAoBEEAAAAA4IvjQAAAAACQhBJBAAAAAAAAAAAAAAAAyB0BQQAAAAAmVyJBAAAAAGD06UAAAAAAoN8KQQAAAACA2c9AAAAAAAB1G0EAAAAAAAAAAAAAAAAAAAAAAAAAAAAAAAAAAAAAQFvdQAAAAAB4RAFBAAAAAAAAAAAAAAAADA0ZQQAAAAAwdQpBAAAAAAAy+UAAAAAADG4jQQAAAAAAAAAAAAAAAAAAAAAAAAAAvFgbQQAAAAAgwiFBAAAAAADb2kAAAAAA0AoNQQAAAAAw/vdA",
          "dtype": "f8"
         }
        },
        {
         "name": "2033",
         "type": "bar",
         "x": [
          "C001",
          "C002",
          "C003",
          "C004",
          "C005",
          "C006",
          "C008",
          "C009",
          "C010",
          "C011",
          "C012",
          "C013",
          "C014",
          "C015",
          "C016",
          "C017",
          "C018",
          "C019",
          "C020",
          "C021",
          "C022",
          "C023",
          "C024",
          "C025",
          "C027",
          "C028",
          "C029",
          "C030",
          "C031",
          "C032",
          "C033",
          "C034",
          "C035",
          "C036",
          "C037",
          "C038",
          "C039",
          "C040",
          "C041",
          "C042",
          "C043",
          "C044",
          "C045",
          "C046",
          "C047",
          "C048",
          "C049",
          "C050"
         ],
         "y": {
          "bdata": "AAAAAADd1kAAAAAAIJzhQAAAAADw8BBBAAAAAMB3/0AAAAAAAAAAAAAAAADwzwRBAAAAAADr7UAAAAAAMMcRQQAAAAAwjAtBAAAAAKAgEkEAAAAAAOrHQAAAAAAAMwhBAAAAANh/EEEAAAAAwNH+QAAAAAAg3ftAAAAAAAByFkEAAAAAAAAAAAAAAABwrwpBAAAAAECY/UAAAAAAgEniQAAAAADALvZAAAAAAMAoBEEAAAAAwIvjQAAAAACYhBJBAAAAAAAAAAAAAAAA0B0BQQAAAAAoVyJBAAAAAID06UAAAAAAoN8KQQAAAAAA2s9AAAAAAAB1G0EAAAAAAAAAAAAAAAAAAAAAAAAAAAAAAAAAAAAAgFvdQAAAAABwRAFBAAAAAAAAAAAAAAAACA0ZQQAAAAAwdQpBAAAAAAAy+UAAAAAADG4jQQAAAAAAAAAAAAAAAAAAAAAAAAAAwFgbQQAAAAAcwiFBAAAAAADb2kAAAAAAWPMNQQAAAABA/vdA",
          "dtype": "f8"
         }
        },
        {
         "name": "2034",
         "type": "bar",
         "x": [
          "C001",
          "C002",
          "C003",
          "C004",
          "C005",
          "C006",
          "C008",
          "C009",
          "C010",
          "C011",
          "C012",
          "C013",
          "C014",
          "C015",
          "C016",
          "C017",
          "C018",
          "C019",
          "C020",
          "C021",
          "C022",
          "C023",
          "C024",
          "C025",
          "C027",
          "C028",
          "C029",
          "C030",
          "C031",
          "C032",
          "C033",
          "C034",
          "C035",
          "C036",
          "C037",
          "C038",
          "C039",
          "C040",
          "C041",
          "C042",
          "C043",
          "C044",
          "C045",
          "C046",
          "C047",
          "C048",
          "C049",
          "C050"
         ],
         "y": {
          "bdata": "AAAAAMDc1kAAAAAAoEXiQAAAAAD08BBBAAAAANB3/0AAAAAAAAAAAAAAAAD4zwRBAAAAAADr7UAAAAAAMMcRQQAAAAAwjAtBAAAAAKAgEkEAAAAAgOnHQAAAAAAAMwhBAAAAANx/EEEAAAAAsNH+QAAAAAAg3ftAAAAAAAByFkEAAAAAAAAAAAAAAABorwpBAAAAAFCY/UAAAAAAYEniQAAAAADALvZAAAAAAMAoBEEAAAAA4IvjQAAAAACQhBJBAAAAAAAAAAAAAAAAyB0BQQAAAAAmVyJBAAAAAGD06UAAAAAAoN8KQQAAAACA2c9AAAAAAAB1G0EAAAAAAAAAAAAAAAAAAAAAAAAAAAAAAAAAAAAAQFvdQAAAAAB4RAFBAAAAAAAAAAAAAAAADA0ZQQAAAAAwdQpBAAAAAAAy+UAAAAAADG4jQQAAAAAAAAAAAAAAAAAAAAAAAAAAvFgbQQAAAAAgwiFBAAAAAADb2kAAAAAAuN8OQQAAAAAw/vdA",
          "dtype": "f8"
         }
        },
        {
         "name": "2035",
         "type": "bar",
         "x": [
          "C001",
          "C002",
          "C003",
          "C004",
          "C005",
          "C006",
          "C008",
          "C009",
          "C010",
          "C011",
          "C012",
          "C013",
          "C014",
          "C015",
          "C016",
          "C017",
          "C018",
          "C019",
          "C020",
          "C021",
          "C022",
          "C023",
          "C024",
          "C025",
          "C027",
          "C028",
          "C029",
          "C030",
          "C031",
          "C032",
          "C033",
          "C034",
          "C035",
          "C036",
          "C037",
          "C038",
          "C039",
          "C040",
          "C041",
          "C042",
          "C043",
          "C044",
          "C045",
          "C046",
          "C047",
          "C048",
          "C049",
          "C050"
         ],
         "y": {
          "bdata": "AAAAAADd1kAAAAAAQPLiQAAAAAD08BBBAAAAANB3/0AAAAAAAAAAAAAAAADwzwRBAAAAAADr7UAAAAAALMcRQQAAAAA4jAtBAAAAAKAgEkEAAAAAAOrHQAAAAAAAMwhBAAAAANh/EEEAAAAAsNH+QAAAAAAg3ftAAAAAAAByFkEAAAAAAAAAAAAAAABwrwpBAAAAAFCY/UAAAAAAYEniQAAAAADALvZAAAAAAMAoBEEAAAAAwIvjQAAAAACUhBJBAAAAAAAAAAAAAAAA0B0BQQAAAAAmVyJBAAAAAGD06UAAAAAAqN8KQQAAAACA2c9AAAAAAAB1G0EAAAAAAAAAAAAAAAAAAAAAAAAAAAAAAAAAAAAAQFvdQAAAAABwRAFBAAAAAAAAAAAAAAAACA0ZQQAAAAA4dQpBAAAAAAAy+UAAAAAADG4jQQAAAAAAAAAAAAAAAAAAAAAAAAAAwFgbQQAAAAAcwiFBAAAAAADb2kAAAAAAINAPQQAAAABA/vdA",
          "dtype": "f8"
         }
        },
        {
         "name": "2036",
         "type": "bar",
         "x": [
          "C001",
          "C002",
          "C003",
          "C004",
          "C005",
          "C006",
          "C008",
          "C009",
          "C010",
          "C011",
          "C012",
          "C013",
          "C014",
          "C015",
          "C016",
          "C017",
          "C018",
          "C019",
          "C020",
          "C021",
          "C022",
          "C023",
          "C024",
          "C025",
          "C027",
          "C028",
          "C029",
          "C030",
          "C031",
          "C032",
          "C033",
          "C034",
          "C035",
          "C036",
          "C037",
          "C038",
          "C039",
          "C040",
          "C041",
          "C042",
          "C043",
          "C044",
          "C045",
          "C046",
          "C047",
          "C048",
          "C049",
          "C050"
         ],
         "y": {
          "bdata": "AAAAAADd1kAAAAAAwKHjQAAAAAD08BBBAAAAANB3/0AAAAAAAAAAAAAAAADwzwRBAAAAAADr7UAAAAAALMcRQQAAAAA4jAtBAAAAAKAgEkEAAAAAAOrHQAAAAAAAMwhBAAAAANh/EEEAAAAAsNH+QAAAAAAg3ftAAAAAAAByFkEAAAAAAAAAAAAAAABwrwpBAAAAAFCY/UAAAAAAYEniQAAAAADALvZAAAAAAMAoBEEAAAAAwIvjQAAAAACUhBJBAAAAAAAAAAAAAAAA0B0BQQAAAAAmVyJBAAAAAGD06UAAAAAAqN8KQQAAAACA2c9AAAAAAAB1G0EAAAAAAAAAAAAAAAAAAAAAAAAAAAAAAAAAAAAAQFvdQAAAAABwRAFBAAAAAAAAAAAAAAAACA0ZQQAAAAA4dQpBAAAAAAAy+UAAAAAADG4jQQAAAAAAAAAAAAAAAAAAAAAAAAAAwFgbQQAAAAAcwiFBAAAAAADb2kAAAAAARGIQQQAAAABA/vdA",
          "dtype": "f8"
         }
        },
        {
         "name": "2037",
         "type": "bar",
         "x": [
          "C001",
          "C002",
          "C003",
          "C004",
          "C005",
          "C006",
          "C008",
          "C009",
          "C010",
          "C011",
          "C012",
          "C013",
          "C014",
          "C015",
          "C016",
          "C017",
          "C018",
          "C019",
          "C020",
          "C021",
          "C022",
          "C023",
          "C024",
          "C025",
          "C027",
          "C028",
          "C029",
          "C030",
          "C031",
          "C032",
          "C033",
          "C034",
          "C035",
          "C036",
          "C037",
          "C038",
          "C039",
          "C040",
          "C041",
          "C042",
          "C043",
          "C044",
          "C045",
          "C046",
          "C047",
          "C048",
          "C049",
          "C050"
         ],
         "y": {
          "bdata": "AAAAAMDc1kAAAAAAQFTkQAAAAAD08BBBAAAAANB3/0AAAAAAAAAAAAAAAAD4zwRBAAAAAADr7UAAAAAAMMcRQQAAAAAwjAtBAAAAAKAgEkEAAAAAgOnHQAAAAAAAMwhBAAAAANx/EEEAAAAAsNH+QAAAAAAg3ftAAAAAAAByFkEAAAAAAAAAAAAAAABorwpBAAAAAFCY/UAAAAAAYEniQAAAAADALvZAAAAAAMAoBEEAAAAA4IvjQAAAAACQhBJBAAAAAAAAAAAAAAAAyB0BQQAAAAAmVyJBAAAAAGD06UAAAAAAoN8KQQAAAACA2c9AAAAAAAB1G0EAAAAAAAAAAAAAAAAAAAAAAAAAAAAAAAAAAAAAQFvdQAAAAAB4RAFBAAAAAAAAAAAAAAAADA0ZQQAAAAAwdQpBAAAAAAAy+UAAAAAADG4jQQAAAAAAAAAAAAAAAAAAAAAAAAAAvFgbQQAAAAAgwiFBAAAAAADb2kAAAAAAgN4QQQAAAAAw/vdA",
          "dtype": "f8"
         }
        },
        {
         "name": "2038",
         "type": "bar",
         "x": [
          "C001",
          "C002",
          "C003",
          "C004",
          "C005",
          "C006",
          "C008",
          "C009",
          "C010",
          "C011",
          "C012",
          "C013",
          "C014",
          "C015",
          "C016",
          "C017",
          "C018",
          "C019",
          "C020",
          "C021",
          "C022",
          "C023",
          "C024",
          "C025",
          "C027",
          "C028",
          "C029",
          "C030",
          "C031",
          "C032",
          "C033",
          "C034",
          "C035",
          "C036",
          "C037",
          "C038",
          "C039",
          "C040",
          "C041",
          "C042",
          "C043",
          "C044",
          "C045",
          "C046",
          "C047",
          "C048",
          "C049",
          "C050"
         ],
         "y": {
          "bdata": "AAAAAADd1kAAAAAA4AnlQAAAAADw8BBBAAAAAMB3/0AAAAAAAAAAAAAAAADwzwRBAAAAAADr7UAAAAAAMMcRQQAAAAAwjAtBAAAAAKAgEkEAAAAAAOrHQAAAAAAAMwhBAAAAANh/EEEAAAAAwNH+QAAAAAAg3ftAAAAAAAByFkEAAAAAAAAAAAAAAABwrwpBAAAAAECY/UAAAAAAgEniQAAAAADALvZAAAAAAMAoBEEAAAAAwIvjQAAAAACYhBJBAAAAAAAAAAAAAAAA0B0BQQAAAAAoVyJBAAAAAID06UAAAAAAoN8KQQAAAAAA2s9AAAAAAAB1G0EAAAAAAAAAAAAAAAAAAAAAAAAAAAAAAAAAAAAAgFvdQAAAAABwRAFBAAAAAAAAAAAAAAAACA0ZQQAAAAAwdQpBAAAAAAAy+UAAAAAADG4jQQAAAAAAAAAAAAAAAAAAAAAAAAAAwFgbQQAAAAAcwiFBAAAAAADb2kAAAAAA0FwRQQAAAABA/vdA",
          "dtype": "f8"
         }
        },
        {
         "name": "2039",
         "type": "bar",
         "x": [
          "C001",
          "C002",
          "C003",
          "C004",
          "C005",
          "C006",
          "C008",
          "C009",
          "C010",
          "C011",
          "C012",
          "C013",
          "C014",
          "C015",
          "C016",
          "C017",
          "C018",
          "C019",
          "C020",
          "C021",
          "C022",
          "C023",
          "C024",
          "C025",
          "C027",
          "C028",
          "C029",
          "C030",
          "C031",
          "C032",
          "C033",
          "C034",
          "C035",
          "C036",
          "C037",
          "C038",
          "C039",
          "C040",
          "C041",
          "C042",
          "C043",
          "C044",
          "C045",
          "C046",
          "C047",
          "C048",
          "C049",
          "C050"
         ],
         "y": {
          "bdata": "AAAAAMDc1kAAAAAAgMLlQAAAAAD08BBBAAAAANB3/0AAAAAAAAAAAAAAAAD4zwRBAAAAAADr7UAAAAAAMMcRQQAAAAAwjAtBAAAAAKAgEkEAAAAAgOnHQAAAAAAAMwhBAAAAANx/EEEAAAAAsNH+QAAAAAAg3ftAAAAAAAByFkEAAAAAAAAAAAAAAABorwpBAAAAAFCY/UAAAAAAYEniQAAAAADALvZAAAAAAMAoBEEAAAAA4IvjQAAAAACQhBJBAAAAAAAAAAAAAAAAyB0BQQAAAAAmVyJBAAAAAGD06UAAAAAAoN8KQQAAAACA2c9AAAAAAAB1G0EAAAAAAAAAAAAAAAAAAAAAAAAAAABokkAAAAAAQFvdQAAAAAB4RAFBAAAAAAAAAAAAAAAADA0ZQQAAAAAwdQpBAAAAAAAy+UAAAAAADG4jQQAAAAAAAAAAAAAAAAAAAAAAAAAAvFgbQQAAAAAgwiFBAAAAAADb2kAAAAAANN0RQQAAAAAw/vdA",
          "dtype": "f8"
         }
        },
        {
         "name": "2040",
         "type": "bar",
         "x": [
          "C001",
          "C002",
          "C003",
          "C004",
          "C005",
          "C006",
          "C008",
          "C009",
          "C010",
          "C011",
          "C012",
          "C013",
          "C014",
          "C015",
          "C016",
          "C017",
          "C018",
          "C019",
          "C020",
          "C021",
          "C022",
          "C023",
          "C024",
          "C025",
          "C027",
          "C028",
          "C029",
          "C030",
          "C031",
          "C032",
          "C033",
          "C034",
          "C035",
          "C036",
          "C037",
          "C038",
          "C039",
          "C040",
          "C041",
          "C042",
          "C043",
          "C044",
          "C045",
          "C046",
          "C047",
          "C048",
          "C049",
          "C050"
         ],
         "y": {
          "bdata": "AAAAAADd1kAAAAAAgH7mQAAAAAD08BBBAAAAANB3/0AAAAAAAAAAAAAAAADwzwRBAAAAAADr7UAAAAAALMcRQQAAAAA4jAtBAAAAAKAgEkEAAAAAAOrHQAAAAAAAMwhBAAAAANh/EEEAAAAAsNH+QAAAAAAg3ftAAAAAAAByFkEAAAAAAAAAAAAAAABwrwpBAAAAAFCY/UAAAAAAYEniQAAAAADALvZAAAAAAMAoBEEAAAAAwIvjQAAAAACUhBJBAAAAAAAAAAAAAAAA0B0BQQAAAAAmVyJBAAAAAGD06UAAAAAAqN8KQQAAAACA2c9AAAAAAAB1G0EAAAAAAAAAAAAAAAAAAAAAAAAAAABqsUAAAAAAQFvdQAAAAABwRAFBAAAAAAAAAAAAAAAACA0ZQQAAAAA4dQpBAAAAAAAy+UAAAAAADG4jQQAAAAAAAAAAAAAAAAAAAAAAAAAAwFgbQQAAAAAcwiFBAAAAAADb2kAAAAAAuF8SQQAAAABA/vdA",
          "dtype": "f8"
         }
        },
        {
         "name": "2041",
         "type": "bar",
         "x": [
          "C001",
          "C002",
          "C003",
          "C004",
          "C005",
          "C006",
          "C008",
          "C009",
          "C010",
          "C011",
          "C012",
          "C013",
          "C014",
          "C015",
          "C016",
          "C017",
          "C018",
          "C019",
          "C020",
          "C021",
          "C022",
          "C023",
          "C024",
          "C025",
          "C027",
          "C028",
          "C029",
          "C030",
          "C031",
          "C032",
          "C033",
          "C034",
          "C035",
          "C036",
          "C037",
          "C038",
          "C039",
          "C040",
          "C041",
          "C042",
          "C043",
          "C044",
          "C045",
          "C046",
          "C047",
          "C048",
          "C049",
          "C050"
         ],
         "y": {
          "bdata": "AAAAAADd1kAAAAAAgD3nQAAAAAD08BBBAAAAANB3/0AAAAAAAAAAAAAAAADwzwRBAAAAAADr7UAAAAAALMcRQQAAAAA4jAtBAAAAAKAgEkEAAAAAAOrHQAAAAAAAMwhBAAAAANh/EEEAAAAAsNH+QAAAAAAg3ftAAAAAAAByFkEAAAAAAAAAAAAAAABwrwpBAAAAAFCY/UAAAAAAYEniQAAAAADALvZAAAAAAMAoBEEAAAAAwIvjQAAAAACUhBJBAAAAAAAAAAAAAAAA0B0BQQAAAAAmVyJBAAAAAGD06UAAAAAAqN8KQQAAAACA2c9AAAAAAAB1G0EAAAAAAAAAAAAAAAAAAAAAAAAAAAB8vkAAAAAAQFvdQAAAAABwRAFBAAAAAAAAAAAAAAAACA0ZQQAAAAA4dQpBAAAAAAAy+UAAAAAADG4jQQAAAAAAAAAAAAAAAAAAAAAAAAAAwFgbQQAAAAAcwiFBAAAAAADb2kAAAAAAZOQSQQAAAABA/vdA",
          "dtype": "f8"
         }
        },
        {
         "name": "2042",
         "type": "bar",
         "x": [
          "C001",
          "C002",
          "C003",
          "C004",
          "C005",
          "C006",
          "C008",
          "C009",
          "C010",
          "C011",
          "C012",
          "C013",
          "C014",
          "C015",
          "C016",
          "C017",
          "C018",
          "C019",
          "C020",
          "C021",
          "C022",
          "C023",
          "C024",
          "C025",
          "C027",
          "C028",
          "C029",
          "C030",
          "C031",
          "C032",
          "C033",
          "C034",
          "C035",
          "C036",
          "C037",
          "C038",
          "C039",
          "C040",
          "C041",
          "C042",
          "C043",
          "C044",
          "C045",
          "C046",
          "C047",
          "C048",
          "C049",
          "C050"
         ],
         "y": {
          "bdata": "AAAAAMDc1kAAAAAAwP/nQAAAAAD08BBBAAAAANB3/0AAAAAAAAAAAAAAAAD4zwRBAAAAAADr7UAAAAAAMMcRQQAAAAAwjAtBAAAAAKAgEkEAAAAAgOnHQAAAAAAAMwhBAAAAANx/EEEAAAAAsNH+QAAAAAAg3ftAAAAAAAByFkEAAAAAAAAAAAAAAABorwpBAAAAAFCY/UAAAAAAYEniQAAAAADALvZAAAAAAMAoBEEAAAAA4IvjQAAAAACQhBJBAAAAAAAAAAAAAAAAyB0BQQAAAAAmVyJBAAAAAGD06UAAAAAAoN8KQQAAAACA2c9AAAAAAAB1G0EAAAAAAAAAAAAAAAAAAAAAAAAAAADpxUAAAAAAQFvdQAAAAAB4RAFBAAAAAAAAAAAAAAAADA0ZQQAAAAAwdQpBAAAAAAAy+UAAAAAADG4jQQAAAAAAAAAAAAAAAAAAAAAAAAAAvFgbQQAAAAAgwiFBAAAAAADb2kAAAAAAQGsTQQAAAAAw/vdA",
          "dtype": "f8"
         }
        },
        {
         "name": "2043",
         "type": "bar",
         "x": [
          "C001",
          "C002",
          "C003",
          "C004",
          "C005",
          "C006",
          "C008",
          "C009",
          "C010",
          "C011",
          "C012",
          "C013",
          "C014",
          "C015",
          "C016",
          "C017",
          "C018",
          "C019",
          "C020",
          "C021",
          "C022",
          "C023",
          "C024",
          "C025",
          "C027",
          "C028",
          "C029",
          "C030",
          "C031",
          "C032",
          "C033",
          "C034",
          "C035",
          "C036",
          "C037",
          "C038",
          "C039",
          "C040",
          "C041",
          "C042",
          "C043",
          "C044",
          "C045",
          "C046",
          "C047",
          "C048",
          "C049",
          "C050"
         ],
         "y": {
          "bdata": "AAAAAADd1kAAAAAAgMXoQAAAAADw8BBBAAAAAMB3/0AAAAAAAAAAAAAAAADwzwRBAAAAAADr7UAAAAAAMMcRQQAAAAAwjAtBAAAAAKAgEkEAAAAAAOrHQAAAAAAAMwhBAAAAANh/EEEAAAAAwNH+QAAAAAAg3ftAAAAAAAByFkEAAAAAAAAAAAAAAABwrwpBAAAAAECY/UAAAAAAgEniQAAAAADALvZAAAAAAMAoBEEAAAAAwIvjQAAAAACYhBJBAAAAAAAAAAAAAAAA0B0BQQAAAAAoVyJBAAAAAID06UAAAAAAoN8KQQAAAAAA2s9AAAAAAAB1G0EAAAAAAAAAAAAAAAAAAAAAAAAAAIC1zEAAAAAAgFvdQAAAAABwRAFBAAAAAAAAAAAAAAAACA0ZQQAAAAAwdQpBAAAAAAAy+UAAAAAADG4jQQAAAAAAAAAAAAAAAAAAAAAAAAAAwFgbQQAAAAAcwiFBAAAAAADb2kAAAAAAUPQTQQAAAABA/vdA",
          "dtype": "f8"
         }
        },
        {
         "name": "2044",
         "type": "bar",
         "x": [
          "C001",
          "C002",
          "C003",
          "C004",
          "C005",
          "C006",
          "C008",
          "C009",
          "C010",
          "C011",
          "C012",
          "C013",
          "C014",
          "C015",
          "C016",
          "C017",
          "C018",
          "C019",
          "C020",
          "C021",
          "C022",
          "C023",
          "C024",
          "C025",
          "C027",
          "C028",
          "C029",
          "C030",
          "C031",
          "C032",
          "C033",
          "C034",
          "C035",
          "C036",
          "C037",
          "C038",
          "C039",
          "C040",
          "C041",
          "C042",
          "C043",
          "C044",
          "C045",
          "C046",
          "C047",
          "C048",
          "C049",
          "C050"
         ],
         "y": {
          "bdata": "AAAAAMDc1kAAAAAAYI7pQAAAAAD08BBBAAAAANB3/0AAAAAAAAAAAAAAAAD4zwRBAAAAAADr7UAAAAAAMMcRQQAAAAAwjAtBAAAAAKAgEkEAAAAAgOnHQAAAAAAAMwhBAAAAANx/EEEAAAAAsNH+QAAAAAAg3ftAAAAAAAByFkEAAAAAAAAAAAAAAABorwpBAAAAAFCY/UAAAAAAYEniQAAAAADALvZAAAAAAMAoBEEAAAAA4IvjQAAAAACQhBJBAAAAAAAAAAAAAAAAyB0BQQAAAAAmVyJBAAAAAGD06UAAAAAAoN8KQQAAAACA2c9AAAAAAAB1G0EAAAAAAAAAAAAAAAAAAAAAAAAAAMDR0UAAAAAAQFvdQAAAAAB4RAFBAAAAAAAAAAAAAAAADA0ZQQAAAAAwdQpBAAAAAAAy+UAAAAAADG4jQQAAAAAAAAAAAAAAAAAAAAAAAAAAvFgbQQAAAAAgwiFBAAAAAADb2kAAAAAApH8UQQAAAAAw/vdA",
          "dtype": "f8"
         }
        },
        {
         "name": "2045",
         "type": "bar",
         "x": [
          "C001",
          "C002",
          "C003",
          "C004",
          "C005",
          "C006",
          "C008",
          "C009",
          "C010",
          "C011",
          "C012",
          "C013",
          "C014",
          "C015",
          "C016",
          "C017",
          "C018",
          "C019",
          "C020",
          "C021",
          "C022",
          "C023",
          "C024",
          "C025",
          "C027",
          "C028",
          "C029",
          "C030",
          "C031",
          "C032",
          "C033",
          "C034",
          "C035",
          "C036",
          "C037",
          "C038",
          "C039",
          "C040",
          "C041",
          "C042",
          "C043",
          "C044",
          "C045",
          "C046",
          "C047",
          "C048",
          "C049",
          "C050"
         ],
         "y": {
          "bdata": "AAAAAADd1kAAAAAAoFrqQAAAAAD08BBBAAAAANB3/0AAAAAAAAAAAAAAAADwzwRBAAAAAADr7UAAAAAALMcRQQAAAAA4jAtBAAAAAKAgEkEAAAAAAOrHQAAAAAAAMwhBAAAAANh/EEEAAAAAsNH+QAAAAAAg3ftAAAAAAAByFkEAAAAAAAAAAAAAAABwrwpBAAAAAFCY/UAAAAAAYEniQAAAAADALvZAAAAAAMAoBEEAAAAAwIvjQAAAAACUhBJBAAAAAAAAAAAAAAAA0B0BQQAAAAAmVyJBAAAAAGD06UAAAAAAqN8KQQAAAACA2c9AAAAAAAB1G0EAAAAAAHiIQAAAAAAAAAAAAAAAAIBa1UAAAAAAQFvdQAAAAABwRAFBAAAAAAAAAAAAAAAACA0ZQQAAAAA4dQpBAAAAAAAy+UAAAAAADG4jQQAAAAAAAAAAAAAAAAAAAAAAAAAAwFgbQQAAAAAcwiFBAAAAAADb2kAAAAAAOA0VQQAAAABA/vdA",
          "dtype": "f8"
         }
        },
        {
         "name": "2046",
         "type": "bar",
         "x": [
          "C001",
          "C002",
          "C003",
          "C004",
          "C005",
          "C006",
          "C008",
          "C009",
          "C010",
          "C011",
          "C012",
          "C013",
          "C014",
          "C015",
          "C016",
          "C017",
          "C018",
          "C019",
          "C020",
          "C021",
          "C022",
          "C023",
          "C024",
          "C025",
          "C027",
          "C028",
          "C029",
          "C030",
          "C031",
          "C032",
          "C033",
          "C034",
          "C035",
          "C036",
          "C037",
          "C038",
          "C039",
          "C040",
          "C041",
          "C042",
          "C043",
          "C044",
          "C045",
          "C046",
          "C047",
          "C048",
          "C049",
          "C050"
         ],
         "y": {
          "bdata": "AAAAAADd1kAAAAAAgCrrQAAAAAD08BBBAAAAANB3/0AAAAAAAAAAAAAAAADwzwRBAAAAAADr7UAAAAAALMcRQQAAAAA4jAtBAAAAAKAgEkEAAAAAAOrHQAAAAAAAMwhBAAAAANh/EEEAAAAAsNH+QAAAAAAg3ftAAAAAAAByFkEAAAAAAAAAAAAAAABwrwpBAAAAAFCY/UAAAAAAYEniQAAAAADALvZAAAAAAMAoBEEAAAAAwIvjQAAAAACUhBJBAAAAAAAAAAAAAAAA0B0BQQAAAAAmVyJBAAAAAGD06UAAAAAAqN8KQQAAAACA2c9AAAAAAAB1G0EAAAAAAFSZQAAAAAAAAAAAAAAAAID02EAAAAAAQFvdQAAAAABwRAFBAAAAAAAAAAAAAAAACA0ZQQAAAAA4dQpBAAAAAAAy+UAAAAAADG4jQQAAAAAAAAAAAAAAAAAAAAAAAAAAwFgbQQAAAAAcwiFBAAAAAADb2kAAAAAAIJ0VQQAAAABA/vdA",
          "dtype": "f8"
         }
        },
        {
         "name": "2047",
         "type": "bar",
         "x": [
          "C001",
          "C002",
          "C003",
          "C004",
          "C005",
          "C006",
          "C008",
          "C009",
          "C010",
          "C011",
          "C012",
          "C013",
          "C014",
          "C015",
          "C016",
          "C017",
          "C018",
          "C019",
          "C020",
          "C021",
          "C022",
          "C023",
          "C024",
          "C025",
          "C027",
          "C028",
          "C029",
          "C030",
          "C031",
          "C032",
          "C033",
          "C034",
          "C035",
          "C036",
          "C037",
          "C038",
          "C039",
          "C040",
          "C041",
          "C042",
          "C043",
          "C044",
          "C045",
          "C046",
          "C047",
          "C048",
          "C049",
          "C050"
         ],
         "y": {
          "bdata": "AAAAAMDc1kAAAAAAoP3rQAAAAAD08BBBAAAAANB3/0AAAAAAAAAAAAAAAAD4zwRBAAAAAADr7UAAAAAAMMcRQQAAAAAwjAtBAAAAAKAgEkEAAAAAgOnHQAAAAAAAMwhBAAAAANx/EEEAAAAAsNH+QAAAAAAg3ftAAAAAAAByFkEAAAAAAAAAAAAAAABorwpBAAAAAFCY/UAAAAAAYEniQAAAAADALvZAAAAAAMAoBEEAAAAA4IvjQAAAAACQhBJBAAAAAAAAAAAAAAAAyB0BQQAAAAAmVyJBAAAAAGD06UAAAAAAoN8KQQAAAACA2c9AAAAAAAB1G0EAAAAAAFijQAAAAAAAAAAAAAAAAACh3EAAAAAAQFvdQAAAAAB4RAFBAAAAAAAAAAAAAAAADA0ZQQAAAAAwdQpBAAAAAAAy+UAAAAAADG4jQQAAAAAAAAAAAAAAAAAAAAAAAAAAvFgbQQAAAAAgwiFBAAAAAADb2kAAAAAAXC8WQQAAAAAw/vdA",
          "dtype": "f8"
         }
        },
        {
         "name": "2048",
         "type": "bar",
         "x": [
          "C001",
          "C002",
          "C003",
          "C004",
          "C005",
          "C006",
          "C008",
          "C009",
          "C010",
          "C011",
          "C012",
          "C013",
          "C014",
          "C015",
          "C016",
          "C017",
          "C018",
          "C019",
          "C020",
          "C021",
          "C022",
          "C023",
          "C024",
          "C025",
          "C027",
          "C028",
          "C029",
          "C030",
          "C031",
          "C032",
          "C033",
          "C034",
          "C035",
          "C036",
          "C037",
          "C038",
          "C039",
          "C040",
          "C041",
          "C042",
          "C043",
          "C044",
          "C045",
          "C046",
          "C047",
          "C048",
          "C049",
          "C050"
         ],
         "y": {
          "bdata": "AAAAAADd1kAAAAAAgNTsQAAAAADw8BBBAAAAAMB3/0AAAAAAAAAAAAAAAADwzwRBAAAAAADr7UAAAAAAMMcRQQAAAAAwjAtBAAAAAKAgEkEAAAAAAOrHQAAAAAAAMwhBAAAAANh/EEEAAAAAwNH+QAAAAAAg3ftAAAAAAAByFkEAAAAAAAAAAAAAAABwrwpBAAAAAECY/UAAAAAAgEniQAAAAADALvZAAAAAAMAoBEEAAAAAwIvjQAAAAACYhBJBAAAAAAAAAAAAAAAA0B0BQQAAAAAoVyJBAAAAAID06UAAAAAAoN8KQQAAAAAA2s9AAAAAAAB1G0EAAAAAACaqQAAAAAAAAAAAAAAAAKAv4EAAAAAAgFvdQAAAAABwRAFBAAAAAAAAAAAAAAAACA0ZQQAAAAAwdQpBAAAAAAAy+UAAAAAADG4jQQAAAAAAAAAAAAAAAAAAAAAAAAAAwFgbQQAAAAAcwiFBAAAAAADb2kAAAAAA9MMWQQAAAABA/vdA",
          "dtype": "f8"
         }
        },
        {
         "name": "2049",
         "type": "bar",
         "x": [
          "C001",
          "C002",
          "C003",
          "C004",
          "C005",
          "C006",
          "C008",
          "C009",
          "C010",
          "C011",
          "C012",
          "C013",
          "C014",
          "C015",
          "C016",
          "C017",
          "C018",
          "C019",
          "C020",
          "C021",
          "C022",
          "C023",
          "C024",
          "C025",
          "C027",
          "C028",
          "C029",
          "C030",
          "C031",
          "C032",
          "C033",
          "C034",
          "C035",
          "C036",
          "C037",
          "C038",
          "C039",
          "C040",
          "C041",
          "C042",
          "C043",
          "C044",
          "C045",
          "C046",
          "C047",
          "C048",
          "C049",
          "C050"
         ],
         "y": {
          "bdata": "AAAAAMDc1kAAAAAAwK7tQAAAAAD08BBBAAAAANB3/0AAAAAAAAAAAAAAAAD4zwRBAAAAAADr7UAAAAAAMMcRQQAAAAAwjAtBAAAAAKAgEkEAAAAAgOnHQAAAAAAAMwhBAAAAANx/EEEAAAAAsNH+QAAAAAAg3ftAAAAAAAByFkEAAAAAAAAAAAAAAABorwpBAAAAAFCY/UAAAAAAYEniQAAAAADALvZAAAAAAMAoBEEAAAAA4IvjQAAAAACQhBJBAAAAAAAAAAAAAAAAyB0BQQAAAAAmVyJBAAAAAGD06UAAAAAAoN8KQQAAAACA2c9AAAAAAAB1G0EAAAAAAIywQAAAAAAAAAAAAAAAAOAX4kAAAAAAQFvdQAAAAAB4RAFBAAAAAAAAAAAAAAAADA0ZQQAAAAAwdQpBAAAAAAAy+UAAAAAADG4jQQAAAAAAAAAAAAAAAAAAAAAAAAAAvFgbQQAAAAAgwiFBAAAAAADb2kAAAAAA+FoXQQAAAAAw/vdA",
          "dtype": "f8"
         }
        },
        {
         "name": "2050",
         "type": "bar",
         "x": [
          "C001",
          "C002",
          "C003",
          "C004",
          "C005",
          "C006",
          "C008",
          "C009",
          "C010",
          "C011",
          "C012",
          "C013",
          "C014",
          "C015",
          "C016",
          "C017",
          "C018",
          "C019",
          "C020",
          "C021",
          "C022",
          "C023",
          "C024",
          "C025",
          "C027",
          "C028",
          "C029",
          "C030",
          "C031",
          "C032",
          "C033",
          "C034",
          "C035",
          "C036",
          "C037",
          "C038",
          "C039",
          "C040",
          "C041",
          "C042",
          "C043",
          "C044",
          "C045",
          "C046",
          "C047",
          "C048",
          "C049",
          "C050"
         ],
         "y": {
          "bdata": "AAAAAADd1kAAAAAAwIzuQAAAAAD08BBBAAAAANB3/0AAAAAAAAAAAAAAAADwzwRBAAAAAADr7UAAAAAALMcRQQAAAAA4jAtBAAAAAKAgEkEAAAAAAOrHQAAAAAAAMwhBAAAAANh/EEEAAAAAsNH+QAAAAAAg3ftAAAAAAAByFkEAAAAAAAAAAAAAAABwrwpBAAAAAFCY/UAAAAAAYEniQAAAAADALvZAAAAAAMAoBEEAAAAAwIvjQAAAAACUhBJBAAAAAAAAAAAAAAAA0B0BQQAAAAAmVyJBAAAAAGD06UAAAAAAqN8KQQAAAACA2c9AAAAAAAB1G0EAAAAAABe0QAAAAAAAAAAAAAAAAMAJ5EAAAAAAQFvdQAAAAABwRAFBAAAAAAAAAAAAAAAACA0ZQQAAAAA4dQpBAAAAAAAy+UAAAAAADG4jQQAAAAAAAAAAAAAAAAAAAAAAAAAAwFgbQQAAAAAcwiFBAAAAAADb2kAAAAAAbPQXQQAAAABA/vdA",
          "dtype": "f8"
         }
        }
       ],
       "layout": {
        "barmode": "stack",
        "template": {
         "data": {
          "bar": [
           {
            "error_x": {
             "color": "#2a3f5f"
            },
            "error_y": {
             "color": "#2a3f5f"
            },
            "marker": {
             "line": {
              "color": "white",
              "width": 0.5
             },
             "pattern": {
              "fillmode": "overlay",
              "size": 10,
              "solidity": 0.2
             }
            },
            "type": "bar"
           }
          ],
          "barpolar": [
           {
            "marker": {
             "line": {
              "color": "white",
              "width": 0.5
             },
             "pattern": {
              "fillmode": "overlay",
              "size": 10,
              "solidity": 0.2
             }
            },
            "type": "barpolar"
           }
          ],
          "carpet": [
           {
            "aaxis": {
             "endlinecolor": "#2a3f5f",
             "gridcolor": "#C8D4E3",
             "linecolor": "#C8D4E3",
             "minorgridcolor": "#C8D4E3",
             "startlinecolor": "#2a3f5f"
            },
            "baxis": {
             "endlinecolor": "#2a3f5f",
             "gridcolor": "#C8D4E3",
             "linecolor": "#C8D4E3",
             "minorgridcolor": "#C8D4E3",
             "startlinecolor": "#2a3f5f"
            },
            "type": "carpet"
           }
          ],
          "choropleth": [
           {
            "colorbar": {
             "outlinewidth": 0,
             "ticks": ""
            },
            "type": "choropleth"
           }
          ],
          "contour": [
           {
            "colorbar": {
             "outlinewidth": 0,
             "ticks": ""
            },
            "colorscale": [
             [
              0,
              "#0d0887"
             ],
             [
              0.1111111111111111,
              "#46039f"
             ],
             [
              0.2222222222222222,
              "#7201a8"
             ],
             [
              0.3333333333333333,
              "#9c179e"
             ],
             [
              0.4444444444444444,
              "#bd3786"
             ],
             [
              0.5555555555555556,
              "#d8576b"
             ],
             [
              0.6666666666666666,
              "#ed7953"
             ],
             [
              0.7777777777777778,
              "#fb9f3a"
             ],
             [
              0.8888888888888888,
              "#fdca26"
             ],
             [
              1,
              "#f0f921"
             ]
            ],
            "type": "contour"
           }
          ],
          "contourcarpet": [
           {
            "colorbar": {
             "outlinewidth": 0,
             "ticks": ""
            },
            "type": "contourcarpet"
           }
          ],
          "heatmap": [
           {
            "colorbar": {
             "outlinewidth": 0,
             "ticks": ""
            },
            "colorscale": [
             [
              0,
              "#0d0887"
             ],
             [
              0.1111111111111111,
              "#46039f"
             ],
             [
              0.2222222222222222,
              "#7201a8"
             ],
             [
              0.3333333333333333,
              "#9c179e"
             ],
             [
              0.4444444444444444,
              "#bd3786"
             ],
             [
              0.5555555555555556,
              "#d8576b"
             ],
             [
              0.6666666666666666,
              "#ed7953"
             ],
             [
              0.7777777777777778,
              "#fb9f3a"
             ],
             [
              0.8888888888888888,
              "#fdca26"
             ],
             [
              1,
              "#f0f921"
             ]
            ],
            "type": "heatmap"
           }
          ],
          "histogram": [
           {
            "marker": {
             "pattern": {
              "fillmode": "overlay",
              "size": 10,
              "solidity": 0.2
             }
            },
            "type": "histogram"
           }
          ],
          "histogram2d": [
           {
            "colorbar": {
             "outlinewidth": 0,
             "ticks": ""
            },
            "colorscale": [
             [
              0,
              "#0d0887"
             ],
             [
              0.1111111111111111,
              "#46039f"
             ],
             [
              0.2222222222222222,
              "#7201a8"
             ],
             [
              0.3333333333333333,
              "#9c179e"
             ],
             [
              0.4444444444444444,
              "#bd3786"
             ],
             [
              0.5555555555555556,
              "#d8576b"
             ],
             [
              0.6666666666666666,
              "#ed7953"
             ],
             [
              0.7777777777777778,
              "#fb9f3a"
             ],
             [
              0.8888888888888888,
              "#fdca26"
             ],
             [
              1,
              "#f0f921"
             ]
            ],
            "type": "histogram2d"
           }
          ],
          "histogram2dcontour": [
           {
            "colorbar": {
             "outlinewidth": 0,
             "ticks": ""
            },
            "colorscale": [
             [
              0,
              "#0d0887"
             ],
             [
              0.1111111111111111,
              "#46039f"
             ],
             [
              0.2222222222222222,
              "#7201a8"
             ],
             [
              0.3333333333333333,
              "#9c179e"
             ],
             [
              0.4444444444444444,
              "#bd3786"
             ],
             [
              0.5555555555555556,
              "#d8576b"
             ],
             [
              0.6666666666666666,
              "#ed7953"
             ],
             [
              0.7777777777777778,
              "#fb9f3a"
             ],
             [
              0.8888888888888888,
              "#fdca26"
             ],
             [
              1,
              "#f0f921"
             ]
            ],
            "type": "histogram2dcontour"
           }
          ],
          "mesh3d": [
           {
            "colorbar": {
             "outlinewidth": 0,
             "ticks": ""
            },
            "type": "mesh3d"
           }
          ],
          "parcoords": [
           {
            "line": {
             "colorbar": {
              "outlinewidth": 0,
              "ticks": ""
             }
            },
            "type": "parcoords"
           }
          ],
          "pie": [
           {
            "automargin": true,
            "type": "pie"
           }
          ],
          "scatter": [
           {
            "fillpattern": {
             "fillmode": "overlay",
             "size": 10,
             "solidity": 0.2
            },
            "type": "scatter"
           }
          ],
          "scatter3d": [
           {
            "line": {
             "colorbar": {
              "outlinewidth": 0,
              "ticks": ""
             }
            },
            "marker": {
             "colorbar": {
              "outlinewidth": 0,
              "ticks": ""
             }
            },
            "type": "scatter3d"
           }
          ],
          "scattercarpet": [
           {
            "marker": {
             "colorbar": {
              "outlinewidth": 0,
              "ticks": ""
             }
            },
            "type": "scattercarpet"
           }
          ],
          "scattergeo": [
           {
            "marker": {
             "colorbar": {
              "outlinewidth": 0,
              "ticks": ""
             }
            },
            "type": "scattergeo"
           }
          ],
          "scattergl": [
           {
            "marker": {
             "colorbar": {
              "outlinewidth": 0,
              "ticks": ""
             }
            },
            "type": "scattergl"
           }
          ],
          "scattermap": [
           {
            "marker": {
             "colorbar": {
              "outlinewidth": 0,
              "ticks": ""
             }
            },
            "type": "scattermap"
           }
          ],
          "scattermapbox": [
           {
            "marker": {
             "colorbar": {
              "outlinewidth": 0,
              "ticks": ""
             }
            },
            "type": "scattermapbox"
           }
          ],
          "scatterpolar": [
           {
            "marker": {
             "colorbar": {
              "outlinewidth": 0,
              "ticks": ""
             }
            },
            "type": "scatterpolar"
           }
          ],
          "scatterpolargl": [
           {
            "marker": {
             "colorbar": {
              "outlinewidth": 0,
              "ticks": ""
             }
            },
            "type": "scatterpolargl"
           }
          ],
          "scatterternary": [
           {
            "marker": {
             "colorbar": {
              "outlinewidth": 0,
              "ticks": ""
             }
            },
            "type": "scatterternary"
           }
          ],
          "surface": [
           {
            "colorbar": {
             "outlinewidth": 0,
             "ticks": ""
            },
            "colorscale": [
             [
              0,
              "#0d0887"
             ],
             [
              0.1111111111111111,
              "#46039f"
             ],
             [
              0.2222222222222222,
              "#7201a8"
             ],
             [
              0.3333333333333333,
              "#9c179e"
             ],
             [
              0.4444444444444444,
              "#bd3786"
             ],
             [
              0.5555555555555556,
              "#d8576b"
             ],
             [
              0.6666666666666666,
              "#ed7953"
             ],
             [
              0.7777777777777778,
              "#fb9f3a"
             ],
             [
              0.8888888888888888,
              "#fdca26"
             ],
             [
              1,
              "#f0f921"
             ]
            ],
            "type": "surface"
           }
          ],
          "table": [
           {
            "cells": {
             "fill": {
              "color": "#EBF0F8"
             },
             "line": {
              "color": "white"
             }
            },
            "header": {
             "fill": {
              "color": "#C8D4E3"
             },
             "line": {
              "color": "white"
             }
            },
            "type": "table"
           }
          ]
         },
         "layout": {
          "annotationdefaults": {
           "arrowcolor": "#2a3f5f",
           "arrowhead": 0,
           "arrowwidth": 1
          },
          "autotypenumbers": "strict",
          "coloraxis": {
           "colorbar": {
            "outlinewidth": 0,
            "ticks": ""
           }
          },
          "colorscale": {
           "diverging": [
            [
             0,
             "#8e0152"
            ],
            [
             0.1,
             "#c51b7d"
            ],
            [
             0.2,
             "#de77ae"
            ],
            [
             0.3,
             "#f1b6da"
            ],
            [
             0.4,
             "#fde0ef"
            ],
            [
             0.5,
             "#f7f7f7"
            ],
            [
             0.6,
             "#e6f5d0"
            ],
            [
             0.7,
             "#b8e186"
            ],
            [
             0.8,
             "#7fbc41"
            ],
            [
             0.9,
             "#4d9221"
            ],
            [
             1,
             "#276419"
            ]
           ],
           "sequential": [
            [
             0,
             "#0d0887"
            ],
            [
             0.1111111111111111,
             "#46039f"
            ],
            [
             0.2222222222222222,
             "#7201a8"
            ],
            [
             0.3333333333333333,
             "#9c179e"
            ],
            [
             0.4444444444444444,
             "#bd3786"
            ],
            [
             0.5555555555555556,
             "#d8576b"
            ],
            [
             0.6666666666666666,
             "#ed7953"
            ],
            [
             0.7777777777777778,
             "#fb9f3a"
            ],
            [
             0.8888888888888888,
             "#fdca26"
            ],
            [
             1,
             "#f0f921"
            ]
           ],
           "sequentialminus": [
            [
             0,
             "#0d0887"
            ],
            [
             0.1111111111111111,
             "#46039f"
            ],
            [
             0.2222222222222222,
             "#7201a8"
            ],
            [
             0.3333333333333333,
             "#9c179e"
            ],
            [
             0.4444444444444444,
             "#bd3786"
            ],
            [
             0.5555555555555556,
             "#d8576b"
            ],
            [
             0.6666666666666666,
             "#ed7953"
            ],
            [
             0.7777777777777778,
             "#fb9f3a"
            ],
            [
             0.8888888888888888,
             "#fdca26"
            ],
            [
             1,
             "#f0f921"
            ]
           ]
          },
          "colorway": [
           "#636efa",
           "#EF553B",
           "#00cc96",
           "#ab63fa",
           "#FFA15A",
           "#19d3f3",
           "#FF6692",
           "#B6E880",
           "#FF97FF",
           "#FECB52"
          ],
          "font": {
           "color": "#2a3f5f"
          },
          "geo": {
           "bgcolor": "white",
           "lakecolor": "white",
           "landcolor": "white",
           "showlakes": true,
           "showland": true,
           "subunitcolor": "#C8D4E3"
          },
          "hoverlabel": {
           "align": "left"
          },
          "hovermode": "closest",
          "mapbox": {
           "style": "light"
          },
          "paper_bgcolor": "white",
          "plot_bgcolor": "white",
          "polar": {
           "angularaxis": {
            "gridcolor": "#EBF0F8",
            "linecolor": "#EBF0F8",
            "ticks": ""
           },
           "bgcolor": "white",
           "radialaxis": {
            "gridcolor": "#EBF0F8",
            "linecolor": "#EBF0F8",
            "ticks": ""
           }
          },
          "scene": {
           "xaxis": {
            "backgroundcolor": "white",
            "gridcolor": "#DFE8F3",
            "gridwidth": 2,
            "linecolor": "#EBF0F8",
            "showbackground": true,
            "ticks": "",
            "zerolinecolor": "#EBF0F8"
           },
           "yaxis": {
            "backgroundcolor": "white",
            "gridcolor": "#DFE8F3",
            "gridwidth": 2,
            "linecolor": "#EBF0F8",
            "showbackground": true,
            "ticks": "",
            "zerolinecolor": "#EBF0F8"
           },
           "zaxis": {
            "backgroundcolor": "white",
            "gridcolor": "#DFE8F3",
            "gridwidth": 2,
            "linecolor": "#EBF0F8",
            "showbackground": true,
            "ticks": "",
            "zerolinecolor": "#EBF0F8"
           }
          },
          "shapedefaults": {
           "line": {
            "color": "#2a3f5f"
           }
          },
          "ternary": {
           "aaxis": {
            "gridcolor": "#DFE8F3",
            "linecolor": "#A2B1C6",
            "ticks": ""
           },
           "baxis": {
            "gridcolor": "#DFE8F3",
            "linecolor": "#A2B1C6",
            "ticks": ""
           },
           "bgcolor": "white",
           "caxis": {
            "gridcolor": "#DFE8F3",
            "linecolor": "#A2B1C6",
            "ticks": ""
           }
          },
          "title": {
           "x": 0.05
          },
          "xaxis": {
           "automargin": true,
           "gridcolor": "#EBF0F8",
           "linecolor": "#EBF0F8",
           "ticks": "",
           "title": {
            "standoff": 15
           },
           "zerolinecolor": "#EBF0F8",
           "zerolinewidth": 2
          },
          "yaxis": {
           "automargin": true,
           "gridcolor": "#EBF0F8",
           "linecolor": "#EBF0F8",
           "ticks": "",
           "title": {
            "standoff": 15
           },
           "zerolinecolor": "#EBF0F8",
           "zerolinewidth": 2
          }
         }
        },
        "title": {
         "text": "Annual Abatement Tonnes by Company"
        },
        "xaxis": {
         "tickangle": -45,
         "title": {
          "text": "Company"
         }
        },
        "yaxis": {
         "tickformat": ",.0s",
         "title": {
          "text": "Abatement Tonnes"
         }
        }
       }
      }
     },
     "metadata": {},
     "output_type": "display_data"
    },
    {
     "data": {
      "application/vnd.plotly.v1+json": {
       "config": {
        "plotlyServerURL": "https://plot.ly"
       },
       "data": [
        {
         "mode": "lines",
         "name": "Carbon Capture and Storage",
         "type": "scatter",
         "x": {
          "bdata": "6QfqB+sH7AftB+4H7wfwB/EH8gfzB/QH9Qf2B/cH+Af5B/oH+wf8B/0H/gf/BwAIAQgCCA==",
          "dtype": "i2"
         },
         "y": {
          "bdata": "Aw8KDQwNCg8LDQsPCg8JDwsOCg8LDgsNCxA=",
          "dtype": "i1"
         }
        },
        {
         "mode": "lines",
         "name": "EV Fleet Transition",
         "type": "scatter",
         "x": {
          "bdata": "6QfqB+sH7AftB+4H7wfwB/EH8gfzB/QH9Qf2B/cH+Af5B/oH+wf8B/0H/gf/BwAIAQgCCA==",
          "dtype": "i2"
         },
         "y": {
          "bdata": "AgUFBQUFBQUFBQUFBQUFBQUFBQUFBQUFBQU=",
          "dtype": "i1"
         }
        },
        {
         "mode": "lines",
         "name": "Electrification of Equipment",
         "type": "scatter",
         "x": {
          "bdata": "6QfqB+sH7AftB+4H7wfwB/EH8gfzB/QH9Qf2B/cH+Af5B/oH+wf8B/0H/gf/BwAIAQgCCA==",
          "dtype": "i2"
         },
         "y": {
          "bdata": "AhENDxAPDRAODg4QDBEPEA4ODhAPEA8QDhA=",
          "dtype": "i1"
         }
        },
        {
         "mode": "lines",
         "name": "Energy Efficiency Upgrades",
         "type": "scatter",
         "x": {
          "bdata": "6QfqB+sH7AftB+4H7wfwB/EH8gfzB/QH9Qf2B/cH+Af5B/oH+wf8B/0H/gf/BwAIAQgCCA==",
          "dtype": "i2"
         },
         "y": {
          "bdata": "AhYSFBMSExQRFBMTERMUExMTFRMSFBMTExU=",
          "dtype": "i1"
         }
        },
        {
         "mode": "lines",
         "name": "Grid-scale Battery Storage",
         "type": "scatter",
         "x": {
          "bdata": "6QfqB+sH7AftB+4H7wfwB/EH8gfzB/QH9Qf2B/cH+Af5B/oH+wf8B/0H/gf/BwAIAQgCCA==",
          "dtype": "i2"
         },
         "y": {
          "bdata": "AgYDBgMEBQQEBAQEBQMFBAQFAwUEBAQFBAM=",
          "dtype": "i1"
         }
        },
        {
         "mode": "lines",
         "name": "Heat Pumps",
         "type": "scatter",
         "x": {
          "bdata": "6QfqB+sH7AftB+4H7wfwB/EH8gfzB/QH9Qf2B/cH+Af5B/oH+wf8B/0H/gf/BwAIAQgCCA==",
          "dtype": "i2"
         },
         "y": {
          "bdata": "AhYRExQTExUSFBITEhUUFBQUFBITFBQTFRQ=",
          "dtype": "i1"
         }
        },
        {
         "mode": "lines",
         "name": "Hydrogen Fuel",
         "type": "scatter",
         "x": {
          "bdata": "6QfqB+sH7AftB+4H7wfwB/EH8gfzB/QH9Qf2B/cH+Af5B/oH+wf8B/0H/gf/BwAIAQgCCA==",
          "dtype": "i2"
         },
         "y": {
          "bdata": "AgcHBwcHBwcHBwcHBwcHBwcHBwcHBwcHBwc=",
          "dtype": "i1"
         }
        },
        {
         "mode": "lines",
         "name": "Process Electrification",
         "type": "scatter",
         "x": {
          "bdata": "6QfqB+sH7AftB+4H7wfwB/EH8gfzB/QH9Qf2B/cH+Af5B/oH+wf8B/0H/gf/BwAIAQgCCA==",
          "dtype": "i2"
         },
         "y": {
          "bdata": "AhINEA8OCw4PDg4PCxAMEQ4ODg4ODw4PDhA=",
          "dtype": "i1"
         }
        },
        {
         "mode": "lines",
         "name": "Smart Grid Tech",
         "type": "scatter",
         "x": {
          "bdata": "6QfqB+sH7AftB+4H7wfwB/EH8gfzB/QH9Qf2B/cH+Af5B/oH+wf8B/0H/gf/BwAIAQgCCA==",
          "dtype": "i2"
         },
         "y": {
          "bdata": "AhAKDg0NCw8LDA0OCw4NDQwODA4MDg0OCw8=",
          "dtype": "i1"
         }
        },
        {
         "mode": "lines",
         "name": "Utility-scale Solar",
         "type": "scatter",
         "x": {
          "bdata": "6QfqB+sH7AftB+4H7wfwB/EH8gfzB/QH9Qf2B/cH+Af5B/oH+wf8B/0H/gf/BwAIAQgCCA==",
          "dtype": "i2"
         },
         "y": {
          "bdata": "AAEBAQEBAQEBAQEBAQEBAQEBAQECAQEBAQE=",
          "dtype": "i1"
         }
        },
        {
         "mode": "lines",
         "name": "Wind Power",
         "type": "scatter",
         "x": {
          "bdata": "6QfqB+sH7AftB+4H7wfwB/EH8gfzB/QH9Qf2B/cH+Af5B/oH+wf8B/0H/gf/BwAIAQgCCA==",
          "dtype": "i2"
         },
         "y": {
          "bdata": "Ax4YGBkZGRkZGhgZGBoaGhgaGBkZGhoZGhk=",
          "dtype": "i1"
         }
        }
       ],
       "layout": {
        "template": {
         "data": {
          "bar": [
           {
            "error_x": {
             "color": "#2a3f5f"
            },
            "error_y": {
             "color": "#2a3f5f"
            },
            "marker": {
             "line": {
              "color": "white",
              "width": 0.5
             },
             "pattern": {
              "fillmode": "overlay",
              "size": 10,
              "solidity": 0.2
             }
            },
            "type": "bar"
           }
          ],
          "barpolar": [
           {
            "marker": {
             "line": {
              "color": "white",
              "width": 0.5
             },
             "pattern": {
              "fillmode": "overlay",
              "size": 10,
              "solidity": 0.2
             }
            },
            "type": "barpolar"
           }
          ],
          "carpet": [
           {
            "aaxis": {
             "endlinecolor": "#2a3f5f",
             "gridcolor": "#C8D4E3",
             "linecolor": "#C8D4E3",
             "minorgridcolor": "#C8D4E3",
             "startlinecolor": "#2a3f5f"
            },
            "baxis": {
             "endlinecolor": "#2a3f5f",
             "gridcolor": "#C8D4E3",
             "linecolor": "#C8D4E3",
             "minorgridcolor": "#C8D4E3",
             "startlinecolor": "#2a3f5f"
            },
            "type": "carpet"
           }
          ],
          "choropleth": [
           {
            "colorbar": {
             "outlinewidth": 0,
             "ticks": ""
            },
            "type": "choropleth"
           }
          ],
          "contour": [
           {
            "colorbar": {
             "outlinewidth": 0,
             "ticks": ""
            },
            "colorscale": [
             [
              0,
              "#0d0887"
             ],
             [
              0.1111111111111111,
              "#46039f"
             ],
             [
              0.2222222222222222,
              "#7201a8"
             ],
             [
              0.3333333333333333,
              "#9c179e"
             ],
             [
              0.4444444444444444,
              "#bd3786"
             ],
             [
              0.5555555555555556,
              "#d8576b"
             ],
             [
              0.6666666666666666,
              "#ed7953"
             ],
             [
              0.7777777777777778,
              "#fb9f3a"
             ],
             [
              0.8888888888888888,
              "#fdca26"
             ],
             [
              1,
              "#f0f921"
             ]
            ],
            "type": "contour"
           }
          ],
          "contourcarpet": [
           {
            "colorbar": {
             "outlinewidth": 0,
             "ticks": ""
            },
            "type": "contourcarpet"
           }
          ],
          "heatmap": [
           {
            "colorbar": {
             "outlinewidth": 0,
             "ticks": ""
            },
            "colorscale": [
             [
              0,
              "#0d0887"
             ],
             [
              0.1111111111111111,
              "#46039f"
             ],
             [
              0.2222222222222222,
              "#7201a8"
             ],
             [
              0.3333333333333333,
              "#9c179e"
             ],
             [
              0.4444444444444444,
              "#bd3786"
             ],
             [
              0.5555555555555556,
              "#d8576b"
             ],
             [
              0.6666666666666666,
              "#ed7953"
             ],
             [
              0.7777777777777778,
              "#fb9f3a"
             ],
             [
              0.8888888888888888,
              "#fdca26"
             ],
             [
              1,
              "#f0f921"
             ]
            ],
            "type": "heatmap"
           }
          ],
          "histogram": [
           {
            "marker": {
             "pattern": {
              "fillmode": "overlay",
              "size": 10,
              "solidity": 0.2
             }
            },
            "type": "histogram"
           }
          ],
          "histogram2d": [
           {
            "colorbar": {
             "outlinewidth": 0,
             "ticks": ""
            },
            "colorscale": [
             [
              0,
              "#0d0887"
             ],
             [
              0.1111111111111111,
              "#46039f"
             ],
             [
              0.2222222222222222,
              "#7201a8"
             ],
             [
              0.3333333333333333,
              "#9c179e"
             ],
             [
              0.4444444444444444,
              "#bd3786"
             ],
             [
              0.5555555555555556,
              "#d8576b"
             ],
             [
              0.6666666666666666,
              "#ed7953"
             ],
             [
              0.7777777777777778,
              "#fb9f3a"
             ],
             [
              0.8888888888888888,
              "#fdca26"
             ],
             [
              1,
              "#f0f921"
             ]
            ],
            "type": "histogram2d"
           }
          ],
          "histogram2dcontour": [
           {
            "colorbar": {
             "outlinewidth": 0,
             "ticks": ""
            },
            "colorscale": [
             [
              0,
              "#0d0887"
             ],
             [
              0.1111111111111111,
              "#46039f"
             ],
             [
              0.2222222222222222,
              "#7201a8"
             ],
             [
              0.3333333333333333,
              "#9c179e"
             ],
             [
              0.4444444444444444,
              "#bd3786"
             ],
             [
              0.5555555555555556,
              "#d8576b"
             ],
             [
              0.6666666666666666,
              "#ed7953"
             ],
             [
              0.7777777777777778,
              "#fb9f3a"
             ],
             [
              0.8888888888888888,
              "#fdca26"
             ],
             [
              1,
              "#f0f921"
             ]
            ],
            "type": "histogram2dcontour"
           }
          ],
          "mesh3d": [
           {
            "colorbar": {
             "outlinewidth": 0,
             "ticks": ""
            },
            "type": "mesh3d"
           }
          ],
          "parcoords": [
           {
            "line": {
             "colorbar": {
              "outlinewidth": 0,
              "ticks": ""
             }
            },
            "type": "parcoords"
           }
          ],
          "pie": [
           {
            "automargin": true,
            "type": "pie"
           }
          ],
          "scatter": [
           {
            "fillpattern": {
             "fillmode": "overlay",
             "size": 10,
             "solidity": 0.2
            },
            "type": "scatter"
           }
          ],
          "scatter3d": [
           {
            "line": {
             "colorbar": {
              "outlinewidth": 0,
              "ticks": ""
             }
            },
            "marker": {
             "colorbar": {
              "outlinewidth": 0,
              "ticks": ""
             }
            },
            "type": "scatter3d"
           }
          ],
          "scattercarpet": [
           {
            "marker": {
             "colorbar": {
              "outlinewidth": 0,
              "ticks": ""
             }
            },
            "type": "scattercarpet"
           }
          ],
          "scattergeo": [
           {
            "marker": {
             "colorbar": {
              "outlinewidth": 0,
              "ticks": ""
             }
            },
            "type": "scattergeo"
           }
          ],
          "scattergl": [
           {
            "marker": {
             "colorbar": {
              "outlinewidth": 0,
              "ticks": ""
             }
            },
            "type": "scattergl"
           }
          ],
          "scattermap": [
           {
            "marker": {
             "colorbar": {
              "outlinewidth": 0,
              "ticks": ""
             }
            },
            "type": "scattermap"
           }
          ],
          "scattermapbox": [
           {
            "marker": {
             "colorbar": {
              "outlinewidth": 0,
              "ticks": ""
             }
            },
            "type": "scattermapbox"
           }
          ],
          "scatterpolar": [
           {
            "marker": {
             "colorbar": {
              "outlinewidth": 0,
              "ticks": ""
             }
            },
            "type": "scatterpolar"
           }
          ],
          "scatterpolargl": [
           {
            "marker": {
             "colorbar": {
              "outlinewidth": 0,
              "ticks": ""
             }
            },
            "type": "scatterpolargl"
           }
          ],
          "scatterternary": [
           {
            "marker": {
             "colorbar": {
              "outlinewidth": 0,
              "ticks": ""
             }
            },
            "type": "scatterternary"
           }
          ],
          "surface": [
           {
            "colorbar": {
             "outlinewidth": 0,
             "ticks": ""
            },
            "colorscale": [
             [
              0,
              "#0d0887"
             ],
             [
              0.1111111111111111,
              "#46039f"
             ],
             [
              0.2222222222222222,
              "#7201a8"
             ],
             [
              0.3333333333333333,
              "#9c179e"
             ],
             [
              0.4444444444444444,
              "#bd3786"
             ],
             [
              0.5555555555555556,
              "#d8576b"
             ],
             [
              0.6666666666666666,
              "#ed7953"
             ],
             [
              0.7777777777777778,
              "#fb9f3a"
             ],
             [
              0.8888888888888888,
              "#fdca26"
             ],
             [
              1,
              "#f0f921"
             ]
            ],
            "type": "surface"
           }
          ],
          "table": [
           {
            "cells": {
             "fill": {
              "color": "#EBF0F8"
             },
             "line": {
              "color": "white"
             }
            },
            "header": {
             "fill": {
              "color": "#C8D4E3"
             },
             "line": {
              "color": "white"
             }
            },
            "type": "table"
           }
          ]
         },
         "layout": {
          "annotationdefaults": {
           "arrowcolor": "#2a3f5f",
           "arrowhead": 0,
           "arrowwidth": 1
          },
          "autotypenumbers": "strict",
          "coloraxis": {
           "colorbar": {
            "outlinewidth": 0,
            "ticks": ""
           }
          },
          "colorscale": {
           "diverging": [
            [
             0,
             "#8e0152"
            ],
            [
             0.1,
             "#c51b7d"
            ],
            [
             0.2,
             "#de77ae"
            ],
            [
             0.3,
             "#f1b6da"
            ],
            [
             0.4,
             "#fde0ef"
            ],
            [
             0.5,
             "#f7f7f7"
            ],
            [
             0.6,
             "#e6f5d0"
            ],
            [
             0.7,
             "#b8e186"
            ],
            [
             0.8,
             "#7fbc41"
            ],
            [
             0.9,
             "#4d9221"
            ],
            [
             1,
             "#276419"
            ]
           ],
           "sequential": [
            [
             0,
             "#0d0887"
            ],
            [
             0.1111111111111111,
             "#46039f"
            ],
            [
             0.2222222222222222,
             "#7201a8"
            ],
            [
             0.3333333333333333,
             "#9c179e"
            ],
            [
             0.4444444444444444,
             "#bd3786"
            ],
            [
             0.5555555555555556,
             "#d8576b"
            ],
            [
             0.6666666666666666,
             "#ed7953"
            ],
            [
             0.7777777777777778,
             "#fb9f3a"
            ],
            [
             0.8888888888888888,
             "#fdca26"
            ],
            [
             1,
             "#f0f921"
            ]
           ],
           "sequentialminus": [
            [
             0,
             "#0d0887"
            ],
            [
             0.1111111111111111,
             "#46039f"
            ],
            [
             0.2222222222222222,
             "#7201a8"
            ],
            [
             0.3333333333333333,
             "#9c179e"
            ],
            [
             0.4444444444444444,
             "#bd3786"
            ],
            [
             0.5555555555555556,
             "#d8576b"
            ],
            [
             0.6666666666666666,
             "#ed7953"
            ],
            [
             0.7777777777777778,
             "#fb9f3a"
            ],
            [
             0.8888888888888888,
             "#fdca26"
            ],
            [
             1,
             "#f0f921"
            ]
           ]
          },
          "colorway": [
           "#636efa",
           "#EF553B",
           "#00cc96",
           "#ab63fa",
           "#FFA15A",
           "#19d3f3",
           "#FF6692",
           "#B6E880",
           "#FF97FF",
           "#FECB52"
          ],
          "font": {
           "color": "#2a3f5f"
          },
          "geo": {
           "bgcolor": "white",
           "lakecolor": "white",
           "landcolor": "white",
           "showlakes": true,
           "showland": true,
           "subunitcolor": "#C8D4E3"
          },
          "hoverlabel": {
           "align": "left"
          },
          "hovermode": "closest",
          "mapbox": {
           "style": "light"
          },
          "paper_bgcolor": "white",
          "plot_bgcolor": "white",
          "polar": {
           "angularaxis": {
            "gridcolor": "#EBF0F8",
            "linecolor": "#EBF0F8",
            "ticks": ""
           },
           "bgcolor": "white",
           "radialaxis": {
            "gridcolor": "#EBF0F8",
            "linecolor": "#EBF0F8",
            "ticks": ""
           }
          },
          "scene": {
           "xaxis": {
            "backgroundcolor": "white",
            "gridcolor": "#DFE8F3",
            "gridwidth": 2,
            "linecolor": "#EBF0F8",
            "showbackground": true,
            "ticks": "",
            "zerolinecolor": "#EBF0F8"
           },
           "yaxis": {
            "backgroundcolor": "white",
            "gridcolor": "#DFE8F3",
            "gridwidth": 2,
            "linecolor": "#EBF0F8",
            "showbackground": true,
            "ticks": "",
            "zerolinecolor": "#EBF0F8"
           },
           "zaxis": {
            "backgroundcolor": "white",
            "gridcolor": "#DFE8F3",
            "gridwidth": 2,
            "linecolor": "#EBF0F8",
            "showbackground": true,
            "ticks": "",
            "zerolinecolor": "#EBF0F8"
           }
          },
          "shapedefaults": {
           "line": {
            "color": "#2a3f5f"
           }
          },
          "ternary": {
           "aaxis": {
            "gridcolor": "#DFE8F3",
            "linecolor": "#A2B1C6",
            "ticks": ""
           },
           "baxis": {
            "gridcolor": "#DFE8F3",
            "linecolor": "#A2B1C6",
            "ticks": ""
           },
           "bgcolor": "white",
           "caxis": {
            "gridcolor": "#DFE8F3",
            "linecolor": "#A2B1C6",
            "ticks": ""
           }
          },
          "title": {
           "x": 0.05
          },
          "xaxis": {
           "automargin": true,
           "gridcolor": "#EBF0F8",
           "linecolor": "#EBF0F8",
           "ticks": "",
           "title": {
            "standoff": 15
           },
           "zerolinecolor": "#EBF0F8",
           "zerolinewidth": 2
          },
          "yaxis": {
           "automargin": true,
           "gridcolor": "#EBF0F8",
           "linecolor": "#EBF0F8",
           "ticks": "",
           "title": {
            "standoff": 15
           },
           "zerolinecolor": "#EBF0F8",
           "zerolinewidth": 2
          }
         }
        },
        "title": {
         "text": "Technology Adoption Over Time"
        },
        "xaxis": {
         "title": {
          "text": "Year"
         }
        },
        "yaxis": {
         "title": {
          "text": "Number of New Builds"
         }
        }
       }
      }
     },
     "metadata": {},
     "output_type": "display_data"
    },
    {
     "data": {
      "application/vnd.plotly.v1+json": {
       "config": {
        "plotlyServerURL": "https://plot.ly"
       },
       "data": [
        {
         "marker": {
          "size": {
           "bdata": "IehoVUuGUUAjMqzijcz2P1/tKM5RVxRA+P2bFyfyMkAjhEcbR6QgQCJUqdkDLRVAzSIUW0ETHEDhRV9BmqEsQLJkjuVdVQxAQrEVNC0x9j+D3htDAG5NQA==",
           "dtype": "f8"
          },
          "sizemode": "area",
          "sizeref": 0.087622935
         },
         "mode": "markers+text",
         "text": [
          "Carbon Capture and Storage",
          "EV Fleet Transition",
          "Electrification of Equipment",
          "Energy Efficiency Upgrades",
          "Grid-scale Battery Storage",
          "Heat Pumps",
          "Hydrogen Fuel",
          "Process Electrification",
          "Smart Grid Tech",
          "Utility-scale Solar",
          "Wind Power"
         ],
         "textposition": "top center",
         "type": "scatter",
         "x": {
          "bdata": "vt52mbiInkBHHdw9S93GQMs29JP5MbtALI/MT5uAn0CbxNUPVWiqQMb+Zm3b77ZAj8uZLFz3skDNBNOjDDTAQMt89TeoY8pAqheOJRSKxEDDU1cDNLK5QA==",
          "dtype": "f8"
         },
         "y": {
          "bdata": "AAAAsHa2kEEAAAAALL41QQAAAEAWZlNBAAAAUHcRckEAAADA1b1fQQAAAADiMVRBAAAAAE3GWkEAAADADU5rQQAAAIBZBUtBAAAAAP4pNUEAAAC4+xCMQQ==",
          "dtype": "f8"
         }
        }
       ],
       "layout": {
        "template": {
         "data": {
          "bar": [
           {
            "error_x": {
             "color": "#2a3f5f"
            },
            "error_y": {
             "color": "#2a3f5f"
            },
            "marker": {
             "line": {
              "color": "white",
              "width": 0.5
             },
             "pattern": {
              "fillmode": "overlay",
              "size": 10,
              "solidity": 0.2
             }
            },
            "type": "bar"
           }
          ],
          "barpolar": [
           {
            "marker": {
             "line": {
              "color": "white",
              "width": 0.5
             },
             "pattern": {
              "fillmode": "overlay",
              "size": 10,
              "solidity": 0.2
             }
            },
            "type": "barpolar"
           }
          ],
          "carpet": [
           {
            "aaxis": {
             "endlinecolor": "#2a3f5f",
             "gridcolor": "#C8D4E3",
             "linecolor": "#C8D4E3",
             "minorgridcolor": "#C8D4E3",
             "startlinecolor": "#2a3f5f"
            },
            "baxis": {
             "endlinecolor": "#2a3f5f",
             "gridcolor": "#C8D4E3",
             "linecolor": "#C8D4E3",
             "minorgridcolor": "#C8D4E3",
             "startlinecolor": "#2a3f5f"
            },
            "type": "carpet"
           }
          ],
          "choropleth": [
           {
            "colorbar": {
             "outlinewidth": 0,
             "ticks": ""
            },
            "type": "choropleth"
           }
          ],
          "contour": [
           {
            "colorbar": {
             "outlinewidth": 0,
             "ticks": ""
            },
            "colorscale": [
             [
              0,
              "#0d0887"
             ],
             [
              0.1111111111111111,
              "#46039f"
             ],
             [
              0.2222222222222222,
              "#7201a8"
             ],
             [
              0.3333333333333333,
              "#9c179e"
             ],
             [
              0.4444444444444444,
              "#bd3786"
             ],
             [
              0.5555555555555556,
              "#d8576b"
             ],
             [
              0.6666666666666666,
              "#ed7953"
             ],
             [
              0.7777777777777778,
              "#fb9f3a"
             ],
             [
              0.8888888888888888,
              "#fdca26"
             ],
             [
              1,
              "#f0f921"
             ]
            ],
            "type": "contour"
           }
          ],
          "contourcarpet": [
           {
            "colorbar": {
             "outlinewidth": 0,
             "ticks": ""
            },
            "type": "contourcarpet"
           }
          ],
          "heatmap": [
           {
            "colorbar": {
             "outlinewidth": 0,
             "ticks": ""
            },
            "colorscale": [
             [
              0,
              "#0d0887"
             ],
             [
              0.1111111111111111,
              "#46039f"
             ],
             [
              0.2222222222222222,
              "#7201a8"
             ],
             [
              0.3333333333333333,
              "#9c179e"
             ],
             [
              0.4444444444444444,
              "#bd3786"
             ],
             [
              0.5555555555555556,
              "#d8576b"
             ],
             [
              0.6666666666666666,
              "#ed7953"
             ],
             [
              0.7777777777777778,
              "#fb9f3a"
             ],
             [
              0.8888888888888888,
              "#fdca26"
             ],
             [
              1,
              "#f0f921"
             ]
            ],
            "type": "heatmap"
           }
          ],
          "histogram": [
           {
            "marker": {
             "pattern": {
              "fillmode": "overlay",
              "size": 10,
              "solidity": 0.2
             }
            },
            "type": "histogram"
           }
          ],
          "histogram2d": [
           {
            "colorbar": {
             "outlinewidth": 0,
             "ticks": ""
            },
            "colorscale": [
             [
              0,
              "#0d0887"
             ],
             [
              0.1111111111111111,
              "#46039f"
             ],
             [
              0.2222222222222222,
              "#7201a8"
             ],
             [
              0.3333333333333333,
              "#9c179e"
             ],
             [
              0.4444444444444444,
              "#bd3786"
             ],
             [
              0.5555555555555556,
              "#d8576b"
             ],
             [
              0.6666666666666666,
              "#ed7953"
             ],
             [
              0.7777777777777778,
              "#fb9f3a"
             ],
             [
              0.8888888888888888,
              "#fdca26"
             ],
             [
              1,
              "#f0f921"
             ]
            ],
            "type": "histogram2d"
           }
          ],
          "histogram2dcontour": [
           {
            "colorbar": {
             "outlinewidth": 0,
             "ticks": ""
            },
            "colorscale": [
             [
              0,
              "#0d0887"
             ],
             [
              0.1111111111111111,
              "#46039f"
             ],
             [
              0.2222222222222222,
              "#7201a8"
             ],
             [
              0.3333333333333333,
              "#9c179e"
             ],
             [
              0.4444444444444444,
              "#bd3786"
             ],
             [
              0.5555555555555556,
              "#d8576b"
             ],
             [
              0.6666666666666666,
              "#ed7953"
             ],
             [
              0.7777777777777778,
              "#fb9f3a"
             ],
             [
              0.8888888888888888,
              "#fdca26"
             ],
             [
              1,
              "#f0f921"
             ]
            ],
            "type": "histogram2dcontour"
           }
          ],
          "mesh3d": [
           {
            "colorbar": {
             "outlinewidth": 0,
             "ticks": ""
            },
            "type": "mesh3d"
           }
          ],
          "parcoords": [
           {
            "line": {
             "colorbar": {
              "outlinewidth": 0,
              "ticks": ""
             }
            },
            "type": "parcoords"
           }
          ],
          "pie": [
           {
            "automargin": true,
            "type": "pie"
           }
          ],
          "scatter": [
           {
            "fillpattern": {
             "fillmode": "overlay",
             "size": 10,
             "solidity": 0.2
            },
            "type": "scatter"
           }
          ],
          "scatter3d": [
           {
            "line": {
             "colorbar": {
              "outlinewidth": 0,
              "ticks": ""
             }
            },
            "marker": {
             "colorbar": {
              "outlinewidth": 0,
              "ticks": ""
             }
            },
            "type": "scatter3d"
           }
          ],
          "scattercarpet": [
           {
            "marker": {
             "colorbar": {
              "outlinewidth": 0,
              "ticks": ""
             }
            },
            "type": "scattercarpet"
           }
          ],
          "scattergeo": [
           {
            "marker": {
             "colorbar": {
              "outlinewidth": 0,
              "ticks": ""
             }
            },
            "type": "scattergeo"
           }
          ],
          "scattergl": [
           {
            "marker": {
             "colorbar": {
              "outlinewidth": 0,
              "ticks": ""
             }
            },
            "type": "scattergl"
           }
          ],
          "scattermap": [
           {
            "marker": {
             "colorbar": {
              "outlinewidth": 0,
              "ticks": ""
             }
            },
            "type": "scattermap"
           }
          ],
          "scattermapbox": [
           {
            "marker": {
             "colorbar": {
              "outlinewidth": 0,
              "ticks": ""
             }
            },
            "type": "scattermapbox"
           }
          ],
          "scatterpolar": [
           {
            "marker": {
             "colorbar": {
              "outlinewidth": 0,
              "ticks": ""
             }
            },
            "type": "scatterpolar"
           }
          ],
          "scatterpolargl": [
           {
            "marker": {
             "colorbar": {
              "outlinewidth": 0,
              "ticks": ""
             }
            },
            "type": "scatterpolargl"
           }
          ],
          "scatterternary": [
           {
            "marker": {
             "colorbar": {
              "outlinewidth": 0,
              "ticks": ""
             }
            },
            "type": "scatterternary"
           }
          ],
          "surface": [
           {
            "colorbar": {
             "outlinewidth": 0,
             "ticks": ""
            },
            "colorscale": [
             [
              0,
              "#0d0887"
             ],
             [
              0.1111111111111111,
              "#46039f"
             ],
             [
              0.2222222222222222,
              "#7201a8"
             ],
             [
              0.3333333333333333,
              "#9c179e"
             ],
             [
              0.4444444444444444,
              "#bd3786"
             ],
             [
              0.5555555555555556,
              "#d8576b"
             ],
             [
              0.6666666666666666,
              "#ed7953"
             ],
             [
              0.7777777777777778,
              "#fb9f3a"
             ],
             [
              0.8888888888888888,
              "#fdca26"
             ],
             [
              1,
              "#f0f921"
             ]
            ],
            "type": "surface"
           }
          ],
          "table": [
           {
            "cells": {
             "fill": {
              "color": "#EBF0F8"
             },
             "line": {
              "color": "white"
             }
            },
            "header": {
             "fill": {
              "color": "#C8D4E3"
             },
             "line": {
              "color": "white"
             }
            },
            "type": "table"
           }
          ]
         },
         "layout": {
          "annotationdefaults": {
           "arrowcolor": "#2a3f5f",
           "arrowhead": 0,
           "arrowwidth": 1
          },
          "autotypenumbers": "strict",
          "coloraxis": {
           "colorbar": {
            "outlinewidth": 0,
            "ticks": ""
           }
          },
          "colorscale": {
           "diverging": [
            [
             0,
             "#8e0152"
            ],
            [
             0.1,
             "#c51b7d"
            ],
            [
             0.2,
             "#de77ae"
            ],
            [
             0.3,
             "#f1b6da"
            ],
            [
             0.4,
             "#fde0ef"
            ],
            [
             0.5,
             "#f7f7f7"
            ],
            [
             0.6,
             "#e6f5d0"
            ],
            [
             0.7,
             "#b8e186"
            ],
            [
             0.8,
             "#7fbc41"
            ],
            [
             0.9,
             "#4d9221"
            ],
            [
             1,
             "#276419"
            ]
           ],
           "sequential": [
            [
             0,
             "#0d0887"
            ],
            [
             0.1111111111111111,
             "#46039f"
            ],
            [
             0.2222222222222222,
             "#7201a8"
            ],
            [
             0.3333333333333333,
             "#9c179e"
            ],
            [
             0.4444444444444444,
             "#bd3786"
            ],
            [
             0.5555555555555556,
             "#d8576b"
            ],
            [
             0.6666666666666666,
             "#ed7953"
            ],
            [
             0.7777777777777778,
             "#fb9f3a"
            ],
            [
             0.8888888888888888,
             "#fdca26"
            ],
            [
             1,
             "#f0f921"
            ]
           ],
           "sequentialminus": [
            [
             0,
             "#0d0887"
            ],
            [
             0.1111111111111111,
             "#46039f"
            ],
            [
             0.2222222222222222,
             "#7201a8"
            ],
            [
             0.3333333333333333,
             "#9c179e"
            ],
            [
             0.4444444444444444,
             "#bd3786"
            ],
            [
             0.5555555555555556,
             "#d8576b"
            ],
            [
             0.6666666666666666,
             "#ed7953"
            ],
            [
             0.7777777777777778,
             "#fb9f3a"
            ],
            [
             0.8888888888888888,
             "#fdca26"
            ],
            [
             1,
             "#f0f921"
            ]
           ]
          },
          "colorway": [
           "#636efa",
           "#EF553B",
           "#00cc96",
           "#ab63fa",
           "#FFA15A",
           "#19d3f3",
           "#FF6692",
           "#B6E880",
           "#FF97FF",
           "#FECB52"
          ],
          "font": {
           "color": "#2a3f5f"
          },
          "geo": {
           "bgcolor": "white",
           "lakecolor": "white",
           "landcolor": "white",
           "showlakes": true,
           "showland": true,
           "subunitcolor": "#C8D4E3"
          },
          "hoverlabel": {
           "align": "left"
          },
          "hovermode": "closest",
          "mapbox": {
           "style": "light"
          },
          "paper_bgcolor": "white",
          "plot_bgcolor": "white",
          "polar": {
           "angularaxis": {
            "gridcolor": "#EBF0F8",
            "linecolor": "#EBF0F8",
            "ticks": ""
           },
           "bgcolor": "white",
           "radialaxis": {
            "gridcolor": "#EBF0F8",
            "linecolor": "#EBF0F8",
            "ticks": ""
           }
          },
          "scene": {
           "xaxis": {
            "backgroundcolor": "white",
            "gridcolor": "#DFE8F3",
            "gridwidth": 2,
            "linecolor": "#EBF0F8",
            "showbackground": true,
            "ticks": "",
            "zerolinecolor": "#EBF0F8"
           },
           "yaxis": {
            "backgroundcolor": "white",
            "gridcolor": "#DFE8F3",
            "gridwidth": 2,
            "linecolor": "#EBF0F8",
            "showbackground": true,
            "ticks": "",
            "zerolinecolor": "#EBF0F8"
           },
           "zaxis": {
            "backgroundcolor": "white",
            "gridcolor": "#DFE8F3",
            "gridwidth": 2,
            "linecolor": "#EBF0F8",
            "showbackground": true,
            "ticks": "",
            "zerolinecolor": "#EBF0F8"
           }
          },
          "shapedefaults": {
           "line": {
            "color": "#2a3f5f"
           }
          },
          "ternary": {
           "aaxis": {
            "gridcolor": "#DFE8F3",
            "linecolor": "#A2B1C6",
            "ticks": ""
           },
           "baxis": {
            "gridcolor": "#DFE8F3",
            "linecolor": "#A2B1C6",
            "ticks": ""
           },
           "bgcolor": "white",
           "caxis": {
            "gridcolor": "#DFE8F3",
            "linecolor": "#A2B1C6",
            "ticks": ""
           }
          },
          "title": {
           "x": 0.05
          },
          "xaxis": {
           "automargin": true,
           "gridcolor": "#EBF0F8",
           "linecolor": "#EBF0F8",
           "ticks": "",
           "title": {
            "standoff": 15
           },
           "zerolinecolor": "#EBF0F8",
           "zerolinewidth": 2
          },
          "yaxis": {
           "automargin": true,
           "gridcolor": "#EBF0F8",
           "linecolor": "#EBF0F8",
           "ticks": "",
           "title": {
            "standoff": 15
           },
           "zerolinecolor": "#EBF0F8",
           "zerolinewidth": 2
          }
         }
        },
        "title": {
         "text": "Cost-Effectiveness of Technologies"
        },
        "xaxis": {
         "title": {
          "text": "Cost per Tonne (USD)"
         }
        },
        "yaxis": {
         "title": {
          "text": "Total Tonnes"
         }
        }
       }
      }
     },
     "metadata": {},
     "output_type": "display_data"
    },
    {
     "data": {
      "application/vnd.plotly.v1+json": {
       "config": {
        "plotlyServerURL": "https://plot.ly"
       },
       "data": [
        {
         "name": "Total Cost",
         "type": "bar",
         "x": [
          "C001",
          "C002",
          "C003",
          "C004",
          "C005",
          "C006",
          "C008",
          "C009",
          "C010",
          "C011",
          "C012",
          "C013",
          "C014",
          "C015",
          "C016",
          "C017",
          "C018",
          "C019",
          "C020",
          "C021",
          "C022",
          "C023",
          "C024",
          "C025",
          "C027",
          "C028",
          "C029",
          "C030",
          "C031",
          "C032",
          "C033",
          "C034",
          "C035",
          "C036",
          "C037",
          "C038",
          "C039",
          "C040",
          "C041",
          "C042",
          "C043",
          "C044",
          "C045",
          "C046",
          "C047",
          "C048",
          "C049",
          "C050"
         ],
         "y": {
          "bdata": "zcyUlkCI8EFI4VIsGrT+QQAAkDruHxVCAAAgThgk8kEpXHTwTFcsQgAALBAWQgVCAABonIMs8EF7FIqLDKsCQpqZwh+q0BxCAAAsEBZCBUKamSk2C+PiQQrXvUJ6Ix5CAAAV9l5AHkIAAGicgyzwQY/CX3ReaxBCFC7rpyidI0IAAAAAAAAAAAAAAHhFXwtCMzMdI0EoEUKamXkvNvv5QQrXW/ulxA1CSOFFFvqtF0LNzHSf7WzyQYVruCUZyiFCAAAAAAAAAADNzF7HkxYSQgAAIE4YJPJBzcysZ8C3AUIAAGicgyzwQTMzM5si8upBAICSOVBmJkLD9ahUBqzAQSlcdPBMVyxCKVzv0p1W3EEAAMC3H8zKQaRwIK2MfxJCcT1GeqFTDUIzs8uZxfQkQgrXzFaEvhlCZmbImKYuEEIAAH87ncEZQgAAAAAAAAAAAAAAAAAAAABm5p8dUEcmQgCASCJAQCtCAABA0aws4EFcD8Qv3+UgQgAALBAWQgVC",
          "dtype": "f8"
         }
        }
       ],
       "layout": {
        "template": {
         "data": {
          "bar": [
           {
            "error_x": {
             "color": "#2a3f5f"
            },
            "error_y": {
             "color": "#2a3f5f"
            },
            "marker": {
             "line": {
              "color": "white",
              "width": 0.5
             },
             "pattern": {
              "fillmode": "overlay",
              "size": 10,
              "solidity": 0.2
             }
            },
            "type": "bar"
           }
          ],
          "barpolar": [
           {
            "marker": {
             "line": {
              "color": "white",
              "width": 0.5
             },
             "pattern": {
              "fillmode": "overlay",
              "size": 10,
              "solidity": 0.2
             }
            },
            "type": "barpolar"
           }
          ],
          "carpet": [
           {
            "aaxis": {
             "endlinecolor": "#2a3f5f",
             "gridcolor": "#C8D4E3",
             "linecolor": "#C8D4E3",
             "minorgridcolor": "#C8D4E3",
             "startlinecolor": "#2a3f5f"
            },
            "baxis": {
             "endlinecolor": "#2a3f5f",
             "gridcolor": "#C8D4E3",
             "linecolor": "#C8D4E3",
             "minorgridcolor": "#C8D4E3",
             "startlinecolor": "#2a3f5f"
            },
            "type": "carpet"
           }
          ],
          "choropleth": [
           {
            "colorbar": {
             "outlinewidth": 0,
             "ticks": ""
            },
            "type": "choropleth"
           }
          ],
          "contour": [
           {
            "colorbar": {
             "outlinewidth": 0,
             "ticks": ""
            },
            "colorscale": [
             [
              0,
              "#0d0887"
             ],
             [
              0.1111111111111111,
              "#46039f"
             ],
             [
              0.2222222222222222,
              "#7201a8"
             ],
             [
              0.3333333333333333,
              "#9c179e"
             ],
             [
              0.4444444444444444,
              "#bd3786"
             ],
             [
              0.5555555555555556,
              "#d8576b"
             ],
             [
              0.6666666666666666,
              "#ed7953"
             ],
             [
              0.7777777777777778,
              "#fb9f3a"
             ],
             [
              0.8888888888888888,
              "#fdca26"
             ],
             [
              1,
              "#f0f921"
             ]
            ],
            "type": "contour"
           }
          ],
          "contourcarpet": [
           {
            "colorbar": {
             "outlinewidth": 0,
             "ticks": ""
            },
            "type": "contourcarpet"
           }
          ],
          "heatmap": [
           {
            "colorbar": {
             "outlinewidth": 0,
             "ticks": ""
            },
            "colorscale": [
             [
              0,
              "#0d0887"
             ],
             [
              0.1111111111111111,
              "#46039f"
             ],
             [
              0.2222222222222222,
              "#7201a8"
             ],
             [
              0.3333333333333333,
              "#9c179e"
             ],
             [
              0.4444444444444444,
              "#bd3786"
             ],
             [
              0.5555555555555556,
              "#d8576b"
             ],
             [
              0.6666666666666666,
              "#ed7953"
             ],
             [
              0.7777777777777778,
              "#fb9f3a"
             ],
             [
              0.8888888888888888,
              "#fdca26"
             ],
             [
              1,
              "#f0f921"
             ]
            ],
            "type": "heatmap"
           }
          ],
          "histogram": [
           {
            "marker": {
             "pattern": {
              "fillmode": "overlay",
              "size": 10,
              "solidity": 0.2
             }
            },
            "type": "histogram"
           }
          ],
          "histogram2d": [
           {
            "colorbar": {
             "outlinewidth": 0,
             "ticks": ""
            },
            "colorscale": [
             [
              0,
              "#0d0887"
             ],
             [
              0.1111111111111111,
              "#46039f"
             ],
             [
              0.2222222222222222,
              "#7201a8"
             ],
             [
              0.3333333333333333,
              "#9c179e"
             ],
             [
              0.4444444444444444,
              "#bd3786"
             ],
             [
              0.5555555555555556,
              "#d8576b"
             ],
             [
              0.6666666666666666,
              "#ed7953"
             ],
             [
              0.7777777777777778,
              "#fb9f3a"
             ],
             [
              0.8888888888888888,
              "#fdca26"
             ],
             [
              1,
              "#f0f921"
             ]
            ],
            "type": "histogram2d"
           }
          ],
          "histogram2dcontour": [
           {
            "colorbar": {
             "outlinewidth": 0,
             "ticks": ""
            },
            "colorscale": [
             [
              0,
              "#0d0887"
             ],
             [
              0.1111111111111111,
              "#46039f"
             ],
             [
              0.2222222222222222,
              "#7201a8"
             ],
             [
              0.3333333333333333,
              "#9c179e"
             ],
             [
              0.4444444444444444,
              "#bd3786"
             ],
             [
              0.5555555555555556,
              "#d8576b"
             ],
             [
              0.6666666666666666,
              "#ed7953"
             ],
             [
              0.7777777777777778,
              "#fb9f3a"
             ],
             [
              0.8888888888888888,
              "#fdca26"
             ],
             [
              1,
              "#f0f921"
             ]
            ],
            "type": "histogram2dcontour"
           }
          ],
          "mesh3d": [
           {
            "colorbar": {
             "outlinewidth": 0,
             "ticks": ""
            },
            "type": "mesh3d"
           }
          ],
          "parcoords": [
           {
            "line": {
             "colorbar": {
              "outlinewidth": 0,
              "ticks": ""
             }
            },
            "type": "parcoords"
           }
          ],
          "pie": [
           {
            "automargin": true,
            "type": "pie"
           }
          ],
          "scatter": [
           {
            "fillpattern": {
             "fillmode": "overlay",
             "size": 10,
             "solidity": 0.2
            },
            "type": "scatter"
           }
          ],
          "scatter3d": [
           {
            "line": {
             "colorbar": {
              "outlinewidth": 0,
              "ticks": ""
             }
            },
            "marker": {
             "colorbar": {
              "outlinewidth": 0,
              "ticks": ""
             }
            },
            "type": "scatter3d"
           }
          ],
          "scattercarpet": [
           {
            "marker": {
             "colorbar": {
              "outlinewidth": 0,
              "ticks": ""
             }
            },
            "type": "scattercarpet"
           }
          ],
          "scattergeo": [
           {
            "marker": {
             "colorbar": {
              "outlinewidth": 0,
              "ticks": ""
             }
            },
            "type": "scattergeo"
           }
          ],
          "scattergl": [
           {
            "marker": {
             "colorbar": {
              "outlinewidth": 0,
              "ticks": ""
             }
            },
            "type": "scattergl"
           }
          ],
          "scattermap": [
           {
            "marker": {
             "colorbar": {
              "outlinewidth": 0,
              "ticks": ""
             }
            },
            "type": "scattermap"
           }
          ],
          "scattermapbox": [
           {
            "marker": {
             "colorbar": {
              "outlinewidth": 0,
              "ticks": ""
             }
            },
            "type": "scattermapbox"
           }
          ],
          "scatterpolar": [
           {
            "marker": {
             "colorbar": {
              "outlinewidth": 0,
              "ticks": ""
             }
            },
            "type": "scatterpolar"
           }
          ],
          "scatterpolargl": [
           {
            "marker": {
             "colorbar": {
              "outlinewidth": 0,
              "ticks": ""
             }
            },
            "type": "scatterpolargl"
           }
          ],
          "scatterternary": [
           {
            "marker": {
             "colorbar": {
              "outlinewidth": 0,
              "ticks": ""
             }
            },
            "type": "scatterternary"
           }
          ],
          "surface": [
           {
            "colorbar": {
             "outlinewidth": 0,
             "ticks": ""
            },
            "colorscale": [
             [
              0,
              "#0d0887"
             ],
             [
              0.1111111111111111,
              "#46039f"
             ],
             [
              0.2222222222222222,
              "#7201a8"
             ],
             [
              0.3333333333333333,
              "#9c179e"
             ],
             [
              0.4444444444444444,
              "#bd3786"
             ],
             [
              0.5555555555555556,
              "#d8576b"
             ],
             [
              0.6666666666666666,
              "#ed7953"
             ],
             [
              0.7777777777777778,
              "#fb9f3a"
             ],
             [
              0.8888888888888888,
              "#fdca26"
             ],
             [
              1,
              "#f0f921"
             ]
            ],
            "type": "surface"
           }
          ],
          "table": [
           {
            "cells": {
             "fill": {
              "color": "#EBF0F8"
             },
             "line": {
              "color": "white"
             }
            },
            "header": {
             "fill": {
              "color": "#C8D4E3"
             },
             "line": {
              "color": "white"
             }
            },
            "type": "table"
           }
          ]
         },
         "layout": {
          "annotationdefaults": {
           "arrowcolor": "#2a3f5f",
           "arrowhead": 0,
           "arrowwidth": 1
          },
          "autotypenumbers": "strict",
          "coloraxis": {
           "colorbar": {
            "outlinewidth": 0,
            "ticks": ""
           }
          },
          "colorscale": {
           "diverging": [
            [
             0,
             "#8e0152"
            ],
            [
             0.1,
             "#c51b7d"
            ],
            [
             0.2,
             "#de77ae"
            ],
            [
             0.3,
             "#f1b6da"
            ],
            [
             0.4,
             "#fde0ef"
            ],
            [
             0.5,
             "#f7f7f7"
            ],
            [
             0.6,
             "#e6f5d0"
            ],
            [
             0.7,
             "#b8e186"
            ],
            [
             0.8,
             "#7fbc41"
            ],
            [
             0.9,
             "#4d9221"
            ],
            [
             1,
             "#276419"
            ]
           ],
           "sequential": [
            [
             0,
             "#0d0887"
            ],
            [
             0.1111111111111111,
             "#46039f"
            ],
            [
             0.2222222222222222,
             "#7201a8"
            ],
            [
             0.3333333333333333,
             "#9c179e"
            ],
            [
             0.4444444444444444,
             "#bd3786"
            ],
            [
             0.5555555555555556,
             "#d8576b"
            ],
            [
             0.6666666666666666,
             "#ed7953"
            ],
            [
             0.7777777777777778,
             "#fb9f3a"
            ],
            [
             0.8888888888888888,
             "#fdca26"
            ],
            [
             1,
             "#f0f921"
            ]
           ],
           "sequentialminus": [
            [
             0,
             "#0d0887"
            ],
            [
             0.1111111111111111,
             "#46039f"
            ],
            [
             0.2222222222222222,
             "#7201a8"
            ],
            [
             0.3333333333333333,
             "#9c179e"
            ],
            [
             0.4444444444444444,
             "#bd3786"
            ],
            [
             0.5555555555555556,
             "#d8576b"
            ],
            [
             0.6666666666666666,
             "#ed7953"
            ],
            [
             0.7777777777777778,
             "#fb9f3a"
            ],
            [
             0.8888888888888888,
             "#fdca26"
            ],
            [
             1,
             "#f0f921"
            ]
           ]
          },
          "colorway": [
           "#636efa",
           "#EF553B",
           "#00cc96",
           "#ab63fa",
           "#FFA15A",
           "#19d3f3",
           "#FF6692",
           "#B6E880",
           "#FF97FF",
           "#FECB52"
          ],
          "font": {
           "color": "#2a3f5f"
          },
          "geo": {
           "bgcolor": "white",
           "lakecolor": "white",
           "landcolor": "white",
           "showlakes": true,
           "showland": true,
           "subunitcolor": "#C8D4E3"
          },
          "hoverlabel": {
           "align": "left"
          },
          "hovermode": "closest",
          "mapbox": {
           "style": "light"
          },
          "paper_bgcolor": "white",
          "plot_bgcolor": "white",
          "polar": {
           "angularaxis": {
            "gridcolor": "#EBF0F8",
            "linecolor": "#EBF0F8",
            "ticks": ""
           },
           "bgcolor": "white",
           "radialaxis": {
            "gridcolor": "#EBF0F8",
            "linecolor": "#EBF0F8",
            "ticks": ""
           }
          },
          "scene": {
           "xaxis": {
            "backgroundcolor": "white",
            "gridcolor": "#DFE8F3",
            "gridwidth": 2,
            "linecolor": "#EBF0F8",
            "showbackground": true,
            "ticks": "",
            "zerolinecolor": "#EBF0F8"
           },
           "yaxis": {
            "backgroundcolor": "white",
            "gridcolor": "#DFE8F3",
            "gridwidth": 2,
            "linecolor": "#EBF0F8",
            "showbackground": true,
            "ticks": "",
            "zerolinecolor": "#EBF0F8"
           },
           "zaxis": {
            "backgroundcolor": "white",
            "gridcolor": "#DFE8F3",
            "gridwidth": 2,
            "linecolor": "#EBF0F8",
            "showbackground": true,
            "ticks": "",
            "zerolinecolor": "#EBF0F8"
           }
          },
          "shapedefaults": {
           "line": {
            "color": "#2a3f5f"
           }
          },
          "ternary": {
           "aaxis": {
            "gridcolor": "#DFE8F3",
            "linecolor": "#A2B1C6",
            "ticks": ""
           },
           "baxis": {
            "gridcolor": "#DFE8F3",
            "linecolor": "#A2B1C6",
            "ticks": ""
           },
           "bgcolor": "white",
           "caxis": {
            "gridcolor": "#DFE8F3",
            "linecolor": "#A2B1C6",
            "ticks": ""
           }
          },
          "title": {
           "x": 0.05
          },
          "xaxis": {
           "automargin": true,
           "gridcolor": "#EBF0F8",
           "linecolor": "#EBF0F8",
           "ticks": "",
           "title": {
            "standoff": 15
           },
           "zerolinecolor": "#EBF0F8",
           "zerolinewidth": 2
          },
          "yaxis": {
           "automargin": true,
           "gridcolor": "#EBF0F8",
           "linecolor": "#EBF0F8",
           "ticks": "",
           "title": {
            "standoff": 15
           },
           "zerolinecolor": "#EBF0F8",
           "zerolinewidth": 2
          }
         }
        },
        "title": {
         "text": "Company-Specific Abatement Costs"
        },
        "xaxis": {
         "tickangle": -45,
         "title": {
          "text": "Company"
         }
        },
        "yaxis": {
         "tickformat": ",.0s",
         "title": {
          "text": "Total Cost (USD)"
         }
        }
       }
      }
     },
     "metadata": {},
     "output_type": "display_data"
    },
    {
     "data": {
      "application/vnd.plotly.v1+json": {
       "config": {
        "plotlyServerURL": "https://plot.ly"
       },
       "data": [
        {
         "fill": "tozeroy",
         "name": "Cumulative Tonnes",
         "type": "scatter",
         "x": {
          "bdata": "6QfqB+sH7AftB+4H7wfwB/EH8gfzB/QH9Qf2B/cH+Af5B/oH+wf8B/0H/gf/BwAIAQgCCA==",
          "dtype": "i2"
         },
         "y": {
          "bdata": "AAAAAAAAAAAAAADAGEleQQAAAGD3TG5BAAAAUKm8dkEAAABg11R+QQAAAGiH94JBAAAAQKzFhkEAAACw3pSKQQAAAHAjZY5BAAAAaD8bkUEAAADoegSTQQAAAIxG7pRBAAAAtKTYlkEAAADwl8OYQQAAAPw0r5pBAAAAVJ+bnEEAAACA2oieQQAAABB1O6BBAAAA/ugyoUEAAADUyiqiQQAAAKAiI6NBAAAAuvIbpEEAAAAyPRWlQQAAACwED6ZBAAAAukkJp0EAAAAaEASoQQ==",
          "dtype": "f8"
         }
        }
       ],
       "layout": {
        "template": {
         "data": {
          "bar": [
           {
            "error_x": {
             "color": "#2a3f5f"
            },
            "error_y": {
             "color": "#2a3f5f"
            },
            "marker": {
             "line": {
              "color": "white",
              "width": 0.5
             },
             "pattern": {
              "fillmode": "overlay",
              "size": 10,
              "solidity": 0.2
             }
            },
            "type": "bar"
           }
          ],
          "barpolar": [
           {
            "marker": {
             "line": {
              "color": "white",
              "width": 0.5
             },
             "pattern": {
              "fillmode": "overlay",
              "size": 10,
              "solidity": 0.2
             }
            },
            "type": "barpolar"
           }
          ],
          "carpet": [
           {
            "aaxis": {
             "endlinecolor": "#2a3f5f",
             "gridcolor": "#C8D4E3",
             "linecolor": "#C8D4E3",
             "minorgridcolor": "#C8D4E3",
             "startlinecolor": "#2a3f5f"
            },
            "baxis": {
             "endlinecolor": "#2a3f5f",
             "gridcolor": "#C8D4E3",
             "linecolor": "#C8D4E3",
             "minorgridcolor": "#C8D4E3",
             "startlinecolor": "#2a3f5f"
            },
            "type": "carpet"
           }
          ],
          "choropleth": [
           {
            "colorbar": {
             "outlinewidth": 0,
             "ticks": ""
            },
            "type": "choropleth"
           }
          ],
          "contour": [
           {
            "colorbar": {
             "outlinewidth": 0,
             "ticks": ""
            },
            "colorscale": [
             [
              0,
              "#0d0887"
             ],
             [
              0.1111111111111111,
              "#46039f"
             ],
             [
              0.2222222222222222,
              "#7201a8"
             ],
             [
              0.3333333333333333,
              "#9c179e"
             ],
             [
              0.4444444444444444,
              "#bd3786"
             ],
             [
              0.5555555555555556,
              "#d8576b"
             ],
             [
              0.6666666666666666,
              "#ed7953"
             ],
             [
              0.7777777777777778,
              "#fb9f3a"
             ],
             [
              0.8888888888888888,
              "#fdca26"
             ],
             [
              1,
              "#f0f921"
             ]
            ],
            "type": "contour"
           }
          ],
          "contourcarpet": [
           {
            "colorbar": {
             "outlinewidth": 0,
             "ticks": ""
            },
            "type": "contourcarpet"
           }
          ],
          "heatmap": [
           {
            "colorbar": {
             "outlinewidth": 0,
             "ticks": ""
            },
            "colorscale": [
             [
              0,
              "#0d0887"
             ],
             [
              0.1111111111111111,
              "#46039f"
             ],
             [
              0.2222222222222222,
              "#7201a8"
             ],
             [
              0.3333333333333333,
              "#9c179e"
             ],
             [
              0.4444444444444444,
              "#bd3786"
             ],
             [
              0.5555555555555556,
              "#d8576b"
             ],
             [
              0.6666666666666666,
              "#ed7953"
             ],
             [
              0.7777777777777778,
              "#fb9f3a"
             ],
             [
              0.8888888888888888,
              "#fdca26"
             ],
             [
              1,
              "#f0f921"
             ]
            ],
            "type": "heatmap"
           }
          ],
          "histogram": [
           {
            "marker": {
             "pattern": {
              "fillmode": "overlay",
              "size": 10,
              "solidity": 0.2
             }
            },
            "type": "histogram"
           }
          ],
          "histogram2d": [
           {
            "colorbar": {
             "outlinewidth": 0,
             "ticks": ""
            },
            "colorscale": [
             [
              0,
              "#0d0887"
             ],
             [
              0.1111111111111111,
              "#46039f"
             ],
             [
              0.2222222222222222,
              "#7201a8"
             ],
             [
              0.3333333333333333,
              "#9c179e"
             ],
             [
              0.4444444444444444,
              "#bd3786"
             ],
             [
              0.5555555555555556,
              "#d8576b"
             ],
             [
              0.6666666666666666,
              "#ed7953"
             ],
             [
              0.7777777777777778,
              "#fb9f3a"
             ],
             [
              0.8888888888888888,
              "#fdca26"
             ],
             [
              1,
              "#f0f921"
             ]
            ],
            "type": "histogram2d"
           }
          ],
          "histogram2dcontour": [
           {
            "colorbar": {
             "outlinewidth": 0,
             "ticks": ""
            },
            "colorscale": [
             [
              0,
              "#0d0887"
             ],
             [
              0.1111111111111111,
              "#46039f"
             ],
             [
              0.2222222222222222,
              "#7201a8"
             ],
             [
              0.3333333333333333,
              "#9c179e"
             ],
             [
              0.4444444444444444,
              "#bd3786"
             ],
             [
              0.5555555555555556,
              "#d8576b"
             ],
             [
              0.6666666666666666,
              "#ed7953"
             ],
             [
              0.7777777777777778,
              "#fb9f3a"
             ],
             [
              0.8888888888888888,
              "#fdca26"
             ],
             [
              1,
              "#f0f921"
             ]
            ],
            "type": "histogram2dcontour"
           }
          ],
          "mesh3d": [
           {
            "colorbar": {
             "outlinewidth": 0,
             "ticks": ""
            },
            "type": "mesh3d"
           }
          ],
          "parcoords": [
           {
            "line": {
             "colorbar": {
              "outlinewidth": 0,
              "ticks": ""
             }
            },
            "type": "parcoords"
           }
          ],
          "pie": [
           {
            "automargin": true,
            "type": "pie"
           }
          ],
          "scatter": [
           {
            "fillpattern": {
             "fillmode": "overlay",
             "size": 10,
             "solidity": 0.2
            },
            "type": "scatter"
           }
          ],
          "scatter3d": [
           {
            "line": {
             "colorbar": {
              "outlinewidth": 0,
              "ticks": ""
             }
            },
            "marker": {
             "colorbar": {
              "outlinewidth": 0,
              "ticks": ""
             }
            },
            "type": "scatter3d"
           }
          ],
          "scattercarpet": [
           {
            "marker": {
             "colorbar": {
              "outlinewidth": 0,
              "ticks": ""
             }
            },
            "type": "scattercarpet"
           }
          ],
          "scattergeo": [
           {
            "marker": {
             "colorbar": {
              "outlinewidth": 0,
              "ticks": ""
             }
            },
            "type": "scattergeo"
           }
          ],
          "scattergl": [
           {
            "marker": {
             "colorbar": {
              "outlinewidth": 0,
              "ticks": ""
             }
            },
            "type": "scattergl"
           }
          ],
          "scattermap": [
           {
            "marker": {
             "colorbar": {
              "outlinewidth": 0,
              "ticks": ""
             }
            },
            "type": "scattermap"
           }
          ],
          "scattermapbox": [
           {
            "marker": {
             "colorbar": {
              "outlinewidth": 0,
              "ticks": ""
             }
            },
            "type": "scattermapbox"
           }
          ],
          "scatterpolar": [
           {
            "marker": {
             "colorbar": {
              "outlinewidth": 0,
              "ticks": ""
             }
            },
            "type": "scatterpolar"
           }
          ],
          "scatterpolargl": [
           {
            "marker": {
             "colorbar": {
              "outlinewidth": 0,
              "ticks": ""
             }
            },
            "type": "scatterpolargl"
           }
          ],
          "scatterternary": [
           {
            "marker": {
             "colorbar": {
              "outlinewidth": 0,
              "ticks": ""
             }
            },
            "type": "scatterternary"
           }
          ],
          "surface": [
           {
            "colorbar": {
             "outlinewidth": 0,
             "ticks": ""
            },
            "colorscale": [
             [
              0,
              "#0d0887"
             ],
             [
              0.1111111111111111,
              "#46039f"
             ],
             [
              0.2222222222222222,
              "#7201a8"
             ],
             [
              0.3333333333333333,
              "#9c179e"
             ],
             [
              0.4444444444444444,
              "#bd3786"
             ],
             [
              0.5555555555555556,
              "#d8576b"
             ],
             [
              0.6666666666666666,
              "#ed7953"
             ],
             [
              0.7777777777777778,
              "#fb9f3a"
             ],
             [
              0.8888888888888888,
              "#fdca26"
             ],
             [
              1,
              "#f0f921"
             ]
            ],
            "type": "surface"
           }
          ],
          "table": [
           {
            "cells": {
             "fill": {
              "color": "#EBF0F8"
             },
             "line": {
              "color": "white"
             }
            },
            "header": {
             "fill": {
              "color": "#C8D4E3"
             },
             "line": {
              "color": "white"
             }
            },
            "type": "table"
           }
          ]
         },
         "layout": {
          "annotationdefaults": {
           "arrowcolor": "#2a3f5f",
           "arrowhead": 0,
           "arrowwidth": 1
          },
          "autotypenumbers": "strict",
          "coloraxis": {
           "colorbar": {
            "outlinewidth": 0,
            "ticks": ""
           }
          },
          "colorscale": {
           "diverging": [
            [
             0,
             "#8e0152"
            ],
            [
             0.1,
             "#c51b7d"
            ],
            [
             0.2,
             "#de77ae"
            ],
            [
             0.3,
             "#f1b6da"
            ],
            [
             0.4,
             "#fde0ef"
            ],
            [
             0.5,
             "#f7f7f7"
            ],
            [
             0.6,
             "#e6f5d0"
            ],
            [
             0.7,
             "#b8e186"
            ],
            [
             0.8,
             "#7fbc41"
            ],
            [
             0.9,
             "#4d9221"
            ],
            [
             1,
             "#276419"
            ]
           ],
           "sequential": [
            [
             0,
             "#0d0887"
            ],
            [
             0.1111111111111111,
             "#46039f"
            ],
            [
             0.2222222222222222,
             "#7201a8"
            ],
            [
             0.3333333333333333,
             "#9c179e"
            ],
            [
             0.4444444444444444,
             "#bd3786"
            ],
            [
             0.5555555555555556,
             "#d8576b"
            ],
            [
             0.6666666666666666,
             "#ed7953"
            ],
            [
             0.7777777777777778,
             "#fb9f3a"
            ],
            [
             0.8888888888888888,
             "#fdca26"
            ],
            [
             1,
             "#f0f921"
            ]
           ],
           "sequentialminus": [
            [
             0,
             "#0d0887"
            ],
            [
             0.1111111111111111,
             "#46039f"
            ],
            [
             0.2222222222222222,
             "#7201a8"
            ],
            [
             0.3333333333333333,
             "#9c179e"
            ],
            [
             0.4444444444444444,
             "#bd3786"
            ],
            [
             0.5555555555555556,
             "#d8576b"
            ],
            [
             0.6666666666666666,
             "#ed7953"
            ],
            [
             0.7777777777777778,
             "#fb9f3a"
            ],
            [
             0.8888888888888888,
             "#fdca26"
            ],
            [
             1,
             "#f0f921"
            ]
           ]
          },
          "colorway": [
           "#636efa",
           "#EF553B",
           "#00cc96",
           "#ab63fa",
           "#FFA15A",
           "#19d3f3",
           "#FF6692",
           "#B6E880",
           "#FF97FF",
           "#FECB52"
          ],
          "font": {
           "color": "#2a3f5f"
          },
          "geo": {
           "bgcolor": "white",
           "lakecolor": "white",
           "landcolor": "white",
           "showlakes": true,
           "showland": true,
           "subunitcolor": "#C8D4E3"
          },
          "hoverlabel": {
           "align": "left"
          },
          "hovermode": "closest",
          "mapbox": {
           "style": "light"
          },
          "paper_bgcolor": "white",
          "plot_bgcolor": "white",
          "polar": {
           "angularaxis": {
            "gridcolor": "#EBF0F8",
            "linecolor": "#EBF0F8",
            "ticks": ""
           },
           "bgcolor": "white",
           "radialaxis": {
            "gridcolor": "#EBF0F8",
            "linecolor": "#EBF0F8",
            "ticks": ""
           }
          },
          "scene": {
           "xaxis": {
            "backgroundcolor": "white",
            "gridcolor": "#DFE8F3",
            "gridwidth": 2,
            "linecolor": "#EBF0F8",
            "showbackground": true,
            "ticks": "",
            "zerolinecolor": "#EBF0F8"
           },
           "yaxis": {
            "backgroundcolor": "white",
            "gridcolor": "#DFE8F3",
            "gridwidth": 2,
            "linecolor": "#EBF0F8",
            "showbackground": true,
            "ticks": "",
            "zerolinecolor": "#EBF0F8"
           },
           "zaxis": {
            "backgroundcolor": "white",
            "gridcolor": "#DFE8F3",
            "gridwidth": 2,
            "linecolor": "#EBF0F8",
            "showbackground": true,
            "ticks": "",
            "zerolinecolor": "#EBF0F8"
           }
          },
          "shapedefaults": {
           "line": {
            "color": "#2a3f5f"
           }
          },
          "ternary": {
           "aaxis": {
            "gridcolor": "#DFE8F3",
            "linecolor": "#A2B1C6",
            "ticks": ""
           },
           "baxis": {
            "gridcolor": "#DFE8F3",
            "linecolor": "#A2B1C6",
            "ticks": ""
           },
           "bgcolor": "white",
           "caxis": {
            "gridcolor": "#DFE8F3",
            "linecolor": "#A2B1C6",
            "ticks": ""
           }
          },
          "title": {
           "x": 0.05
          },
          "xaxis": {
           "automargin": true,
           "gridcolor": "#EBF0F8",
           "linecolor": "#EBF0F8",
           "ticks": "",
           "title": {
            "standoff": 15
           },
           "zerolinecolor": "#EBF0F8",
           "zerolinewidth": 2
          },
          "yaxis": {
           "automargin": true,
           "gridcolor": "#EBF0F8",
           "linecolor": "#EBF0F8",
           "ticks": "",
           "title": {
            "standoff": 15
           },
           "zerolinecolor": "#EBF0F8",
           "zerolinewidth": 2
          }
         }
        },
        "title": {
         "text": "Cumulative Abatement Tonnes"
        },
        "xaxis": {
         "title": {
          "text": "Year"
         }
        },
        "yaxis": {
         "tickformat": ",.0s",
         "title": {
          "text": "Cumulative Tonnes"
         }
        }
       }
      }
     },
     "metadata": {},
     "output_type": "display_data"
    }
   ],
   "source": [
    "import pandas as pd\n",
    "import plotly.graph_objs as go\n",
    "\n",
    "# --- Load and Clean Data ---\n",
    "summary_data = pd.read_csv('abatement_summary.csv')\n",
    "annual_data = pd.read_csv('annual_abatement_costs.csv')\n",
    "detail_data = pd.read_csv('abatement_detail.csv')\n",
    "\n",
    "# Clean summary_data\n",
    "for col in ['total_capex_usd', 'total_opex_usd', 'total_abated_tonnes']:\n",
    "    summary_data[col] = pd.to_numeric(summary_data[col], errors='coerce').fillna(0)\n",
    "\n",
    "# Clean annual_data\n",
    "for col in ['abatement_tonnes', 'capex_usd', 'opex_usd_year', 'cum_capex_usd', 'cum_opex_usd']:\n",
    "    annual_data[col] = pd.to_numeric(annual_data[col], errors='coerce').fillna(0)\n",
    "annual_data['year'] = pd.to_numeric(annual_data['year'], errors='coerce').astype('Int64')\n",
    "\n",
    "# Clean detail_data\n",
    "detail_data['new_build'] = detail_data['new_build'].map({'True': True, 'False': False, True: True, False: False})\n",
    "for col in ['tonnes', 'capex_usd', 'opex_usd_year', 'spare_after_yr']:\n",
    "    detail_data[col] = pd.to_numeric(detail_data[col], errors='coerce').fillna(0)\n",
    "detail_data['year'] = pd.to_numeric(detail_data['year'], errors='coerce').astype('Int64')\n",
    "\n",
    "# --- 1. Total Abatement Costs Over Time (Line Chart) ---\n",
    "annual_costs = annual_data.groupby('year').agg({'capex_usd': 'sum', 'opex_usd_year': 'sum'}).reset_index()\n",
    "fig1 = go.Figure()\n",
    "fig1.add_trace(go.Scatter(x=annual_costs['year'], y=annual_costs['capex_usd'], name='Capital Expenditure', line=dict(color='#8884d8')))\n",
    "fig1.add_trace(go.Scatter(x=annual_costs['year'], y=annual_costs['opex_usd_year'], name='Operational Expenditure', line=dict(color='#82ca9d')))\n",
    "fig1.update_layout(\n",
    "    title=\"Total Abatement Costs Over Time\",\n",
    "    xaxis_title=\"Year\",\n",
    "    yaxis_title=\"Cost (USD)\",\n",
    "    yaxis_tickformat=',.0s',  # SI notation for large numbers (e.g., M for millions)\n",
    "    template='plotly_white'\n",
    ")\n",
    "fig1.show()\n",
    "\n",
    "# --- 2. Annual Abatement Tonnes by Company (Stacked Bar Chart) ---\n",
    "tonnes_pivot = annual_data.pivot_table(index='uid', columns='year', values='abatement_tonnes', aggfunc='sum', fill_value=0)\n",
    "fig2 = go.Figure()\n",
    "for year in tonnes_pivot.columns:\n",
    "    fig2.add_trace(go.Bar(x=tonnes_pivot.index, y=tonnes_pivot[year], name=str(year)))\n",
    "fig2.update_layout(\n",
    "    barmode='stack',\n",
    "    title=\"Annual Abatement Tonnes by Company\",\n",
    "    xaxis_title=\"Company\",\n",
    "    yaxis_title=\"Abatement Tonnes\",\n",
    "    yaxis_tickformat=',.0s',\n",
    "    template='plotly_white',\n",
    "    xaxis_tickangle=-45  # Rotate labels for readability\n",
    ")\n",
    "fig2.show()\n",
    "\n",
    "# --- 3. Technology Adoption Over Time (Line Chart) ---\n",
    "adoption_data = detail_data[detail_data['new_build']].groupby(['year', 'technology']).size().unstack(fill_value=0)\n",
    "fig3 = go.Figure()\n",
    "for tech in adoption_data.columns:\n",
    "    fig3.add_trace(go.Scatter(x=adoption_data.index, y=adoption_data[tech], name=tech, mode='lines'))\n",
    "fig3.update_layout(\n",
    "    title=\"Technology Adoption Over Time\",\n",
    "    xaxis_title=\"Year\",\n",
    "    yaxis_title=\"Number of New Builds\",\n",
    "    template='plotly_white'\n",
    ")\n",
    "fig3.show()\n",
    "\n",
    "# --- 4. Cost-Effectiveness of Technologies (Scatter Chart) ---\n",
    "tech_cost_effect = detail_data.groupby('technology').agg({\n",
    "    'capex_usd': 'sum',\n",
    "    'opex_usd_year': 'sum',\n",
    "    'tonnes': 'sum'\n",
    "}).reset_index()\n",
    "tech_cost_effect['total_cost'] = tech_cost_effect['capex_usd'] + tech_cost_effect['opex_usd_year']\n",
    "tech_cost_effect['cost_per_tonne'] = tech_cost_effect['total_cost'] / tech_cost_effect['tonnes']\n",
    "fig4 = go.Figure()\n",
    "fig4.add_trace(go.Scatter(\n",
    "    x=tech_cost_effect['cost_per_tonne'],\n",
    "    y=tech_cost_effect['tonnes'],\n",
    "    mode='markers+text',\n",
    "    text=tech_cost_effect['technology'],\n",
    "    textposition='top center',\n",
    "    marker=dict(size=tech_cost_effect['tonnes'] / 1e6, sizemode='area', sizeref=2.*max(tech_cost_effect['tonnes']/1e6)/(40.**2))\n",
    "))\n",
    "fig4.update_layout(\n",
    "    title=\"Cost-Effectiveness of Technologies\",\n",
    "    xaxis_title=\"Cost per Tonne (USD)\",\n",
    "    yaxis_title=\"Total Tonnes\",\n",
    "    template='plotly_white'\n",
    ")\n",
    "fig4.show()\n",
    "\n",
    "# --- 5. Company-Specific Abatement Costs (Bar Chart) ---\n",
    "company_costs = summary_data.copy()\n",
    "company_costs['total_cost'] = company_costs['total_capex_usd'] + company_costs['total_opex_usd']\n",
    "fig5 = go.Figure()\n",
    "fig5.add_trace(go.Bar(x=company_costs['uid'], y=company_costs['total_cost'], name='Total Cost'))\n",
    "fig5.update_layout(\n",
    "    title=\"Company-Specific Abatement Costs\",\n",
    "    xaxis_title=\"Company\",\n",
    "    yaxis_title=\"Total Cost (USD)\",\n",
    "    yaxis_tickformat=',.0s',\n",
    "    template='plotly_white',\n",
    "    xaxis_tickangle=-45\n",
    ")\n",
    "fig5.show()\n",
    "\n",
    "# --- 6. Cumulative Abatement Tonnes (Area Chart) ---\n",
    "cumulative_tonnes = annual_data.groupby('year')['abatement_tonnes'].sum().cumsum().reset_index()\n",
    "fig6 = go.Figure()\n",
    "fig6.add_trace(go.Scatter(x=cumulative_tonnes['year'], y=cumulative_tonnes['abatement_tonnes'], fill='tozeroy', name='Cumulative Tonnes'))\n",
    "fig6.update_layout(\n",
    "    title=\"Cumulative Abatement Tonnes\",\n",
    "    xaxis_title=\"Year\",\n",
    "    yaxis_title=\"Cumulative Tonnes\",\n",
    "    yaxis_tickformat=',.0s',\n",
    "    template='plotly_white'  \n",
    ")\n",
    "fig6.show()"
   ]
  },
  {
   "cell_type": "code",
   "execution_count": null,
   "id": "accb647d",
   "metadata": {},
   "outputs": [],
   "source": []
  },
  {
   "cell_type": "markdown",
   "id": "82d1d7c3",
   "metadata": {},
   "source": [
    "# import matplotlib.pyplot as plt\n",
    "# import seaborn as sns\n",
    "# import pandas as pd\n",
    "\n",
    "# # Helper function to select top companies per sector\n",
    "# def select_top_companies_per_sector(df_emissions, baseline_year=2025, baseline_scenario='low', top_n=3):\n",
    "#     \"\"\"\n",
    "#     Select top N companies per sector based on total emissions in the baseline year and scenario.\n",
    "    \n",
    "#     Parameters:\n",
    "#     - df_emissions: DataFrame with emissions data\n",
    "#     - baseline_year: Year to use as baseline (default: 2025)\n",
    "#     - baseline_scenario: Scenario to filter (default: 'low')\n",
    "#     - top_n: Number of top companies per sector (default: 3)\n",
    "    \n",
    "#     Returns:\n",
    "#     - List of unique 'uid' values for selected companies\n",
    "#     \"\"\"\n",
    "#     df_baseline = df_emissions[(df_emissions['year'] == baseline_year) & \n",
    "#                                (df_emissions['scenario'] == baseline_scenario)].copy()\n",
    "#     df_baseline['total_emissions'] = df_baseline['scope1_tonnes'] + df_baseline['scope2_tonnes']\n",
    "#     top_uids = (df_baseline.groupby('gics_sector')\n",
    "#                 .apply(lambda x: x.nlargest(top_n, 'total_emissions')['uid'])\n",
    "#                 .reset_index(drop=True))\n",
    "#     return top_uids.unique().tolist()\n",
    "\n",
    "# # 1. Emissions Projections Over Time\n",
    "# def plot_emissions_projections(df_emissions):\n",
    "#     \"\"\"Plot emissions projections for top companies per sector.\"\"\"\n",
    "#     selected_companies = select_top_companies_per_sector(df_emissions)\n",
    "#     df_selected = df_emissions[df_emissions['uid'].isin(selected_companies)].copy()\n",
    "#     df_selected['total_emissions'] = df_selected['scope1_tonnes'] + df_selected['scope2_tonnes']\n",
    "    \n",
    "#     plt.figure(figsize=(12, 6))\n",
    "#     sns.lineplot(data=df_selected, x='year', y='total_emissions', hue='scenario', style='uid')\n",
    "#     plt.title('Projected Emissions Over Time (Top 3 Companies per Sector)')\n",
    "#     plt.xlabel('Year')\n",
    "#     plt.ylabel('Total Emissions (MtCO2e)')\n",
    "#     plt.legend(title='Scenario / Company UID', bbox_to_anchor=(1.05, 1), loc='upper left')\n",
    "#     plt.tight_layout()\n",
    "#     plt.show()\n",
    "\n",
    "# # 2. Total Carbon Pricing Costs by 2050\n",
    "# def plot_carbon_costs(df_carbon_costs):\n",
    "#     \"\"\"Plot total carbon costs by 2050 for selected companies.\"\"\"\n",
    "#     selected_companies = select_top_companies_per_sector(pd.DataFrame())  # Placeholder; adjust if emissions data is needed\n",
    "#     df_total = (df_carbon_costs[df_carbon_costs['year'] <= 2050]\n",
    "#                 .groupby(['uid', 'scenario'])['carbon_cost_usd']\n",
    "#                 .sum()\n",
    "#                 .reset_index())\n",
    "#     df_selected = df_total[df_total['uid'].isin(selected_companies)]\n",
    "    \n",
    "#     plt.figure(figsize=(10, 6))\n",
    "#     sns.barplot(data=df_selected, x='uid', y='carbon_cost_usd', hue='scenario')\n",
    "#     plt.title('Total Carbon Costs by 2050 (Top Companies)')\n",
    "#     plt.xlabel('Company UID')\n",
    "#     plt.ylabel('Total Carbon Cost (USD)')\n",
    "#     plt.legend(title='Scenario')\n",
    "#     plt.tight_layout()\n",
    "#     plt.show()\n",
    "\n",
    "# # 3. Abatement Costs vs. Carbon Cost Savings\n",
    "# def plot_abatement_vs_savings(df_abatement):\n",
    "#     \"\"\"Scatter plot of abatement costs vs. carbon cost savings.\"\"\"\n",
    "#     plt.figure(figsize=(10, 6))\n",
    "#     sns.scatterplot(data=df_abatement, x='total_abatement_cost_usd', y='total_carbon_cost_savings_usd', hue='gics_sector')\n",
    "#     max_val = max(df_abatement['total_abatement_cost_usd'].max(), df_abatement['total_carbon_cost_savings_usd'].max())\n",
    "#     plt.plot([0, max_val], [0, max_val], 'k--', label='Break-Even Line')\n",
    "#     plt.title('Abatement Costs vs. Carbon Cost Savings')\n",
    "#     plt.xlabel('Total Abatement Cost (USD)')\n",
    "#     plt.ylabel('Total Carbon Cost Savings (USD)')\n",
    "#     plt.legend(title='Sector')\n",
    "#     plt.tight_layout()\n",
    "#     plt.show()\n",
    "\n",
    "# # 4. Break-Even Carbon Price\n",
    "# def plot_break_even_price(df_abatement):\n",
    "#     \"\"\"Plot break-even carbon price for abatement options.\"\"\"\n",
    "#     df_abatement['break_even_price'] = df_abatement['total_abatement_cost_usd'] / df_abatement['total_emissions_reduction_tonnes']\n",
    "    \n",
    "#     plt.figure(figsize=(12, 6))\n",
    "#     sns.scatterplot(data=df_abatement, x='uid', y='break_even_price')\n",
    "#     plt.xticks(rotation=90)\n",
    "#     plt.title('Break-Even Carbon Price by Company')\n",
    "#     plt.xlabel('Company UID')\n",
    "#     plt.ylabel('Break-Even Price ($/tCO2)')\n",
    "#     plt.tight_layout()\n",
    "#     plt.show()\n",
    "\n",
    "# # 5. Cost-Effectiveness of Abatement\n",
    "# def plot_cost_effectiveness(df_abatement):\n",
    "#     \"\"\"Scatter plot of abatement cost-effectiveness.\"\"\"\n",
    "#     df_abatement['cost_per_ton'] = df_abatement['total_abatement_cost_usd'] / df_abatement['total_emissions_reduction_tonnes']\n",
    "    \n",
    "#     plt.figure(figsize=(10, 6))\n",
    "#     sns.scatterplot(data=df_abatement, x='cost_per_ton', y='total_emissions_reduction_tonnes', hue='gics_sector')\n",
    "#     plt.title('Cost-Effectiveness of Abatement')\n",
    "#     plt.xlabel('Cost per Ton ($/tCO2)')\n",
    "#     plt.ylabel('Total Emissions Reduction (MtCO2e)')\n",
    "#     plt.legend(title='Sector')\n",
    "#     plt.tight_layout()\n",
    "#     plt.show()\n",
    "\n",
    "# # 6. Net Cost of Abatement\n",
    "# def plot_net_cost(df_abatement):\n",
    "#     \"\"\"Bar chart of net abatement costs.\"\"\"\n",
    "#     df_abatement['net_cost'] = df_abatement['total_abatement_cost_usd'] - df_abatement['total_carbon_cost_savings_usd']\n",
    "#     selected_companies = select_top_companies_per_sector(pd.DataFrame())  # Placeholder; adjust if emissions data is needed\n",
    "#     df_selected = df_abatement[df_abatement['uid'].isin(selected_companies)]\n",
    "    \n",
    "#     plt.figure(figsize=(10, 6))\n",
    "#     sns.barplot(data=df_selected, x='uid', y='net_cost')\n",
    "#     plt.title('Net Cost of Abatement by Company')\n",
    "#     plt.xlabel('Company UID')\n",
    "#     plt.ylabel('Net Cost (USD)')\n",
    "#     plt.tight_layout()\n",
    "#     plt.show()\n",
    "\n",
    "# # 7. Payback Period for Abatement Investments\n",
    "# def plot_payback_period(df_abatement):\n",
    "#     \"\"\"Bar chart of payback periods for abatement investments.\"\"\"\n",
    "#     df_abatement['payback_period'] = df_abatement['total_abatement_cost_usd'] / (df_abatement['total_carbon_cost_savings_usd'] / 25)  # Assuming 25 years\n",
    "    \n",
    "#     plt.figure(figsize=(12, 6))\n",
    "#     sns.barplot(data=df_abatement, x='uid', y='payback_period')\n",
    "#     plt.xticks(rotation=90)\n",
    "#     plt.title('Payback Period for Abatement Investments')\n",
    "#     plt.xlabel('Company UID')\n",
    "#     plt.ylabel('Payback Period (Years)')\n",
    "#     plt.tight_layout()\n",
    "#     plt.show()\n",
    "\n",
    "# # 8. Sector-Level Insights\n",
    "# def plot_sector_insights(df_abatement):\n",
    "#     \"\"\"Bar chart of average net abatement cost by sector.\"\"\"\n",
    "#     df_abatement['net_cost'] = df_abatement['total_abatement_cost_usd'] - df_abatement['total_carbon_cost_savings_usd']\n",
    "#     df_sector = df_abatement.groupby('gics_sector')['net_cost'].mean().reset_index()\n",
    "    \n",
    "#     plt.figure(figsize=(10, 6))\n",
    "#     sns.barplot(data=df_sector, x='gics_sector', y='net_cost')\n",
    "#     plt.title('Average Net Cost of Abatement by Sector')\n",
    "#     plt.xlabel('Sector')\n",
    "#     plt.ylabel('Average Net Cost (USD)')\n",
    "#     plt.xticks(rotation=45)\n",
    "#     plt.tight_layout()\n",
    "#     plt.show()\n",
    "\n",
    "# # 9. Distribution of Net Costs\n",
    "# def plot_cost_distribution(df_abatement):\n",
    "#     \"\"\"Histogram of net abatement costs.\"\"\"\n",
    "#     df_abatement['net_cost'] = df_abatement['total_abatement_cost_usd'] - df_abatement['total_carbon_cost_savings_usd']\n",
    "    \n",
    "#     plt.figure(figsize=(10, 6))\n",
    "#     sns.histplot(data=df_abatement, x='net_cost', bins=20)\n",
    "#     plt.title('Distribution of Net Costs Across Companies')\n",
    "#     plt.xlabel('Net Cost (USD)')\n",
    "#     plt.ylabel('Count')\n",
    "#     plt.tight_layout()\n",
    "#     plt.show()\n",
    "\n",
    "# # 10. Cumulative Carbon Costs Over Time\n",
    "# def plot_cumulative_costs(df_carbon_costs):\n",
    "#     \"\"\"Line chart of cumulative carbon costs for a selected company.\"\"\"\n",
    "#     selected_company = df_carbon_costs['uid'].iloc[0]  # Select first company as example\n",
    "#     df_company = df_carbon_costs[df_carbon_costs['uid'] == selected_company].copy()\n",
    "#     df_company['cumulative_cost'] = df_company['carbon_cost_usd'].cumsum()\n",
    "    \n",
    "#     plt.figure(figsize=(10, 6))\n",
    "#     plt.plot(df_company['year'], df_company['cumulative_cost'], label='Cumulative Cost')\n",
    "#     plt.title(f'Cumulative Carbon Costs for Company {selected_company}')\n",
    "#     plt.xlabel('Year')\n",
    "#     plt.ylabel('Cumulative Cost (USD)')\n",
    "#     plt.legend()\n",
    "#     plt.tight_layout()\n",
    "#     plt.show()"
   ]
  }
 ],
 "metadata": {
  "kernelspec": {
   "display_name": "sp_work",
   "language": "python",
   "name": "python3"
  },
  "language_info": {
   "codemirror_mode": {
    "name": "ipython",
    "version": 3
   },
   "file_extension": ".py",
   "mimetype": "text/x-python",
   "name": "python",
   "nbconvert_exporter": "python",
   "pygments_lexer": "ipython3",
   "version": "3.11.13"
  }
 },
 "nbformat": 4,
 "nbformat_minor": 5
}
